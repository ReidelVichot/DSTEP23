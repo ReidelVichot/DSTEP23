{
  "nbformat": 4,
  "nbformat_minor": 0,
  "metadata": {
    "colab": {
      "provenance": [],
      "include_colab_link": true
    },
    "kernelspec": {
      "name": "python3",
      "display_name": "Python 3"
    }
  },
  "cells": [
    {
      "cell_type": "markdown",
      "metadata": {
        "id": "view-in-github",
        "colab_type": "text"
      },
      "source": [
        "<a href=\"https://colab.research.google.com/github/ReidelVichot/DSTEP23/blob/main/dstep23_matplotlib_intro1.ipynb\" target=\"_parent\"><img src=\"https://colab.research.google.com/assets/colab-badge.svg\" alt=\"Open In Colab\"/></a>"
      ]
    },
    {
      "cell_type": "markdown",
      "metadata": {
        "id": "aYhyoKSEMOtq"
      },
      "source": [
        "### **DSTEP23 // Introduction to `Matplotlib`: Part 1**\n",
        "\n",
        "*Sep 7, 2023*\n",
        "\n",
        "This notebook will go through an introduction to the `matplotlib` module, the most core and foundational python module for generating static visualizations.\n",
        "\n",
        "---"
      ]
    },
    {
      "cell_type": "code",
      "metadata": {
        "id": "qZvcuMYziy9z"
      },
      "source": [
        "import numpy as np\n",
        "import pandas as pd\n",
        "#test"
      ],
      "execution_count": null,
      "outputs": []
    },
    {
      "cell_type": "markdown",
      "metadata": {
        "id": "VFanK3w3dxU2"
      },
      "source": [
        "### **Basic plotting with `pandas`**"
      ]
    },
    {
      "cell_type": "code",
      "metadata": {
        "id": "s0ThKHRTij9A"
      },
      "source": [
        "# -- load NOAA\n",
        "fname = \"https://www.star.nesdis.noaa.gov/sod/lsa/SeaLevelRise/slr/slr_sla_gbl_free_txj1j2_90.csv\"\n",
        "noaa = pd.read_csv(fname, skiprows=5)"
      ],
      "execution_count": null,
      "outputs": []
    },
    {
      "cell_type": "code",
      "metadata": {
        "id": "EHK3XrVPiyXE"
      },
      "source": [
        "# -- extract the data into separate variables\n",
        "year = noaa[\"year\"]\n",
        "slev = noaa[[\"TOPEX/Poseidon\", \"Jason-1\", \"Jason-2\", \"Jason-3\"]].min(axis=1)\n",
        "\n",
        "# -- put sea level back into the original DataFrame\n",
        "noaa[\"minlev\"] = slev"
      ],
      "execution_count": null,
      "outputs": []
    },
    {
      "cell_type": "code",
      "metadata": {
        "id": "GLchL6cfcrvg",
        "colab": {
          "base_uri": "https://localhost:8080/",
          "height": 296
        },
        "outputId": "4fba5f0b-dc3e-4256-876e-83369dfd56b6"
      },
      "source": [
        "# -- make a plot using pandas\n",
        "noaa.plot(\"year\", \"minlev\")"
      ],
      "execution_count": null,
      "outputs": [
        {
          "output_type": "execute_result",
          "data": {
            "text/plain": [
              "<matplotlib.axes._subplots.AxesSubplot at 0x7f5d14f0ef10>"
            ]
          },
          "metadata": {},
          "execution_count": 5
        },
        {
          "output_type": "display_data",
          "data": {
            "image/png": "[encoded data removed]",
            "text/plain": [
              "<Figure size 432x288 with 1 Axes>"
            ]
          },
          "metadata": {
            "needs_background": "light"
          }
        }
      ]
    },
    {
      "cell_type": "code",
      "metadata": {
        "id": "wLLg7FEydKvW"
      },
      "source": [
        "# -- let's look at the \"documentation\" for this plotting function\n",
        "noaa.plot?"
      ],
      "execution_count": null,
      "outputs": []
    },
    {
      "cell_type": "markdown",
      "metadata": {
        "id": "YhvHJYfhd3io"
      },
      "source": [
        "### **Plotting with `matplotlib`**"
      ]
    },
    {
      "cell_type": "code",
      "metadata": {
        "id": "VJl6xakhaWjg"
      },
      "source": [],
      "execution_count": null,
      "outputs": []
    },
    {
      "cell_type": "markdown",
      "metadata": {
        "id": "zBX1uYN-k42K"
      },
      "source": [
        "### **Making better plots: controlling `matplotlib` objects**"
      ]
    },
    {
      "cell_type": "code",
      "metadata": {
        "id": "d5T1wuQX489S"
      },
      "source": [],
      "execution_count": null,
      "outputs": []
    },
    {
      "cell_type": "markdown",
      "metadata": {
        "id": "_8pFVu-Hez3T"
      },
      "source": [
        "### **Creating a flexible and informative visualization**"
      ]
    },
    {
      "cell_type": "code",
      "metadata": {
        "id": "v6x1QkhHfSXv"
      },
      "source": [],
      "execution_count": null,
      "outputs": []
    }
  ]
}