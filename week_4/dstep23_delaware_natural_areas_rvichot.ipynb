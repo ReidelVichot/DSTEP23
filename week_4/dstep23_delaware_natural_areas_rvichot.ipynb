{
  "nbformat": 4,
  "nbformat_minor": 0,
  "metadata": {
    "colab": {
      "provenance": [],
      "include_colab_link": true
    },
    "kernelspec": {
      "name": "python3",
      "display_name": "Python 3"
    }
  },
  "cells": [
    {
      "cell_type": "markdown",
      "metadata": {
        "id": "view-in-github",
        "colab_type": "text"
      },
      "source": [
        "<a href=\"https://colab.research.google.com/github/ReidelVichot/DSTEP23/blob/main/week_4/dstep23_delaware_natural_areas_rvichot.ipynb\" target=\"_parent\"><img src=\"https://colab.research.google.com/assets/colab-badge.svg\" alt=\"Open In Colab\"/></a>"
      ]
    },
    {
      "cell_type": "markdown",
      "metadata": {
        "id": "y2uD0NxVA0Jk"
      },
      "source": [
        "### **DSTEP23 // Open Data Delaware: Delaware Natural Areas**\n",
        "\n",
        "*September 19, 2023*\n",
        "\n",
        "This notebook will visualize the location of the Delaware Natural Areas from Open Data Delaware, making significant use of string manipulations to extract geographic information.  The data can be found [here](https://data.delaware.gov/dataset/Natural-Areas/aryx-uafh).\n",
        "\n",
        "---"
      ]
    },
    {
      "cell_type": "code",
      "source": [
        "import numpy as np\n",
        "import pandas as pd\n",
        "import matplotlib.pyplot as plt"
      ],
      "metadata": {
        "id": "otGaPqo0PAjY"
      },
      "execution_count": null,
      "outputs": []
    },
    {
      "cell_type": "markdown",
      "metadata": {
        "id": "NHxeIzp9i-mD"
      },
      "source": [
        "First we load the data (getting the csv link from the \"export\" tab on the data page)."
      ]
    },
    {
      "cell_type": "code",
      "metadata": {
        "id": "7TS_VGuIZ3Kr"
      },
      "source": [
        "# -- set the file name\n",
        "fname =\n",
        "\n",
        "# -- load the data\n",
        "natarea ="
      ],
      "execution_count": null,
      "outputs": []
    },
    {
      "cell_type": "markdown",
      "metadata": {
        "id": "SHDhL4gFkr5B"
      },
      "source": [
        "We should always look at the data first,"
      ]
    },
    {
      "cell_type": "code",
      "metadata": {
        "id": "GQ5NC8DP4vvn"
      },
      "source": [
        "print(natarea)"
      ],
      "execution_count": null,
      "outputs": []
    },
    {
      "cell_type": "markdown",
      "metadata": {
        "id": "tZTOkRp9KK77"
      },
      "source": [
        "Let's change the maximum nuber of displayed columns to see the full DataFrame"
      ]
    },
    {
      "cell_type": "code",
      "metadata": {
        "id": "aO5-OcBIKJx1"
      },
      "source": [
        "# -- set maximum number of columns to be printed to be 500\n"
      ],
      "execution_count": null,
      "outputs": []
    },
    {
      "cell_type": "code",
      "metadata": {
        "id": "phaHDZyCKJ9y"
      },
      "source": [
        "print(natarea)"
      ],
      "execution_count": null,
      "outputs": []
    },
    {
      "cell_type": "markdown",
      "metadata": {
        "id": "Aqw6OPhKkyda"
      },
      "source": [
        "And let's look at the data types"
      ]
    },
    {
      "cell_type": "code",
      "metadata": {
        "id": "m9jX7IUSKkOf"
      },
      "source": [],
      "execution_count": null,
      "outputs": []
    },
    {
      "cell_type": "markdown",
      "metadata": {
        "id": "7Nr93luVk1zz"
      },
      "source": [
        "In order to visualize the location of these areas, we'll have to deal with the `\"the_geom\"` column.  But notice this complication:"
      ]
    },
    {
      "cell_type": "code",
      "metadata": {
        "id": "21KOMVquK_yr"
      },
      "source": [
        "# -- print the value and type of the 0th entry of \"the_geom\"\n"
      ],
      "execution_count": null,
      "outputs": []
    },
    {
      "cell_type": "markdown",
      "metadata": {
        "id": "blWPyWIt7B3G"
      },
      "source": [
        "## **A Brief Aside on <i>\"string manipulations\"</i>**"
      ]
    },
    {
      "cell_type": "code",
      "metadata": {
        "id": "q4gSKieg7HwT"
      },
      "source": [
        "# -- create a string\n",
        "mystr ="
      ],
      "execution_count": null,
      "outputs": []
    },
    {
      "cell_type": "code",
      "metadata": {
        "id": "5Ymlsc-wCj4n"
      },
      "source": [
        "# -- print elements of string\n"
      ],
      "execution_count": null,
      "outputs": []
    },
    {
      "cell_type": "code",
      "metadata": {
        "id": "eOCGaVJ17LxZ"
      },
      "source": [
        "# -- \"split\" the string\n",
        "spl =\n",
        "\n",
        "print(spl)"
      ],
      "execution_count": null,
      "outputs": []
    },
    {
      "cell_type": "markdown",
      "metadata": {
        "id": "3KIUlbzQ7P1G"
      },
      "source": [
        "notice the space is still there in front of the word \"how\""
      ]
    },
    {
      "cell_type": "code",
      "metadata": {
        "id": "vxxVpeGh7Poz"
      },
      "source": [
        "# -- include the space in the split\n",
        "spl =\n",
        "\n",
        "print(spl)"
      ],
      "execution_count": null,
      "outputs": []
    },
    {
      "cell_type": "markdown",
      "metadata": {
        "id": "ubPZ4RUV7PO0"
      },
      "source": [
        "Remove the question mark"
      ]
    },
    {
      "cell_type": "code",
      "metadata": {
        "id": "C3cYqfIC7fYQ"
      },
      "source": [
        "# -- split the string and then replace the question mark\n",
        "spl =\n",
        "hay =\n",
        "\n",
        "print(hay)"
      ],
      "execution_count": null,
      "outputs": []
    },
    {
      "cell_type": "markdown",
      "metadata": {
        "id": "iCqeJgce8GUh"
      },
      "source": [
        "another useful function modifies capitalization"
      ]
    },
    {
      "cell_type": "code",
      "metadata": {
        "id": "JFWtjNtG8GKl"
      },
      "source": [
        "# -- print modified capitalization\n"
      ],
      "execution_count": null,
      "outputs": []
    },
    {
      "cell_type": "markdown",
      "metadata": {
        "id": "YEvTdbSM8Fw4"
      },
      "source": [
        "**What if I wanted to remove spaces?**"
      ]
    },
    {
      "cell_type": "code",
      "metadata": {
        "id": "6Y4k_4K47-xC"
      },
      "source": [
        "# -- remove spaces\n"
      ],
      "execution_count": null,
      "outputs": []
    },
    {
      "cell_type": "markdown",
      "metadata": {
        "id": "JBNb1Nxk7-4O"
      },
      "source": [
        "**What if I wanted to split `spl[1]` into its three words?**"
      ]
    },
    {
      "cell_type": "code",
      "metadata": {
        "id": "DUyq7fvs7_AB"
      },
      "source": [
        "# -- split into words\n"
      ],
      "execution_count": null,
      "outputs": []
    },
    {
      "cell_type": "markdown",
      "metadata": {
        "id": "8Qzpt_Dg8fFo"
      },
      "source": [
        "Finally, a particularly useful method is the \"join\" method"
      ]
    },
    {
      "cell_type": "code",
      "metadata": {
        "id": "ln08i5798fM9"
      },
      "source": [
        "# -- join strings with a common separator\n",
        "sep =\n",
        "words =\n",
        "csv =\n",
        "\n",
        "print(\"here is the list: {0}\".format(words))\n",
        "print(\"here is the list of words joined with a comma: {0}\".format(csv))"
      ],
      "execution_count": null,
      "outputs": []
    },
    {
      "cell_type": "markdown",
      "metadata": {
        "id": "QgftMTAs8fVJ"
      },
      "source": [
        "---"
      ]
    },
    {
      "cell_type": "markdown",
      "metadata": {
        "id": "SdfYbF_M7Hp5"
      },
      "source": [
        "## **Working with strings in DataFrames**"
      ]
    },
    {
      "cell_type": "markdown",
      "metadata": {
        "id": "IX9PJTRQ-ukX"
      },
      "source": [
        "As we saw above, the `\"the_geom\"` column in the DataFrame is a string.  It is a string containing the the latitude and longitude values of the Natural Area.  It would be nice to put the locations of these on a map.  To do that, we need a separate column for latitude and longitude.  I.e., we'd like to first pull out the first latitude and longitude for each string and put it in its own column.\n",
        "\n",
        "We can do that with string manipulations that act on a whole column:"
      ]
    },
    {
      "cell_type": "code",
      "metadata": {
        "id": "-BQuO8fTjMXd"
      },
      "source": [
        "# -- remove the \"(\" characters\n",
        "cmod ="
      ],
      "execution_count": null,
      "outputs": []
    },
    {
      "cell_type": "code",
      "metadata": {
        "id": "u-kW8btarLtk"
      },
      "source": [
        "# -- remove the word \"MULTIPOLYGON \"\n",
        "cmod2 ="
      ],
      "execution_count": null,
      "outputs": []
    },
    {
      "cell_type": "code",
      "metadata": {
        "id": "IQLq_6fLtm6P"
      },
      "source": [
        "# -- split the string to access the first lon/lat pair\n",
        "cmod3 ="
      ],
      "execution_count": null,
      "outputs": []
    },
    {
      "cell_type": "code",
      "metadata": {
        "id": "qiGAVKe6twP-"
      },
      "source": [
        "# -- split that pair into lon and lat\n",
        "cmod4 ="
      ],
      "execution_count": null,
      "outputs": []
    },
    {
      "cell_type": "markdown",
      "metadata": {
        "id": "p_eISTkXxoeN"
      },
      "source": [
        "Let's add these locations back to the natural areas DataFrame:"
      ]
    },
    {
      "cell_type": "code",
      "metadata": {
        "id": "dLBijtGBxwdj"
      },
      "source": [
        "# -- add lon/lat columns to original DataFrame\n",
        "natarea[\"lon\"] =\n",
        "natarea[\"lat\"] ="
      ],
      "execution_count": null,
      "outputs": []
    },
    {
      "cell_type": "markdown",
      "metadata": {
        "id": "DfnQz-znP1nK"
      },
      "source": [
        "And so now we can make the scatter plot"
      ]
    },
    {
      "cell_type": "code",
      "metadata": {
        "id": "CtvDya1-exDt"
      },
      "source": [
        "# -- make a scatter plot\n",
        "fig, ax = plt.subplots(figsize=(7, 7))\n",
        "\n",
        "\n",
        "ax.axis(\"equal\") # set the aspect ratio of the axes to be equal\n",
        "fig.show()"
      ],
      "execution_count": null,
      "outputs": []
    },
    {
      "cell_type": "markdown",
      "metadata": {
        "id": "himZ6OSkJs1V"
      },
      "source": [
        "---"
      ]
    },
    {
      "cell_type": "markdown",
      "metadata": {
        "id": "KS6nWoZhIzjC"
      },
      "source": [
        "### **Quick Demo of `Folium`**"
      ]
    },
    {
      "cell_type": "code",
      "metadata": {
        "id": "shFYHx16ENrv"
      },
      "source": [
        "import folium"
      ],
      "execution_count": null,
      "outputs": []
    },
    {
      "cell_type": "code",
      "metadata": {
        "id": "5QjMhYv9WQjZ"
      },
      "source": [
        "# -- create a map\n",
        "mymap = folium.Map(location=[39.2, -75.5], zoom_start=8, width=500)\n",
        "\n",
        "# -- add each Natural area to the map, one by one\n",
        "ndata = len(natarea)\n",
        "for ii in range(ndata):\n",
        "\n",
        "  lat  = natarea[\"lat\"].iloc[ii]\n",
        "  lon  = natarea[\"lon\"].iloc[ii]\n",
        "  rad  = natarea[\"ACRES\"].iloc[ii] / 5.\n",
        "  name = natarea[\"Name\"].iloc[ii]\n",
        "\n",
        "  circ = folium.Circle(location=[lat, lon], radius=rad, popup=name, fill=True, color=\"red\")\n",
        "  circ.add_to(mymap)\n",
        "\n",
        "mymap"
      ],
      "execution_count": null,
      "outputs": []
    }
  ]
}