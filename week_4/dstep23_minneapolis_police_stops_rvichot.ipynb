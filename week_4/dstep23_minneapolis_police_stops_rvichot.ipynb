{
  "nbformat": 4,
  "nbformat_minor": 0,
  "metadata": {
    "colab": {
      "provenance": [],
      "include_colab_link": true
    },
    "kernelspec": {
      "name": "python3",
      "display_name": "Python 3"
    }
  },
  "cells": [
    {
      "cell_type": "markdown",
      "metadata": {
        "id": "view-in-github",
        "colab_type": "text"
      },
      "source": [
        "<a href=\"https://colab.research.google.com/github/ReidelVichot/DSTEP23/blob/main/week_4/dstep23_minneapolis_police_stops_rvichot.ipynb\" target=\"_parent\"><img src=\"https://colab.research.google.com/assets/colab-badge.svg\" alt=\"Open In Colab\"/></a>"
      ]
    },
    {
      "cell_type": "markdown",
      "metadata": {
        "id": "29x8YQuUhzPv"
      },
      "source": [
        "### **DSTEP23 // Open Minneapolis: Police Stops**\n",
        "\n",
        "*September 21, 2023*\n",
        "\n",
        "This notebook will explore the following Problem Statement question: *In 2017, did police stops in Minneapolis that involve a person of color also involve a personal search more frequently than did stops involving white persons?*  The data can be found [here](http://opendata.minneapolismn.gov/datasets/police-stop-data).\n",
        "\n",
        "---"
      ]
    },
    {
      "cell_type": "markdown",
      "metadata": {
        "id": "yD0J9a-XO621"
      },
      "source": [
        "### **Loading the data**"
      ]
    },
    {
      "cell_type": "markdown",
      "metadata": {
        "id": "GwdnJLpe7ej5"
      },
      "source": [
        "As always, our first step is to load the data, and take a quick look at its contents."
      ]
    },
    {
      "cell_type": "code",
      "metadata": {
        "id": "ml0J3p3fZx3W"
      },
      "source": [
        "import numpy as np\n",
        "import pandas as pd\n",
        "import matplotlib.pyplot as plt"
      ],
      "execution_count": 2,
      "outputs": []
    },
    {
      "cell_type": "code",
      "source": [
        "from google.colab import drive\n",
        "drive.mount('/content/drive')"
      ],
      "metadata": {
        "colab": {
          "base_uri": "https://localhost:8080/"
        },
        "id": "892fA8HHn0YF",
        "outputId": "2adee4c1-2062-4d8d-9661-0448e5cba316"
      },
      "execution_count": 4,
      "outputs": [
        {
          "output_type": "stream",
          "name": "stdout",
          "text": [
            "Drive already mounted at /content/drive; to attempt to forcibly remount, call drive.mount(\"/content/drive\", force_remount=True).\n"
          ]
        }
      ]
    },
    {
      "cell_type": "code",
      "metadata": {
        "id": "7TS_VGuIZ3Kr",
        "colab": {
          "base_uri": "https://localhost:8080/"
        },
        "outputId": "d15e206f-409c-4ddd-88c2-03b9b5b16278"
      },
      "source": [
        "# -- set the file name\n",
        "fname = \"/content/drive/Shareddrives/dstep23/data/minneapolis_pd/Police_Stop_Data.csv\"\n",
        "\n",
        "# -- load the data\n",
        "stops = pd.read_csv(fname)"
      ],
      "execution_count": 5,
      "outputs": [
        {
          "output_type": "stream",
          "name": "stderr",
          "text": [
            "<ipython-input-5-9b1cec5c3585>:5: DtypeWarning: Columns (6) have mixed types. Specify dtype option on import or set low_memory=False.\n",
            "  stops = pd.read_csv(fname)\n"
          ]
        }
      ]
    },
    {
      "cell_type": "markdown",
      "metadata": {
        "id": "r1JGlW6gP7bw"
      },
      "source": [
        "Interesting warning... let's try to follow its recommendations:"
      ]
    },
    {
      "cell_type": "code",
      "metadata": {
        "id": "qKd-36PZQA2a"
      },
      "source": [
        "# -- re-load the data\n",
        "stops = pd.read_csv(fname, low_memory=False)"
      ],
      "execution_count": 6,
      "outputs": []
    },
    {
      "cell_type": "code",
      "metadata": {
        "id": "GQ5NC8DP4vvn",
        "colab": {
          "base_uri": "https://localhost:8080/",
          "height": 669
        },
        "outputId": "6d959707-da1c-446c-b7ef-e0700fe73032"
      },
      "source": [
        "# -- display the dataframe\n",
        "stops"
      ],
      "execution_count": 7,
      "outputs": [
        {
          "output_type": "execute_result",
          "data": {
            "text/plain": [
              "        OBJECTID masterIncidentNumber            responseDate  \\\n",
              "0              1            16-395258  2016/10/31 22:40:47+00   \n",
              "1              2            16-395296  2016/10/31 23:06:36+00   \n",
              "2              3            16-395326  2016/10/31 23:20:54+00   \n",
              "3              4            16-395328  2016/10/31 23:23:20+00   \n",
              "4              5            16-395333  2016/10/31 23:26:05+00   \n",
              "...          ...                  ...                     ...   \n",
              "182648    182649            21-216322  2021/09/21 00:58:49+00   \n",
              "182649    182650            21-216339  2021/09/21 02:07:04+00   \n",
              "182650    182651            21-216341  2021/09/21 02:11:46+00   \n",
              "182651    182652            21-216344  2021/09/21 02:48:13+00   \n",
              "182652    182653            21-216353  2021/09/21 03:31:55+00   \n",
              "\n",
              "                     reason                      problem      callDisposition  \\\n",
              "0                       NaN        Suspicious Person (P)          BKG-Booking   \n",
              "1                       NaN  Traffic Law Enforcement (P)           TAG-Tagged   \n",
              "2                       NaN          Attempt Pick-Up (P)          RFD-Refused   \n",
              "3                       NaN        Suspicious Person (P)          BKG-Booking   \n",
              "4                       NaN       Suspicious Vehicle (P)  GOA-Gone on Arrival   \n",
              "...                     ...                          ...                  ...   \n",
              "182648  Equipment Violation  Traffic Law Enforcement (P)          ADV-Advised   \n",
              "182649      Citizen / 9-1-1        Suspicious Person (P)  GOA-Gone on Arrival   \n",
              "182650  Equipment Violation  Traffic Law Enforcement (P)          ADV-Advised   \n",
              "182651        Investigative       Suspicious Vehicle (P)           RPT-Report   \n",
              "182652        Investigative       Suspicious Vehicle (P)          ADV-Advised   \n",
              "\n",
              "       citationIssued personSearch vehicleSearch  preRace             race  \\\n",
              "0                 NaN          YES            NO    Black            Black   \n",
              "1                 NaN           NO            NO  Unknown            Black   \n",
              "2                 NaN           NO            NO  Unknown          Unknown   \n",
              "3                 NaN          YES            NO    Black            Black   \n",
              "4                 NaN           NO            NO    Other          Unknown   \n",
              "...               ...          ...           ...      ...              ...   \n",
              "182648             NO           NO            NO  Unknown          Unknown   \n",
              "182649             NO           NO            NO    White          Unknown   \n",
              "182650             NO           NO            NO  Unknown          Unknown   \n",
              "182651             NO           NO           YES  Unknown          Unknown   \n",
              "182652             NO           NO            NO  Unknown  Native American   \n",
              "\n",
              "         gender        lat       long             x             y  \\\n",
              "0          Male  44.979570 -93.272570 -1.038306e+07  5.618306e+06   \n",
              "1          Male  44.962689 -93.275921 -1.038343e+07  5.615650e+06   \n",
              "2       Unknown  45.024836 -93.288069 -1.038478e+07  5.625432e+06   \n",
              "3          Male  44.946560 -93.247410 -1.038025e+07  5.613112e+06   \n",
              "4          Male  44.906170 -93.255010 -1.038110e+07  5.606762e+06   \n",
              "...         ...        ...        ...           ...           ...   \n",
              "182648     Male  44.984920 -93.246890 -1.038020e+07  5.619147e+06   \n",
              "182649     Male  44.966928 -93.283228 -1.038424e+07  5.616317e+06   \n",
              "182650   Female  45.002320 -93.246705 -1.038018e+07  5.621887e+06   \n",
              "182651  Unknown  44.960900 -93.270210 -1.038279e+07  5.615368e+06   \n",
              "182652     Male  44.949260 -93.300820 -1.038620e+07  5.613537e+06   \n",
              "\n",
              "        policePrecinct                      neighborhood  \\\n",
              "0                  1.0                     Downtown West   \n",
              "1                  5.0  Steven's Square - Loring Heights   \n",
              "2                  4.0                   Webber - Camden   \n",
              "3                  3.0                          Corcoran   \n",
              "4                  3.0                              Hale   \n",
              "...                ...                               ...   \n",
              "182648             2.0                      Marcy Holmes   \n",
              "182649             1.0                       Loring Park   \n",
              "182650             2.0                    Northeast Park   \n",
              "182651             5.0                          Whittier   \n",
              "182652             5.0                        East Isles   \n",
              "\n",
              "                lastUpdateDate  \n",
              "0       2017/08/08 10:25:31+00  \n",
              "1       2017/08/08 10:26:13+00  \n",
              "2       2017/08/08 10:24:35+00  \n",
              "3       2017/08/08 10:25:31+00  \n",
              "4       2017/08/08 10:25:03+00  \n",
              "...                        ...  \n",
              "182648  2021/09/21 08:20:31+00  \n",
              "182649  2021/09/21 08:20:28+00  \n",
              "182650  2021/09/21 08:20:32+00  \n",
              "182651  2021/09/21 08:20:31+00  \n",
              "182652  2021/09/21 08:20:31+00  \n",
              "\n",
              "[182653 rows x 19 columns]"
            ],
            "text/html": [
              "\n",
              "  <div id=\"df-3a90f29a-1229-48af-b85e-1b88431d4a4d\" class=\"colab-df-container\">\n",
              "    <div>\n",
              "<style scoped>\n",
              "    .dataframe tbody tr th:only-of-type {\n",
              "        vertical-align: middle;\n",
              "    }\n",
              "\n",
              "    .dataframe tbody tr th {\n",
              "        vertical-align: top;\n",
              "    }\n",
              "\n",
              "    .dataframe thead th {\n",
              "        text-align: right;\n",
              "    }\n",
              "</style>\n",
              "<table border=\"1\" class=\"dataframe\">\n",
              "  <thead>\n",
              "    <tr style=\"text-align: right;\">\n",
              "      <th></th>\n",
              "      <th>OBJECTID</th>\n",
              "      <th>masterIncidentNumber</th>\n",
              "      <th>responseDate</th>\n",
              "      <th>reason</th>\n",
              "      <th>problem</th>\n",
              "      <th>callDisposition</th>\n",
              "      <th>citationIssued</th>\n",
              "      <th>personSearch</th>\n",
              "      <th>vehicleSearch</th>\n",
              "      <th>preRace</th>\n",
              "      <th>race</th>\n",
              "      <th>gender</th>\n",
              "      <th>lat</th>\n",
              "      <th>long</th>\n",
              "      <th>x</th>\n",
              "      <th>y</th>\n",
              "      <th>policePrecinct</th>\n",
              "      <th>neighborhood</th>\n",
              "      <th>lastUpdateDate</th>\n",
              "    </tr>\n",
              "  </thead>\n",
              "  <tbody>\n",
              "    <tr>\n",
              "      <th>0</th>\n",
              "      <td>1</td>\n",
              "      <td>16-395258</td>\n",
              "      <td>2016/10/31 22:40:47+00</td>\n",
              "      <td>NaN</td>\n",
              "      <td>Suspicious Person (P)</td>\n",
              "      <td>BKG-Booking</td>\n",
              "      <td>NaN</td>\n",
              "      <td>YES</td>\n",
              "      <td>NO</td>\n",
              "      <td>Black</td>\n",
              "      <td>Black</td>\n",
              "      <td>Male</td>\n",
              "      <td>44.979570</td>\n",
              "      <td>-93.272570</td>\n",
              "      <td>-1.038306e+07</td>\n",
              "      <td>5.618306e+06</td>\n",
              "      <td>1.0</td>\n",
              "      <td>Downtown West</td>\n",
              "      <td>2017/08/08 10:25:31+00</td>\n",
              "    </tr>\n",
              "    <tr>\n",
              "      <th>1</th>\n",
              "      <td>2</td>\n",
              "      <td>16-395296</td>\n",
              "      <td>2016/10/31 23:06:36+00</td>\n",
              "      <td>NaN</td>\n",
              "      <td>Traffic Law Enforcement (P)</td>\n",
              "      <td>TAG-Tagged</td>\n",
              "      <td>NaN</td>\n",
              "      <td>NO</td>\n",
              "      <td>NO</td>\n",
              "      <td>Unknown</td>\n",
              "      <td>Black</td>\n",
              "      <td>Male</td>\n",
              "      <td>44.962689</td>\n",
              "      <td>-93.275921</td>\n",
              "      <td>-1.038343e+07</td>\n",
              "      <td>5.615650e+06</td>\n",
              "      <td>5.0</td>\n",
              "      <td>Steven's Square - Loring Heights</td>\n",
              "      <td>2017/08/08 10:26:13+00</td>\n",
              "    </tr>\n",
              "    <tr>\n",
              "      <th>2</th>\n",
              "      <td>3</td>\n",
              "      <td>16-395326</td>\n",
              "      <td>2016/10/31 23:20:54+00</td>\n",
              "      <td>NaN</td>\n",
              "      <td>Attempt Pick-Up (P)</td>\n",
              "      <td>RFD-Refused</td>\n",
              "      <td>NaN</td>\n",
              "      <td>NO</td>\n",
              "      <td>NO</td>\n",
              "      <td>Unknown</td>\n",
              "      <td>Unknown</td>\n",
              "      <td>Unknown</td>\n",
              "      <td>45.024836</td>\n",
              "      <td>-93.288069</td>\n",
              "      <td>-1.038478e+07</td>\n",
              "      <td>5.625432e+06</td>\n",
              "      <td>4.0</td>\n",
              "      <td>Webber - Camden</td>\n",
              "      <td>2017/08/08 10:24:35+00</td>\n",
              "    </tr>\n",
              "    <tr>\n",
              "      <th>3</th>\n",
              "      <td>4</td>\n",
              "      <td>16-395328</td>\n",
              "      <td>2016/10/31 23:23:20+00</td>\n",
              "      <td>NaN</td>\n",
              "      <td>Suspicious Person (P)</td>\n",
              "      <td>BKG-Booking</td>\n",
              "      <td>NaN</td>\n",
              "      <td>YES</td>\n",
              "      <td>NO</td>\n",
              "      <td>Black</td>\n",
              "      <td>Black</td>\n",
              "      <td>Male</td>\n",
              "      <td>44.946560</td>\n",
              "      <td>-93.247410</td>\n",
              "      <td>-1.038025e+07</td>\n",
              "      <td>5.613112e+06</td>\n",
              "      <td>3.0</td>\n",
              "      <td>Corcoran</td>\n",
              "      <td>2017/08/08 10:25:31+00</td>\n",
              "    </tr>\n",
              "    <tr>\n",
              "      <th>4</th>\n",
              "      <td>5</td>\n",
              "      <td>16-395333</td>\n",
              "      <td>2016/10/31 23:26:05+00</td>\n",
              "      <td>NaN</td>\n",
              "      <td>Suspicious Vehicle (P)</td>\n",
              "      <td>GOA-Gone on Arrival</td>\n",
              "      <td>NaN</td>\n",
              "      <td>NO</td>\n",
              "      <td>NO</td>\n",
              "      <td>Other</td>\n",
              "      <td>Unknown</td>\n",
              "      <td>Male</td>\n",
              "      <td>44.906170</td>\n",
              "      <td>-93.255010</td>\n",
              "      <td>-1.038110e+07</td>\n",
              "      <td>5.606762e+06</td>\n",
              "      <td>3.0</td>\n",
              "      <td>Hale</td>\n",
              "      <td>2017/08/08 10:25:03+00</td>\n",
              "    </tr>\n",
              "    <tr>\n",
              "      <th>...</th>\n",
              "      <td>...</td>\n",
              "      <td>...</td>\n",
              "      <td>...</td>\n",
              "      <td>...</td>\n",
              "      <td>...</td>\n",
              "      <td>...</td>\n",
              "      <td>...</td>\n",
              "      <td>...</td>\n",
              "      <td>...</td>\n",
              "      <td>...</td>\n",
              "      <td>...</td>\n",
              "      <td>...</td>\n",
              "      <td>...</td>\n",
              "      <td>...</td>\n",
              "      <td>...</td>\n",
              "      <td>...</td>\n",
              "      <td>...</td>\n",
              "      <td>...</td>\n",
              "      <td>...</td>\n",
              "    </tr>\n",
              "    <tr>\n",
              "      <th>182648</th>\n",
              "      <td>182649</td>\n",
              "      <td>21-216322</td>\n",
              "      <td>2021/09/21 00:58:49+00</td>\n",
              "      <td>Equipment Violation</td>\n",
              "      <td>Traffic Law Enforcement (P)</td>\n",
              "      <td>ADV-Advised</td>\n",
              "      <td>NO</td>\n",
              "      <td>NO</td>\n",
              "      <td>NO</td>\n",
              "      <td>Unknown</td>\n",
              "      <td>Unknown</td>\n",
              "      <td>Male</td>\n",
              "      <td>44.984920</td>\n",
              "      <td>-93.246890</td>\n",
              "      <td>-1.038020e+07</td>\n",
              "      <td>5.619147e+06</td>\n",
              "      <td>2.0</td>\n",
              "      <td>Marcy Holmes</td>\n",
              "      <td>2021/09/21 08:20:31+00</td>\n",
              "    </tr>\n",
              "    <tr>\n",
              "      <th>182649</th>\n",
              "      <td>182650</td>\n",
              "      <td>21-216339</td>\n",
              "      <td>2021/09/21 02:07:04+00</td>\n",
              "      <td>Citizen / 9-1-1</td>\n",
              "      <td>Suspicious Person (P)</td>\n",
              "      <td>GOA-Gone on Arrival</td>\n",
              "      <td>NO</td>\n",
              "      <td>NO</td>\n",
              "      <td>NO</td>\n",
              "      <td>White</td>\n",
              "      <td>Unknown</td>\n",
              "      <td>Male</td>\n",
              "      <td>44.966928</td>\n",
              "      <td>-93.283228</td>\n",
              "      <td>-1.038424e+07</td>\n",
              "      <td>5.616317e+06</td>\n",
              "      <td>1.0</td>\n",
              "      <td>Loring Park</td>\n",
              "      <td>2021/09/21 08:20:28+00</td>\n",
              "    </tr>\n",
              "    <tr>\n",
              "      <th>182650</th>\n",
              "      <td>182651</td>\n",
              "      <td>21-216341</td>\n",
              "      <td>2021/09/21 02:11:46+00</td>\n",
              "      <td>Equipment Violation</td>\n",
              "      <td>Traffic Law Enforcement (P)</td>\n",
              "      <td>ADV-Advised</td>\n",
              "      <td>NO</td>\n",
              "      <td>NO</td>\n",
              "      <td>NO</td>\n",
              "      <td>Unknown</td>\n",
              "      <td>Unknown</td>\n",
              "      <td>Female</td>\n",
              "      <td>45.002320</td>\n",
              "      <td>-93.246705</td>\n",
              "      <td>-1.038018e+07</td>\n",
              "      <td>5.621887e+06</td>\n",
              "      <td>2.0</td>\n",
              "      <td>Northeast Park</td>\n",
              "      <td>2021/09/21 08:20:32+00</td>\n",
              "    </tr>\n",
              "    <tr>\n",
              "      <th>182651</th>\n",
              "      <td>182652</td>\n",
              "      <td>21-216344</td>\n",
              "      <td>2021/09/21 02:48:13+00</td>\n",
              "      <td>Investigative</td>\n",
              "      <td>Suspicious Vehicle (P)</td>\n",
              "      <td>RPT-Report</td>\n",
              "      <td>NO</td>\n",
              "      <td>NO</td>\n",
              "      <td>YES</td>\n",
              "      <td>Unknown</td>\n",
              "      <td>Unknown</td>\n",
              "      <td>Unknown</td>\n",
              "      <td>44.960900</td>\n",
              "      <td>-93.270210</td>\n",
              "      <td>-1.038279e+07</td>\n",
              "      <td>5.615368e+06</td>\n",
              "      <td>5.0</td>\n",
              "      <td>Whittier</td>\n",
              "      <td>2021/09/21 08:20:31+00</td>\n",
              "    </tr>\n",
              "    <tr>\n",
              "      <th>182652</th>\n",
              "      <td>182653</td>\n",
              "      <td>21-216353</td>\n",
              "      <td>2021/09/21 03:31:55+00</td>\n",
              "      <td>Investigative</td>\n",
              "      <td>Suspicious Vehicle (P)</td>\n",
              "      <td>ADV-Advised</td>\n",
              "      <td>NO</td>\n",
              "      <td>NO</td>\n",
              "      <td>NO</td>\n",
              "      <td>Unknown</td>\n",
              "      <td>Native American</td>\n",
              "      <td>Male</td>\n",
              "      <td>44.949260</td>\n",
              "      <td>-93.300820</td>\n",
              "      <td>-1.038620e+07</td>\n",
              "      <td>5.613537e+06</td>\n",
              "      <td>5.0</td>\n",
              "      <td>East Isles</td>\n",
              "      <td>2021/09/21 08:20:31+00</td>\n",
              "    </tr>\n",
              "  </tbody>\n",
              "</table>\n",
              "<p>182653 rows × 19 columns</p>\n",
              "</div>\n",
              "    <div class=\"colab-df-buttons\">\n",
              "\n",
              "  <div class=\"colab-df-container\">\n",
              "    <button class=\"colab-df-convert\" onclick=\"convertToInteractive('df-3a90f29a-1229-48af-b85e-1b88431d4a4d')\"\n",
              "            title=\"Convert this dataframe to an interactive table.\"\n",
              "            style=\"display:none;\">\n",
              "\n",
              "  <svg xmlns=\"http://www.w3.org/2000/svg\" height=\"24px\" viewBox=\"0 -960 960 960\">\n",
              "    <path d=\"M120-120v-720h720v720H120Zm60-500h600v-160H180v160Zm220 220h160v-160H400v160Zm0 220h160v-160H400v160ZM180-400h160v-160H180v160Zm440 0h160v-160H620v160ZM180-180h160v-160H180v160Zm440 0h160v-160H620v160Z\"/>\n",
              "  </svg>\n",
              "    </button>\n",
              "\n",
              "  <style>\n",
              "    .colab-df-container {\n",
              "      display:flex;\n",
              "      gap: 12px;\n",
              "    }\n",
              "\n",
              "    .colab-df-convert {\n",
              "      background-color: #E8F0FE;\n",
              "      border: none;\n",
              "      border-radius: 50%;\n",
              "      cursor: pointer;\n",
              "      display: none;\n",
              "      fill: #1967D2;\n",
              "      height: 32px;\n",
              "      padding: 0 0 0 0;\n",
              "      width: 32px;\n",
              "    }\n",
              "\n",
              "    .colab-df-convert:hover {\n",
              "      background-color: #E2EBFA;\n",
              "      box-shadow: 0px 1px 2px rgba(60, 64, 67, 0.3), 0px 1px 3px 1px rgba(60, 64, 67, 0.15);\n",
              "      fill: #174EA6;\n",
              "    }\n",
              "\n",
              "    .colab-df-buttons div {\n",
              "      margin-bottom: 4px;\n",
              "    }\n",
              "\n",
              "    [theme=dark] .colab-df-convert {\n",
              "      background-color: #3B4455;\n",
              "      fill: #D2E3FC;\n",
              "    }\n",
              "\n",
              "    [theme=dark] .colab-df-convert:hover {\n",
              "      background-color: #434B5C;\n",
              "      box-shadow: 0px 1px 3px 1px rgba(0, 0, 0, 0.15);\n",
              "      filter: drop-shadow(0px 1px 2px rgba(0, 0, 0, 0.3));\n",
              "      fill: #FFFFFF;\n",
              "    }\n",
              "  </style>\n",
              "\n",
              "    <script>\n",
              "      const buttonEl =\n",
              "        document.querySelector('#df-3a90f29a-1229-48af-b85e-1b88431d4a4d button.colab-df-convert');\n",
              "      buttonEl.style.display =\n",
              "        google.colab.kernel.accessAllowed ? 'block' : 'none';\n",
              "\n",
              "      async function convertToInteractive(key) {\n",
              "        const element = document.querySelector('#df-3a90f29a-1229-48af-b85e-1b88431d4a4d');\n",
              "        const dataTable =\n",
              "          await google.colab.kernel.invokeFunction('convertToInteractive',\n",
              "                                                    [key], {});\n",
              "        if (!dataTable) return;\n",
              "\n",
              "        const docLinkHtml = 'Like what you see? Visit the ' +\n",
              "          '<a target=\"_blank\" href=https://colab.research.google.com/notebooks/data_table.ipynb>data table notebook</a>'\n",
              "          + ' to learn more about interactive tables.';\n",
              "        element.innerHTML = '';\n",
              "        dataTable['output_type'] = 'display_data';\n",
              "        await google.colab.output.renderOutput(dataTable, element);\n",
              "        const docLink = document.createElement('div');\n",
              "        docLink.innerHTML = docLinkHtml;\n",
              "        element.appendChild(docLink);\n",
              "      }\n",
              "    </script>\n",
              "  </div>\n",
              "\n",
              "\n",
              "<div id=\"df-f15ff87b-4b30-4cfa-845d-01ecfeab70a9\">\n",
              "  <button class=\"colab-df-quickchart\" onclick=\"quickchart('df-f15ff87b-4b30-4cfa-845d-01ecfeab70a9')\"\n",
              "            title=\"Suggest charts.\"\n",
              "            style=\"display:none;\">\n",
              "\n",
              "<svg xmlns=\"http://www.w3.org/2000/svg\" height=\"24px\"viewBox=\"0 0 24 24\"\n",
              "     width=\"24px\">\n",
              "    <g>\n",
              "        <path d=\"M19 3H5c-1.1 0-2 .9-2 2v14c0 1.1.9 2 2 2h14c1.1 0 2-.9 2-2V5c0-1.1-.9-2-2-2zM9 17H7v-7h2v7zm4 0h-2V7h2v10zm4 0h-2v-4h2v4z\"/>\n",
              "    </g>\n",
              "</svg>\n",
              "  </button>\n",
              "\n",
              "<style>\n",
              "  .colab-df-quickchart {\n",
              "      --bg-color: #E8F0FE;\n",
              "      --fill-color: #1967D2;\n",
              "      --hover-bg-color: #E2EBFA;\n",
              "      --hover-fill-color: #174EA6;\n",
              "      --disabled-fill-color: #AAA;\n",
              "      --disabled-bg-color: #DDD;\n",
              "  }\n",
              "\n",
              "  [theme=dark] .colab-df-quickchart {\n",
              "      --bg-color: #3B4455;\n",
              "      --fill-color: #D2E3FC;\n",
              "      --hover-bg-color: #434B5C;\n",
              "      --hover-fill-color: #FFFFFF;\n",
              "      --disabled-bg-color: #3B4455;\n",
              "      --disabled-fill-color: #666;\n",
              "  }\n",
              "\n",
              "  .colab-df-quickchart {\n",
              "    background-color: var(--bg-color);\n",
              "    border: none;\n",
              "    border-radius: 50%;\n",
              "    cursor: pointer;\n",
              "    display: none;\n",
              "    fill: var(--fill-color);\n",
              "    height: 32px;\n",
              "    padding: 0;\n",
              "    width: 32px;\n",
              "  }\n",
              "\n",
              "  .colab-df-quickchart:hover {\n",
              "    background-color: var(--hover-bg-color);\n",
              "    box-shadow: 0 1px 2px rgba(60, 64, 67, 0.3), 0 1px 3px 1px rgba(60, 64, 67, 0.15);\n",
              "    fill: var(--button-hover-fill-color);\n",
              "  }\n",
              "\n",
              "  .colab-df-quickchart-complete:disabled,\n",
              "  .colab-df-quickchart-complete:disabled:hover {\n",
              "    background-color: var(--disabled-bg-color);\n",
              "    fill: var(--disabled-fill-color);\n",
              "    box-shadow: none;\n",
              "  }\n",
              "\n",
              "  .colab-df-spinner {\n",
              "    border: 2px solid var(--fill-color);\n",
              "    border-color: transparent;\n",
              "    border-bottom-color: var(--fill-color);\n",
              "    animation:\n",
              "      spin 1s steps(1) infinite;\n",
              "  }\n",
              "\n",
              "  @keyframes spin {\n",
              "    0% {\n",
              "      border-color: transparent;\n",
              "      border-bottom-color: var(--fill-color);\n",
              "      border-left-color: var(--fill-color);\n",
              "    }\n",
              "    20% {\n",
              "      border-color: transparent;\n",
              "      border-left-color: var(--fill-color);\n",
              "      border-top-color: var(--fill-color);\n",
              "    }\n",
              "    30% {\n",
              "      border-color: transparent;\n",
              "      border-left-color: var(--fill-color);\n",
              "      border-top-color: var(--fill-color);\n",
              "      border-right-color: var(--fill-color);\n",
              "    }\n",
              "    40% {\n",
              "      border-color: transparent;\n",
              "      border-right-color: var(--fill-color);\n",
              "      border-top-color: var(--fill-color);\n",
              "    }\n",
              "    60% {\n",
              "      border-color: transparent;\n",
              "      border-right-color: var(--fill-color);\n",
              "    }\n",
              "    80% {\n",
              "      border-color: transparent;\n",
              "      border-right-color: var(--fill-color);\n",
              "      border-bottom-color: var(--fill-color);\n",
              "    }\n",
              "    90% {\n",
              "      border-color: transparent;\n",
              "      border-bottom-color: var(--fill-color);\n",
              "    }\n",
              "  }\n",
              "</style>\n",
              "\n",
              "  <script>\n",
              "    async function quickchart(key) {\n",
              "      const quickchartButtonEl =\n",
              "        document.querySelector('#' + key + ' button');\n",
              "      quickchartButtonEl.disabled = true;  // To prevent multiple clicks.\n",
              "      quickchartButtonEl.classList.add('colab-df-spinner');\n",
              "      try {\n",
              "        const charts = await google.colab.kernel.invokeFunction(\n",
              "            'suggestCharts', [key], {});\n",
              "      } catch (error) {\n",
              "        console.error('Error during call to suggestCharts:', error);\n",
              "      }\n",
              "      quickchartButtonEl.classList.remove('colab-df-spinner');\n",
              "      quickchartButtonEl.classList.add('colab-df-quickchart-complete');\n",
              "    }\n",
              "    (() => {\n",
              "      let quickchartButtonEl =\n",
              "        document.querySelector('#df-f15ff87b-4b30-4cfa-845d-01ecfeab70a9 button');\n",
              "      quickchartButtonEl.style.display =\n",
              "        google.colab.kernel.accessAllowed ? 'block' : 'none';\n",
              "    })();\n",
              "  </script>\n",
              "</div>\n",
              "    </div>\n",
              "  </div>\n"
            ]
          },
          "metadata": {},
          "execution_count": 7
        }
      ]
    },
    {
      "cell_type": "markdown",
      "metadata": {
        "id": "QxwB57FXlCqr"
      },
      "source": [
        "---"
      ]
    },
    {
      "cell_type": "markdown",
      "metadata": {
        "id": "4N8fr5JBQU_g"
      },
      "source": [
        "### **Data Wrangling Part 1: from slicing to indexing**"
      ]
    },
    {
      "cell_type": "markdown",
      "metadata": {
        "id": "tZTOkRp9KK77"
      },
      "source": [
        "What if we wanted stops for the year 2017?  How would we \"sub-select\" only those rows?  Well, first let's figure out what data type is in the `\"responseDate\"` column,"
      ]
    },
    {
      "cell_type": "code",
      "metadata": {
        "id": "c5InsD-eUS36",
        "colab": {
          "base_uri": "https://localhost:8080/"
        },
        "outputId": "5aa6c0d2-12a1-4b0b-8231-61b49a135ee7"
      },
      "source": [
        "# -- display column data types\n",
        "stops.dtypes"
      ],
      "execution_count": 8,
      "outputs": [
        {
          "output_type": "execute_result",
          "data": {
            "text/plain": [
              "OBJECTID                  int64\n",
              "masterIncidentNumber     object\n",
              "responseDate             object\n",
              "reason                   object\n",
              "problem                  object\n",
              "callDisposition          object\n",
              "citationIssued           object\n",
              "personSearch             object\n",
              "vehicleSearch            object\n",
              "preRace                  object\n",
              "race                     object\n",
              "gender                   object\n",
              "lat                     float64\n",
              "long                    float64\n",
              "x                       float64\n",
              "y                       float64\n",
              "policePrecinct          float64\n",
              "neighborhood             object\n",
              "lastUpdateDate           object\n",
              "dtype: object"
            ]
          },
          "metadata": {},
          "execution_count": 8
        }
      ]
    },
    {
      "cell_type": "code",
      "metadata": {
        "id": "1ydzKI6IRORy",
        "colab": {
          "base_uri": "https://localhost:8080/"
        },
        "outputId": "9ab7dfc8-28fd-4333-cf0f-e0090684f451"
      },
      "source": [
        "# -- check data dtype of first element of response date column\n",
        "type(stops[\"responseDate\"].iloc[0])"
      ],
      "execution_count": 10,
      "outputs": [
        {
          "output_type": "execute_result",
          "data": {
            "text/plain": [
              "str"
            ]
          },
          "metadata": {},
          "execution_count": 10
        }
      ]
    },
    {
      "cell_type": "markdown",
      "metadata": {
        "id": "kq94aBnBROKh"
      },
      "source": [
        "Looks like it's a string.  So let's start with a string method like we saw last time.  This time let's use the `.contains()` string method,\n"
      ]
    },
    {
      "cell_type": "code",
      "metadata": {
        "id": "uL2wk2Q2ROCz"
      },
      "source": [
        "# -- display the result of using the .contains() method to see what rows of\n",
        "#    response date include contain the string \"2017\"\n",
        "ind2017 = stops[\"responseDate\"].str.contains(\"2017\")"
      ],
      "execution_count": 11,
      "outputs": []
    },
    {
      "cell_type": "code",
      "source": [
        "ind2017.unique()"
      ],
      "metadata": {
        "colab": {
          "base_uri": "https://localhost:8080/"
        },
        "id": "S3OsJ-lMqSdI",
        "outputId": "8d8dd766-405e-4ec5-e206-de670a1056bf"
      },
      "execution_count": 14,
      "outputs": [
        {
          "output_type": "execute_result",
          "data": {
            "text/plain": [
              "array([False,  True])"
            ]
          },
          "metadata": {},
          "execution_count": 14
        }
      ]
    },
    {
      "cell_type": "markdown",
      "metadata": {
        "id": "QrJazYQSRwe6"
      },
      "source": [
        "The first five and last five rows are all `False` (note the dtype...), but are there any `True` in there?  To find out, first note the following:"
      ]
    },
    {
      "cell_type": "code",
      "metadata": {
        "id": "xoqB6ujhRwXB",
        "colab": {
          "base_uri": "https://localhost:8080/"
        },
        "outputId": "9136a510-b2be-4057-fb1f-b19240858639"
      },
      "source": [
        "# -- example boolean NumPy array\n",
        "barr = np.array([True, True, False, True, False, False, True])\n",
        "\n",
        "# -- summing it treats the True's as 1's and the False's as 0's\n",
        "print(barr.sum())"
      ],
      "execution_count": 15,
      "outputs": [
        {
          "output_type": "stream",
          "name": "stdout",
          "text": [
            "4\n"
          ]
        }
      ]
    },
    {
      "cell_type": "markdown",
      "metadata": {
        "id": "qDziDvt2Sgr-"
      },
      "source": [
        "So, how would we find out if the output of `.contains(\"2017\")` is `True` somewhere inside those ...'s ?"
      ]
    },
    {
      "cell_type": "code",
      "metadata": {
        "id": "IWR5_Mp1SNHR",
        "colab": {
          "base_uri": "https://localhost:8080/"
        },
        "outputId": "4a6b1b30-367c-4606-f2fe-83c99ecd16d0"
      },
      "source": [
        "# -- check if any response dates contain the string \"2017\"\n",
        "n2017 = ind2017.sum()\n",
        "\n",
        "print(\"total number of response dates in 2017: {0}\".format(n2017))"
      ],
      "execution_count": 16,
      "outputs": [
        {
          "output_type": "stream",
          "name": "stdout",
          "text": [
            "total number of response dates in 2017: 54156\n"
          ]
        }
      ]
    },
    {
      "cell_type": "markdown",
      "metadata": {
        "id": "d9camYW0TcaM"
      },
      "source": [
        "Already now, we can answer a potentially interesting policy question, ***how many stops per year from 2017 to 2020***?"
      ]
    },
    {
      "cell_type": "code",
      "metadata": {
        "id": "srjTTupHSNY0",
        "colab": {
          "base_uri": "https://localhost:8080/",
          "height": 368
        },
        "outputId": "be2fe04b-c2e4-42a5-8246-fc121b4ecc2d"
      },
      "source": [
        "# -- create a new DataFrame containing the number of stops in 2017,\n",
        "#    2018, 2019, and 2020, and make a bar plot\n",
        "\n",
        "# -- calculate number of stops for each year\n",
        "n2017 = stops[\"responseDate\"].str.contains(\"2017\").sum()\n",
        "n2018 = stops[\"responseDate\"].str.contains(\"2018\").sum()\n",
        "n2019 = stops[\"responseDate\"].str.contains(\"2019\").sum()\n",
        "n2020 = stops[\"responseDate\"].str.contains(\"2020\").sum()\n",
        "\n",
        "# -- make a bar plot\n",
        "years = [2017, 2018, 2019, 2020]\n",
        "nstops = [n2017, n2018, n2019, n2020]\n",
        "\n",
        "# -- make a bar plot\n",
        "fig, ax = plt.subplots(figsize=(7, 4))\n",
        "ax.bar(years, nstops)\n",
        "ax.set_xticks(years)\n",
        "ax.set_ylabel(\"total number of stops\")\n",
        "fig.show()"
      ],
      "execution_count": 17,
      "outputs": [
        {
          "output_type": "display_data",
          "data": {
            "text/plain": [
              "<Figure size 700x400 with 1 Axes>"
            ],
            "image/png": "[encoded data removed]"
          },
          "metadata": {}
        }
      ]
    },
    {
      "cell_type": "markdown",
      "metadata": {
        "id": "VbwaYsiWTYg4"
      },
      "source": [
        "*How would you interpret this plot?*"
      ]
    },
    {
      "cell_type": "markdown",
      "metadata": {
        "id": "OE1sDMmgWvyf"
      },
      "source": [
        "Now, we need to finish sub-selecting only 2017 stops for further analysis.  But first..."
      ]
    },
    {
      "cell_type": "markdown",
      "metadata": {
        "id": "HgmeiOxsWlM0"
      },
      "source": [
        "**A Brief Aside on Boolean \"Indexing\"...**"
      ]
    },
    {
      "cell_type": "markdown",
      "metadata": {
        "id": "GF-ZYFFvWsv3"
      },
      "source": [
        "Notice the following:"
      ]
    },
    {
      "cell_type": "code",
      "metadata": {
        "id": "-WWceHWhTYoY",
        "colab": {
          "base_uri": "https://localhost:8080/"
        },
        "outputId": "09c5a663-59b6-4a98-a9c8-70d85ab22413"
      },
      "source": [
        "# -- create a number array with some values that is the SAME LENGTH as the\n",
        "#    boolean array (barr) created above\n",
        "myarr = np.array([62.3, -23, 63, 94, 1, -22.5, 0.88])\n",
        "barr = np.array([True, True, False, True, False, False, True])\n",
        "\n",
        "# -- print ONLY values where barr is True\n",
        "print(myarr)\n",
        "print(barr)\n",
        "print(myarr[barr])"
      ],
      "execution_count": 18,
      "outputs": [
        {
          "output_type": "stream",
          "name": "stdout",
          "text": [
            "[ 62.3  -23.    63.    94.     1.   -22.5    0.88]\n",
            "[ True  True False  True False False  True]\n",
            "[ 62.3  -23.    94.     0.88]\n"
          ]
        }
      ]
    },
    {
      "cell_type": "markdown",
      "metadata": {
        "id": "31FsuulrTYx4"
      },
      "source": [
        "This is type of operation is called \"indexing\" and is an extension of the \"slicing\" concept we've seen before:"
      ]
    },
    {
      "cell_type": "code",
      "metadata": {
        "id": "QuD48Gy4SNka"
      },
      "source": [
        "# -- slicing\n",
        "print(myarr[2:5])\n",
        "\n",
        "# -- indexing\n",
        "ind = np\n",
        "print(myarr[ind])"
      ],
      "execution_count": null,
      "outputs": []
    },
    {
      "cell_type": "markdown",
      "metadata": {
        "id": "C5m-uMsmQnrc"
      },
      "source": [
        "There is one last bit of indexing that we'll need to subset this data into a form that we want: \"relational indexing\".  We've actually seen already in a slightly different format."
      ]
    },
    {
      "cell_type": "code",
      "metadata": {
        "id": "aofoobQxcMnM",
        "colab": {
          "base_uri": "https://localhost:8080/"
        },
        "outputId": "1bc49964-fdd5-47ff-8d9c-134f69688e1a"
      },
      "source": [
        "# -- create a number array with some values\n",
        "myarr = np.array([62.3, -23, 63, 94, 1, -22.5, 0.88])\n",
        "\n",
        "# -- print ONLY values that are negative\n",
        "ind = np.array([False, False, True, True, True, False, False])\n",
        "print(myarr[ind])"
      ],
      "execution_count": 19,
      "outputs": [
        {
          "output_type": "stream",
          "name": "stdout",
          "text": [
            "[63. 94.  1.]\n"
          ]
        }
      ]
    },
    {
      "cell_type": "code",
      "source": [
        "myarr"
      ],
      "metadata": {
        "colab": {
          "base_uri": "https://localhost:8080/"
        },
        "id": "Pgo09UdJtWpH",
        "outputId": "16992b2f-1d5f-4ad2-ccc1-9905b1e35aed"
      },
      "execution_count": 22,
      "outputs": [
        {
          "output_type": "execute_result",
          "data": {
            "text/plain": [
              "array([ 62.3 , -23.  ,  63.  ,  94.  ,   1.  , -22.5 ,   0.88])"
            ]
          },
          "metadata": {},
          "execution_count": 22
        }
      ]
    },
    {
      "cell_type": "code",
      "source": [
        "# -- create a number array with some values\n",
        "myarr = np.array([62.3, -23, 63, 94, 1, -22.5, 0.88])\n",
        "\n",
        "# -- print ONLY values that are negative\n",
        "ind = myarr < 0\n",
        "print(myarr[ind])"
      ],
      "metadata": {
        "colab": {
          "base_uri": "https://localhost:8080/"
        },
        "id": "4Ptb72owtFUo",
        "outputId": "34fb9b73-c493-415f-c160-85a0273a4faa"
      },
      "execution_count": 20,
      "outputs": [
        {
          "output_type": "stream",
          "name": "stdout",
          "text": [
            "[-23.  -22.5]\n"
          ]
        }
      ]
    },
    {
      "cell_type": "code",
      "metadata": {
        "id": "-52OGab2fH7p",
        "colab": {
          "base_uri": "https://localhost:8080/"
        },
        "outputId": "bedb4d49-fa6a-4ba0-8e02-4e9d79daf8b8"
      },
      "source": [
        "# -- here are some examples of these types of logical relations\n",
        "print(\"1. {0}\".format(myarr >= 1))\n",
        "print(\"2. {0}\".format(myarr == 0.88))\n",
        "print(\"3. {0}\".format(myarr != 63))"
      ],
      "execution_count": 21,
      "outputs": [
        {
          "output_type": "stream",
          "name": "stdout",
          "text": [
            "1. [ True False  True  True  True False False]\n",
            "2. [False False False False False False  True]\n",
            "3. [ True  True False  True  True  True  True]\n"
          ]
        }
      ]
    },
    {
      "cell_type": "markdown",
      "metadata": {
        "id": "kD1M3fv7XKf6"
      },
      "source": [
        "**...back to our Minneapolis police stops DataFrame.**"
      ]
    },
    {
      "cell_type": "markdown",
      "metadata": {
        "id": "VEwikhFMQoN4"
      },
      "source": [
        "Notice that the output of our `.str.contains(\"2017\")` method call was exactly a `True`/`False` (boolean) array!  So now we can finally subset our Minneapolis stops data to only 2017:"
      ]
    },
    {
      "cell_type": "code",
      "metadata": {
        "id": "jorhKeMQQn9b"
      },
      "source": [
        "# -- create a True/False index of when response date contains 2017\n",
        "ind2017 = stops[\"responseDate\"].str.contains(\"2017\")\n",
        "\n",
        "# -- sub-select only those rows\n",
        "stops17 = stops[ind2017]\n",
        "\n",
        "# -- display the result\n",
        "stops17"
      ],
      "execution_count": null,
      "outputs": []
    },
    {
      "cell_type": "markdown",
      "metadata": {
        "id": "qw9pWDUUcMxB"
      },
      "source": [
        "With this, we have the tools to answer the question: **<i>\"in 2017, what fraction of stops involved a person of color?\"</i>**, right???"
      ]
    },
    {
      "cell_type": "code",
      "source": [
        "# -- display the unique values of race in this dataset\n",
        "stops17[\"race\"].unique()"
      ],
      "metadata": {
        "id": "MLjOuGidiWSY",
        "colab": {
          "base_uri": "https://localhost:8080/"
        },
        "outputId": "8fbc1619-c631-4116-fc74-003a202744a0"
      },
      "execution_count": 26,
      "outputs": [
        {
          "output_type": "execute_result",
          "data": {
            "text/plain": [
              "array(['Unknown', 'White', 'East African', 'Black', 'Other', nan,\n",
              "       'Latino', 'Asian', 'Native American'], dtype=object)"
            ]
          },
          "metadata": {},
          "execution_count": 26
        }
      ]
    },
    {
      "cell_type": "code",
      "metadata": {
        "id": "ue3dFI2hcM_i",
        "colab": {
          "base_uri": "https://localhost:8080/"
        },
        "outputId": "83530aef-418a-4c0a-c4f2-d6388b8ac61b"
      },
      "source": [
        "# -- create True/False arrays for White and not White\n",
        "ind_wht = stops17[\"race\"] == \"White\"\n",
        "ind_poc = stops17[\"race\"] != \"White\"\n",
        "\n",
        "nstops17 = len(stops17)\n",
        "nwht17 = ind_wht.sum()\n",
        "npoc17 = ind_poc.sum()\n",
        "\n",
        "print(\"fraction of subjects that are white     : {0:4.3}\".format(nwht17 / nstops17))\n",
        "print(\"fraction of subjects that are not white : {0:4.3}\".format(npoc17 / nstops17))"
      ],
      "execution_count": 27,
      "outputs": [
        {
          "output_type": "stream",
          "name": "stdout",
          "text": [
            "fraction of subjects that are white     : 0.222\n",
            "fraction of subjects that are not white : 0.778\n"
          ]
        }
      ]
    },
    {
      "cell_type": "markdown",
      "metadata": {
        "id": "v_H7oAJQdUYz"
      },
      "source": [
        "**Not so fast...**, we still have to deal with NaN's, type of stop, *etc*."
      ]
    },
    {
      "cell_type": "markdown",
      "metadata": {
        "id": "lBt2Vfqok_7I"
      },
      "source": [
        "---"
      ]
    },
    {
      "cell_type": "markdown",
      "metadata": {
        "id": "cm4uVZtukwXz"
      },
      "source": [
        "### **Data Wrangling Part 2: removing NaNs and groupings**"
      ]
    },
    {
      "cell_type": "markdown",
      "metadata": {
        "id": "6FqbuMUtdUgw"
      },
      "source": [
        "What to do about NaNs is a complex consideration without a universal answer.  Different situations and different contexts require different handling of NaN values.\n",
        "\n",
        "***Regardless of what you do with NaNs, the <u>most</u> important thing is to acknowledge your choice and describe its consequences when presenting results.***"
      ]
    },
    {
      "cell_type": "markdown",
      "metadata": {
        "id": "PkXbBF88luFl"
      },
      "source": [
        "For now, let's try dropping NaNs using the 2017 DataFrame's `.dropna()` method,"
      ]
    },
    {
      "cell_type": "code",
      "metadata": {
        "id": "0rLkxvlwdUol",
        "colab": {
          "base_uri": "https://localhost:8080/",
          "height": 669
        },
        "outputId": "bdf2bb40-f7f1-4076-aa4c-d49c45f08c42"
      },
      "source": [
        "# -- drop NaNs\n",
        "stops17.dropna()"
      ],
      "execution_count": 28,
      "outputs": [
        {
          "output_type": "execute_result",
          "data": {
            "text/plain": [
              "       OBJECTID masterIncidentNumber            responseDate  \\\n",
              "36568     36569            17-251489  2017/07/06 11:00:32+00   \n",
              "36572     36573            17-251517  2017/07/06 11:19:35+00   \n",
              "36584     36585            17-251588  2017/07/06 12:11:32+00   \n",
              "36592     36593            17-251645  2017/07/06 12:47:41+00   \n",
              "36594     36595            17-251668  2017/07/06 12:57:20+00   \n",
              "...         ...                  ...                     ...   \n",
              "95593     95594            17-469769  2017/12/12 06:31:50+00   \n",
              "95594     95595            17-472268  2017/12/14 07:42:24+00   \n",
              "95595     95596            17-473484  2017/12/15 06:49:27+00   \n",
              "95597     95598            17-487421  2017/12/28 07:57:56+00   \n",
              "95599     95600            17-488702  2017/12/29 07:58:43+00   \n",
              "\n",
              "                    reason                      problem       callDisposition  \\\n",
              "36568      Citizen / 9-1-1        Suspicious Person (P)  UTL-Unable to Locate   \n",
              "36572  Equipment Violation  Traffic Law Enforcement (P)           ADV-Advised   \n",
              "36584        Investigative        Suspicious Person (P)           ADV-Advised   \n",
              "36592        Investigative       Suspicious Vehicle (P)       INF-Information   \n",
              "36594     Moving Violation  Traffic Law Enforcement (P)           ADV-Advised   \n",
              "...                    ...                          ...                   ...   \n",
              "95593      Citizen / 9-1-1        Suspicious Person (P)     FTC-Fail to Clear   \n",
              "95594      Citizen / 9-1-1        Suspicious Person (P)         UNF-Unfounded   \n",
              "95595      Citizen / 9-1-1        Suspicious Person (P)   GOA-Gone on Arrival   \n",
              "95597     Moving Violation  Traffic Law Enforcement (P)            TAG-Tagged   \n",
              "95599      Citizen / 9-1-1       Suspicious Vehicle (P)   GOA-Gone on Arrival   \n",
              "\n",
              "      citationIssued personSearch vehicleSearch  preRace     race   gender  \\\n",
              "36568             NO           NO            NO  Unknown  Unknown  Unknown   \n",
              "36572             NO           NO            NO  Unknown    Black   Female   \n",
              "36584             NO           NO            NO    White    White     Male   \n",
              "36592             NO           NO            NO  Unknown  Unknown  Unknown   \n",
              "36594             NO           NO            NO  Unknown    Black   Female   \n",
              "...              ...          ...           ...      ...      ...      ...   \n",
              "95593             NO           NO            NO  Unknown  Unknown  Unknown   \n",
              "95594             NO           NO            NO  Unknown  Unknown  Unknown   \n",
              "95595             NO           NO            NO  Unknown  Unknown  Unknown   \n",
              "95597            YES           NO            NO  Unknown    Black   Female   \n",
              "95599             NO           NO            NO  Unknown  Unknown  Unknown   \n",
              "\n",
              "             lat       long             x             y  policePrecinct  \\\n",
              "36568  44.971280 -93.285779 -1.038453e+07  5.617001e+06             1.0   \n",
              "36572  44.988260 -93.289389 -1.038493e+07  5.619673e+06             4.0   \n",
              "36584  44.948347 -93.278808 -1.038375e+07  5.613393e+06             5.0   \n",
              "36592  44.988492 -93.256732 -1.038129e+07  5.619710e+06             2.0   \n",
              "36594  44.987595 -93.288739 -1.038485e+07  5.619569e+06             1.0   \n",
              "...          ...        ...           ...           ...             ...   \n",
              "95593  45.012317 -93.304442 -1.038660e+07  5.623461e+06             4.0   \n",
              "95594  44.924225 -93.256208 -1.038123e+07  5.609600e+06             3.0   \n",
              "95595  44.925070 -93.227040 -1.037799e+07  5.609733e+06             3.0   \n",
              "95597  44.993070 -93.304460 -1.038660e+07  5.620430e+06             4.0   \n",
              "95599  45.005551 -93.303153 -1.038646e+07  5.622395e+06             4.0   \n",
              "\n",
              "                      neighborhood          lastUpdateDate  \n",
              "36568                  Loring Park  2017/08/08 10:24:25+00  \n",
              "36572                 Near - North  2017/08/08 10:26:13+00  \n",
              "36584                      Lyndale  2017/08/08 10:26:13+00  \n",
              "36592  Nicollet Island - East Bank  2017/08/08 10:26:13+00  \n",
              "36594                   North Loop  2017/08/08 10:26:13+00  \n",
              "...                            ...                     ...  \n",
              "95593                       Jordan  2018/10/02 13:45:16+00  \n",
              "95594                     Northrop  2018/10/02 13:45:16+00  \n",
              "95595                     Ericsson  2018/10/02 13:45:38+00  \n",
              "95597                Willard - Hay  2018/10/02 13:45:38+00  \n",
              "95599                       Jordan  2018/10/02 13:45:49+00  \n",
              "\n",
              "[19673 rows x 19 columns]"
            ],
            "text/html": [
              "\n",
              "  <div id=\"df-a2c5573a-014d-412b-82d5-0e0c7346c67a\" class=\"colab-df-container\">\n",
              "    <div>\n",
              "<style scoped>\n",
              "    .dataframe tbody tr th:only-of-type {\n",
              "        vertical-align: middle;\n",
              "    }\n",
              "\n",
              "    .dataframe tbody tr th {\n",
              "        vertical-align: top;\n",
              "    }\n",
              "\n",
              "    .dataframe thead th {\n",
              "        text-align: right;\n",
              "    }\n",
              "</style>\n",
              "<table border=\"1\" class=\"dataframe\">\n",
              "  <thead>\n",
              "    <tr style=\"text-align: right;\">\n",
              "      <th></th>\n",
              "      <th>OBJECTID</th>\n",
              "      <th>masterIncidentNumber</th>\n",
              "      <th>responseDate</th>\n",
              "      <th>reason</th>\n",
              "      <th>problem</th>\n",
              "      <th>callDisposition</th>\n",
              "      <th>citationIssued</th>\n",
              "      <th>personSearch</th>\n",
              "      <th>vehicleSearch</th>\n",
              "      <th>preRace</th>\n",
              "      <th>race</th>\n",
              "      <th>gender</th>\n",
              "      <th>lat</th>\n",
              "      <th>long</th>\n",
              "      <th>x</th>\n",
              "      <th>y</th>\n",
              "      <th>policePrecinct</th>\n",
              "      <th>neighborhood</th>\n",
              "      <th>lastUpdateDate</th>\n",
              "    </tr>\n",
              "  </thead>\n",
              "  <tbody>\n",
              "    <tr>\n",
              "      <th>36568</th>\n",
              "      <td>36569</td>\n",
              "      <td>17-251489</td>\n",
              "      <td>2017/07/06 11:00:32+00</td>\n",
              "      <td>Citizen / 9-1-1</td>\n",
              "      <td>Suspicious Person (P)</td>\n",
              "      <td>UTL-Unable to Locate</td>\n",
              "      <td>NO</td>\n",
              "      <td>NO</td>\n",
              "      <td>NO</td>\n",
              "      <td>Unknown</td>\n",
              "      <td>Unknown</td>\n",
              "      <td>Unknown</td>\n",
              "      <td>44.971280</td>\n",
              "      <td>-93.285779</td>\n",
              "      <td>-1.038453e+07</td>\n",
              "      <td>5.617001e+06</td>\n",
              "      <td>1.0</td>\n",
              "      <td>Loring Park</td>\n",
              "      <td>2017/08/08 10:24:25+00</td>\n",
              "    </tr>\n",
              "    <tr>\n",
              "      <th>36572</th>\n",
              "      <td>36573</td>\n",
              "      <td>17-251517</td>\n",
              "      <td>2017/07/06 11:19:35+00</td>\n",
              "      <td>Equipment Violation</td>\n",
              "      <td>Traffic Law Enforcement (P)</td>\n",
              "      <td>ADV-Advised</td>\n",
              "      <td>NO</td>\n",
              "      <td>NO</td>\n",
              "      <td>NO</td>\n",
              "      <td>Unknown</td>\n",
              "      <td>Black</td>\n",
              "      <td>Female</td>\n",
              "      <td>44.988260</td>\n",
              "      <td>-93.289389</td>\n",
              "      <td>-1.038493e+07</td>\n",
              "      <td>5.619673e+06</td>\n",
              "      <td>4.0</td>\n",
              "      <td>Near - North</td>\n",
              "      <td>2017/08/08 10:26:13+00</td>\n",
              "    </tr>\n",
              "    <tr>\n",
              "      <th>36584</th>\n",
              "      <td>36585</td>\n",
              "      <td>17-251588</td>\n",
              "      <td>2017/07/06 12:11:32+00</td>\n",
              "      <td>Investigative</td>\n",
              "      <td>Suspicious Person (P)</td>\n",
              "      <td>ADV-Advised</td>\n",
              "      <td>NO</td>\n",
              "      <td>NO</td>\n",
              "      <td>NO</td>\n",
              "      <td>White</td>\n",
              "      <td>White</td>\n",
              "      <td>Male</td>\n",
              "      <td>44.948347</td>\n",
              "      <td>-93.278808</td>\n",
              "      <td>-1.038375e+07</td>\n",
              "      <td>5.613393e+06</td>\n",
              "      <td>5.0</td>\n",
              "      <td>Lyndale</td>\n",
              "      <td>2017/08/08 10:26:13+00</td>\n",
              "    </tr>\n",
              "    <tr>\n",
              "      <th>36592</th>\n",
              "      <td>36593</td>\n",
              "      <td>17-251645</td>\n",
              "      <td>2017/07/06 12:47:41+00</td>\n",
              "      <td>Investigative</td>\n",
              "      <td>Suspicious Vehicle (P)</td>\n",
              "      <td>INF-Information</td>\n",
              "      <td>NO</td>\n",
              "      <td>NO</td>\n",
              "      <td>NO</td>\n",
              "      <td>Unknown</td>\n",
              "      <td>Unknown</td>\n",
              "      <td>Unknown</td>\n",
              "      <td>44.988492</td>\n",
              "      <td>-93.256732</td>\n",
              "      <td>-1.038129e+07</td>\n",
              "      <td>5.619710e+06</td>\n",
              "      <td>2.0</td>\n",
              "      <td>Nicollet Island - East Bank</td>\n",
              "      <td>2017/08/08 10:26:13+00</td>\n",
              "    </tr>\n",
              "    <tr>\n",
              "      <th>36594</th>\n",
              "      <td>36595</td>\n",
              "      <td>17-251668</td>\n",
              "      <td>2017/07/06 12:57:20+00</td>\n",
              "      <td>Moving Violation</td>\n",
              "      <td>Traffic Law Enforcement (P)</td>\n",
              "      <td>ADV-Advised</td>\n",
              "      <td>NO</td>\n",
              "      <td>NO</td>\n",
              "      <td>NO</td>\n",
              "      <td>Unknown</td>\n",
              "      <td>Black</td>\n",
              "      <td>Female</td>\n",
              "      <td>44.987595</td>\n",
              "      <td>-93.288739</td>\n",
              "      <td>-1.038485e+07</td>\n",
              "      <td>5.619569e+06</td>\n",
              "      <td>1.0</td>\n",
              "      <td>North Loop</td>\n",
              "      <td>2017/08/08 10:26:13+00</td>\n",
              "    </tr>\n",
              "    <tr>\n",
              "      <th>...</th>\n",
              "      <td>...</td>\n",
              "      <td>...</td>\n",
              "      <td>...</td>\n",
              "      <td>...</td>\n",
              "      <td>...</td>\n",
              "      <td>...</td>\n",
              "      <td>...</td>\n",
              "      <td>...</td>\n",
              "      <td>...</td>\n",
              "      <td>...</td>\n",
              "      <td>...</td>\n",
              "      <td>...</td>\n",
              "      <td>...</td>\n",
              "      <td>...</td>\n",
              "      <td>...</td>\n",
              "      <td>...</td>\n",
              "      <td>...</td>\n",
              "      <td>...</td>\n",
              "      <td>...</td>\n",
              "    </tr>\n",
              "    <tr>\n",
              "      <th>95593</th>\n",
              "      <td>95594</td>\n",
              "      <td>17-469769</td>\n",
              "      <td>2017/12/12 06:31:50+00</td>\n",
              "      <td>Citizen / 9-1-1</td>\n",
              "      <td>Suspicious Person (P)</td>\n",
              "      <td>FTC-Fail to Clear</td>\n",
              "      <td>NO</td>\n",
              "      <td>NO</td>\n",
              "      <td>NO</td>\n",
              "      <td>Unknown</td>\n",
              "      <td>Unknown</td>\n",
              "      <td>Unknown</td>\n",
              "      <td>45.012317</td>\n",
              "      <td>-93.304442</td>\n",
              "      <td>-1.038660e+07</td>\n",
              "      <td>5.623461e+06</td>\n",
              "      <td>4.0</td>\n",
              "      <td>Jordan</td>\n",
              "      <td>2018/10/02 13:45:16+00</td>\n",
              "    </tr>\n",
              "    <tr>\n",
              "      <th>95594</th>\n",
              "      <td>95595</td>\n",
              "      <td>17-472268</td>\n",
              "      <td>2017/12/14 07:42:24+00</td>\n",
              "      <td>Citizen / 9-1-1</td>\n",
              "      <td>Suspicious Person (P)</td>\n",
              "      <td>UNF-Unfounded</td>\n",
              "      <td>NO</td>\n",
              "      <td>NO</td>\n",
              "      <td>NO</td>\n",
              "      <td>Unknown</td>\n",
              "      <td>Unknown</td>\n",
              "      <td>Unknown</td>\n",
              "      <td>44.924225</td>\n",
              "      <td>-93.256208</td>\n",
              "      <td>-1.038123e+07</td>\n",
              "      <td>5.609600e+06</td>\n",
              "      <td>3.0</td>\n",
              "      <td>Northrop</td>\n",
              "      <td>2018/10/02 13:45:16+00</td>\n",
              "    </tr>\n",
              "    <tr>\n",
              "      <th>95595</th>\n",
              "      <td>95596</td>\n",
              "      <td>17-473484</td>\n",
              "      <td>2017/12/15 06:49:27+00</td>\n",
              "      <td>Citizen / 9-1-1</td>\n",
              "      <td>Suspicious Person (P)</td>\n",
              "      <td>GOA-Gone on Arrival</td>\n",
              "      <td>NO</td>\n",
              "      <td>NO</td>\n",
              "      <td>NO</td>\n",
              "      <td>Unknown</td>\n",
              "      <td>Unknown</td>\n",
              "      <td>Unknown</td>\n",
              "      <td>44.925070</td>\n",
              "      <td>-93.227040</td>\n",
              "      <td>-1.037799e+07</td>\n",
              "      <td>5.609733e+06</td>\n",
              "      <td>3.0</td>\n",
              "      <td>Ericsson</td>\n",
              "      <td>2018/10/02 13:45:38+00</td>\n",
              "    </tr>\n",
              "    <tr>\n",
              "      <th>95597</th>\n",
              "      <td>95598</td>\n",
              "      <td>17-487421</td>\n",
              "      <td>2017/12/28 07:57:56+00</td>\n",
              "      <td>Moving Violation</td>\n",
              "      <td>Traffic Law Enforcement (P)</td>\n",
              "      <td>TAG-Tagged</td>\n",
              "      <td>YES</td>\n",
              "      <td>NO</td>\n",
              "      <td>NO</td>\n",
              "      <td>Unknown</td>\n",
              "      <td>Black</td>\n",
              "      <td>Female</td>\n",
              "      <td>44.993070</td>\n",
              "      <td>-93.304460</td>\n",
              "      <td>-1.038660e+07</td>\n",
              "      <td>5.620430e+06</td>\n",
              "      <td>4.0</td>\n",
              "      <td>Willard - Hay</td>\n",
              "      <td>2018/10/02 13:45:38+00</td>\n",
              "    </tr>\n",
              "    <tr>\n",
              "      <th>95599</th>\n",
              "      <td>95600</td>\n",
              "      <td>17-488702</td>\n",
              "      <td>2017/12/29 07:58:43+00</td>\n",
              "      <td>Citizen / 9-1-1</td>\n",
              "      <td>Suspicious Vehicle (P)</td>\n",
              "      <td>GOA-Gone on Arrival</td>\n",
              "      <td>NO</td>\n",
              "      <td>NO</td>\n",
              "      <td>NO</td>\n",
              "      <td>Unknown</td>\n",
              "      <td>Unknown</td>\n",
              "      <td>Unknown</td>\n",
              "      <td>45.005551</td>\n",
              "      <td>-93.303153</td>\n",
              "      <td>-1.038646e+07</td>\n",
              "      <td>5.622395e+06</td>\n",
              "      <td>4.0</td>\n",
              "      <td>Jordan</td>\n",
              "      <td>2018/10/02 13:45:49+00</td>\n",
              "    </tr>\n",
              "  </tbody>\n",
              "</table>\n",
              "<p>19673 rows × 19 columns</p>\n",
              "</div>\n",
              "    <div class=\"colab-df-buttons\">\n",
              "\n",
              "  <div class=\"colab-df-container\">\n",
              "    <button class=\"colab-df-convert\" onclick=\"convertToInteractive('df-a2c5573a-014d-412b-82d5-0e0c7346c67a')\"\n",
              "            title=\"Convert this dataframe to an interactive table.\"\n",
              "            style=\"display:none;\">\n",
              "\n",
              "  <svg xmlns=\"http://www.w3.org/2000/svg\" height=\"24px\" viewBox=\"0 -960 960 960\">\n",
              "    <path d=\"M120-120v-720h720v720H120Zm60-500h600v-160H180v160Zm220 220h160v-160H400v160Zm0 220h160v-160H400v160ZM180-400h160v-160H180v160Zm440 0h160v-160H620v160ZM180-180h160v-160H180v160Zm440 0h160v-160H620v160Z\"/>\n",
              "  </svg>\n",
              "    </button>\n",
              "\n",
              "  <style>\n",
              "    .colab-df-container {\n",
              "      display:flex;\n",
              "      gap: 12px;\n",
              "    }\n",
              "\n",
              "    .colab-df-convert {\n",
              "      background-color: #E8F0FE;\n",
              "      border: none;\n",
              "      border-radius: 50%;\n",
              "      cursor: pointer;\n",
              "      display: none;\n",
              "      fill: #1967D2;\n",
              "      height: 32px;\n",
              "      padding: 0 0 0 0;\n",
              "      width: 32px;\n",
              "    }\n",
              "\n",
              "    .colab-df-convert:hover {\n",
              "      background-color: #E2EBFA;\n",
              "      box-shadow: 0px 1px 2px rgba(60, 64, 67, 0.3), 0px 1px 3px 1px rgba(60, 64, 67, 0.15);\n",
              "      fill: #174EA6;\n",
              "    }\n",
              "\n",
              "    .colab-df-buttons div {\n",
              "      margin-bottom: 4px;\n",
              "    }\n",
              "\n",
              "    [theme=dark] .colab-df-convert {\n",
              "      background-color: #3B4455;\n",
              "      fill: #D2E3FC;\n",
              "    }\n",
              "\n",
              "    [theme=dark] .colab-df-convert:hover {\n",
              "      background-color: #434B5C;\n",
              "      box-shadow: 0px 1px 3px 1px rgba(0, 0, 0, 0.15);\n",
              "      filter: drop-shadow(0px 1px 2px rgba(0, 0, 0, 0.3));\n",
              "      fill: #FFFFFF;\n",
              "    }\n",
              "  </style>\n",
              "\n",
              "    <script>\n",
              "      const buttonEl =\n",
              "        document.querySelector('#df-a2c5573a-014d-412b-82d5-0e0c7346c67a button.colab-df-convert');\n",
              "      buttonEl.style.display =\n",
              "        google.colab.kernel.accessAllowed ? 'block' : 'none';\n",
              "\n",
              "      async function convertToInteractive(key) {\n",
              "        const element = document.querySelector('#df-a2c5573a-014d-412b-82d5-0e0c7346c67a');\n",
              "        const dataTable =\n",
              "          await google.colab.kernel.invokeFunction('convertToInteractive',\n",
              "                                                    [key], {});\n",
              "        if (!dataTable) return;\n",
              "\n",
              "        const docLinkHtml = 'Like what you see? Visit the ' +\n",
              "          '<a target=\"_blank\" href=https://colab.research.google.com/notebooks/data_table.ipynb>data table notebook</a>'\n",
              "          + ' to learn more about interactive tables.';\n",
              "        element.innerHTML = '';\n",
              "        dataTable['output_type'] = 'display_data';\n",
              "        await google.colab.output.renderOutput(dataTable, element);\n",
              "        const docLink = document.createElement('div');\n",
              "        docLink.innerHTML = docLinkHtml;\n",
              "        element.appendChild(docLink);\n",
              "      }\n",
              "    </script>\n",
              "  </div>\n",
              "\n",
              "\n",
              "<div id=\"df-6cad2242-4b1c-4e21-a6d1-3b8712eb98c7\">\n",
              "  <button class=\"colab-df-quickchart\" onclick=\"quickchart('df-6cad2242-4b1c-4e21-a6d1-3b8712eb98c7')\"\n",
              "            title=\"Suggest charts.\"\n",
              "            style=\"display:none;\">\n",
              "\n",
              "<svg xmlns=\"http://www.w3.org/2000/svg\" height=\"24px\"viewBox=\"0 0 24 24\"\n",
              "     width=\"24px\">\n",
              "    <g>\n",
              "        <path d=\"M19 3H5c-1.1 0-2 .9-2 2v14c0 1.1.9 2 2 2h14c1.1 0 2-.9 2-2V5c0-1.1-.9-2-2-2zM9 17H7v-7h2v7zm4 0h-2V7h2v10zm4 0h-2v-4h2v4z\"/>\n",
              "    </g>\n",
              "</svg>\n",
              "  </button>\n",
              "\n",
              "<style>\n",
              "  .colab-df-quickchart {\n",
              "      --bg-color: #E8F0FE;\n",
              "      --fill-color: #1967D2;\n",
              "      --hover-bg-color: #E2EBFA;\n",
              "      --hover-fill-color: #174EA6;\n",
              "      --disabled-fill-color: #AAA;\n",
              "      --disabled-bg-color: #DDD;\n",
              "  }\n",
              "\n",
              "  [theme=dark] .colab-df-quickchart {\n",
              "      --bg-color: #3B4455;\n",
              "      --fill-color: #D2E3FC;\n",
              "      --hover-bg-color: #434B5C;\n",
              "      --hover-fill-color: #FFFFFF;\n",
              "      --disabled-bg-color: #3B4455;\n",
              "      --disabled-fill-color: #666;\n",
              "  }\n",
              "\n",
              "  .colab-df-quickchart {\n",
              "    background-color: var(--bg-color);\n",
              "    border: none;\n",
              "    border-radius: 50%;\n",
              "    cursor: pointer;\n",
              "    display: none;\n",
              "    fill: var(--fill-color);\n",
              "    height: 32px;\n",
              "    padding: 0;\n",
              "    width: 32px;\n",
              "  }\n",
              "\n",
              "  .colab-df-quickchart:hover {\n",
              "    background-color: var(--hover-bg-color);\n",
              "    box-shadow: 0 1px 2px rgba(60, 64, 67, 0.3), 0 1px 3px 1px rgba(60, 64, 67, 0.15);\n",
              "    fill: var(--button-hover-fill-color);\n",
              "  }\n",
              "\n",
              "  .colab-df-quickchart-complete:disabled,\n",
              "  .colab-df-quickchart-complete:disabled:hover {\n",
              "    background-color: var(--disabled-bg-color);\n",
              "    fill: var(--disabled-fill-color);\n",
              "    box-shadow: none;\n",
              "  }\n",
              "\n",
              "  .colab-df-spinner {\n",
              "    border: 2px solid var(--fill-color);\n",
              "    border-color: transparent;\n",
              "    border-bottom-color: var(--fill-color);\n",
              "    animation:\n",
              "      spin 1s steps(1) infinite;\n",
              "  }\n",
              "\n",
              "  @keyframes spin {\n",
              "    0% {\n",
              "      border-color: transparent;\n",
              "      border-bottom-color: var(--fill-color);\n",
              "      border-left-color: var(--fill-color);\n",
              "    }\n",
              "    20% {\n",
              "      border-color: transparent;\n",
              "      border-left-color: var(--fill-color);\n",
              "      border-top-color: var(--fill-color);\n",
              "    }\n",
              "    30% {\n",
              "      border-color: transparent;\n",
              "      border-left-color: var(--fill-color);\n",
              "      border-top-color: var(--fill-color);\n",
              "      border-right-color: var(--fill-color);\n",
              "    }\n",
              "    40% {\n",
              "      border-color: transparent;\n",
              "      border-right-color: var(--fill-color);\n",
              "      border-top-color: var(--fill-color);\n",
              "    }\n",
              "    60% {\n",
              "      border-color: transparent;\n",
              "      border-right-color: var(--fill-color);\n",
              "    }\n",
              "    80% {\n",
              "      border-color: transparent;\n",
              "      border-right-color: var(--fill-color);\n",
              "      border-bottom-color: var(--fill-color);\n",
              "    }\n",
              "    90% {\n",
              "      border-color: transparent;\n",
              "      border-bottom-color: var(--fill-color);\n",
              "    }\n",
              "  }\n",
              "</style>\n",
              "\n",
              "  <script>\n",
              "    async function quickchart(key) {\n",
              "      const quickchartButtonEl =\n",
              "        document.querySelector('#' + key + ' button');\n",
              "      quickchartButtonEl.disabled = true;  // To prevent multiple clicks.\n",
              "      quickchartButtonEl.classList.add('colab-df-spinner');\n",
              "      try {\n",
              "        const charts = await google.colab.kernel.invokeFunction(\n",
              "            'suggestCharts', [key], {});\n",
              "      } catch (error) {\n",
              "        console.error('Error during call to suggestCharts:', error);\n",
              "      }\n",
              "      quickchartButtonEl.classList.remove('colab-df-spinner');\n",
              "      quickchartButtonEl.classList.add('colab-df-quickchart-complete');\n",
              "    }\n",
              "    (() => {\n",
              "      let quickchartButtonEl =\n",
              "        document.querySelector('#df-6cad2242-4b1c-4e21-a6d1-3b8712eb98c7 button');\n",
              "      quickchartButtonEl.style.display =\n",
              "        google.colab.kernel.accessAllowed ? 'block' : 'none';\n",
              "    })();\n",
              "  </script>\n",
              "</div>\n",
              "    </div>\n",
              "  </div>\n"
            ]
          },
          "metadata": {},
          "execution_count": 28
        }
      ]
    },
    {
      "cell_type": "markdown",
      "metadata": {
        "id": "iY1CwZuRl-JS"
      },
      "source": [
        "How many rows did we lose?"
      ]
    },
    {
      "cell_type": "code",
      "metadata": {
        "id": "MbQ5B_obl92Z",
        "colab": {
          "base_uri": "https://localhost:8080/"
        },
        "outputId": "319f1f5b-a8b9-45af-9749-9ab8536551fd"
      },
      "source": [
        "# -- check the fraction of rows were dropped\n",
        "len(stops17.dropna())/len(stops17)"
      ],
      "execution_count": 29,
      "outputs": [
        {
          "output_type": "execute_result",
          "data": {
            "text/plain": [
              "0.3632653814905089"
            ]
          },
          "metadata": {},
          "execution_count": 29
        }
      ]
    },
    {
      "cell_type": "markdown",
      "metadata": {
        "id": "m57mtG7xmQgo"
      },
      "source": [
        "That's a lot of lost data!  Perhaps we are being a bit restrictive.  For example, for the question we're trying to answer (BUT NOT OTHER QUESTIONS!), the `\"preRace\"` value may be fine taking on a NaN value.  Let's check which columns have the most NaN's using the `.isna()` method and summing:"
      ]
    },
    {
      "cell_type": "code",
      "metadata": {
        "id": "G5U3C0JQmQVA",
        "colab": {
          "base_uri": "https://localhost:8080/"
        },
        "outputId": "59937301-e6c6-4254-92fd-ecffc16f532b"
      },
      "source": [
        "# -- print out how many NaNs per column\n",
        "stops17.isna().sum()"
      ],
      "execution_count": 31,
      "outputs": [
        {
          "output_type": "execute_result",
          "data": {
            "text/plain": [
              "OBJECTID                    0\n",
              "masterIncidentNumber        0\n",
              "responseDate                0\n",
              "reason                  19316\n",
              "problem                     0\n",
              "callDisposition          1163\n",
              "citationIssued          34292\n",
              "personSearch             8854\n",
              "vehicleSearch            8854\n",
              "preRace                  8854\n",
              "race                     8854\n",
              "gender                   8854\n",
              "lat                         0\n",
              "long                        0\n",
              "x                           0\n",
              "y                           0\n",
              "policePrecinct            683\n",
              "neighborhood              683\n",
              "lastUpdateDate              0\n",
              "dtype: int64"
            ]
          },
          "metadata": {},
          "execution_count": 31
        }
      ]
    },
    {
      "cell_type": "markdown",
      "metadata": {
        "id": "jz91RQUSmQId"
      },
      "source": [
        "Since we're mostly interested in the `\"race\"` and `\"personSearch\"` columns, perhaps we can drop only rows that have NaNs in those columns:"
      ]
    },
    {
      "cell_type": "code",
      "metadata": {
        "id": "O5CqrNrbl9tO"
      },
      "source": [
        "# -- drop NaNs from race and personSearch columns and send to a new DataFrame\n",
        "indr = ~stops17[\"race\"].isna()  # race column is not NaN\n",
        "indp = ~stops17[\"personSearch\"].isna() # personSearch column is not NaN\n",
        "\n",
        "ind_tot = indr & indp # combine indices (meaning both must be True)\n",
        "sub17 = stops17[ind_tot]"
      ],
      "execution_count": 32,
      "outputs": []
    },
    {
      "cell_type": "code",
      "metadata": {
        "id": "867uVGXyl9kg",
        "colab": {
          "base_uri": "https://localhost:8080/"
        },
        "outputId": "2869afba-583d-443f-ebe1-2247bde94e73"
      },
      "source": [
        "# -- check the results to make sure it worked\n",
        "sub17.isna().sum()\n",
        "# -- check what fraction of rows are left\n",
        "len(sub17) / len(stops17)"
      ],
      "execution_count": 34,
      "outputs": [
        {
          "output_type": "execute_result",
          "data": {
            "text/plain": [
              "0.8365093433783883"
            ]
          },
          "metadata": {},
          "execution_count": 34
        }
      ]
    },
    {
      "cell_type": "markdown",
      "metadata": {
        "id": "Q8AIKU1ApXGX"
      },
      "source": [
        "And so we've only had to discard about 16.5% of our data for this question.  Now let's find the total number of stops for each race using the powerful `.groupby()` method,"
      ]
    },
    {
      "cell_type": "code",
      "metadata": {
        "id": "NdQi4FB3pnyR",
        "colab": {
          "base_uri": "https://localhost:8080/",
          "height": 386
        },
        "outputId": "0a6de567-c9da-4680-9ad9-f1ab23dfb955"
      },
      "source": [
        "# -- groupy by race and count stops\n",
        "sub17.groupby(\"race\").count()"
      ],
      "execution_count": 41,
      "outputs": [
        {
          "output_type": "execute_result",
          "data": {
            "text/plain": [
              "                 OBJECTID  masterIncidentNumber  responseDate  reason  \\\n",
              "race                                                                    \n",
              "Asian                 673                   673           673     497   \n",
              "Black               15790                 15790         15790   12095   \n",
              "East African         2225                  2225          2225    1665   \n",
              "Latino               1909                  1909          1909    1455   \n",
              "Native American      1604                  1604          1604    1265   \n",
              "Other                1422                  1422          1422    1046   \n",
              "Unknown              9645                  9645          9645    7794   \n",
              "White               12034                 12034         12034    9023   \n",
              "\n",
              "                 problem  callDisposition  citationIssued  personSearch  \\\n",
              "race                                                                      \n",
              "Asian                673              673             260           673   \n",
              "Black              15790            15790            6956         15790   \n",
              "East African        2225             2225             846          2225   \n",
              "Latino              1909             1909             748          1909   \n",
              "Native American     1604             1604             737          1604   \n",
              "Other               1422             1422             599          1422   \n",
              "Unknown             9645             9645            4860          9645   \n",
              "White              12034            12034            4858         12034   \n",
              "\n",
              "                 vehicleSearch  preRace  gender    lat   long      x      y  \\\n",
              "race                                                                          \n",
              "Asian                      673      673     673    673    673    673    673   \n",
              "Black                    15790    15790   15790  15790  15790  15790  15790   \n",
              "East African              2225     2225    2225   2225   2225   2225   2225   \n",
              "Latino                    1909     1909    1909   1909   1909   1909   1909   \n",
              "Native American           1604     1604    1604   1604   1604   1604   1604   \n",
              "Other                     1422     1422    1422   1422   1422   1422   1422   \n",
              "Unknown                   9645     9645    9645   9645   9645   9645   9645   \n",
              "White                    12034    12034   12034  12034  12034  12034  12034   \n",
              "\n",
              "                 policePrecinct  neighborhood  lastUpdateDate  \n",
              "race                                                           \n",
              "Asian                       660           660             673  \n",
              "Black                     15634         15634           15790  \n",
              "East African               2205          2205            2225  \n",
              "Latino                     1891          1891            1909  \n",
              "Native American            1583          1583            1604  \n",
              "Other                      1397          1397            1422  \n",
              "Unknown                    9558          9558            9645  \n",
              "White                     11866         11866           12034  "
            ],
            "text/html": [
              "\n",
              "  <div id=\"df-155eabde-0b23-49a5-a500-1901f1f73986\" class=\"colab-df-container\">\n",
              "    <div>\n",
              "<style scoped>\n",
              "    .dataframe tbody tr th:only-of-type {\n",
              "        vertical-align: middle;\n",
              "    }\n",
              "\n",
              "    .dataframe tbody tr th {\n",
              "        vertical-align: top;\n",
              "    }\n",
              "\n",
              "    .dataframe thead th {\n",
              "        text-align: right;\n",
              "    }\n",
              "</style>\n",
              "<table border=\"1\" class=\"dataframe\">\n",
              "  <thead>\n",
              "    <tr style=\"text-align: right;\">\n",
              "      <th></th>\n",
              "      <th>OBJECTID</th>\n",
              "      <th>masterIncidentNumber</th>\n",
              "      <th>responseDate</th>\n",
              "      <th>reason</th>\n",
              "      <th>problem</th>\n",
              "      <th>callDisposition</th>\n",
              "      <th>citationIssued</th>\n",
              "      <th>personSearch</th>\n",
              "      <th>vehicleSearch</th>\n",
              "      <th>preRace</th>\n",
              "      <th>gender</th>\n",
              "      <th>lat</th>\n",
              "      <th>long</th>\n",
              "      <th>x</th>\n",
              "      <th>y</th>\n",
              "      <th>policePrecinct</th>\n",
              "      <th>neighborhood</th>\n",
              "      <th>lastUpdateDate</th>\n",
              "    </tr>\n",
              "    <tr>\n",
              "      <th>race</th>\n",
              "      <th></th>\n",
              "      <th></th>\n",
              "      <th></th>\n",
              "      <th></th>\n",
              "      <th></th>\n",
              "      <th></th>\n",
              "      <th></th>\n",
              "      <th></th>\n",
              "      <th></th>\n",
              "      <th></th>\n",
              "      <th></th>\n",
              "      <th></th>\n",
              "      <th></th>\n",
              "      <th></th>\n",
              "      <th></th>\n",
              "      <th></th>\n",
              "      <th></th>\n",
              "      <th></th>\n",
              "    </tr>\n",
              "  </thead>\n",
              "  <tbody>\n",
              "    <tr>\n",
              "      <th>Asian</th>\n",
              "      <td>673</td>\n",
              "      <td>673</td>\n",
              "      <td>673</td>\n",
              "      <td>497</td>\n",
              "      <td>673</td>\n",
              "      <td>673</td>\n",
              "      <td>260</td>\n",
              "      <td>673</td>\n",
              "      <td>673</td>\n",
              "      <td>673</td>\n",
              "      <td>673</td>\n",
              "      <td>673</td>\n",
              "      <td>673</td>\n",
              "      <td>673</td>\n",
              "      <td>673</td>\n",
              "      <td>660</td>\n",
              "      <td>660</td>\n",
              "      <td>673</td>\n",
              "    </tr>\n",
              "    <tr>\n",
              "      <th>Black</th>\n",
              "      <td>15790</td>\n",
              "      <td>15790</td>\n",
              "      <td>15790</td>\n",
              "      <td>12095</td>\n",
              "      <td>15790</td>\n",
              "      <td>15790</td>\n",
              "      <td>6956</td>\n",
              "      <td>15790</td>\n",
              "      <td>15790</td>\n",
              "      <td>15790</td>\n",
              "      <td>15790</td>\n",
              "      <td>15790</td>\n",
              "      <td>15790</td>\n",
              "      <td>15790</td>\n",
              "      <td>15790</td>\n",
              "      <td>15634</td>\n",
              "      <td>15634</td>\n",
              "      <td>15790</td>\n",
              "    </tr>\n",
              "    <tr>\n",
              "      <th>East African</th>\n",
              "      <td>2225</td>\n",
              "      <td>2225</td>\n",
              "      <td>2225</td>\n",
              "      <td>1665</td>\n",
              "      <td>2225</td>\n",
              "      <td>2225</td>\n",
              "      <td>846</td>\n",
              "      <td>2225</td>\n",
              "      <td>2225</td>\n",
              "      <td>2225</td>\n",
              "      <td>2225</td>\n",
              "      <td>2225</td>\n",
              "      <td>2225</td>\n",
              "      <td>2225</td>\n",
              "      <td>2225</td>\n",
              "      <td>2205</td>\n",
              "      <td>2205</td>\n",
              "      <td>2225</td>\n",
              "    </tr>\n",
              "    <tr>\n",
              "      <th>Latino</th>\n",
              "      <td>1909</td>\n",
              "      <td>1909</td>\n",
              "      <td>1909</td>\n",
              "      <td>1455</td>\n",
              "      <td>1909</td>\n",
              "      <td>1909</td>\n",
              "      <td>748</td>\n",
              "      <td>1909</td>\n",
              "      <td>1909</td>\n",
              "      <td>1909</td>\n",
              "      <td>1909</td>\n",
              "      <td>1909</td>\n",
              "      <td>1909</td>\n",
              "      <td>1909</td>\n",
              "      <td>1909</td>\n",
              "      <td>1891</td>\n",
              "      <td>1891</td>\n",
              "      <td>1909</td>\n",
              "    </tr>\n",
              "    <tr>\n",
              "      <th>Native American</th>\n",
              "      <td>1604</td>\n",
              "      <td>1604</td>\n",
              "      <td>1604</td>\n",
              "      <td>1265</td>\n",
              "      <td>1604</td>\n",
              "      <td>1604</td>\n",
              "      <td>737</td>\n",
              "      <td>1604</td>\n",
              "      <td>1604</td>\n",
              "      <td>1604</td>\n",
              "      <td>1604</td>\n",
              "      <td>1604</td>\n",
              "      <td>1604</td>\n",
              "      <td>1604</td>\n",
              "      <td>1604</td>\n",
              "      <td>1583</td>\n",
              "      <td>1583</td>\n",
              "      <td>1604</td>\n",
              "    </tr>\n",
              "    <tr>\n",
              "      <th>Other</th>\n",
              "      <td>1422</td>\n",
              "      <td>1422</td>\n",
              "      <td>1422</td>\n",
              "      <td>1046</td>\n",
              "      <td>1422</td>\n",
              "      <td>1422</td>\n",
              "      <td>599</td>\n",
              "      <td>1422</td>\n",
              "      <td>1422</td>\n",
              "      <td>1422</td>\n",
              "      <td>1422</td>\n",
              "      <td>1422</td>\n",
              "      <td>1422</td>\n",
              "      <td>1422</td>\n",
              "      <td>1422</td>\n",
              "      <td>1397</td>\n",
              "      <td>1397</td>\n",
              "      <td>1422</td>\n",
              "    </tr>\n",
              "    <tr>\n",
              "      <th>Unknown</th>\n",
              "      <td>9645</td>\n",
              "      <td>9645</td>\n",
              "      <td>9645</td>\n",
              "      <td>7794</td>\n",
              "      <td>9645</td>\n",
              "      <td>9645</td>\n",
              "      <td>4860</td>\n",
              "      <td>9645</td>\n",
              "      <td>9645</td>\n",
              "      <td>9645</td>\n",
              "      <td>9645</td>\n",
              "      <td>9645</td>\n",
              "      <td>9645</td>\n",
              "      <td>9645</td>\n",
              "      <td>9645</td>\n",
              "      <td>9558</td>\n",
              "      <td>9558</td>\n",
              "      <td>9645</td>\n",
              "    </tr>\n",
              "    <tr>\n",
              "      <th>White</th>\n",
              "      <td>12034</td>\n",
              "      <td>12034</td>\n",
              "      <td>12034</td>\n",
              "      <td>9023</td>\n",
              "      <td>12034</td>\n",
              "      <td>12034</td>\n",
              "      <td>4858</td>\n",
              "      <td>12034</td>\n",
              "      <td>12034</td>\n",
              "      <td>12034</td>\n",
              "      <td>12034</td>\n",
              "      <td>12034</td>\n",
              "      <td>12034</td>\n",
              "      <td>12034</td>\n",
              "      <td>12034</td>\n",
              "      <td>11866</td>\n",
              "      <td>11866</td>\n",
              "      <td>12034</td>\n",
              "    </tr>\n",
              "  </tbody>\n",
              "</table>\n",
              "</div>\n",
              "    <div class=\"colab-df-buttons\">\n",
              "\n",
              "  <div class=\"colab-df-container\">\n",
              "    <button class=\"colab-df-convert\" onclick=\"convertToInteractive('df-155eabde-0b23-49a5-a500-1901f1f73986')\"\n",
              "            title=\"Convert this dataframe to an interactive table.\"\n",
              "            style=\"display:none;\">\n",
              "\n",
              "  <svg xmlns=\"http://www.w3.org/2000/svg\" height=\"24px\" viewBox=\"0 -960 960 960\">\n",
              "    <path d=\"M120-120v-720h720v720H120Zm60-500h600v-160H180v160Zm220 220h160v-160H400v160Zm0 220h160v-160H400v160ZM180-400h160v-160H180v160Zm440 0h160v-160H620v160ZM180-180h160v-160H180v160Zm440 0h160v-160H620v160Z\"/>\n",
              "  </svg>\n",
              "    </button>\n",
              "\n",
              "  <style>\n",
              "    .colab-df-container {\n",
              "      display:flex;\n",
              "      gap: 12px;\n",
              "    }\n",
              "\n",
              "    .colab-df-convert {\n",
              "      background-color: #E8F0FE;\n",
              "      border: none;\n",
              "      border-radius: 50%;\n",
              "      cursor: pointer;\n",
              "      display: none;\n",
              "      fill: #1967D2;\n",
              "      height: 32px;\n",
              "      padding: 0 0 0 0;\n",
              "      width: 32px;\n",
              "    }\n",
              "\n",
              "    .colab-df-convert:hover {\n",
              "      background-color: #E2EBFA;\n",
              "      box-shadow: 0px 1px 2px rgba(60, 64, 67, 0.3), 0px 1px 3px 1px rgba(60, 64, 67, 0.15);\n",
              "      fill: #174EA6;\n",
              "    }\n",
              "\n",
              "    .colab-df-buttons div {\n",
              "      margin-bottom: 4px;\n",
              "    }\n",
              "\n",
              "    [theme=dark] .colab-df-convert {\n",
              "      background-color: #3B4455;\n",
              "      fill: #D2E3FC;\n",
              "    }\n",
              "\n",
              "    [theme=dark] .colab-df-convert:hover {\n",
              "      background-color: #434B5C;\n",
              "      box-shadow: 0px 1px 3px 1px rgba(0, 0, 0, 0.15);\n",
              "      filter: drop-shadow(0px 1px 2px rgba(0, 0, 0, 0.3));\n",
              "      fill: #FFFFFF;\n",
              "    }\n",
              "  </style>\n",
              "\n",
              "    <script>\n",
              "      const buttonEl =\n",
              "        document.querySelector('#df-155eabde-0b23-49a5-a500-1901f1f73986 button.colab-df-convert');\n",
              "      buttonEl.style.display =\n",
              "        google.colab.kernel.accessAllowed ? 'block' : 'none';\n",
              "\n",
              "      async function convertToInteractive(key) {\n",
              "        const element = document.querySelector('#df-155eabde-0b23-49a5-a500-1901f1f73986');\n",
              "        const dataTable =\n",
              "          await google.colab.kernel.invokeFunction('convertToInteractive',\n",
              "                                                    [key], {});\n",
              "        if (!dataTable) return;\n",
              "\n",
              "        const docLinkHtml = 'Like what you see? Visit the ' +\n",
              "          '<a target=\"_blank\" href=https://colab.research.google.com/notebooks/data_table.ipynb>data table notebook</a>'\n",
              "          + ' to learn more about interactive tables.';\n",
              "        element.innerHTML = '';\n",
              "        dataTable['output_type'] = 'display_data';\n",
              "        await google.colab.output.renderOutput(dataTable, element);\n",
              "        const docLink = document.createElement('div');\n",
              "        docLink.innerHTML = docLinkHtml;\n",
              "        element.appendChild(docLink);\n",
              "      }\n",
              "    </script>\n",
              "  </div>\n",
              "\n",
              "\n",
              "<div id=\"df-3d0bd0c0-a432-4a44-a45c-1ffb15a410d0\">\n",
              "  <button class=\"colab-df-quickchart\" onclick=\"quickchart('df-3d0bd0c0-a432-4a44-a45c-1ffb15a410d0')\"\n",
              "            title=\"Suggest charts.\"\n",
              "            style=\"display:none;\">\n",
              "\n",
              "<svg xmlns=\"http://www.w3.org/2000/svg\" height=\"24px\"viewBox=\"0 0 24 24\"\n",
              "     width=\"24px\">\n",
              "    <g>\n",
              "        <path d=\"M19 3H5c-1.1 0-2 .9-2 2v14c0 1.1.9 2 2 2h14c1.1 0 2-.9 2-2V5c0-1.1-.9-2-2-2zM9 17H7v-7h2v7zm4 0h-2V7h2v10zm4 0h-2v-4h2v4z\"/>\n",
              "    </g>\n",
              "</svg>\n",
              "  </button>\n",
              "\n",
              "<style>\n",
              "  .colab-df-quickchart {\n",
              "      --bg-color: #E8F0FE;\n",
              "      --fill-color: #1967D2;\n",
              "      --hover-bg-color: #E2EBFA;\n",
              "      --hover-fill-color: #174EA6;\n",
              "      --disabled-fill-color: #AAA;\n",
              "      --disabled-bg-color: #DDD;\n",
              "  }\n",
              "\n",
              "  [theme=dark] .colab-df-quickchart {\n",
              "      --bg-color: #3B4455;\n",
              "      --fill-color: #D2E3FC;\n",
              "      --hover-bg-color: #434B5C;\n",
              "      --hover-fill-color: #FFFFFF;\n",
              "      --disabled-bg-color: #3B4455;\n",
              "      --disabled-fill-color: #666;\n",
              "  }\n",
              "\n",
              "  .colab-df-quickchart {\n",
              "    background-color: var(--bg-color);\n",
              "    border: none;\n",
              "    border-radius: 50%;\n",
              "    cursor: pointer;\n",
              "    display: none;\n",
              "    fill: var(--fill-color);\n",
              "    height: 32px;\n",
              "    padding: 0;\n",
              "    width: 32px;\n",
              "  }\n",
              "\n",
              "  .colab-df-quickchart:hover {\n",
              "    background-color: var(--hover-bg-color);\n",
              "    box-shadow: 0 1px 2px rgba(60, 64, 67, 0.3), 0 1px 3px 1px rgba(60, 64, 67, 0.15);\n",
              "    fill: var(--button-hover-fill-color);\n",
              "  }\n",
              "\n",
              "  .colab-df-quickchart-complete:disabled,\n",
              "  .colab-df-quickchart-complete:disabled:hover {\n",
              "    background-color: var(--disabled-bg-color);\n",
              "    fill: var(--disabled-fill-color);\n",
              "    box-shadow: none;\n",
              "  }\n",
              "\n",
              "  .colab-df-spinner {\n",
              "    border: 2px solid var(--fill-color);\n",
              "    border-color: transparent;\n",
              "    border-bottom-color: var(--fill-color);\n",
              "    animation:\n",
              "      spin 1s steps(1) infinite;\n",
              "  }\n",
              "\n",
              "  @keyframes spin {\n",
              "    0% {\n",
              "      border-color: transparent;\n",
              "      border-bottom-color: var(--fill-color);\n",
              "      border-left-color: var(--fill-color);\n",
              "    }\n",
              "    20% {\n",
              "      border-color: transparent;\n",
              "      border-left-color: var(--fill-color);\n",
              "      border-top-color: var(--fill-color);\n",
              "    }\n",
              "    30% {\n",
              "      border-color: transparent;\n",
              "      border-left-color: var(--fill-color);\n",
              "      border-top-color: var(--fill-color);\n",
              "      border-right-color: var(--fill-color);\n",
              "    }\n",
              "    40% {\n",
              "      border-color: transparent;\n",
              "      border-right-color: var(--fill-color);\n",
              "      border-top-color: var(--fill-color);\n",
              "    }\n",
              "    60% {\n",
              "      border-color: transparent;\n",
              "      border-right-color: var(--fill-color);\n",
              "    }\n",
              "    80% {\n",
              "      border-color: transparent;\n",
              "      border-right-color: var(--fill-color);\n",
              "      border-bottom-color: var(--fill-color);\n",
              "    }\n",
              "    90% {\n",
              "      border-color: transparent;\n",
              "      border-bottom-color: var(--fill-color);\n",
              "    }\n",
              "  }\n",
              "</style>\n",
              "\n",
              "  <script>\n",
              "    async function quickchart(key) {\n",
              "      const quickchartButtonEl =\n",
              "        document.querySelector('#' + key + ' button');\n",
              "      quickchartButtonEl.disabled = true;  // To prevent multiple clicks.\n",
              "      quickchartButtonEl.classList.add('colab-df-spinner');\n",
              "      try {\n",
              "        const charts = await google.colab.kernel.invokeFunction(\n",
              "            'suggestCharts', [key], {});\n",
              "      } catch (error) {\n",
              "        console.error('Error during call to suggestCharts:', error);\n",
              "      }\n",
              "      quickchartButtonEl.classList.remove('colab-df-spinner');\n",
              "      quickchartButtonEl.classList.add('colab-df-quickchart-complete');\n",
              "    }\n",
              "    (() => {\n",
              "      let quickchartButtonEl =\n",
              "        document.querySelector('#df-3d0bd0c0-a432-4a44-a45c-1ffb15a410d0 button');\n",
              "      quickchartButtonEl.style.display =\n",
              "        google.colab.kernel.accessAllowed ? 'block' : 'none';\n",
              "    })();\n",
              "  </script>\n",
              "</div>\n",
              "    </div>\n",
              "  </div>\n"
            ]
          },
          "metadata": {},
          "execution_count": 41
        }
      ]
    },
    {
      "cell_type": "markdown",
      "metadata": {
        "id": "-0vIYf7kpW8e"
      },
      "source": [
        "There is much to say about groupby objects:\n",
        "\n",
        "- index is now the values\n",
        "- need to have `.groupby()` followed by summary function (`.count()`, `.sum()`, `.first()`, `.mean()`, etc.)\n",
        "- column names are unchanged but values are the result of the *summary function*\n",
        "- can pop index back into output with `.reset_index()` method"
      ]
    },
    {
      "cell_type": "markdown",
      "metadata": {
        "id": "4pp_oC5Q4uL1"
      },
      "source": [
        "We can use this grouped DataFrame to get the total number of stops for each race"
      ]
    },
    {
      "cell_type": "code",
      "metadata": {
        "id": "Oaksw3mFr4BG"
      },
      "source": [
        "# -- make counts by race DataFrame\n",
        "cbr17 = sub17.groupby(\"race\").count()"
      ],
      "execution_count": 42,
      "outputs": []
    },
    {
      "cell_type": "code",
      "source": [
        "cbr17.index"
      ],
      "metadata": {
        "colab": {
          "base_uri": "https://localhost:8080/"
        },
        "id": "BmerCPDjzLIF",
        "outputId": "8586a875-6bbf-47a7-a5c2-946e43ec10ee"
      },
      "execution_count": 43,
      "outputs": [
        {
          "output_type": "execute_result",
          "data": {
            "text/plain": [
              "Index(['Asian', 'Black', 'East African', 'Latino', 'Native American', 'Other',\n",
              "       'Unknown', 'White'],\n",
              "      dtype='object', name='race')"
            ]
          },
          "metadata": {},
          "execution_count": 43
        }
      ]
    },
    {
      "cell_type": "code",
      "metadata": {
        "id": "Vr6XRmDT5NWD",
        "colab": {
          "base_uri": "https://localhost:8080/"
        },
        "outputId": "d9477263-1f92-4724-eef4-54a7703813a8"
      },
      "source": [
        "# -- get the index\n",
        "rind = cbr17.index\n",
        "\n",
        "print(rind)"
      ],
      "execution_count": 44,
      "outputs": [
        {
          "output_type": "stream",
          "name": "stdout",
          "text": [
            "Index(['Asian', 'Black', 'East African', 'Latino', 'Native American', 'Other',\n",
            "       'Unknown', 'White'],\n",
            "      dtype='object', name='race')\n"
          ]
        }
      ]
    },
    {
      "cell_type": "code",
      "metadata": {
        "id": "aGfKxfwur339"
      },
      "source": [
        "# -- get the total number of stopped white persons (nb, we know that OBJECTID\n",
        "#    has no NaN values)\n",
        "nstop_wht = cbr17[\"OBJECTID\"].loc[\"White\"]"
      ],
      "execution_count": 46,
      "outputs": []
    },
    {
      "cell_type": "code",
      "metadata": {
        "id": "-76yyPho4q77",
        "colab": {
          "base_uri": "https://localhost:8080/",
          "height": 237
        },
        "outputId": "48c24311-d3bb-4f80-9625-c611dbc611cd"
      },
      "source": [
        "# -- get the total non-white stopped persons (NOTE: IT'S IMPORTANT THAT WE HAVE\n",
        "#    EXCLUDED THE \"UNKNOWN\" CATEGORY)\n",
        "print(rind[:6])\n",
        "\n",
        "cbr17[\"OBJECTID\"].loc[\"White\"].loc[rind[:6]].sum()"
      ],
      "execution_count": 48,
      "outputs": [
        {
          "output_type": "stream",
          "name": "stdout",
          "text": [
            "Index(['Asian', 'Black', 'East African', 'Latino', 'Native American', 'Other'], dtype='object', name='race')\n"
          ]
        },
        {
          "output_type": "error",
          "ename": "IndexError",
          "evalue": "ignored",
          "traceback": [
            "\u001b[0;31m---------------------------------------------------------------------------\u001b[0m",
            "\u001b[0;31mIndexError\u001b[0m                                Traceback (most recent call last)",
            "\u001b[0;32m<ipython-input-48-3a14fdb7d83f>\u001b[0m in \u001b[0;36m<cell line: 5>\u001b[0;34m()\u001b[0m\n\u001b[1;32m      3\u001b[0m \u001b[0mprint\u001b[0m\u001b[0;34m(\u001b[0m\u001b[0mrind\u001b[0m\u001b[0;34m[\u001b[0m\u001b[0;34m:\u001b[0m\u001b[0;36m6\u001b[0m\u001b[0;34m]\u001b[0m\u001b[0;34m)\u001b[0m\u001b[0;34m\u001b[0m\u001b[0;34m\u001b[0m\u001b[0m\n\u001b[1;32m      4\u001b[0m \u001b[0;34m\u001b[0m\u001b[0m\n\u001b[0;32m----> 5\u001b[0;31m \u001b[0mcbr17\u001b[0m\u001b[0;34m[\u001b[0m\u001b[0;34m\"OBJECTID\"\u001b[0m\u001b[0;34m]\u001b[0m\u001b[0;34m.\u001b[0m\u001b[0mloc\u001b[0m\u001b[0;34m[\u001b[0m\u001b[0;34m\"White\"\u001b[0m\u001b[0;34m]\u001b[0m\u001b[0;34m[\u001b[0m\u001b[0mrind\u001b[0m\u001b[0;34m[\u001b[0m\u001b[0;34m:\u001b[0m\u001b[0;36m6\u001b[0m\u001b[0;34m]\u001b[0m\u001b[0;34m]\u001b[0m\u001b[0;34m.\u001b[0m\u001b[0msum\u001b[0m\u001b[0;34m(\u001b[0m\u001b[0;34m)\u001b[0m\u001b[0;34m\u001b[0m\u001b[0;34m\u001b[0m\u001b[0m\n\u001b[0m",
            "\u001b[0;31mIndexError\u001b[0m: invalid index to scalar variable."
          ]
        }
      ]
    },
    {
      "cell_type": "code",
      "metadata": {
        "id": "oIELzovE4j3r"
      },
      "source": [
        "# -- print out the results\n",
        "print(\"total number of stops with white subject     : {0}\".format(nstop_wht))\n",
        "print(\"total number of stops with non-white subject : {0}\".format(nstop_poc))"
      ],
      "execution_count": null,
      "outputs": []
    },
    {
      "cell_type": "markdown",
      "metadata": {
        "id": "ExWgCvaq4lAM"
      },
      "source": [
        "---"
      ]
    },
    {
      "cell_type": "markdown",
      "metadata": {
        "id": "iJx5n8bn6qN5"
      },
      "source": [
        "### **Data Wrangling Part 3: putting it all together**"
      ]
    },
    {
      "cell_type": "markdown",
      "metadata": {
        "id": "teSecAdv6uOs"
      },
      "source": [
        "We now have the total number of stops for white subjects and subjects of color.  What remains is to get the total number of searches for each group.  We can do this by combining these grouping and indexing operations.\n",
        "\n",
        "First, we should ***always*** make sure we understand the possible values of categorical data,"
      ]
    },
    {
      "cell_type": "code",
      "metadata": {
        "id": "k6V19WYEb7pr"
      },
      "source": [
        "# -- check unique values\n"
      ],
      "execution_count": null,
      "outputs": []
    },
    {
      "cell_type": "code",
      "metadata": {
        "id": "Y2OuicDn8PnY"
      },
      "source": [
        "# -- create a new data frame with only YES for personSearched or vehicleSearched\n",
        "psrch =\n",
        "vsrch =\n",
        "searched17 ="
      ],
      "execution_count": null,
      "outputs": []
    },
    {
      "cell_type": "code",
      "metadata": {
        "id": "T9dDlT1K85wB"
      },
      "source": [
        "# -- we can group and count exactly as we did with the full DataFrame to count\n",
        "#    the total number of searched persons by race.\n",
        "\n",
        "# -- make searched counts by race DataFrame\n",
        "sbr17 =\n",
        "\n",
        "# -- get the total number of searched white persons (nb, we know that OBJECTID\n",
        "#    has no NaN values)\n",
        "nsearch_wht =\n",
        "\n",
        "# -- get the total number of searched non-white persons (NOTE: IT'S IMPORTANT\n",
        "#    THAT WE HAVE EXCLUDED THE \"UNKNOWN\" CATEGORY)\n",
        "nsearch_poc ="
      ],
      "execution_count": null,
      "outputs": []
    },
    {
      "cell_type": "markdown",
      "metadata": {
        "id": "eXaS0vf2-9Uo"
      },
      "source": [
        "**And so finally, we can divide to get the ratio:**"
      ]
    },
    {
      "cell_type": "code",
      "metadata": {
        "id": "kci3fkJS_Fy9"
      },
      "source": [
        "print(\"fraction of stopped white persons that are searched    : {0:4.3}\".format(nsearch_wht / nstop_wht))\n",
        "print(\"fraction of stopped persons of color that are searched : {0:4.3}\".format(nsearch_poc / nstop_poc))"
      ],
      "execution_count": null,
      "outputs": []
    },
    {
      "cell_type": "markdown",
      "metadata": {
        "id": "w1zRzenP_iRE"
      },
      "source": [
        "*How do we interpret these results?  What caveats are there?*"
      ]
    },
    {
      "cell_type": "markdown",
      "metadata": {
        "id": "dmd1vcuw_z4d"
      },
      "source": [
        "**post script...**\n",
        "\n",
        "FWIW, we can also divide one DataFrame by another (element-wise):"
      ]
    },
    {
      "cell_type": "code",
      "source": [],
      "metadata": {
        "id": "5zsJMXeAl8V9"
      },
      "execution_count": null,
      "outputs": []
    }
  ]
}