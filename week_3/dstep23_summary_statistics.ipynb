{
  "nbformat": 4,
  "nbformat_minor": 0,
  "metadata": {
    "colab": {
      "provenance": [],
      "include_colab_link": true
    },
    "kernelspec": {
      "name": "python3",
      "display_name": "Python 3"
    },
    "language_info": {
      "name": "python"
    }
  },
  "cells": [
    {
      "cell_type": "markdown",
      "metadata": {
        "id": "view-in-github",
        "colab_type": "text"
      },
      "source": [
        "<a href=\"https://colab.research.google.com/github/ReidelVichot/DSTEP23/blob/main/week_3/dstep23_summary_statistics.ipynb\" target=\"_parent\"><img src=\"https://colab.research.google.com/assets/colab-badge.svg\" alt=\"Open In Colab\"/></a>"
      ]
    },
    {
      "cell_type": "markdown",
      "metadata": {
        "id": "5LHC78jeBlyQ"
      },
      "source": [
        "### **DSTEP23 // Summary Statistics and Distributions**\n",
        "\n",
        "*Sep 12, 2023*\n",
        "\n",
        "This notebook will introduce syntax for calculating summary statistics and visualizing distributions of data.\n",
        "\n",
        "---"
      ]
    },
    {
      "cell_type": "markdown",
      "metadata": {
        "id": "lwKZEUxCByC8"
      },
      "source": [
        "First things first, we need to access data in our Google Drive..."
      ]
    },
    {
      "cell_type": "code",
      "metadata": {
        "id": "Sk_C2uSSIr82",
        "colab": {
          "base_uri": "https://localhost:8080/"
        },
        "outputId": "d120f6a2-d475-4d07-f808-8c681d6a2f45"
      },
      "source": [
        "from google.colab import drive\n",
        "drive.mount(\"/content/drive\")"
      ],
      "execution_count": 1,
      "outputs": [
        {
          "output_type": "stream",
          "name": "stdout",
          "text": [
            "Mounted at /content/drive\n"
          ]
        }
      ]
    },
    {
      "cell_type": "markdown",
      "metadata": {
        "id": "LLLo2_vEB2La"
      },
      "source": [
        "---"
      ]
    },
    {
      "cell_type": "code",
      "source": [
        "import pandas as pd\n",
        "import numpy as np\n",
        "import matplotlib.pyplot as plt\n"
      ],
      "metadata": {
        "id": "ndpYdvToPOZg"
      },
      "execution_count": 5,
      "outputs": []
    },
    {
      "cell_type": "code",
      "metadata": {
        "id": "osHVJp4zKXBD"
      },
      "source": [
        "fname = \"/content/drive/Shareddrives/dstep23/data/nycdpr/nycdpr_properties.csv\""
      ],
      "execution_count": 2,
      "outputs": []
    },
    {
      "cell_type": "code",
      "source": [
        "data = pd.read_csv(fname)"
      ],
      "metadata": {
        "id": "ts9r7T2dO_gb"
      },
      "execution_count": 6,
      "outputs": []
    },
    {
      "cell_type": "code",
      "source": [
        "data"
      ],
      "metadata": {
        "colab": {
          "base_uri": "https://localhost:8080/",
          "height": 808
        },
        "id": "hFtJ18TJPeON",
        "outputId": "c4f09ca0-ee2e-4f75-e3dc-1a64a0b0392f"
      },
      "execution_count": 7,
      "outputs": [
        {
          "output_type": "execute_result",
          "data": {
            "text/plain": [
              "                  ACQUISITIONDATE    ACRES                    ADDRESS BOROUGH  \\\n",
              "0                             NaN  358.000      196-10 UNION TURNPIKE       Q   \n",
              "1     1994-08-19 00:00:00.0000000   18.768  20-15 CROSS BAY BOULEVARD       Q   \n",
              "2     1935-10-16 00:00:00.0000000    8.972                        NaN       X   \n",
              "3     1999-07-12 00:00:00.0000000    0.478               152 AVENUE C       M   \n",
              "4     1963-07-08 00:00:00.0000000    1.280       880 UNDERHILL AVENUE       X   \n",
              "...                           ...      ...                        ...     ...   \n",
              "2019  1936-08-21 00:00:00.0000000    1.815   1148 REV JAMES POLITE Av       X   \n",
              "2020  1953-05-14 00:00:00.0000000    1.359                        NaN       X   \n",
              "2021  1957-02-28 00:00:00.0000000    0.703         121 ADELPHI STREET       B   \n",
              "2022  1946-05-01 00:00:00.0000000    0.626        68 COLUMBIA HEIGHTS       B   \n",
              "2023                          NaN    1.429                        NaN       Q   \n",
              "\n",
              "     CLASS               COMMISSIONDATE COMMUNITYBOARD  COUNCILDISTRICT  \\\n",
              "0     PARK                          NaN            408               23   \n",
              "1     PARK  2009-04-23 00:00:00.0000000            414               32   \n",
              "2     PARK  2010-01-06 00:00:00.0000000            208               11   \n",
              "3     PARK  2010-01-06 00:00:00.0000000            103                2   \n",
              "4     PARK  2010-01-06 00:00:00.0000000            209               18   \n",
              "...    ...                          ...            ...              ...   \n",
              "2019  PARK  2010-01-06 00:00:00.0000000            202               17   \n",
              "2020  PARK  2010-01-06 00:00:00.0000000            206               17   \n",
              "2021  PARK  2010-01-06 00:00:00.0000000            302               35   \n",
              "2022  PARK  2010-01-06 00:00:00.0000000            302               33   \n",
              "2023  PARK                          NaN            411               19   \n",
              "\n",
              "     DEPARTMENT                        EAPPLY  ...  PRECINCT RETIRED  \\\n",
              "0          Q-08               Cunningham Park  ...     107.0   False   \n",
              "1          Q-14   Broad Channel American Park  ...     100.0   False   \n",
              "2          X-08             Henry Hudson Park  ...      50.0   False   \n",
              "3          M-03  9th St Community Garden Park  ...       9.0   False   \n",
              "4          X-09         Space Time Playground  ...      43.0   False   \n",
              "...         ...                           ...  ...       ...     ...   \n",
              "2019       X-02       Rev J Polite Playground  ...      41.0   False   \n",
              "2020       X-06   Admiral Farragut Playground  ...      48.0   False   \n",
              "2021       B-02     Oracle Playground (PS 46)  ...      88.0   False   \n",
              "2022       B-02                   Squibb Park  ...      84.0   False   \n",
              "2023       Q-11           Mall Forty Two XLII  ...     111.0   False   \n",
              "\n",
              "                          SIGNNAME                 SUBCATEGORY  \\\n",
              "0                  Cunningham Park                  Large Park   \n",
              "1      Broad Channel American Park                  Large Park   \n",
              "2                Henry Hudson Park                  Large Park   \n",
              "3     9th St Community Garden Park                  Greenthumb   \n",
              "4            Space Time Playground                         JOP   \n",
              "...                            ...                         ...   \n",
              "2019       Rev J Polite Playground                         JOP   \n",
              "2020   Admiral Farragut Playground           Neighborhood Plgd   \n",
              "2021             Oracle Playground                         JOP   \n",
              "2022                   Squibb Park           Neighborhood Park   \n",
              "2023           Mall Forty Two XLII  Sitting Area/Triangle/Mall   \n",
              "\n",
              "                     TYPECATEGORY                                      URL  \\\n",
              "0                   Flagship Park   http://www.nycgovparks.org/parks/Q021/   \n",
              "1         Recreation Field/Courts   http://www.nycgovparks.org/parks/Q467/   \n",
              "2               Neighborhood Park   http://www.nycgovparks.org/parks/X080/   \n",
              "3                          Garden   http://www.nycgovparks.org/parks/M312/   \n",
              "4     Jointly Operated Playground   http://www.nycgovparks.org/parks/X221/   \n",
              "...                           ...                                      ...   \n",
              "2019  Jointly Operated Playground   http://www.nycgovparks.org/parks/X116/   \n",
              "2020                   Playground  http://www.nycgovparks.org/parks/X148H/   \n",
              "2021  Jointly Operated Playground   http://www.nycgovparks.org/parks/B300/   \n",
              "2022            Neighborhood Park  http://www.nycgovparks.org/parks/B223F/   \n",
              "2023                         Mall   http://www.nycgovparks.org/parks/Q178/   \n",
              "\n",
              "     US_CONGRESS  WATERFRONT          ZIPCODE  \\\n",
              "0            6.0       False  113641142311427   \n",
              "1            5.0        True            11693   \n",
              "2           16.0       False            10463   \n",
              "3           12.0       False            10009   \n",
              "4           15.0       False            10473   \n",
              "...          ...         ...              ...   \n",
              "2019        15.0       False            10459   \n",
              "2020        15.0       False            10457   \n",
              "2021         8.0       False            11205   \n",
              "2022         7.0       False            11201   \n",
              "2023         6.0       False            11361   \n",
              "\n",
              "                                           multipolygon  \n",
              "0     MULTIPOLYGON (((-73.77465896635127 40.72441052...  \n",
              "1     MULTIPOLYGON (((-73.82090383591581 40.59881280...  \n",
              "2     MULTIPOLYGON (((-73.91974259523117 40.88058808...  \n",
              "3     MULTIPOLYGON (((-73.97752231492505 40.72569023...  \n",
              "4     MULTIPOLYGON (((-73.85944191946082 40.82199019...  \n",
              "...                                                 ...  \n",
              "2019  MULTIPOLYGON (((-73.89615856782297 40.82745647...  \n",
              "2020  MULTIPOLYGON (((-73.89199831529538 40.84342954...  \n",
              "2021  MULTIPOLYGON (((-73.97111544179398 40.69376112...  \n",
              "2022  MULTIPOLYGON (((-73.9950993695748 40.701042132...  \n",
              "2023  MULTIPOLYGON (((-73.77450857177826 40.76199355...  \n",
              "\n",
              "[2024 rows x 36 columns]"
            ],
            "text/html": [
              "\n",
              "  <div id=\"df-55fa6353-53a2-48a3-9fdc-d170069c7b40\" class=\"colab-df-container\">\n",
              "    <div>\n",
              "<style scoped>\n",
              "    .dataframe tbody tr th:only-of-type {\n",
              "        vertical-align: middle;\n",
              "    }\n",
              "\n",
              "    .dataframe tbody tr th {\n",
              "        vertical-align: top;\n",
              "    }\n",
              "\n",
              "    .dataframe thead th {\n",
              "        text-align: right;\n",
              "    }\n",
              "</style>\n",
              "<table border=\"1\" class=\"dataframe\">\n",
              "  <thead>\n",
              "    <tr style=\"text-align: right;\">\n",
              "      <th></th>\n",
              "      <th>ACQUISITIONDATE</th>\n",
              "      <th>ACRES</th>\n",
              "      <th>ADDRESS</th>\n",
              "      <th>BOROUGH</th>\n",
              "      <th>CLASS</th>\n",
              "      <th>COMMISSIONDATE</th>\n",
              "      <th>COMMUNITYBOARD</th>\n",
              "      <th>COUNCILDISTRICT</th>\n",
              "      <th>DEPARTMENT</th>\n",
              "      <th>EAPPLY</th>\n",
              "      <th>...</th>\n",
              "      <th>PRECINCT</th>\n",
              "      <th>RETIRED</th>\n",
              "      <th>SIGNNAME</th>\n",
              "      <th>SUBCATEGORY</th>\n",
              "      <th>TYPECATEGORY</th>\n",
              "      <th>URL</th>\n",
              "      <th>US_CONGRESS</th>\n",
              "      <th>WATERFRONT</th>\n",
              "      <th>ZIPCODE</th>\n",
              "      <th>multipolygon</th>\n",
              "    </tr>\n",
              "  </thead>\n",
              "  <tbody>\n",
              "    <tr>\n",
              "      <th>0</th>\n",
              "      <td>NaN</td>\n",
              "      <td>358.000</td>\n",
              "      <td>196-10 UNION TURNPIKE</td>\n",
              "      <td>Q</td>\n",
              "      <td>PARK</td>\n",
              "      <td>NaN</td>\n",
              "      <td>408</td>\n",
              "      <td>23</td>\n",
              "      <td>Q-08</td>\n",
              "      <td>Cunningham Park</td>\n",
              "      <td>...</td>\n",
              "      <td>107.0</td>\n",
              "      <td>False</td>\n",
              "      <td>Cunningham Park</td>\n",
              "      <td>Large Park</td>\n",
              "      <td>Flagship Park</td>\n",
              "      <td>http://www.nycgovparks.org/parks/Q021/</td>\n",
              "      <td>6.0</td>\n",
              "      <td>False</td>\n",
              "      <td>113641142311427</td>\n",
              "      <td>MULTIPOLYGON (((-73.77465896635127 40.72441052...</td>\n",
              "    </tr>\n",
              "    <tr>\n",
              "      <th>1</th>\n",
              "      <td>1994-08-19 00:00:00.0000000</td>\n",
              "      <td>18.768</td>\n",
              "      <td>20-15 CROSS BAY BOULEVARD</td>\n",
              "      <td>Q</td>\n",
              "      <td>PARK</td>\n",
              "      <td>2009-04-23 00:00:00.0000000</td>\n",
              "      <td>414</td>\n",
              "      <td>32</td>\n",
              "      <td>Q-14</td>\n",
              "      <td>Broad Channel American Park</td>\n",
              "      <td>...</td>\n",
              "      <td>100.0</td>\n",
              "      <td>False</td>\n",
              "      <td>Broad Channel American Park</td>\n",
              "      <td>Large Park</td>\n",
              "      <td>Recreation Field/Courts</td>\n",
              "      <td>http://www.nycgovparks.org/parks/Q467/</td>\n",
              "      <td>5.0</td>\n",
              "      <td>True</td>\n",
              "      <td>11693</td>\n",
              "      <td>MULTIPOLYGON (((-73.82090383591581 40.59881280...</td>\n",
              "    </tr>\n",
              "    <tr>\n",
              "      <th>2</th>\n",
              "      <td>1935-10-16 00:00:00.0000000</td>\n",
              "      <td>8.972</td>\n",
              "      <td>NaN</td>\n",
              "      <td>X</td>\n",
              "      <td>PARK</td>\n",
              "      <td>2010-01-06 00:00:00.0000000</td>\n",
              "      <td>208</td>\n",
              "      <td>11</td>\n",
              "      <td>X-08</td>\n",
              "      <td>Henry Hudson Park</td>\n",
              "      <td>...</td>\n",
              "      <td>50.0</td>\n",
              "      <td>False</td>\n",
              "      <td>Henry Hudson Park</td>\n",
              "      <td>Large Park</td>\n",
              "      <td>Neighborhood Park</td>\n",
              "      <td>http://www.nycgovparks.org/parks/X080/</td>\n",
              "      <td>16.0</td>\n",
              "      <td>False</td>\n",
              "      <td>10463</td>\n",
              "      <td>MULTIPOLYGON (((-73.91974259523117 40.88058808...</td>\n",
              "    </tr>\n",
              "    <tr>\n",
              "      <th>3</th>\n",
              "      <td>1999-07-12 00:00:00.0000000</td>\n",
              "      <td>0.478</td>\n",
              "      <td>152 AVENUE C</td>\n",
              "      <td>M</td>\n",
              "      <td>PARK</td>\n",
              "      <td>2010-01-06 00:00:00.0000000</td>\n",
              "      <td>103</td>\n",
              "      <td>2</td>\n",
              "      <td>M-03</td>\n",
              "      <td>9th St Community Garden Park</td>\n",
              "      <td>...</td>\n",
              "      <td>9.0</td>\n",
              "      <td>False</td>\n",
              "      <td>9th St Community Garden Park</td>\n",
              "      <td>Greenthumb</td>\n",
              "      <td>Garden</td>\n",
              "      <td>http://www.nycgovparks.org/parks/M312/</td>\n",
              "      <td>12.0</td>\n",
              "      <td>False</td>\n",
              "      <td>10009</td>\n",
              "      <td>MULTIPOLYGON (((-73.97752231492505 40.72569023...</td>\n",
              "    </tr>\n",
              "    <tr>\n",
              "      <th>4</th>\n",
              "      <td>1963-07-08 00:00:00.0000000</td>\n",
              "      <td>1.280</td>\n",
              "      <td>880 UNDERHILL AVENUE</td>\n",
              "      <td>X</td>\n",
              "      <td>PARK</td>\n",
              "      <td>2010-01-06 00:00:00.0000000</td>\n",
              "      <td>209</td>\n",
              "      <td>18</td>\n",
              "      <td>X-09</td>\n",
              "      <td>Space Time Playground</td>\n",
              "      <td>...</td>\n",
              "      <td>43.0</td>\n",
              "      <td>False</td>\n",
              "      <td>Space Time Playground</td>\n",
              "      <td>JOP</td>\n",
              "      <td>Jointly Operated Playground</td>\n",
              "      <td>http://www.nycgovparks.org/parks/X221/</td>\n",
              "      <td>15.0</td>\n",
              "      <td>False</td>\n",
              "      <td>10473</td>\n",
              "      <td>MULTIPOLYGON (((-73.85944191946082 40.82199019...</td>\n",
              "    </tr>\n",
              "    <tr>\n",
              "      <th>...</th>\n",
              "      <td>...</td>\n",
              "      <td>...</td>\n",
              "      <td>...</td>\n",
              "      <td>...</td>\n",
              "      <td>...</td>\n",
              "      <td>...</td>\n",
              "      <td>...</td>\n",
              "      <td>...</td>\n",
              "      <td>...</td>\n",
              "      <td>...</td>\n",
              "      <td>...</td>\n",
              "      <td>...</td>\n",
              "      <td>...</td>\n",
              "      <td>...</td>\n",
              "      <td>...</td>\n",
              "      <td>...</td>\n",
              "      <td>...</td>\n",
              "      <td>...</td>\n",
              "      <td>...</td>\n",
              "      <td>...</td>\n",
              "      <td>...</td>\n",
              "    </tr>\n",
              "    <tr>\n",
              "      <th>2019</th>\n",
              "      <td>1936-08-21 00:00:00.0000000</td>\n",
              "      <td>1.815</td>\n",
              "      <td>1148 REV JAMES POLITE Av</td>\n",
              "      <td>X</td>\n",
              "      <td>PARK</td>\n",
              "      <td>2010-01-06 00:00:00.0000000</td>\n",
              "      <td>202</td>\n",
              "      <td>17</td>\n",
              "      <td>X-02</td>\n",
              "      <td>Rev J Polite Playground</td>\n",
              "      <td>...</td>\n",
              "      <td>41.0</td>\n",
              "      <td>False</td>\n",
              "      <td>Rev J Polite Playground</td>\n",
              "      <td>JOP</td>\n",
              "      <td>Jointly Operated Playground</td>\n",
              "      <td>http://www.nycgovparks.org/parks/X116/</td>\n",
              "      <td>15.0</td>\n",
              "      <td>False</td>\n",
              "      <td>10459</td>\n",
              "      <td>MULTIPOLYGON (((-73.89615856782297 40.82745647...</td>\n",
              "    </tr>\n",
              "    <tr>\n",
              "      <th>2020</th>\n",
              "      <td>1953-05-14 00:00:00.0000000</td>\n",
              "      <td>1.359</td>\n",
              "      <td>NaN</td>\n",
              "      <td>X</td>\n",
              "      <td>PARK</td>\n",
              "      <td>2010-01-06 00:00:00.0000000</td>\n",
              "      <td>206</td>\n",
              "      <td>17</td>\n",
              "      <td>X-06</td>\n",
              "      <td>Admiral Farragut Playground</td>\n",
              "      <td>...</td>\n",
              "      <td>48.0</td>\n",
              "      <td>False</td>\n",
              "      <td>Admiral Farragut Playground</td>\n",
              "      <td>Neighborhood Plgd</td>\n",
              "      <td>Playground</td>\n",
              "      <td>http://www.nycgovparks.org/parks/X148H/</td>\n",
              "      <td>15.0</td>\n",
              "      <td>False</td>\n",
              "      <td>10457</td>\n",
              "      <td>MULTIPOLYGON (((-73.89199831529538 40.84342954...</td>\n",
              "    </tr>\n",
              "    <tr>\n",
              "      <th>2021</th>\n",
              "      <td>1957-02-28 00:00:00.0000000</td>\n",
              "      <td>0.703</td>\n",
              "      <td>121 ADELPHI STREET</td>\n",
              "      <td>B</td>\n",
              "      <td>PARK</td>\n",
              "      <td>2010-01-06 00:00:00.0000000</td>\n",
              "      <td>302</td>\n",
              "      <td>35</td>\n",
              "      <td>B-02</td>\n",
              "      <td>Oracle Playground (PS 46)</td>\n",
              "      <td>...</td>\n",
              "      <td>88.0</td>\n",
              "      <td>False</td>\n",
              "      <td>Oracle Playground</td>\n",
              "      <td>JOP</td>\n",
              "      <td>Jointly Operated Playground</td>\n",
              "      <td>http://www.nycgovparks.org/parks/B300/</td>\n",
              "      <td>8.0</td>\n",
              "      <td>False</td>\n",
              "      <td>11205</td>\n",
              "      <td>MULTIPOLYGON (((-73.97111544179398 40.69376112...</td>\n",
              "    </tr>\n",
              "    <tr>\n",
              "      <th>2022</th>\n",
              "      <td>1946-05-01 00:00:00.0000000</td>\n",
              "      <td>0.626</td>\n",
              "      <td>68 COLUMBIA HEIGHTS</td>\n",
              "      <td>B</td>\n",
              "      <td>PARK</td>\n",
              "      <td>2010-01-06 00:00:00.0000000</td>\n",
              "      <td>302</td>\n",
              "      <td>33</td>\n",
              "      <td>B-02</td>\n",
              "      <td>Squibb Park</td>\n",
              "      <td>...</td>\n",
              "      <td>84.0</td>\n",
              "      <td>False</td>\n",
              "      <td>Squibb Park</td>\n",
              "      <td>Neighborhood Park</td>\n",
              "      <td>Neighborhood Park</td>\n",
              "      <td>http://www.nycgovparks.org/parks/B223F/</td>\n",
              "      <td>7.0</td>\n",
              "      <td>False</td>\n",
              "      <td>11201</td>\n",
              "      <td>MULTIPOLYGON (((-73.9950993695748 40.701042132...</td>\n",
              "    </tr>\n",
              "    <tr>\n",
              "      <th>2023</th>\n",
              "      <td>NaN</td>\n",
              "      <td>1.429</td>\n",
              "      <td>NaN</td>\n",
              "      <td>Q</td>\n",
              "      <td>PARK</td>\n",
              "      <td>NaN</td>\n",
              "      <td>411</td>\n",
              "      <td>19</td>\n",
              "      <td>Q-11</td>\n",
              "      <td>Mall Forty Two XLII</td>\n",
              "      <td>...</td>\n",
              "      <td>111.0</td>\n",
              "      <td>False</td>\n",
              "      <td>Mall Forty Two XLII</td>\n",
              "      <td>Sitting Area/Triangle/Mall</td>\n",
              "      <td>Mall</td>\n",
              "      <td>http://www.nycgovparks.org/parks/Q178/</td>\n",
              "      <td>6.0</td>\n",
              "      <td>False</td>\n",
              "      <td>11361</td>\n",
              "      <td>MULTIPOLYGON (((-73.77450857177826 40.76199355...</td>\n",
              "    </tr>\n",
              "  </tbody>\n",
              "</table>\n",
              "<p>2024 rows × 36 columns</p>\n",
              "</div>\n",
              "    <div class=\"colab-df-buttons\">\n",
              "\n",
              "  <div class=\"colab-df-container\">\n",
              "    <button class=\"colab-df-convert\" onclick=\"convertToInteractive('df-55fa6353-53a2-48a3-9fdc-d170069c7b40')\"\n",
              "            title=\"Convert this dataframe to an interactive table.\"\n",
              "            style=\"display:none;\">\n",
              "\n",
              "  <svg xmlns=\"http://www.w3.org/2000/svg\" height=\"24px\" viewBox=\"0 -960 960 960\">\n",
              "    <path d=\"M120-120v-720h720v720H120Zm60-500h600v-160H180v160Zm220 220h160v-160H400v160Zm0 220h160v-160H400v160ZM180-400h160v-160H180v160Zm440 0h160v-160H620v160ZM180-180h160v-160H180v160Zm440 0h160v-160H620v160Z\"/>\n",
              "  </svg>\n",
              "    </button>\n",
              "\n",
              "  <style>\n",
              "    .colab-df-container {\n",
              "      display:flex;\n",
              "      gap: 12px;\n",
              "    }\n",
              "\n",
              "    .colab-df-convert {\n",
              "      background-color: #E8F0FE;\n",
              "      border: none;\n",
              "      border-radius: 50%;\n",
              "      cursor: pointer;\n",
              "      display: none;\n",
              "      fill: #1967D2;\n",
              "      height: 32px;\n",
              "      padding: 0 0 0 0;\n",
              "      width: 32px;\n",
              "    }\n",
              "\n",
              "    .colab-df-convert:hover {\n",
              "      background-color: #E2EBFA;\n",
              "      box-shadow: 0px 1px 2px rgba(60, 64, 67, 0.3), 0px 1px 3px 1px rgba(60, 64, 67, 0.15);\n",
              "      fill: #174EA6;\n",
              "    }\n",
              "\n",
              "    .colab-df-buttons div {\n",
              "      margin-bottom: 4px;\n",
              "    }\n",
              "\n",
              "    [theme=dark] .colab-df-convert {\n",
              "      background-color: #3B4455;\n",
              "      fill: #D2E3FC;\n",
              "    }\n",
              "\n",
              "    [theme=dark] .colab-df-convert:hover {\n",
              "      background-color: #434B5C;\n",
              "      box-shadow: 0px 1px 3px 1px rgba(0, 0, 0, 0.15);\n",
              "      filter: drop-shadow(0px 1px 2px rgba(0, 0, 0, 0.3));\n",
              "      fill: #FFFFFF;\n",
              "    }\n",
              "  </style>\n",
              "\n",
              "    <script>\n",
              "      const buttonEl =\n",
              "        document.querySelector('#df-55fa6353-53a2-48a3-9fdc-d170069c7b40 button.colab-df-convert');\n",
              "      buttonEl.style.display =\n",
              "        google.colab.kernel.accessAllowed ? 'block' : 'none';\n",
              "\n",
              "      async function convertToInteractive(key) {\n",
              "        const element = document.querySelector('#df-55fa6353-53a2-48a3-9fdc-d170069c7b40');\n",
              "        const dataTable =\n",
              "          await google.colab.kernel.invokeFunction('convertToInteractive',\n",
              "                                                    [key], {});\n",
              "        if (!dataTable) return;\n",
              "\n",
              "        const docLinkHtml = 'Like what you see? Visit the ' +\n",
              "          '<a target=\"_blank\" href=https://colab.research.google.com/notebooks/data_table.ipynb>data table notebook</a>'\n",
              "          + ' to learn more about interactive tables.';\n",
              "        element.innerHTML = '';\n",
              "        dataTable['output_type'] = 'display_data';\n",
              "        await google.colab.output.renderOutput(dataTable, element);\n",
              "        const docLink = document.createElement('div');\n",
              "        docLink.innerHTML = docLinkHtml;\n",
              "        element.appendChild(docLink);\n",
              "      }\n",
              "    </script>\n",
              "  </div>\n",
              "\n",
              "\n",
              "<div id=\"df-480c529f-7df4-4893-a1f1-bf218cea6a5a\">\n",
              "  <button class=\"colab-df-quickchart\" onclick=\"quickchart('df-480c529f-7df4-4893-a1f1-bf218cea6a5a')\"\n",
              "            title=\"Suggest charts.\"\n",
              "            style=\"display:none;\">\n",
              "\n",
              "<svg xmlns=\"http://www.w3.org/2000/svg\" height=\"24px\"viewBox=\"0 0 24 24\"\n",
              "     width=\"24px\">\n",
              "    <g>\n",
              "        <path d=\"M19 3H5c-1.1 0-2 .9-2 2v14c0 1.1.9 2 2 2h14c1.1 0 2-.9 2-2V5c0-1.1-.9-2-2-2zM9 17H7v-7h2v7zm4 0h-2V7h2v10zm4 0h-2v-4h2v4z\"/>\n",
              "    </g>\n",
              "</svg>\n",
              "  </button>\n",
              "\n",
              "<style>\n",
              "  .colab-df-quickchart {\n",
              "      --bg-color: #E8F0FE;\n",
              "      --fill-color: #1967D2;\n",
              "      --hover-bg-color: #E2EBFA;\n",
              "      --hover-fill-color: #174EA6;\n",
              "      --disabled-fill-color: #AAA;\n",
              "      --disabled-bg-color: #DDD;\n",
              "  }\n",
              "\n",
              "  [theme=dark] .colab-df-quickchart {\n",
              "      --bg-color: #3B4455;\n",
              "      --fill-color: #D2E3FC;\n",
              "      --hover-bg-color: #434B5C;\n",
              "      --hover-fill-color: #FFFFFF;\n",
              "      --disabled-bg-color: #3B4455;\n",
              "      --disabled-fill-color: #666;\n",
              "  }\n",
              "\n",
              "  .colab-df-quickchart {\n",
              "    background-color: var(--bg-color);\n",
              "    border: none;\n",
              "    border-radius: 50%;\n",
              "    cursor: pointer;\n",
              "    display: none;\n",
              "    fill: var(--fill-color);\n",
              "    height: 32px;\n",
              "    padding: 0;\n",
              "    width: 32px;\n",
              "  }\n",
              "\n",
              "  .colab-df-quickchart:hover {\n",
              "    background-color: var(--hover-bg-color);\n",
              "    box-shadow: 0 1px 2px rgba(60, 64, 67, 0.3), 0 1px 3px 1px rgba(60, 64, 67, 0.15);\n",
              "    fill: var(--button-hover-fill-color);\n",
              "  }\n",
              "\n",
              "  .colab-df-quickchart-complete:disabled,\n",
              "  .colab-df-quickchart-complete:disabled:hover {\n",
              "    background-color: var(--disabled-bg-color);\n",
              "    fill: var(--disabled-fill-color);\n",
              "    box-shadow: none;\n",
              "  }\n",
              "\n",
              "  .colab-df-spinner {\n",
              "    border: 2px solid var(--fill-color);\n",
              "    border-color: transparent;\n",
              "    border-bottom-color: var(--fill-color);\n",
              "    animation:\n",
              "      spin 1s steps(1) infinite;\n",
              "  }\n",
              "\n",
              "  @keyframes spin {\n",
              "    0% {\n",
              "      border-color: transparent;\n",
              "      border-bottom-color: var(--fill-color);\n",
              "      border-left-color: var(--fill-color);\n",
              "    }\n",
              "    20% {\n",
              "      border-color: transparent;\n",
              "      border-left-color: var(--fill-color);\n",
              "      border-top-color: var(--fill-color);\n",
              "    }\n",
              "    30% {\n",
              "      border-color: transparent;\n",
              "      border-left-color: var(--fill-color);\n",
              "      border-top-color: var(--fill-color);\n",
              "      border-right-color: var(--fill-color);\n",
              "    }\n",
              "    40% {\n",
              "      border-color: transparent;\n",
              "      border-right-color: var(--fill-color);\n",
              "      border-top-color: var(--fill-color);\n",
              "    }\n",
              "    60% {\n",
              "      border-color: transparent;\n",
              "      border-right-color: var(--fill-color);\n",
              "    }\n",
              "    80% {\n",
              "      border-color: transparent;\n",
              "      border-right-color: var(--fill-color);\n",
              "      border-bottom-color: var(--fill-color);\n",
              "    }\n",
              "    90% {\n",
              "      border-color: transparent;\n",
              "      border-bottom-color: var(--fill-color);\n",
              "    }\n",
              "  }\n",
              "</style>\n",
              "\n",
              "  <script>\n",
              "    async function quickchart(key) {\n",
              "      const quickchartButtonEl =\n",
              "        document.querySelector('#' + key + ' button');\n",
              "      quickchartButtonEl.disabled = true;  // To prevent multiple clicks.\n",
              "      quickchartButtonEl.classList.add('colab-df-spinner');\n",
              "      try {\n",
              "        const charts = await google.colab.kernel.invokeFunction(\n",
              "            'suggestCharts', [key], {});\n",
              "      } catch (error) {\n",
              "        console.error('Error during call to suggestCharts:', error);\n",
              "      }\n",
              "      quickchartButtonEl.classList.remove('colab-df-spinner');\n",
              "      quickchartButtonEl.classList.add('colab-df-quickchart-complete');\n",
              "    }\n",
              "    (() => {\n",
              "      let quickchartButtonEl =\n",
              "        document.querySelector('#df-480c529f-7df4-4893-a1f1-bf218cea6a5a button');\n",
              "      quickchartButtonEl.style.display =\n",
              "        google.colab.kernel.accessAllowed ? 'block' : 'none';\n",
              "    })();\n",
              "  </script>\n",
              "</div>\n",
              "    </div>\n",
              "  </div>\n"
            ]
          },
          "metadata": {},
          "execution_count": 7
        }
      ]
    },
    {
      "cell_type": "code",
      "source": [
        "# --\n",
        "data[\"ACRES\"]"
      ],
      "metadata": {
        "colab": {
          "base_uri": "https://localhost:8080/"
        },
        "id": "JYkmEkZmPiWt",
        "outputId": "2543a8ac-fabf-4480-cd94-ba96a1c0a77c"
      },
      "execution_count": 11,
      "outputs": [
        {
          "output_type": "execute_result",
          "data": {
            "text/plain": [
              "0       358.000\n",
              "1        18.768\n",
              "2         8.972\n",
              "3         0.478\n",
              "4         1.280\n",
              "         ...   \n",
              "2019      1.815\n",
              "2020      1.359\n",
              "2021      0.703\n",
              "2022      0.626\n",
              "2023      1.429\n",
              "Name: ACRES, Length: 2024, dtype: float64"
            ]
          },
          "metadata": {},
          "execution_count": 11
        }
      ]
    },
    {
      "cell_type": "code",
      "source": [
        "acres = data[\"ACRES\"]"
      ],
      "metadata": {
        "id": "QOWmqdFnQBqp"
      },
      "execution_count": 12,
      "outputs": []
    },
    {
      "cell_type": "code",
      "source": [
        "acres.min(), acres.max()"
      ],
      "metadata": {
        "colab": {
          "base_uri": "https://localhost:8080/"
        },
        "id": "7MZ97YC6Qrg7",
        "outputId": "3dc83135-eba4-4e63-ca7a-55f0d1c205ce"
      },
      "execution_count": 13,
      "outputs": [
        {
          "output_type": "execute_result",
          "data": {
            "text/plain": [
              "(0.001, 2771.747)"
            ]
          },
          "metadata": {},
          "execution_count": 13
        }
      ]
    },
    {
      "cell_type": "code",
      "source": [
        "acres.mean()"
      ],
      "metadata": {
        "colab": {
          "base_uri": "https://localhost:8080/"
        },
        "id": "E58n1U4aQvp0",
        "outputId": "f7a1327a-d241-4927-9ac3-0037ffb4d648"
      },
      "execution_count": 14,
      "outputs": [
        {
          "output_type": "execute_result",
          "data": {
            "text/plain": [
              "15.205058903374509"
            ]
          },
          "metadata": {},
          "execution_count": 14
        }
      ]
    },
    {
      "cell_type": "code",
      "source": [
        " len(data)"
      ],
      "metadata": {
        "colab": {
          "base_uri": "https://localhost:8080/"
        },
        "id": "pgUR_a3WQzy7",
        "outputId": "24e9883a-e7f6-46a4-b817-b3b02305e8fe"
      },
      "execution_count": 15,
      "outputs": [
        {
          "output_type": "execute_result",
          "data": {
            "text/plain": [
              "2024"
            ]
          },
          "metadata": {},
          "execution_count": 15
        }
      ]
    },
    {
      "cell_type": "code",
      "source": [
        "acres.median()"
      ],
      "metadata": {
        "colab": {
          "base_uri": "https://localhost:8080/"
        },
        "id": "Pxd1qSdoRP6N",
        "outputId": "50f05921-f3b8-4c62-929d-61a073c0be5e"
      },
      "execution_count": 17,
      "outputs": [
        {
          "output_type": "execute_result",
          "data": {
            "text/plain": [
              "0.729"
            ]
          },
          "metadata": {},
          "execution_count": 17
        }
      ]
    },
    {
      "cell_type": "code",
      "source": [
        "avg = acres.mean()\n",
        "med = acres.median()\n",
        "\n",
        "# --  make a histogram\n",
        "fig, ax = plt.subplots(figsize = (5, 2.5))\n",
        "ax.hist(acres, bins = 100, range=[0, 100])\n",
        "\n",
        "ax.set_xlabel(\"size of park [acres]\")\n",
        "ax.set_ylabel(\"number of parks\")\n",
        "\n",
        "ax.axvline(avg, color=\"k\", label=\"mean\")\n",
        "ax.axvline(med, color=\"r\", label=\"median\")\n",
        "\n",
        "ax.legend()\n",
        "\n",
        "fig.show()"
      ],
      "metadata": {
        "colab": {
          "base_uri": "https://localhost:8080/",
          "height": 272
        },
        "id": "W7JaRDvQRZbi",
        "outputId": "3e4cd5c5-e9fb-4cb8-93d5-a60b3184340d"
      },
      "execution_count": 28,
      "outputs": [
        {
          "output_type": "display_data",
          "data": {
            "text/plain": [
              "<Figure size 500x250 with 1 Axes>"
            ],
            "image/png": "[encoded data removed]"
          },
          "metadata": {}
        }
      ]
    },
    {
      "cell_type": "code",
      "source": [
        "lacres = np.log10(acres)"
      ],
      "metadata": {
        "id": "ec0BU0iZSTaS"
      },
      "execution_count": 31,
      "outputs": []
    },
    {
      "cell_type": "code",
      "source": [
        "lavg = lacres.mean()\n",
        "lmed = lacres.median()\n",
        "\n",
        "# --  make a histogram\n",
        "fig, ax = plt.subplots(figsize = (5, 2.5))\n",
        "ax.hist(lacres, bins = 100)\n",
        "\n",
        "ax.set_xlabel(\"log10(size of park [acres])\")\n",
        "ax.set_ylabel(\"number of parks\")\n",
        "\n",
        "ax.axvline(lavg, color=\"k\", label=\"mean\")\n",
        "ax.axvline(lmed, color=\"r\", label=\"median\")\n",
        "\n",
        "ax.legend()\n",
        "\n",
        "fig.show()"
      ],
      "metadata": {
        "colab": {
          "base_uri": "https://localhost:8080/",
          "height": 272
        },
        "id": "esMTKf18ULOR",
        "outputId": "6293318b-0780-4270-8fe7-add80574945b"
      },
      "execution_count": 33,
      "outputs": [
        {
          "output_type": "display_data",
          "data": {
            "text/plain": [
              "<Figure size 500x250 with 1 Axes>"
            ],
            "image/png": "[encoded data removed]"
          },
          "metadata": {}
        }
      ]
    },
    {
      "cell_type": "code",
      "source": [
        "lacres.std()"
      ],
      "metadata": {
        "colab": {
          "base_uri": "https://localhost:8080/"
        },
        "id": "HVoaL07EVy4A",
        "outputId": "dac20a68-13d9-4854-8377-bc8bef3c04a0"
      },
      "execution_count": 34,
      "outputs": [
        {
          "output_type": "execute_result",
          "data": {
            "text/plain": [
              "0.9731399349374463"
            ]
          },
          "metadata": {},
          "execution_count": 34
        }
      ]
    },
    {
      "cell_type": "code",
      "source": [],
      "metadata": {
        "id": "9nHbTzU_V0sl"
      },
      "execution_count": null,
      "outputs": []
    }
  ]
}