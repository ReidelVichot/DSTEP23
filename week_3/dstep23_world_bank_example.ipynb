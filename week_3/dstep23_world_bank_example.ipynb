{
  "nbformat": 4,
  "nbformat_minor": 0,
  "metadata": {
    "colab": {
      "provenance": [],
      "include_colab_link": true
    },
    "kernelspec": {
      "name": "python3",
      "display_name": "Python 3"
    }
  },
  "cells": [
    {
      "cell_type": "markdown",
      "metadata": {
        "id": "view-in-github",
        "colab_type": "text"
      },
      "source": [
        "<a href=\"https://colab.research.google.com/github/ReidelVichot/DSTEP23/blob/main/week_3/dstep23_world_bank_example.ipynb\" target=\"_parent\"><img src=\"https://colab.research.google.com/assets/colab-badge.svg\" alt=\"Open In Colab\"/></a>"
      ]
    },
    {
      "cell_type": "markdown",
      "metadata": {
        "id": "s3SGmnzAJ-Qz"
      },
      "source": [
        "### **DSTEP23 // World Bank: GDP per Capita and Life Expectancy**\n",
        "\n",
        "*September 14, 2023*\n",
        "\n",
        "This notebook will explore the relationship between GDP per capita and life expectancy at birth using pre-processed$^{\\dagger}$ World Bank data.\n",
        "\n",
        "<small><i>$^{\\dagger}$ we'll look at <u>how</u> the data was pre-processed in the coming weeks. </i></small>\n",
        "\n",
        "---"
      ]
    },
    {
      "cell_type": "markdown",
      "metadata": {
        "id": "RBYA-CxOLcc7"
      },
      "source": [
        "The first step is to create the link between the virtual machine running on Google's computational platform and our Google Drive containing the data."
      ]
    },
    {
      "cell_type": "code",
      "metadata": {
        "id": "ORSLtR3BB1lf"
      },
      "source": [
        "# -- link google drive\n"
      ],
      "execution_count": null,
      "outputs": []
    },
    {
      "cell_type": "markdown",
      "source": [
        "Import useful modules:"
      ],
      "metadata": {
        "id": "NJPSo9e7BC66"
      }
    },
    {
      "cell_type": "code",
      "source": [
        "import numpy as np\n",
        "import pandas as pd\n",
        "import matplotlib.pyplot as plt"
      ],
      "metadata": {
        "id": "yVSRi3xvBFiB"
      },
      "execution_count": null,
      "outputs": []
    },
    {
      "cell_type": "markdown",
      "metadata": {
        "id": "CkcMoA6HMDHQ"
      },
      "source": [
        "Now we load the data directly into this Colaboratory python runtime using pandas."
      ]
    },
    {
      "cell_type": "code",
      "metadata": {
        "id": "rSRp1S-tCzMa"
      },
      "source": [
        "# -- read in the data\n",
        "fname =\n",
        "wb =\n",
        "\n",
        "# -- check that data was read in correctly\n",
        "print(wb.head())"
      ],
      "execution_count": null,
      "outputs": []
    },
    {
      "cell_type": "markdown",
      "metadata": {
        "id": "BMd_eNZ1NJpK"
      },
      "source": [
        "As an example of working with this DataFrame, let's sort \"in place\" by GDP per Capita in 2017 to find the lowest 5 values:"
      ]
    },
    {
      "cell_type": "code",
      "metadata": {
        "id": "jyWNez0ENJy9"
      },
      "source": [
        "# -- sort in place by GDP per Capita in 2017\n",
        "\n",
        "\n",
        "print(wb.head())"
      ],
      "execution_count": null,
      "outputs": []
    },
    {
      "cell_type": "markdown",
      "metadata": {
        "id": "P-ciFsHomJjJ"
      },
      "source": [
        "---"
      ]
    },
    {
      "cell_type": "markdown",
      "metadata": {
        "id": "341_J7dFl0ly"
      },
      "source": [
        "### **Exploring summary statistics with Pandas and NumPy**"
      ]
    },
    {
      "cell_type": "markdown",
      "metadata": {
        "id": "jdDW_S1fMa-j"
      },
      "source": [
        "Let's look at some summary statistics for the data.  Pandas DataFrames have a \"describe\" method:"
      ]
    },
    {
      "cell_type": "code",
      "metadata": {
        "id": "UfTYdJDlMogF"
      },
      "source": [
        "# -- summarize the DataFrame using the describe method\n"
      ],
      "execution_count": null,
      "outputs": []
    },
    {
      "cell_type": "markdown",
      "metadata": {
        "id": "_-DKvB-6VKCc"
      },
      "source": [
        "though there is not much [flexibility](https://pandas.pydata.org/pandas-docs/stable/reference/api/pandas.DataFrame.describe.html)."
      ]
    },
    {
      "cell_type": "markdown",
      "metadata": {
        "id": "Ui6E17xNMpI9"
      },
      "source": [
        "As we did with sea level, we can also visualize how one column varies with another,"
      ]
    },
    {
      "cell_type": "code",
      "metadata": {
        "id": "jP9c8imR7GbF"
      },
      "source": [
        "# -- make a scatter plot of Life Expectancy at Birth in 2017 versus GDP per\n",
        "#    Capita in 2017\n",
        "fig, ax = plt.subplots()\n",
        "\n",
        "ax.set_xlabel(\"GDP per Capita in 2017 [USD]\")\n",
        "ax.set_ylabel(\"Life Expectancy at Birth in 2017 [years]\")\n",
        "fig.show()"
      ],
      "execution_count": null,
      "outputs": []
    },
    {
      "cell_type": "markdown",
      "metadata": {
        "id": "g7Hsngca7GkK"
      },
      "source": [
        "How would we characterize this relationship?  Linear?"
      ]
    },
    {
      "cell_type": "markdown",
      "metadata": {
        "id": "lrC-3_jN7GsF"
      },
      "source": [
        "What about a \"scatter plot\" with the log of the GDP?$^*$\n",
        "\n",
        "<small></i> $^*$ Recall that you can modify column values by using square brackets and the name of the column.  If the column does not exist in the DataFrame, the column is created. </i></small>"
      ]
    },
    {
      "cell_type": "code",
      "metadata": {
        "id": "X3XP-7i_Tqn6"
      },
      "source": [
        "# -- calculate the log of the GDP per Capita\n",
        "wb[\"log10gpc\"] ="
      ],
      "execution_count": null,
      "outputs": []
    },
    {
      "cell_type": "code",
      "metadata": {
        "id": "CANMCiJx4UrH"
      },
      "source": [
        "# -- print out the GDP per capita and the log of the GDP per capita\n",
        "cols = [\"gpc2017\", \"log10gpc\"]\n",
        "print(wb[cols])"
      ],
      "execution_count": null,
      "outputs": []
    },
    {
      "cell_type": "code",
      "metadata": {
        "id": "Sqa8aAV48oQT"
      },
      "source": [
        "# -- make a scatter plot of Life Expectancy at Birth in 2017 versus the log of\n",
        "#    GDP per Capita (in USD) in 2017\n"
      ],
      "execution_count": null,
      "outputs": []
    },
    {
      "cell_type": "markdown",
      "metadata": {
        "id": "ZzBd9hMRmHBK"
      },
      "source": [
        "---"
      ]
    },
    {
      "cell_type": "markdown",
      "metadata": {
        "id": "X6nJcayamAhc"
      },
      "source": [
        "### **Fitting a linear model to the data.**"
      ]
    },
    {
      "cell_type": "markdown",
      "metadata": {
        "id": "anTeKly88oiU"
      },
      "source": [
        "There are several ways to implement OLS in python.  Let's use the `statsmodels` module:"
      ]
    },
    {
      "cell_type": "code",
      "metadata": {
        "id": "TdFKXlmhKQrq"
      },
      "source": [
        "# -- import statmodels using the formula api\n",
        "import statsmodels.formula.api as sm"
      ],
      "execution_count": null,
      "outputs": []
    },
    {
      "cell_type": "code",
      "metadata": {
        "id": "RbI40dtxKQzh"
      },
      "source": [
        "# -- first build the model\n",
        "model =\n",
        "\n",
        "# -- now fit the model to the data\n",
        "result ="
      ],
      "execution_count": null,
      "outputs": []
    },
    {
      "cell_type": "markdown",
      "metadata": {
        "id": "HlgnOOcoLqQa"
      },
      "source": [
        "We can see a summary of how the model performs:"
      ]
    },
    {
      "cell_type": "code",
      "metadata": {
        "id": "9dsbhaKkLqH5"
      },
      "source": [
        "# -- summarize the model fit\n"
      ],
      "execution_count": null,
      "outputs": []
    },
    {
      "cell_type": "markdown",
      "metadata": {
        "id": "POH74jnJLp_4"
      },
      "source": [
        "Finally, let's determine the model \"predictions\" for the data,"
      ]
    },
    {
      "cell_type": "code",
      "metadata": {
        "id": "rofKQ3NdKQ83"
      },
      "source": [
        "# -- calculate the model \"prediction\" of Life Expectancy at Birth for each\n",
        "#    log(GDP per Capita) data point\n",
        "pred ="
      ],
      "execution_count": null,
      "outputs": []
    },
    {
      "cell_type": "markdown",
      "metadata": {
        "id": "2tUnVLpw7Gz8"
      },
      "source": [
        "and overplot the model on the data."
      ]
    },
    {
      "cell_type": "code",
      "metadata": {
        "id": "Wu1zd_o6McNO"
      },
      "source": [
        "# -- make a scatter plot of Life Expectancy at Birth in 2017 versus the log of\n",
        "#    GDP per Capita (in USD) in 2017 and overlay an OLS fit\n"
      ],
      "execution_count": null,
      "outputs": []
    },
    {
      "cell_type": "markdown",
      "metadata": {
        "id": "68SiPe1UlYen"
      },
      "source": [
        "---"
      ]
    },
    {
      "cell_type": "markdown",
      "metadata": {
        "id": "3eABpza9mNLn"
      },
      "source": [
        "### **Comparing the fit with a more complex model**"
      ]
    },
    {
      "cell_type": "markdown",
      "metadata": {
        "id": "akp4zNLkmUao"
      },
      "source": [
        "It **<i>may</i>** be that there is a slight decrease in life expectancy at birth at lower GDP per capita.  Let's try to model this with a quadratic function and compare the two models with a likelihood-ratio test."
      ]
    },
    {
      "cell_type": "markdown",
      "metadata": {
        "id": "ysL2Sd14HS1U"
      },
      "source": [
        "LINEAR model <br>\n",
        "$y = a_0 + a_1 \\cdot x$\n",
        "<br><br>\n",
        "QUADRATIC model <br>\n",
        "$y = a_0 + a_1 \\cdot x + a_2 \\cdot x^2$"
      ]
    },
    {
      "cell_type": "markdown",
      "metadata": {
        "id": "KjbiOrQjnNjq"
      },
      "source": [
        "First, we fit the quadratic model:"
      ]
    },
    {
      "cell_type": "code",
      "metadata": {
        "id": "R7nsurxcm45C"
      },
      "source": [
        "# -- build the quadratic model\n",
        "model2 =\n",
        "\n",
        "# -- now fit the model to the data\n",
        "result2 =\n",
        "\n",
        "# -- summarize the fit\n"
      ],
      "execution_count": null,
      "outputs": []
    },
    {
      "cell_type": "markdown",
      "metadata": {
        "id": "_jX2r9BNnHAf"
      },
      "source": [
        "Let's overplot the two models now,"
      ]
    },
    {
      "cell_type": "code",
      "metadata": {
        "id": "NmECi1JLn6Ow"
      },
      "source": [
        "# -- make a scatter plot of Life Expectancy at Birth in 2017 versus the log of\n",
        "#    GDP per Capita (in USD) in 2017 and overlay an OLS fit\n",
        "\n",
        "# -- predict the GDP per capita with the new model\n",
        "pred2 =\n",
        "\n",
        "# -- make the plot\n",
        "fig, ax = plt.subplots(figsize=(7, 4))\n",
        "wb.plot.scatter(\"log10gpc\", \"leb2017\", color=\"red\", ax=ax, label=\"data\")\n",
        "ax.plot(wb[\"log10gpc\"], pred, color=\"steelblue\", lw=2, label=\"linear model\")\n",
        "ax.plot(wb[\"log10gpc\"], pred2, color=\"black\", lw=2, label=\"quadratic model\")\n",
        "ax.set_xlabel(\"log(GDP per Capita in 2017 [USD])\")\n",
        "ax.set_ylabel(\"Life Expectancy at Birth in 2017 [years]\")\n",
        "ax.legend()\n",
        "fig.show()"
      ],
      "execution_count": null,
      "outputs": []
    },
    {
      "cell_type": "markdown",
      "metadata": {
        "id": "PzFJFs9PoGGQ"
      },
      "source": [
        "Does a likelihood ratio test indicate that the null hypothesis is rejected?  Because these models are \"nested\" (i.e., the first model is just a special case of the second) we can use statsmodels likelihood ratio test:"
      ]
    },
    {
      "cell_type": "code",
      "metadata": {
        "id": "rGLwMYfyo0Cn"
      },
      "source": [
        "# -- likelihood ratio test\n",
        "lr, pval, ddof =\n",
        "print(\"p-value: {0}\".format(round(pval, 3)))"
      ],
      "execution_count": null,
      "outputs": []
    },
    {
      "cell_type": "markdown",
      "metadata": {
        "id": "aLb7COSTpHhm"
      },
      "source": [
        "This p-value indicates that the null hypothesis (that a straight line is an equally good fit to the data) is **<i>not</i>** rejected.  I.e., there is no reason to include the quadratic term in the fit."
      ]
    },
    {
      "cell_type": "markdown",
      "metadata": {
        "id": "PD4xXX7No_JI"
      },
      "source": [
        "Conicidentally, we can also extrapolate the result to values outside the fit range.  Let's predict the life expectancy at birth for a country with log(GDP per capita) = 6,"
      ]
    },
    {
      "cell_type": "code",
      "source": [
        "# -- create a DataFrame for extrapolation\n",
        "df =\n",
        "df[\"log10gpc\"] ="
      ],
      "metadata": {
        "id": "WLpmP984BU9b"
      },
      "execution_count": null,
      "outputs": []
    },
    {
      "cell_type": "code",
      "metadata": {
        "id": "CsBx5Sx3pvOh"
      },
      "source": [
        "# -- predicting a value outisde the fit range\n",
        "ext =\n",
        "ext2 =\n",
        "\n",
        "print(\"linear model extrapolation:\")\n",
        "print(ext)\n",
        "\n",
        "print(\"\")\n",
        "\n",
        "print(\"quadratic model extrapolation\")\n",
        "print(ext2)"
      ],
      "execution_count": null,
      "outputs": []
    },
    {
      "cell_type": "markdown",
      "metadata": {
        "id": "xUJ_Qa_TT5nC"
      },
      "source": [
        "We can also predict at multiple values using lists:"
      ]
    },
    {
      "cell_type": "code",
      "source": [
        "# -- create a DataFrame for extrapolation\n",
        "df =\n",
        "df[\"log10gpc\"] ="
      ],
      "metadata": {
        "id": "qc8Bj8NYBggz"
      },
      "execution_count": null,
      "outputs": []
    },
    {
      "cell_type": "code",
      "metadata": {
        "id": "eikjbRxIUAjw"
      },
      "source": [
        "# -- predicting a value outisde the fit range\n",
        "extm =\n",
        "extm2 =\n",
        "\n",
        "print(\"linear model extrapolation:\")\n",
        "print(extm)\n",
        "\n",
        "print(\"\")\n",
        "\n",
        "print(\"quadratic model extrapolation\")\n",
        "print(extm2)"
      ],
      "execution_count": null,
      "outputs": []
    }
  ]
}