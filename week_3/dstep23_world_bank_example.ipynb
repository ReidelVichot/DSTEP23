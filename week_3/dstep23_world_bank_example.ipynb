{
  "nbformat": 4,
  "nbformat_minor": 0,
  "metadata": {
    "colab": {
      "provenance": [],
      "include_colab_link": true
    },
    "kernelspec": {
      "name": "python3",
      "display_name": "Python 3"
    }
  },
  "cells": [
    {
      "cell_type": "markdown",
      "metadata": {
        "id": "view-in-github",
        "colab_type": "text"
      },
      "source": [
        "<a href=\"https://colab.research.google.com/github/ReidelVichot/DSTEP23/blob/main/week_3/dstep23_world_bank_example.ipynb\" target=\"_parent\"><img src=\"https://colab.research.google.com/assets/colab-badge.svg\" alt=\"Open In Colab\"/></a>"
      ]
    },
    {
      "cell_type": "markdown",
      "metadata": {
        "id": "s3SGmnzAJ-Qz"
      },
      "source": [
        "### **DSTEP23 // World Bank: GDP per Capita and Life Expectancy**\n",
        "\n",
        "*September 14, 2023*\n",
        "\n",
        "This notebook will explore the relationship between GDP per capita and life expectancy at birth using pre-processed$^{\\dagger}$ World Bank data.\n",
        "\n",
        "<small><i>$^{\\dagger}$ we'll look at <u>how</u> the data was pre-processed in the coming weeks. </i></small>\n",
        "\n",
        "---"
      ]
    },
    {
      "cell_type": "markdown",
      "metadata": {
        "id": "RBYA-CxOLcc7"
      },
      "source": [
        "The first step is to create the link between the virtual machine running on Google's computational platform and our Google Drive containing the data."
      ]
    },
    {
      "cell_type": "code",
      "metadata": {
        "id": "ORSLtR3BB1lf"
      },
      "source": [
        "# -- link google drive\n",
        "#I am not doing it because I saved the dataset on GitHub\n",
        "#from google.colab import drive\n",
        "#drive.mount(\"/content/drive\")"
      ],
      "execution_count": 1,
      "outputs": []
    },
    {
      "cell_type": "markdown",
      "source": [
        "Import useful modules:"
      ],
      "metadata": {
        "id": "NJPSo9e7BC66"
      }
    },
    {
      "cell_type": "code",
      "source": [
        "import numpy as np\n",
        "import pandas as pd\n",
        "import matplotlib.pyplot as plt"
      ],
      "metadata": {
        "id": "yVSRi3xvBFiB"
      },
      "execution_count": 2,
      "outputs": []
    },
    {
      "cell_type": "markdown",
      "metadata": {
        "id": "CkcMoA6HMDHQ"
      },
      "source": [
        "Now we load the data directly into this Colaboratory python runtime using pandas."
      ]
    },
    {
      "cell_type": "code",
      "metadata": {
        "id": "rSRp1S-tCzMa",
        "outputId": "6b9b1cb8-6c7b-49e9-d616-1fb892b758d8",
        "colab": {
          "base_uri": "https://localhost:8080/"
        }
      },
      "source": [
        "# -- read in the data\n",
        "fname = \"https://raw.githubusercontent.com/ReidelVichot/DSTEP23/main/data/world_bank_gdp_leb.csv\"\n",
        "wb = pd.read_csv(fname)\n",
        "\n",
        "# -- check that data was read in correctly\n",
        "print(wb.head())"
      ],
      "execution_count": 3,
      "outputs": [
        {
          "output_type": "stream",
          "name": "stdout",
          "text": [
            "                country       gdp2017  leb2017     pop2017       gpc2017\n",
            "0                 Aruba  2.700559e+09   76.010    105366.0  25630.266492\n",
            "1           Afghanistan  2.019176e+10   64.130  36296400.0    556.302139\n",
            "2                Angola  1.221238e+11   60.379  29816748.0   4095.812942\n",
            "3               Albania  1.302506e+10   78.333   2873457.0   4532.890162\n",
            "4  United Arab Emirates  3.777011e+11   77.647   9487203.0  39811.634702\n"
          ]
        }
      ]
    },
    {
      "cell_type": "markdown",
      "metadata": {
        "id": "BMd_eNZ1NJpK"
      },
      "source": [
        "As an example of working with this DataFrame, let's sort \"in place\" by GDP per Capita in 2017 to find the lowest 5 values:"
      ]
    },
    {
      "cell_type": "code",
      "metadata": {
        "id": "jyWNez0ENJy9"
      },
      "source": [
        "# -- sort in place by GDP per Capita in 2017\n",
        "wb = wb.sort_values(\"gpc2017\")\n",
        "\n",
        "#print(wb.head())"
      ],
      "execution_count": 4,
      "outputs": []
    },
    {
      "cell_type": "markdown",
      "metadata": {
        "id": "P-ciFsHomJjJ"
      },
      "source": [
        "---"
      ]
    },
    {
      "cell_type": "markdown",
      "metadata": {
        "id": "341_J7dFl0ly"
      },
      "source": [
        "### **Exploring summary statistics with Pandas and NumPy**"
      ]
    },
    {
      "cell_type": "markdown",
      "metadata": {
        "id": "jdDW_S1fMa-j"
      },
      "source": [
        "Let's look at some summary statistics for the data.  Pandas DataFrames have a \"describe\" method:"
      ]
    },
    {
      "cell_type": "code",
      "metadata": {
        "id": "UfTYdJDlMogF",
        "outputId": "e762689d-c9fa-4a29-b690-ab8de7a9edc6",
        "colab": {
          "base_uri": "https://localhost:8080/",
          "height": 300
        }
      },
      "source": [
        "# -- summarize the DataFrame using the describe method\n",
        "\n",
        "wb.describe()"
      ],
      "execution_count": 5,
      "outputs": [
        {
          "output_type": "execute_result",
          "data": {
            "text/plain": [
              "            gdp2017     leb2017       pop2017        gpc2017\n",
              "count  1.870000e+02  187.000000  1.870000e+02     187.000000\n",
              "mean   4.261212e+11   72.366306  3.956944e+07   14141.172268\n",
              "std    1.764523e+12    7.627526  1.454835e+08   19179.316988\n",
              "min    1.855725e+08   52.240000  9.542600e+04     292.997631\n",
              "25%    9.205012e+09   67.264500  2.086704e+06    1990.934934\n",
              "50%    3.792629e+10   73.992000  8.451840e+06    5646.456008\n",
              "75%    2.138045e+11   77.736915  2.824191e+07   17136.270746\n",
              "max    1.948539e+13   84.680488  1.386395e+09  107361.306947"
            ],
            "text/html": [
              "\n",
              "  <div id=\"df-19e369f8-0228-4172-b04e-81524d3b5f00\" class=\"colab-df-container\">\n",
              "    <div>\n",
              "<style scoped>\n",
              "    .dataframe tbody tr th:only-of-type {\n",
              "        vertical-align: middle;\n",
              "    }\n",
              "\n",
              "    .dataframe tbody tr th {\n",
              "        vertical-align: top;\n",
              "    }\n",
              "\n",
              "    .dataframe thead th {\n",
              "        text-align: right;\n",
              "    }\n",
              "</style>\n",
              "<table border=\"1\" class=\"dataframe\">\n",
              "  <thead>\n",
              "    <tr style=\"text-align: right;\">\n",
              "      <th></th>\n",
              "      <th>gdp2017</th>\n",
              "      <th>leb2017</th>\n",
              "      <th>pop2017</th>\n",
              "      <th>gpc2017</th>\n",
              "    </tr>\n",
              "  </thead>\n",
              "  <tbody>\n",
              "    <tr>\n",
              "      <th>count</th>\n",
              "      <td>1.870000e+02</td>\n",
              "      <td>187.000000</td>\n",
              "      <td>1.870000e+02</td>\n",
              "      <td>187.000000</td>\n",
              "    </tr>\n",
              "    <tr>\n",
              "      <th>mean</th>\n",
              "      <td>4.261212e+11</td>\n",
              "      <td>72.366306</td>\n",
              "      <td>3.956944e+07</td>\n",
              "      <td>14141.172268</td>\n",
              "    </tr>\n",
              "    <tr>\n",
              "      <th>std</th>\n",
              "      <td>1.764523e+12</td>\n",
              "      <td>7.627526</td>\n",
              "      <td>1.454835e+08</td>\n",
              "      <td>19179.316988</td>\n",
              "    </tr>\n",
              "    <tr>\n",
              "      <th>min</th>\n",
              "      <td>1.855725e+08</td>\n",
              "      <td>52.240000</td>\n",
              "      <td>9.542600e+04</td>\n",
              "      <td>292.997631</td>\n",
              "    </tr>\n",
              "    <tr>\n",
              "      <th>25%</th>\n",
              "      <td>9.205012e+09</td>\n",
              "      <td>67.264500</td>\n",
              "      <td>2.086704e+06</td>\n",
              "      <td>1990.934934</td>\n",
              "    </tr>\n",
              "    <tr>\n",
              "      <th>50%</th>\n",
              "      <td>3.792629e+10</td>\n",
              "      <td>73.992000</td>\n",
              "      <td>8.451840e+06</td>\n",
              "      <td>5646.456008</td>\n",
              "    </tr>\n",
              "    <tr>\n",
              "      <th>75%</th>\n",
              "      <td>2.138045e+11</td>\n",
              "      <td>77.736915</td>\n",
              "      <td>2.824191e+07</td>\n",
              "      <td>17136.270746</td>\n",
              "    </tr>\n",
              "    <tr>\n",
              "      <th>max</th>\n",
              "      <td>1.948539e+13</td>\n",
              "      <td>84.680488</td>\n",
              "      <td>1.386395e+09</td>\n",
              "      <td>107361.306947</td>\n",
              "    </tr>\n",
              "  </tbody>\n",
              "</table>\n",
              "</div>\n",
              "    <div class=\"colab-df-buttons\">\n",
              "\n",
              "  <div class=\"colab-df-container\">\n",
              "    <button class=\"colab-df-convert\" onclick=\"convertToInteractive('df-19e369f8-0228-4172-b04e-81524d3b5f00')\"\n",
              "            title=\"Convert this dataframe to an interactive table.\"\n",
              "            style=\"display:none;\">\n",
              "\n",
              "  <svg xmlns=\"http://www.w3.org/2000/svg\" height=\"24px\" viewBox=\"0 -960 960 960\">\n",
              "    <path d=\"M120-120v-720h720v720H120Zm60-500h600v-160H180v160Zm220 220h160v-160H400v160Zm0 220h160v-160H400v160ZM180-400h160v-160H180v160Zm440 0h160v-160H620v160ZM180-180h160v-160H180v160Zm440 0h160v-160H620v160Z\"/>\n",
              "  </svg>\n",
              "    </button>\n",
              "\n",
              "  <style>\n",
              "    .colab-df-container {\n",
              "      display:flex;\n",
              "      gap: 12px;\n",
              "    }\n",
              "\n",
              "    .colab-df-convert {\n",
              "      background-color: #E8F0FE;\n",
              "      border: none;\n",
              "      border-radius: 50%;\n",
              "      cursor: pointer;\n",
              "      display: none;\n",
              "      fill: #1967D2;\n",
              "      height: 32px;\n",
              "      padding: 0 0 0 0;\n",
              "      width: 32px;\n",
              "    }\n",
              "\n",
              "    .colab-df-convert:hover {\n",
              "      background-color: #E2EBFA;\n",
              "      box-shadow: 0px 1px 2px rgba(60, 64, 67, 0.3), 0px 1px 3px 1px rgba(60, 64, 67, 0.15);\n",
              "      fill: #174EA6;\n",
              "    }\n",
              "\n",
              "    .colab-df-buttons div {\n",
              "      margin-bottom: 4px;\n",
              "    }\n",
              "\n",
              "    [theme=dark] .colab-df-convert {\n",
              "      background-color: #3B4455;\n",
              "      fill: #D2E3FC;\n",
              "    }\n",
              "\n",
              "    [theme=dark] .colab-df-convert:hover {\n",
              "      background-color: #434B5C;\n",
              "      box-shadow: 0px 1px 3px 1px rgba(0, 0, 0, 0.15);\n",
              "      filter: drop-shadow(0px 1px 2px rgba(0, 0, 0, 0.3));\n",
              "      fill: #FFFFFF;\n",
              "    }\n",
              "  </style>\n",
              "\n",
              "    <script>\n",
              "      const buttonEl =\n",
              "        document.querySelector('#df-19e369f8-0228-4172-b04e-81524d3b5f00 button.colab-df-convert');\n",
              "      buttonEl.style.display =\n",
              "        google.colab.kernel.accessAllowed ? 'block' : 'none';\n",
              "\n",
              "      async function convertToInteractive(key) {\n",
              "        const element = document.querySelector('#df-19e369f8-0228-4172-b04e-81524d3b5f00');\n",
              "        const dataTable =\n",
              "          await google.colab.kernel.invokeFunction('convertToInteractive',\n",
              "                                                    [key], {});\n",
              "        if (!dataTable) return;\n",
              "\n",
              "        const docLinkHtml = 'Like what you see? Visit the ' +\n",
              "          '<a target=\"_blank\" href=https://colab.research.google.com/notebooks/data_table.ipynb>data table notebook</a>'\n",
              "          + ' to learn more about interactive tables.';\n",
              "        element.innerHTML = '';\n",
              "        dataTable['output_type'] = 'display_data';\n",
              "        await google.colab.output.renderOutput(dataTable, element);\n",
              "        const docLink = document.createElement('div');\n",
              "        docLink.innerHTML = docLinkHtml;\n",
              "        element.appendChild(docLink);\n",
              "      }\n",
              "    </script>\n",
              "  </div>\n",
              "\n",
              "\n",
              "<div id=\"df-756b5cd0-2ca6-45c7-bc45-c79815f5f2d9\">\n",
              "  <button class=\"colab-df-quickchart\" onclick=\"quickchart('df-756b5cd0-2ca6-45c7-bc45-c79815f5f2d9')\"\n",
              "            title=\"Suggest charts.\"\n",
              "            style=\"display:none;\">\n",
              "\n",
              "<svg xmlns=\"http://www.w3.org/2000/svg\" height=\"24px\"viewBox=\"0 0 24 24\"\n",
              "     width=\"24px\">\n",
              "    <g>\n",
              "        <path d=\"M19 3H5c-1.1 0-2 .9-2 2v14c0 1.1.9 2 2 2h14c1.1 0 2-.9 2-2V5c0-1.1-.9-2-2-2zM9 17H7v-7h2v7zm4 0h-2V7h2v10zm4 0h-2v-4h2v4z\"/>\n",
              "    </g>\n",
              "</svg>\n",
              "  </button>\n",
              "\n",
              "<style>\n",
              "  .colab-df-quickchart {\n",
              "      --bg-color: #E8F0FE;\n",
              "      --fill-color: #1967D2;\n",
              "      --hover-bg-color: #E2EBFA;\n",
              "      --hover-fill-color: #174EA6;\n",
              "      --disabled-fill-color: #AAA;\n",
              "      --disabled-bg-color: #DDD;\n",
              "  }\n",
              "\n",
              "  [theme=dark] .colab-df-quickchart {\n",
              "      --bg-color: #3B4455;\n",
              "      --fill-color: #D2E3FC;\n",
              "      --hover-bg-color: #434B5C;\n",
              "      --hover-fill-color: #FFFFFF;\n",
              "      --disabled-bg-color: #3B4455;\n",
              "      --disabled-fill-color: #666;\n",
              "  }\n",
              "\n",
              "  .colab-df-quickchart {\n",
              "    background-color: var(--bg-color);\n",
              "    border: none;\n",
              "    border-radius: 50%;\n",
              "    cursor: pointer;\n",
              "    display: none;\n",
              "    fill: var(--fill-color);\n",
              "    height: 32px;\n",
              "    padding: 0;\n",
              "    width: 32px;\n",
              "  }\n",
              "\n",
              "  .colab-df-quickchart:hover {\n",
              "    background-color: var(--hover-bg-color);\n",
              "    box-shadow: 0 1px 2px rgba(60, 64, 67, 0.3), 0 1px 3px 1px rgba(60, 64, 67, 0.15);\n",
              "    fill: var(--button-hover-fill-color);\n",
              "  }\n",
              "\n",
              "  .colab-df-quickchart-complete:disabled,\n",
              "  .colab-df-quickchart-complete:disabled:hover {\n",
              "    background-color: var(--disabled-bg-color);\n",
              "    fill: var(--disabled-fill-color);\n",
              "    box-shadow: none;\n",
              "  }\n",
              "\n",
              "  .colab-df-spinner {\n",
              "    border: 2px solid var(--fill-color);\n",
              "    border-color: transparent;\n",
              "    border-bottom-color: var(--fill-color);\n",
              "    animation:\n",
              "      spin 1s steps(1) infinite;\n",
              "  }\n",
              "\n",
              "  @keyframes spin {\n",
              "    0% {\n",
              "      border-color: transparent;\n",
              "      border-bottom-color: var(--fill-color);\n",
              "      border-left-color: var(--fill-color);\n",
              "    }\n",
              "    20% {\n",
              "      border-color: transparent;\n",
              "      border-left-color: var(--fill-color);\n",
              "      border-top-color: var(--fill-color);\n",
              "    }\n",
              "    30% {\n",
              "      border-color: transparent;\n",
              "      border-left-color: var(--fill-color);\n",
              "      border-top-color: var(--fill-color);\n",
              "      border-right-color: var(--fill-color);\n",
              "    }\n",
              "    40% {\n",
              "      border-color: transparent;\n",
              "      border-right-color: var(--fill-color);\n",
              "      border-top-color: var(--fill-color);\n",
              "    }\n",
              "    60% {\n",
              "      border-color: transparent;\n",
              "      border-right-color: var(--fill-color);\n",
              "    }\n",
              "    80% {\n",
              "      border-color: transparent;\n",
              "      border-right-color: var(--fill-color);\n",
              "      border-bottom-color: var(--fill-color);\n",
              "    }\n",
              "    90% {\n",
              "      border-color: transparent;\n",
              "      border-bottom-color: var(--fill-color);\n",
              "    }\n",
              "  }\n",
              "</style>\n",
              "\n",
              "  <script>\n",
              "    async function quickchart(key) {\n",
              "      const quickchartButtonEl =\n",
              "        document.querySelector('#' + key + ' button');\n",
              "      quickchartButtonEl.disabled = true;  // To prevent multiple clicks.\n",
              "      quickchartButtonEl.classList.add('colab-df-spinner');\n",
              "      try {\n",
              "        const charts = await google.colab.kernel.invokeFunction(\n",
              "            'suggestCharts', [key], {});\n",
              "      } catch (error) {\n",
              "        console.error('Error during call to suggestCharts:', error);\n",
              "      }\n",
              "      quickchartButtonEl.classList.remove('colab-df-spinner');\n",
              "      quickchartButtonEl.classList.add('colab-df-quickchart-complete');\n",
              "    }\n",
              "    (() => {\n",
              "      let quickchartButtonEl =\n",
              "        document.querySelector('#df-756b5cd0-2ca6-45c7-bc45-c79815f5f2d9 button');\n",
              "      quickchartButtonEl.style.display =\n",
              "        google.colab.kernel.accessAllowed ? 'block' : 'none';\n",
              "    })();\n",
              "  </script>\n",
              "</div>\n",
              "    </div>\n",
              "  </div>\n"
            ]
          },
          "metadata": {},
          "execution_count": 5
        }
      ]
    },
    {
      "cell_type": "markdown",
      "metadata": {
        "id": "_-DKvB-6VKCc"
      },
      "source": [
        "though there is not much [flexibility](https://pandas.pydata.org/pandas-docs/stable/reference/api/pandas.DataFrame.describe.html)."
      ]
    },
    {
      "cell_type": "markdown",
      "metadata": {
        "id": "Ui6E17xNMpI9"
      },
      "source": [
        "As we did with sea level, we can also visualize how one column varies with another,"
      ]
    },
    {
      "cell_type": "code",
      "metadata": {
        "id": "jP9c8imR7GbF",
        "outputId": "88c6cecf-a19e-4214-99b6-080b3c8184d6",
        "colab": {
          "base_uri": "https://localhost:8080/",
          "height": 449
        }
      },
      "source": [
        "# -- make a scatter plot of Life Expectancy at Birth in 2017 versus GDP per\n",
        "#    Capita in 2017\n",
        "fig, ax = plt.subplots()\n",
        "wb.plot(\"gpc2017\", \"leb2017\", kind=\"scatter\", ax=ax)\n",
        "ax.set_xlabel(\"GDP per Capita in 2017 [USD]\")\n",
        "ax.set_ylabel(\"Life Expectancy at Birth in 2017 [years]\")\n",
        "fig.show()"
      ],
      "execution_count": 6,
      "outputs": [
        {
          "output_type": "display_data",
          "data": {
            "text/plain": [
              "<Figure size 640x480 with 1 Axes>"
            ],
            "image/png": "[encoded data removed]"
          },
          "metadata": {}
        }
      ]
    },
    {
      "cell_type": "markdown",
      "metadata": {
        "id": "g7Hsngca7GkK"
      },
      "source": [
        "How would we characterize this relationship?  Linear?"
      ]
    },
    {
      "cell_type": "markdown",
      "metadata": {
        "id": "lrC-3_jN7GsF"
      },
      "source": [
        "What about a \"scatter plot\" with the log of the GDP?$^*$\n",
        "\n",
        "<small></i> $^*$ Recall that you can modify column values by using square brackets and the name of the column.  If the column does not exist in the DataFrame, the column is created. </i></small>"
      ]
    },
    {
      "cell_type": "code",
      "metadata": {
        "id": "X3XP-7i_Tqn6"
      },
      "source": [
        "# -- calculate the log of the GDP per Capita\n",
        "wb[\"log10gpc\"] = np.log10(wb[\"gpc2017\"])"
      ],
      "execution_count": 7,
      "outputs": []
    },
    {
      "cell_type": "code",
      "metadata": {
        "id": "CANMCiJx4UrH",
        "outputId": "cda09ca9-beae-471f-e4d0-4f19a4b07de2",
        "colab": {
          "base_uri": "https://localhost:8080/"
        }
      },
      "source": [
        "# -- print out the GDP per capita and the log of the GDP per capita\n",
        "cols = [\"gpc2017\", \"log10gpc\"]\n",
        "print(wb[cols])"
      ],
      "execution_count": 8,
      "outputs": [
        {
          "output_type": "stream",
          "name": "stdout",
          "text": [
            "           gpc2017  log10gpc\n",
            "11      292.997631  2.466864\n",
            "152     309.055355  2.490036\n",
            "120     356.717573  2.552325\n",
            "123     375.869490  2.575037\n",
            "28      449.786424  2.653006\n",
            "..             ...       ...\n",
            "82    71314.774196  4.853180\n",
            "127   75496.754058  4.877928\n",
            "30    80450.045820  4.905526\n",
            "105   81516.674925  4.911246\n",
            "103  107361.306947  5.030848\n",
            "\n",
            "[187 rows x 2 columns]\n"
          ]
        }
      ]
    },
    {
      "cell_type": "code",
      "metadata": {
        "id": "Sqa8aAV48oQT",
        "outputId": "7759c983-5317-47e3-832b-4fa4479bf9ed",
        "colab": {
          "base_uri": "https://localhost:8080/",
          "height": 388
        }
      },
      "source": [
        "# -- make a scatter plot of Life Expectancy at Birth in 2017 versus the log of\n",
        "#    GDP per Capita (in USD) in 2017\n",
        "fig, ax = plt.subplots(figsize=(7,4))\n",
        "wb.plot(\"log10gpc\", \"leb2017\", kind=\"scatter\", color=\"r\", ax=ax)\n",
        "ax.set_xlabel(\"log(GDP per Capita in 2017 [USD])\")\n",
        "ax.set_ylabel(\"Life Expectancy at Birth in 2017 [years]\")\n",
        "fig.show()"
      ],
      "execution_count": 9,
      "outputs": [
        {
          "output_type": "display_data",
          "data": {
            "text/plain": [
              "<Figure size 700x400 with 1 Axes>"
            ],
            "image/png": "[encoded data removed]"
          },
          "metadata": {}
        }
      ]
    },
    {
      "cell_type": "markdown",
      "metadata": {
        "id": "ZzBd9hMRmHBK"
      },
      "source": [
        "---"
      ]
    },
    {
      "cell_type": "code",
      "source": [],
      "metadata": {
        "id": "78_NYqHlo-YC"
      },
      "execution_count": 9,
      "outputs": []
    },
    {
      "cell_type": "markdown",
      "metadata": {
        "id": "X6nJcayamAhc"
      },
      "source": [
        "### **Fitting a linear model to the data.**"
      ]
    },
    {
      "cell_type": "markdown",
      "metadata": {
        "id": "anTeKly88oiU"
      },
      "source": [
        "There are several ways to implement OLS in python.  Let's use the `statsmodels` module:"
      ]
    },
    {
      "cell_type": "code",
      "metadata": {
        "id": "TdFKXlmhKQrq"
      },
      "source": [
        "# -- import statmodels using the formula api\n",
        "import statsmodels.formula.api as sm"
      ],
      "execution_count": 10,
      "outputs": []
    },
    {
      "cell_type": "code",
      "metadata": {
        "id": "RbI40dtxKQzh"
      },
      "source": [
        "# -- first build the model\n",
        "model = sm.ols(\"leb2017 ~ log10gpc\", data=wb)\n",
        "\n",
        "# -- now fit the model to the data\n",
        "result = model.fit()"
      ],
      "execution_count": 12,
      "outputs": []
    },
    {
      "cell_type": "markdown",
      "metadata": {
        "id": "HlgnOOcoLqQa"
      },
      "source": [
        "We can see a summary of how the model performs:"
      ]
    },
    {
      "cell_type": "code",
      "metadata": {
        "id": "9dsbhaKkLqH5",
        "colab": {
          "base_uri": "https://localhost:8080/"
        },
        "outputId": "e461dbf4-ff16-407a-8324-dd17045da72d"
      },
      "source": [
        "# -- summarize the model fit\n",
        "print(result.summary())"
      ],
      "execution_count": 14,
      "outputs": [
        {
          "output_type": "stream",
          "name": "stdout",
          "text": [
            "                            OLS Regression Results                            \n",
            "==============================================================================\n",
            "Dep. Variable:                leb2017   R-squared:                       0.714\n",
            "Model:                            OLS   Adj. R-squared:                  0.712\n",
            "Method:                 Least Squares   F-statistic:                     461.6\n",
            "Date:                Wed, 20 Sep 2023   Prob (F-statistic):           3.73e-52\n",
            "Time:                        22:04:41   Log-Likelihood:                -527.78\n",
            "No. Observations:                 187   AIC:                             1060.\n",
            "Df Residuals:                     185   BIC:                             1066.\n",
            "Df Model:                           1                                         \n",
            "Covariance Type:            nonrobust                                         \n",
            "==============================================================================\n",
            "                 coef    std err          t      P>|t|      [0.025      0.975]\n",
            "------------------------------------------------------------------------------\n",
            "Intercept     33.3729      1.839     18.142      0.000      29.744      37.002\n",
            "log10gpc      10.3601      0.482     21.484      0.000       9.409      11.311\n",
            "==============================================================================\n",
            "Omnibus:                       39.434   Durbin-Watson:                   2.314\n",
            "Prob(Omnibus):                  0.000   Jarque-Bera (JB):               65.339\n",
            "Skew:                          -1.094   Prob(JB):                     6.48e-15\n",
            "Kurtosis:                       4.897   Cond. No.                         25.0\n",
            "==============================================================================\n",
            "\n",
            "Notes:\n",
            "[1] Standard Errors assume that the covariance matrix of the errors is correctly specified.\n"
          ]
        }
      ]
    },
    {
      "cell_type": "markdown",
      "metadata": {
        "id": "POH74jnJLp_4"
      },
      "source": [
        "Finally, let's determine the model \"predictions\" for the data,"
      ]
    },
    {
      "cell_type": "code",
      "metadata": {
        "id": "rofKQ3NdKQ83"
      },
      "source": [
        "# -- calculate the model \"prediction\" of Life Expectancy at Birth for each\n",
        "#    log(GDP per Capita) data point\n",
        "pred = result.predict(wb)"
      ],
      "execution_count": 15,
      "outputs": []
    },
    {
      "cell_type": "markdown",
      "metadata": {
        "id": "2tUnVLpw7Gz8"
      },
      "source": [
        "and overplot the model on the data."
      ]
    },
    {
      "cell_type": "code",
      "metadata": {
        "id": "Wu1zd_o6McNO",
        "colab": {
          "base_uri": "https://localhost:8080/",
          "height": 388
        },
        "outputId": "ad844f46-2ed0-473b-ba14-fe06c011b677"
      },
      "source": [
        "# -- make a scatter plot of Life Expectancy at Birth in 2017 versus the log of\n",
        "#    GDP per Capita (in USD) in 2017 and overlay an OLS fit\n",
        "fig, ax = plt.subplots(figsize=(7,4))\n",
        "wb.plot(\"log10gpc\", \"leb2017\", kind=\"scatter\", color=\"r\",label=\"data\", ax=ax)\n",
        "ax.plot(wb[\"log10gpc\"], pred, color=\"steelblue\", label=\"linear model\")\n",
        "ax.set_xlabel(\"log(GDP per capita in 2017 [USD])\")\n",
        "ax.set_ylabel(\"Life Expenctancy at Birth in 2017 [years]\")\n",
        "ax.legend()\n",
        "fig.show()\n"
      ],
      "execution_count": 20,
      "outputs": [
        {
          "output_type": "display_data",
          "data": {
            "text/plain": [
              "<Figure size 700x400 with 1 Axes>"
            ],
            "image/png": "[encoded data removed]"
          },
          "metadata": {}
        }
      ]
    },
    {
      "cell_type": "markdown",
      "metadata": {
        "id": "68SiPe1UlYen"
      },
      "source": [
        "---"
      ]
    },
    {
      "cell_type": "markdown",
      "metadata": {
        "id": "3eABpza9mNLn"
      },
      "source": [
        "### **Comparing the fit with a more complex model**"
      ]
    },
    {
      "cell_type": "markdown",
      "metadata": {
        "id": "akp4zNLkmUao"
      },
      "source": [
        "It **<i>may</i>** be that there is a slight decrease in life expectancy at birth at lower GDP per capita.  Let's try to model this with a quadratic function and compare the two models with a likelihood-ratio test."
      ]
    },
    {
      "cell_type": "markdown",
      "metadata": {
        "id": "ysL2Sd14HS1U"
      },
      "source": [
        "LINEAR model <br>\n",
        "$y = a_0 + a_1 \\cdot x$\n",
        "<br><br>\n",
        "QUADRATIC model <br>\n",
        "$y = a_0 + a_1 \\cdot x + a_2 \\cdot x^2$"
      ]
    },
    {
      "cell_type": "markdown",
      "metadata": {
        "id": "KjbiOrQjnNjq"
      },
      "source": [
        "First, we fit the quadratic model:"
      ]
    },
    {
      "cell_type": "code",
      "metadata": {
        "id": "R7nsurxcm45C",
        "colab": {
          "base_uri": "https://localhost:8080/"
        },
        "outputId": "8cc21785-4026-4ae2-e48b-f8d1cb332708"
      },
      "source": [
        "# -- build the quadratic model\n",
        "model2 = sm.ols(\"leb2017 ~ log10gpc + np.power(log10gpc, 2)\", data = wb)\n",
        "\n",
        "# -- now fit the model to the data\n",
        "result2 = model2.fit()\n",
        "\n",
        "# -- summarize the fit\n",
        "print(result2.summary())"
      ],
      "execution_count": 22,
      "outputs": [
        {
          "output_type": "stream",
          "name": "stdout",
          "text": [
            "                            OLS Regression Results                            \n",
            "==============================================================================\n",
            "Dep. Variable:                leb2017   R-squared:                       0.718\n",
            "Model:                            OLS   Adj. R-squared:                  0.715\n",
            "Method:                 Least Squares   F-statistic:                     234.4\n",
            "Date:                Wed, 20 Sep 2023   Prob (F-statistic):           2.50e-51\n",
            "Time:                        22:15:42   Log-Likelihood:                -526.37\n",
            "No. Observations:                 187   AIC:                             1059.\n",
            "Df Residuals:                     184   BIC:                             1068.\n",
            "Df Model:                           2                                         \n",
            "Covariance Type:            nonrobust                                         \n",
            "=========================================================================================\n",
            "                            coef    std err          t      P>|t|      [0.025      0.975]\n",
            "-----------------------------------------------------------------------------------------\n",
            "Intercept                16.6924     10.117      1.650      0.101      -3.269      36.653\n",
            "log10gpc                 19.4958      5.471      3.564      0.000       8.702      30.289\n",
            "np.power(log10gpc, 2)    -1.2167      0.726     -1.676      0.095      -2.649       0.215\n",
            "==============================================================================\n",
            "Omnibus:                       46.365   Durbin-Watson:                   2.351\n",
            "Prob(Omnibus):                  0.000   Jarque-Bera (JB):               86.478\n",
            "Skew:                          -1.208   Prob(JB):                     1.67e-19\n",
            "Kurtosis:                       5.294   Cond. No.                         610.\n",
            "==============================================================================\n",
            "\n",
            "Notes:\n",
            "[1] Standard Errors assume that the covariance matrix of the errors is correctly specified.\n"
          ]
        }
      ]
    },
    {
      "cell_type": "markdown",
      "metadata": {
        "id": "_jX2r9BNnHAf"
      },
      "source": [
        "Let's overplot the two models now,"
      ]
    },
    {
      "cell_type": "code",
      "metadata": {
        "id": "NmECi1JLn6Ow",
        "colab": {
          "base_uri": "https://localhost:8080/",
          "height": 388
        },
        "outputId": "fbfded86-af29-4f48-f899-ba5292b6f5cf"
      },
      "source": [
        "# -- make a scatter plot of Life Expectancy at Birth in 2017 versus the log of\n",
        "#    GDP per Capita (in USD) in 2017 and overlay an OLS fit\n",
        "\n",
        "# -- predict the GDP per capita with the new model\n",
        "pred2 = result2.predict(wb)\n",
        "\n",
        "# -- make the plot\n",
        "fig, ax = plt.subplots(figsize=(7, 4))\n",
        "wb.plot.scatter(\"log10gpc\", \"leb2017\", color=\"red\", ax=ax, label=\"data\")\n",
        "ax.plot(wb[\"log10gpc\"], pred, color=\"steelblue\", lw=2, label=\"linear model\")\n",
        "ax.plot(wb[\"log10gpc\"], pred2, color=\"black\", lw=2, label=\"quadratic model\")\n",
        "ax.set_xlabel(\"log(GDP per Capita in 2017 [USD])\")\n",
        "ax.set_ylabel(\"Life Expectancy at Birth in 2017 [years]\")\n",
        "ax.legend()\n",
        "fig.show()"
      ],
      "execution_count": 23,
      "outputs": [
        {
          "output_type": "display_data",
          "data": {
            "text/plain": [
              "<Figure size 700x400 with 1 Axes>"
            ],
            "image/png": "[encoded data removed]"
          },
          "metadata": {}
        }
      ]
    },
    {
      "cell_type": "markdown",
      "metadata": {
        "id": "PzFJFs9PoGGQ"
      },
      "source": [
        "Does a likelihood ratio test indicate that the null hypothesis is rejected?  Because these models are \"nested\" (i.e., the first model is just a special case of the second) we can use statsmodels likelihood ratio test:"
      ]
    },
    {
      "cell_type": "code",
      "metadata": {
        "id": "rGLwMYfyo0Cn",
        "colab": {
          "base_uri": "https://localhost:8080/"
        },
        "outputId": "1d837d2c-48ca-4bfa-fa8a-830dba25fed7"
      },
      "source": [
        "# -- likelihood ratio test\n",
        "lr, pval, ddof = result2.compare_lr_test(result)\n",
        "print(\"p-value: {0}\".format(round(pval, 3)))"
      ],
      "execution_count": 29,
      "outputs": [
        {
          "output_type": "stream",
          "name": "stdout",
          "text": [
            "p-value: 0.092\n"
          ]
        }
      ]
    },
    {
      "cell_type": "markdown",
      "metadata": {
        "id": "aLb7COSTpHhm"
      },
      "source": [
        "This p-value indicates that the null hypothesis (that a straight line is an equally good fit to the data) is **<i>not</i>** rejected.  I.e., there is no reason to include the quadratic term in the fit."
      ]
    },
    {
      "cell_type": "markdown",
      "metadata": {
        "id": "PD4xXX7No_JI"
      },
      "source": [
        "Conicidentally, we can also extrapolate the result to values outside the fit range.  Let's predict the life expectancy at birth for a country with log(GDP per capita) = 6,"
      ]
    },
    {
      "cell_type": "code",
      "source": [
        "# -- create a DataFrame for extrapolation\n",
        "df = pd.DataFrame()\n",
        "df[\"log10gpc\"] = [6]"
      ],
      "metadata": {
        "id": "WLpmP984BU9b"
      },
      "execution_count": 31,
      "outputs": []
    },
    {
      "cell_type": "code",
      "source": [
        "df"
      ],
      "metadata": {
        "id": "am6L4Ib1rirV",
        "outputId": "446c4b9e-4842-472f-b016-8b44937f5bf1",
        "colab": {
          "base_uri": "https://localhost:8080/",
          "height": 81
        }
      },
      "execution_count": 32,
      "outputs": [
        {
          "output_type": "execute_result",
          "data": {
            "text/plain": [
              "   log10gpc\n",
              "0         6"
            ],
            "text/html": [
              "\n",
              "  <div id=\"df-2d010d66-9768-4a2d-80d9-265e3bf23fa6\" class=\"colab-df-container\">\n",
              "    <div>\n",
              "<style scoped>\n",
              "    .dataframe tbody tr th:only-of-type {\n",
              "        vertical-align: middle;\n",
              "    }\n",
              "\n",
              "    .dataframe tbody tr th {\n",
              "        vertical-align: top;\n",
              "    }\n",
              "\n",
              "    .dataframe thead th {\n",
              "        text-align: right;\n",
              "    }\n",
              "</style>\n",
              "<table border=\"1\" class=\"dataframe\">\n",
              "  <thead>\n",
              "    <tr style=\"text-align: right;\">\n",
              "      <th></th>\n",
              "      <th>log10gpc</th>\n",
              "    </tr>\n",
              "  </thead>\n",
              "  <tbody>\n",
              "    <tr>\n",
              "      <th>0</th>\n",
              "      <td>6</td>\n",
              "    </tr>\n",
              "  </tbody>\n",
              "</table>\n",
              "</div>\n",
              "    <div class=\"colab-df-buttons\">\n",
              "\n",
              "  <div class=\"colab-df-container\">\n",
              "    <button class=\"colab-df-convert\" onclick=\"convertToInteractive('df-2d010d66-9768-4a2d-80d9-265e3bf23fa6')\"\n",
              "            title=\"Convert this dataframe to an interactive table.\"\n",
              "            style=\"display:none;\">\n",
              "\n",
              "  <svg xmlns=\"http://www.w3.org/2000/svg\" height=\"24px\" viewBox=\"0 -960 960 960\">\n",
              "    <path d=\"M120-120v-720h720v720H120Zm60-500h600v-160H180v160Zm220 220h160v-160H400v160Zm0 220h160v-160H400v160ZM180-400h160v-160H180v160Zm440 0h160v-160H620v160ZM180-180h160v-160H180v160Zm440 0h160v-160H620v160Z\"/>\n",
              "  </svg>\n",
              "    </button>\n",
              "\n",
              "  <style>\n",
              "    .colab-df-container {\n",
              "      display:flex;\n",
              "      gap: 12px;\n",
              "    }\n",
              "\n",
              "    .colab-df-convert {\n",
              "      background-color: #E8F0FE;\n",
              "      border: none;\n",
              "      border-radius: 50%;\n",
              "      cursor: pointer;\n",
              "      display: none;\n",
              "      fill: #1967D2;\n",
              "      height: 32px;\n",
              "      padding: 0 0 0 0;\n",
              "      width: 32px;\n",
              "    }\n",
              "\n",
              "    .colab-df-convert:hover {\n",
              "      background-color: #E2EBFA;\n",
              "      box-shadow: 0px 1px 2px rgba(60, 64, 67, 0.3), 0px 1px 3px 1px rgba(60, 64, 67, 0.15);\n",
              "      fill: #174EA6;\n",
              "    }\n",
              "\n",
              "    .colab-df-buttons div {\n",
              "      margin-bottom: 4px;\n",
              "    }\n",
              "\n",
              "    [theme=dark] .colab-df-convert {\n",
              "      background-color: #3B4455;\n",
              "      fill: #D2E3FC;\n",
              "    }\n",
              "\n",
              "    [theme=dark] .colab-df-convert:hover {\n",
              "      background-color: #434B5C;\n",
              "      box-shadow: 0px 1px 3px 1px rgba(0, 0, 0, 0.15);\n",
              "      filter: drop-shadow(0px 1px 2px rgba(0, 0, 0, 0.3));\n",
              "      fill: #FFFFFF;\n",
              "    }\n",
              "  </style>\n",
              "\n",
              "    <script>\n",
              "      const buttonEl =\n",
              "        document.querySelector('#df-2d010d66-9768-4a2d-80d9-265e3bf23fa6 button.colab-df-convert');\n",
              "      buttonEl.style.display =\n",
              "        google.colab.kernel.accessAllowed ? 'block' : 'none';\n",
              "\n",
              "      async function convertToInteractive(key) {\n",
              "        const element = document.querySelector('#df-2d010d66-9768-4a2d-80d9-265e3bf23fa6');\n",
              "        const dataTable =\n",
              "          await google.colab.kernel.invokeFunction('convertToInteractive',\n",
              "                                                    [key], {});\n",
              "        if (!dataTable) return;\n",
              "\n",
              "        const docLinkHtml = 'Like what you see? Visit the ' +\n",
              "          '<a target=\"_blank\" href=https://colab.research.google.com/notebooks/data_table.ipynb>data table notebook</a>'\n",
              "          + ' to learn more about interactive tables.';\n",
              "        element.innerHTML = '';\n",
              "        dataTable['output_type'] = 'display_data';\n",
              "        await google.colab.output.renderOutput(dataTable, element);\n",
              "        const docLink = document.createElement('div');\n",
              "        docLink.innerHTML = docLinkHtml;\n",
              "        element.appendChild(docLink);\n",
              "      }\n",
              "    </script>\n",
              "  </div>\n",
              "\n",
              "    </div>\n",
              "  </div>\n"
            ]
          },
          "metadata": {},
          "execution_count": 32
        }
      ]
    },
    {
      "cell_type": "code",
      "metadata": {
        "id": "CsBx5Sx3pvOh",
        "colab": {
          "base_uri": "https://localhost:8080/"
        },
        "outputId": "6275b3e4-1571-4df2-b083-e9f9676ea734"
      },
      "source": [
        "# -- predicting a value outisde the fit range\n",
        "ext = result.predict(df)\n",
        "ext2 = result2.predict(df)\n",
        "\n",
        "print(\"linear model extrapolation:\")\n",
        "print(ext)\n",
        "\n",
        "print(\"\")\n",
        "\n",
        "print(\"quadratic model extrapolation\")\n",
        "print(ext2)"
      ],
      "execution_count": 33,
      "outputs": [
        {
          "output_type": "stream",
          "name": "stdout",
          "text": [
            "linear model extrapolation:\n",
            "0    95.533386\n",
            "dtype: float64\n",
            "\n",
            "quadratic model extrapolation\n",
            "0    89.865385\n",
            "dtype: float64\n"
          ]
        }
      ]
    },
    {
      "cell_type": "markdown",
      "metadata": {
        "id": "xUJ_Qa_TT5nC"
      },
      "source": [
        "We can also predict at multiple values using lists:"
      ]
    },
    {
      "cell_type": "code",
      "source": [
        "# -- create a DataFrame for extrapolation\n",
        "df = pd.DataFrame()\n",
        "df[\"log10gpc\"] = [6, 6.5, 7, 7.5, 8]"
      ],
      "metadata": {
        "id": "qc8Bj8NYBggz"
      },
      "execution_count": 34,
      "outputs": []
    },
    {
      "cell_type": "code",
      "metadata": {
        "id": "eikjbRxIUAjw",
        "colab": {
          "base_uri": "https://localhost:8080/"
        },
        "outputId": "37cb00c8-bd22-43c8-b50f-9dbf7a8f5156"
      },
      "source": [
        "# -- predicting a value outisde the fit range\n",
        "extm = result.predict(df)\n",
        "extm2 = result2.predict(df)\n",
        "\n",
        "print(\"linear model extrapolation:\")\n",
        "print(extm)\n",
        "\n",
        "print(\"\")\n",
        "\n",
        "print(\"quadratic model extrapolation\")\n",
        "print(extm2)"
      ],
      "execution_count": 35,
      "outputs": [
        {
          "output_type": "stream",
          "name": "stdout",
          "text": [
            "linear model extrapolation:\n",
            "0     95.533386\n",
            "1    100.713425\n",
            "2    105.893464\n",
            "3    111.073504\n",
            "4    116.253543\n",
            "dtype: float64\n",
            "\n",
            "quadratic model extrapolation\n",
            "0    89.865385\n",
            "1    92.008792\n",
            "2    93.543839\n",
            "3    94.470526\n",
            "4    94.788853\n",
            "dtype: float64\n"
          ]
        }
      ]
    }
  ]
}