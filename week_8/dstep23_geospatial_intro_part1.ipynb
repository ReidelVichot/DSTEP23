{
  "nbformat": 4,
  "nbformat_minor": 0,
  "metadata": {
    "colab": {
      "provenance": [],
      "include_colab_link": true
    },
    "kernelspec": {
      "name": "python3",
      "display_name": "Python 3"
    }
  },
  "cells": [
    {
      "cell_type": "markdown",
      "metadata": {
        "id": "view-in-github",
        "colab_type": "text"
      },
      "source": [
        "<a href=\"https://colab.research.google.com/github/ReidelVichot/DSTEP23/blob/main/week_8/dstep23_geospatial_intro_part1.ipynb\" target=\"_parent\"><img src=\"https://colab.research.google.com/assets/colab-badge.svg\" alt=\"Open In Colab\"/></a>"
      ]
    },
    {
      "cell_type": "markdown",
      "metadata": {
        "id": "uxarUmu9C_sC"
      },
      "source": [
        "### **DSTEP23 // Introduction to Geospatial Data: Part 1**\n",
        "\n",
        "*October 17, 2023*\n",
        "\n",
        "This notebook will introduce tools for working with geospatial data in python using Zipcodes and MapPLUTO in New York City.\n",
        "\n",
        "---"
      ]
    },
    {
      "cell_type": "markdown",
      "metadata": {
        "id": "iKzJtOvJtfr7"
      },
      "source": [
        "#### **Loading geospatial data with python**"
      ]
    },
    {
      "cell_type": "markdown",
      "metadata": {
        "id": "y62RR-SOryDd"
      },
      "source": [
        "The core package for working with geospatial data in python is `geopandas`:"
      ]
    },
    {
      "cell_type": "code",
      "metadata": {
        "id": "uy--nhQTG-1K"
      },
      "source": [
        "import numpy as np\n",
        "import pandas as pd\n",
        "import geopandas as gp\n",
        "import matplotlib.pyplot as plt"
      ],
      "execution_count": null,
      "outputs": []
    },
    {
      "cell_type": "code",
      "metadata": {
        "id": "ZBZIc34VHH_6"
      },
      "source": [
        "# -- and now let's access the *shapes* of those zipcodes\n",
        "zname =\n",
        "zshps ="
      ],
      "execution_count": null,
      "outputs": []
    },
    {
      "cell_type": "code",
      "metadata": {
        "id": "XSp-ictNtnZh"
      },
      "source": [
        "# -- display the type of this new object\n"
      ],
      "execution_count": null,
      "outputs": []
    },
    {
      "cell_type": "code",
      "metadata": {
        "id": "e1J51Q20tt_M"
      },
      "source": [
        "# -- display the GeoDataFrame\n"
      ],
      "execution_count": null,
      "outputs": []
    },
    {
      "cell_type": "code",
      "metadata": {
        "id": "uhBKFFH9JLRc"
      },
      "source": [
        "# -- note the coordinates\n"
      ],
      "execution_count": null,
      "outputs": []
    },
    {
      "cell_type": "markdown",
      "metadata": {
        "id": "AAnkIW8et9hq"
      },
      "source": [
        "#### **Plotting GeoDataFrames**"
      ]
    },
    {
      "cell_type": "markdown",
      "metadata": {
        "id": "Zmv7ntsNuBGo"
      },
      "source": [
        "Much like DataFrames, GeoDataFrames have plotting methods that are wrappers around, and tightly integrated with, `matplotlib`,"
      ]
    },
    {
      "cell_type": "code",
      "metadata": {
        "id": "mUSOi8VSHIlh"
      },
      "source": [
        "# -- a simple plot\n"
      ],
      "execution_count": null,
      "outputs": []
    },
    {
      "cell_type": "code",
      "metadata": {
        "id": "lFOkwoxev5xB"
      },
      "source": [
        "# -- highlight zipcodes in Queens\n",
        "queens =\n",
        "others =\n",
        "\n"
      ],
      "execution_count": null,
      "outputs": []
    },
    {
      "cell_type": "code",
      "metadata": {
        "id": "CPqu4ltlxLmF"
      },
      "source": [
        "# -- plot categorical variables\n"
      ],
      "execution_count": null,
      "outputs": []
    },
    {
      "cell_type": "code",
      "metadata": {
        "id": "s7xS2GM4yrGa"
      },
      "source": [
        "# -- make a color-coded \"map\" of numerical variables\n"
      ],
      "execution_count": null,
      "outputs": []
    },
    {
      "cell_type": "markdown",
      "metadata": {
        "id": "kiOA01_W0lcu"
      },
      "source": [
        "The usual non-spatial plotting routines are available as well,"
      ]
    },
    {
      "cell_type": "code",
      "metadata": {
        "id": "R0PITtPf0W0F"
      },
      "source": [
        "# -- make a histogram of the population values\n"
      ],
      "execution_count": null,
      "outputs": []
    },
    {
      "cell_type": "markdown",
      "metadata": {
        "id": "uQ06GOmYzh3V"
      },
      "source": [
        "#### **Accessing and working with values, attributes, and methods in GeoDataFrames**"
      ]
    },
    {
      "cell_type": "markdown",
      "metadata": {
        "id": "tFOzPY9qz5_6"
      },
      "source": [
        "The values in GeoDataFrames can be accessed and used identically to DataFrames,"
      ]
    },
    {
      "cell_type": "code",
      "metadata": {
        "id": "eI6iphVLva13"
      },
      "source": [
        "# -- display the \"POPULATION\" column\n"
      ],
      "execution_count": null,
      "outputs": []
    },
    {
      "cell_type": "code",
      "metadata": {
        "id": "vcLgArPd0E7x"
      },
      "source": [
        "# -- calculate summary statistics of the various numerical columns\n"
      ],
      "execution_count": null,
      "outputs": []
    },
    {
      "cell_type": "markdown",
      "metadata": {
        "id": "8u6_BVR71VPS"
      },
      "source": [
        "Many of the attributes and methods of GeoDataFrames are the same as DataFrames,"
      ]
    },
    {
      "cell_type": "code",
      "metadata": {
        "id": "jSXAJN4J1aFJ"
      },
      "source": [
        "# -- print the columns attribute\n"
      ],
      "execution_count": null,
      "outputs": []
    },
    {
      "cell_type": "code",
      "metadata": {
        "id": "h5BLFrTq1jxd"
      },
      "source": [
        "# -- access the 5th row\n"
      ],
      "execution_count": null,
      "outputs": []
    },
    {
      "cell_type": "code",
      "metadata": {
        "id": "CtWFVkf-16Kz"
      },
      "source": [
        "# -- print the unique values of categorical variables\n"
      ],
      "execution_count": null,
      "outputs": []
    },
    {
      "cell_type": "markdown",
      "metadata": {
        "id": "yDlmrhoX2pu9"
      },
      "source": [
        "but some are **unique** to GeoDataFrames,"
      ]
    },
    {
      "cell_type": "code",
      "metadata": {
        "id": "05u-Glpr3Op4"
      },
      "source": [
        "# -- print the centroid attribute of the GeoDataFrame\n"
      ],
      "execution_count": null,
      "outputs": []
    },
    {
      "cell_type": "code",
      "metadata": {
        "id": "Qkegrejn3jgY"
      },
      "source": [
        "# -- print the area attribute (but note this data set contains the same info in a column)\n"
      ],
      "execution_count": null,
      "outputs": []
    },
    {
      "cell_type": "code",
      "metadata": {
        "id": "cMugqzJ22Jyw"
      },
      "source": [
        "# -- display just the geometry of a single row\n",
        "geo5 =\n",
        "\n",
        "geo5"
      ],
      "execution_count": null,
      "outputs": []
    },
    {
      "cell_type": "code",
      "source": [
        "# -- for each zipcode, find the distance to the 5th zipcode using the distance method\n"
      ],
      "metadata": {
        "id": "nGc5YstXQkoi"
      },
      "execution_count": null,
      "outputs": []
    },
    {
      "cell_type": "markdown",
      "source": [
        "Let's demonstrate this last one with a plot,"
      ],
      "metadata": {
        "id": "CB9Gms68QlYx"
      }
    },
    {
      "cell_type": "code",
      "source": [
        "# -- make a color-coded \"map\" of that distance\n",
        "fig, ax = plt.subplots(figsize=(9, 7))\n",
        "\n",
        "\n",
        "# -- label the colorbar\n",
        "\n",
        "\n",
        "# -- add an X where the 5th zipcode is\n",
        "geo5x =\n",
        "geo5y =\n",
        "ax.scatter([geo5x], [geo5y], marker=\"*\", s=200, color=\"r\")\n",
        "\n",
        "fig.show()"
      ],
      "metadata": {
        "id": "Gy50wWF2QoHp"
      },
      "execution_count": null,
      "outputs": []
    }
  ]
}