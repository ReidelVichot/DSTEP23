{
  "nbformat": 4,
  "nbformat_minor": 0,
  "metadata": {
    "colab": {
      "provenance": [],
      "include_colab_link": true
    },
    "kernelspec": {
      "name": "python3",
      "display_name": "Python 3"
    }
  },
  "cells": [
    {
      "cell_type": "markdown",
      "metadata": {
        "id": "view-in-github",
        "colab_type": "text"
      },
      "source": [
        "<a href=\"https://colab.research.google.com/github/ReidelVichot/DSTEP23/blob/main/week_8/dstep23_geospatial_intro_part2.ipynb\" target=\"_parent\"><img src=\"https://colab.research.google.com/assets/colab-badge.svg\" alt=\"Open In Colab\"/></a>"
      ]
    },
    {
      "cell_type": "markdown",
      "metadata": {
        "id": "uxarUmu9C_sC"
      },
      "source": [
        "### **DSTEP23 // Introduction to Geospatial Data: Part 2**\n",
        "\n",
        "*October 19, 2023*\n",
        "\n",
        "This notebook will introduce tools for working with geospatial data in python using Zipcodes and MapPLUTO in New York City.\n",
        "\n",
        "---"
      ]
    },
    {
      "cell_type": "markdown",
      "metadata": {
        "id": "iKzJtOvJtfr7"
      },
      "source": [
        "#### **Loading and visualizing geospatial data with python**"
      ]
    },
    {
      "cell_type": "markdown",
      "metadata": {
        "id": "y62RR-SOryDd"
      },
      "source": [
        "The core package for working with geospatial data in python is `geopandas`:"
      ]
    },
    {
      "cell_type": "code",
      "metadata": {
        "id": "uy--nhQTG-1K"
      },
      "source": [
        "import numpy as np\n",
        "import pandas as pd\n",
        "import geopandas as gp\n",
        "import matplotlib.pyplot as plt"
      ],
      "execution_count": null,
      "outputs": []
    },
    {
      "cell_type": "code",
      "metadata": {
        "id": "ZBZIc34VHH_6"
      },
      "source": [
        "# -- and now let's access the *shapes* of those zipcodes\n",
        "zname = \"/content/drive/Shareddrives/dstep23/data/geos/nyc/zipcode_shapes/ZIP_CODE_040114.shp\"\n",
        "zshps = gp.read_file(zname)"
      ],
      "execution_count": null,
      "outputs": []
    },
    {
      "cell_type": "code",
      "source": [
        "# -- note the coordinates\n",
        "zshps.crs"
      ],
      "metadata": {
        "id": "kJioV6Kq24aO"
      },
      "execution_count": null,
      "outputs": []
    },
    {
      "cell_type": "code",
      "source": [
        "# -- a simple plot\n",
        "fig, ax = plt.subplots(figsize=(5, 5))\n",
        "zshps.plot(ax=ax)\n",
        "fig.show()"
      ],
      "metadata": {
        "id": "-hIt5LDMtw13"
      },
      "execution_count": null,
      "outputs": []
    },
    {
      "cell_type": "code",
      "source": [
        "# -- highlight zipcodes in Queens\n",
        "queens = zshps[zshps[\"COUNTY\"] == \"Queens\"]\n",
        "others = zshps[zshps[\"COUNTY\"] != \"Queens\"]\n",
        "\n",
        "fig, ax = plt.subplots(figsize=(5, 5))\n",
        "queens.plot(facecolor=\"crimson\", ax=ax)\n",
        "others.plot(facecolor=\"steelblue\", ax=ax)\n",
        "fig.show()"
      ],
      "metadata": {
        "id": "je4KXSIYt05v"
      },
      "execution_count": null,
      "outputs": []
    },
    {
      "cell_type": "code",
      "source": [
        "# -- plot categorical variables\n",
        "fig, ax = plt.subplots(figsize=(5, 5))\n",
        "zshps.plot(\"COUNTY\", legend=True, legend_kwds={\"loc\":\"upper left\"}, ax=ax)\n",
        "fig.show()"
      ],
      "metadata": {
        "id": "YenJlXPAt2zA"
      },
      "execution_count": null,
      "outputs": []
    },
    {
      "cell_type": "code",
      "source": [
        "# -- make a color-coded \"map\" of numerical variables\n",
        "fig, ax = plt.subplots(figsize=(7, 5))\n",
        "zshps.plot(\"POPULATION\", cmap=\"viridis\", legend=True, ax=ax)\n",
        "fig.text(0.9, 0.5, \"number of residents\", rotation=-90, va=\"center\")\n",
        "fig.show()"
      ],
      "metadata": {
        "id": "NoDRw-Rst4ib"
      },
      "execution_count": null,
      "outputs": []
    },
    {
      "cell_type": "code",
      "source": [
        "# -- make a histogram of the population values\n",
        "fig, ax = plt.subplots(figsize=(7, 3))\n",
        "zshps.hist(\"POPULATION\", bins=20, ax=ax)\n",
        "ax.set_xlabel(\"number of persons\")\n",
        "ax.set_ylabel(\"number of zipcodes\")\n",
        "ax.set_title(\"\")\n",
        "fig.show()"
      ],
      "metadata": {
        "id": "E591SqXet6dW"
      },
      "execution_count": null,
      "outputs": []
    },
    {
      "cell_type": "markdown",
      "metadata": {
        "id": "uQ06GOmYzh3V"
      },
      "source": [
        "#### **Accessing and working with values, attributes, and methods in GeoDataFrames**"
      ]
    },
    {
      "cell_type": "markdown",
      "metadata": {
        "id": "tFOzPY9qz5_6"
      },
      "source": [
        "The values in GeoDataFrames can be accessed and used identically to DataFrames,"
      ]
    },
    {
      "cell_type": "code",
      "metadata": {
        "id": "eI6iphVLva13"
      },
      "source": [
        "# -- display the \"POPULATION\" column\n"
      ],
      "execution_count": null,
      "outputs": []
    },
    {
      "cell_type": "code",
      "metadata": {
        "id": "vcLgArPd0E7x"
      },
      "source": [
        "# -- calculate summary statistics of the various numerical columns\n"
      ],
      "execution_count": null,
      "outputs": []
    },
    {
      "cell_type": "markdown",
      "metadata": {
        "id": "8u6_BVR71VPS"
      },
      "source": [
        "Many of the attributes and methods of GeoDataFrames are the same as DataFrames,"
      ]
    },
    {
      "cell_type": "code",
      "metadata": {
        "id": "jSXAJN4J1aFJ"
      },
      "source": [
        "# -- print the columns attribute\n"
      ],
      "execution_count": null,
      "outputs": []
    },
    {
      "cell_type": "code",
      "metadata": {
        "id": "h5BLFrTq1jxd"
      },
      "source": [
        "# -- access the 5th row\n"
      ],
      "execution_count": null,
      "outputs": []
    },
    {
      "cell_type": "code",
      "metadata": {
        "id": "CtWFVkf-16Kz"
      },
      "source": [
        "# -- print the unique values of categorical variables\n"
      ],
      "execution_count": null,
      "outputs": []
    },
    {
      "cell_type": "markdown",
      "metadata": {
        "id": "yDlmrhoX2pu9"
      },
      "source": [
        "but some are **unique** to GeoDataFrames,"
      ]
    },
    {
      "cell_type": "code",
      "metadata": {
        "id": "05u-Glpr3Op4"
      },
      "source": [
        "# -- print the centroid attribute of the GeoDataFrame\n"
      ],
      "execution_count": null,
      "outputs": []
    },
    {
      "cell_type": "code",
      "metadata": {
        "id": "Qkegrejn3jgY"
      },
      "source": [
        "# -- print the area attribute (but note this data set contains the same info in a column)\n"
      ],
      "execution_count": null,
      "outputs": []
    },
    {
      "cell_type": "code",
      "metadata": {
        "id": "cMugqzJ22Jyw"
      },
      "source": [
        "# -- display just the geometry of a single row\n",
        "geo5 =\n",
        "\n",
        "geo5"
      ],
      "execution_count": null,
      "outputs": []
    },
    {
      "cell_type": "code",
      "source": [
        "# -- for each zipcode, find the distance to the 5th zipcode using the distance method\n"
      ],
      "metadata": {
        "id": "nGc5YstXQkoi"
      },
      "execution_count": null,
      "outputs": []
    },
    {
      "cell_type": "markdown",
      "source": [
        "Let's demonstrate this last one with a plot,"
      ],
      "metadata": {
        "id": "CB9Gms68QlYx"
      }
    },
    {
      "cell_type": "code",
      "source": [
        "# -- add the distance to the 5th zipcode as a column in the GeoDataFrame\n",
        "zshps[\"dist5\"] ="
      ],
      "metadata": {
        "id": "QFwq-1tzcpcR"
      },
      "execution_count": null,
      "outputs": []
    },
    {
      "cell_type": "code",
      "source": [
        "# -- set the zipcode number\n",
        "zcode5 =\n",
        "\n",
        "# -- make a choropleth color-coded by that distance\n",
        "fig, ax = plt.subplots(figsize=(9, 7))\n",
        "\n",
        "\n",
        "# -- add an X where the 5th zipcode is\n",
        "geo5x =\n",
        "geo5y =\n",
        "ax.scatter([geo5x], [geo5y], marker=\"*\", s=200, color=\"r\")\n",
        "\n",
        "fig.show()"
      ],
      "metadata": {
        "id": "Gy50wWF2QoHp"
      },
      "execution_count": null,
      "outputs": []
    },
    {
      "cell_type": "markdown",
      "source": [
        "#### **Coordinate transforms and matching**"
      ],
      "metadata": {
        "id": "DruZWy_T4teF"
      }
    },
    {
      "cell_type": "markdown",
      "source": [
        "Let's load the MapPLUTO data for Manhattan,"
      ],
      "metadata": {
        "id": "1LWbVakx4va8"
      }
    },
    {
      "cell_type": "code",
      "source": [
        "# -- load MapPLUTO data\n",
        "mname = \"/content/drive/Shareddrives/dstep23/data/nycdcp/mappluto/mn/MapPLUTO_MN.shp\"\n",
        "mnpl = gp.read_file(mname)"
      ],
      "metadata": {
        "id": "iPuJjBfV4xzx"
      },
      "execution_count": null,
      "outputs": []
    },
    {
      "cell_type": "code",
      "source": [
        "# -- display the MapPLUTO data\n"
      ],
      "metadata": {
        "id": "BSPxDOev40MR"
      },
      "execution_count": null,
      "outputs": []
    },
    {
      "cell_type": "code",
      "source": [
        "# -- plot the shapes\n"
      ],
      "metadata": {
        "id": "st5VoE8q42Fu"
      },
      "execution_count": null,
      "outputs": []
    },
    {
      "cell_type": "markdown",
      "source": [
        "Let's say we wanted to zoom in on Flatiron building which we know is at a latitude/longitude of $(40.740947^\\circ, -73.989645^\\circ)$"
      ],
      "metadata": {
        "id": "cQV7ehOw44MO"
      }
    },
    {
      "cell_type": "code",
      "source": [
        "# -- convert to decimal degrees\n",
        "mnpl_deg ="
      ],
      "metadata": {
        "id": "2EVbRPTq469j"
      },
      "execution_count": null,
      "outputs": []
    },
    {
      "cell_type": "code",
      "source": [
        "# -- plot the shapes in the EPSG:4326 coordinate system\n"
      ],
      "metadata": {
        "id": "nW1TADTl49EI"
      },
      "execution_count": null,
      "outputs": []
    },
    {
      "cell_type": "code",
      "source": [
        "# -- zoom in on the Flatiron building\n",
        "cen = (-73.989645, 40.740947)\n",
        "wid =\n",
        "xlim =\n",
        "ylim =\n",
        "\n"
      ],
      "metadata": {
        "id": "eptCyCWE4-y-"
      },
      "execution_count": null,
      "outputs": []
    },
    {
      "cell_type": "markdown",
      "source": [
        "#### **Grouping and merging GeoDataFrames**"
      ],
      "metadata": {
        "id": "qwDSMU885Dqn"
      }
    },
    {
      "cell_type": "markdown",
      "source": [
        "Let's try to visualize an answer to the following Urban Planning-based policy question:\n",
        "\n",
        "***What is the average number of floors of buildings in a given NYC zipcode?***"
      ],
      "metadata": {
        "id": "eynJhyvx5EY8"
      }
    },
    {
      "cell_type": "code",
      "source": [],
      "metadata": {
        "id": "0k8v_YO-5G9B"
      },
      "execution_count": null,
      "outputs": []
    }
  ]
}