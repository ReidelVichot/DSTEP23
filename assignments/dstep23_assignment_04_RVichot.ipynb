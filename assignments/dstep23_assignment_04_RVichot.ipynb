{
  "nbformat": 4,
  "nbformat_minor": 0,
  "metadata": {
    "colab": {
      "provenance": [],
      "include_colab_link": true
    },
    "kernelspec": {
      "name": "python3",
      "display_name": "Python 3"
    },
    "language_info": {
      "name": "python"
    }
  },
  "cells": [
    {
      "cell_type": "markdown",
      "metadata": {
        "id": "view-in-github",
        "colab_type": "text"
      },
      "source": [
        "<a href=\"https://colab.research.google.com/github/ReidelVichot/DSTEP23/blob/main/assignments/dstep23_assignment_04_RVichot.ipynb\" target=\"_parent\"><img src=\"https://colab.research.google.com/assets/colab-badge.svg\" alt=\"Open In Colab\"/></a>"
      ]
    },
    {
      "cell_type": "markdown",
      "metadata": {
        "id": "rpeNRjZ70beL"
      },
      "source": [
        "# **DSTEP23 // Assignment #4**\n",
        "\n",
        "assigned : **Oct 20, 2023**\n",
        "\n",
        "DUE : **Oct 27, 2023 11:59pm**\n",
        "\n",
        "## **Assessing Patterns and Variability in NYC Subway Ridership**\n",
        "\n",
        "<img src=\"https://nypost.com/wp-content/uploads/sites/2/2021/06/new-york-subway-004.jpg?quality=80&strip=all\" width=500>\n",
        "\n",
        "\n",
        "---"
      ]
    },
    {
      "cell_type": "markdown",
      "metadata": {
        "id": "fZ7fybIY1MJd"
      },
      "source": [
        "<b>\n",
        "\n",
        "How to complete and submit assignments:\n",
        "\n",
        "1. Please make a copy of this notebook in your Google Drive and add your name to the filename.\n",
        "\n",
        "2. Once you have completed the notebook, please share it with me before the due date and time by clicking the \"Share\" button in the upper right corner of the notebook.\n",
        "\n",
        "\n",
        "Rules for assignments:\n",
        "\n",
        "1. You may work with other students in the class, but if you do, each student with whom you worked <u>must</u> be listed below.  Direct copying from someone else's notebook is not permitted.\n",
        "\n",
        "2. You may use generative AI models (e.g., ChatGPT) to help complete the assignment but if you do you must answer YES to the question below and bear in mind that such models <u>often</u> yield incorrect and biased solutions.\n",
        "\n",
        "3. All solutions and outputs must be derived with python and the notebook should be \"runable\" by me (top to bottom) without errors.\n",
        "\n",
        "4. Late assignments will assess a 15% late penalty up to 3 days after the due date and a 50% late penalty until the end of the term.\n",
        "\n",
        "</b>\n",
        "\n",
        "<u>**Instructions for tasks that will be graded are in bold below.**</u>\n",
        "\n",
        "---"
      ]
    },
    {
      "cell_type": "markdown",
      "source": [
        "**Please list the names of the other students with whom you worked for this assignment (if none, put \"None\").**"
      ],
      "metadata": {
        "id": "QShXfOc4bLUE"
      }
    },
    {
      "cell_type": "markdown",
      "source": [
        "None"
      ],
      "metadata": {
        "id": "s2yfTTULbPze"
      }
    },
    {
      "cell_type": "markdown",
      "source": [
        "**Did you use a generative AI model (e.g., ChatGPT) to create text or code for this assignment?**"
      ],
      "metadata": {
        "id": "0pCeKEpMbPi5"
      }
    },
    {
      "cell_type": "markdown",
      "source": [
        "No"
      ],
      "metadata": {
        "id": "2tcocQJ2bPGT"
      }
    },
    {
      "cell_type": "markdown",
      "metadata": {
        "id": "UrJ4nXUP1KHL"
      },
      "source": [
        "---"
      ]
    },
    {
      "cell_type": "markdown",
      "metadata": {
        "id": "KZQuK2T5z45Y"
      },
      "source": [
        "#### **PART 0 - WEEKLY VISUALIZATION**\n",
        "\n",
        "***<u>NOTE: Part 0 should be done by yourself and not in collaboration with others.</u>***\n",
        "\n",
        "Beginning this week, part of the weekly assignments will include the finding and visualization of data.  This is – and will continue to be – a *very* open-ended task with two objectives:\n",
        "\n",
        "1. ***Find a data set on the web that relates to a policy problem***\n",
        "\n",
        "2. ***Make a plot of some characteristics/features of that data***\n",
        "\n",
        "These \"weekly visualizations\" should be done in a <u>separate notebook</u> and should **include a link** to where I can find the data.  **A caption is also necessary** but it is *not* a requirement that the visualization show an obvious relationship (e.g., correlation or scaling) between the features of the data set.  \n",
        "\n",
        "Lastly, these visualizations should be made **using Python/Jupyter running on your own machine** and not Colaboratory.  If you do not have access to your own computer on which you have permissions to install software for yourself, or if your machine does not have sufficient computational resources to load and analyze data, please let me know!\n",
        "\n",
        "**To submit the visualization, the `.ipynb` Jupyter notebook that you create and write on your machine should be uploaded to your UD GoogleDrive and shared with me.**"
      ]
    },
    {
      "cell_type": "markdown",
      "metadata": {
        "id": "vCEhJm4c0If8"
      },
      "source": [
        "---"
      ]
    },
    {
      "cell_type": "markdown",
      "metadata": {
        "id": "DfLPYi-GKyKW"
      },
      "source": [
        "### **PART 1 - Finding Resources and Accessing the Data**\n",
        "\n"
      ]
    },
    {
      "cell_type": "markdown",
      "source": [
        "This assignment is about exploring trends, patterns, and variability in the subway ridership in NYC and assessing the impact that the COVID-19 pandemic had on that ridership. **To that end, find and list three resources on the web that describe the NYC subway system, trends in its ridership, and it's importance to mobility in NYC, and in each case, include an example of information contained in these resources that speaks to one or more of those.**\n",
        "\n"
      ],
      "metadata": {
        "id": "fhvCMQ8Tq9Px"
      }
    },
    {
      "cell_type": "markdown",
      "source": [
        "TEXT FOR YOUR ANSWER HERE."
      ],
      "metadata": {
        "id": "WQGt4IU-q06O"
      }
    },
    {
      "cell_type": "markdown",
      "source": [
        "<b>\n",
        "\n",
        "Get access to the 2019 and 2020 subway turnstile data with the following steps <u>using unix commands in Colaboratory</u>:\n",
        "\n",
        "1. Download the data using the `wget` command (see [Example 1 here](https://www.geeksforgeeks.org/wget-command-in-linux-unix/) you'll need an `!` before it).  Here are the URLs for the [2019](https://tinyurl.com/ur3t33rt) and [2020](https://tinyurl.com/46d4354b) data.\n",
        "\n",
        "2. The downloaded files will have odd names.  Rename them (using the `mv` command) to `mta_2019.zip` and `mta_2020.zip`.\n",
        "\n",
        "3. Make two folders `mta_turnstiles_2019` and `mta_turnstiles_2020` using the `mkdir` command.\n",
        "\n",
        "4. Move each downloaded file into the appropriate folder that you just created.\n",
        "\n",
        "5. For each folder, `cd` into the folder and then use the `unzip` command (you'll need an `!` before it) to unzip the files in the folders.\n",
        "\n",
        "6. Finally, change your directory to be the virutal machine's home directory `/content`.\n",
        "\n",
        "You should now have access to the files in `mta_turnstiles_2019/body.csv` and `mta_turnstiles_2020/body.csv`.\n",
        "\n",
        "</b>"
      ],
      "metadata": {
        "id": "LZW8jXNXq0cz"
      }
    },
    {
      "cell_type": "code",
      "source": [
        "from google.colab import drive\n",
        "drive.mount('/content/drive')"
      ],
      "metadata": {
        "id": "3OTEL9hDe5TX",
        "outputId": "e6680eed-15b3-414b-9956-10df95f316c5",
        "colab": {
          "base_uri": "https://localhost:8080/"
        }
      },
      "execution_count": null,
      "outputs": [
        {
          "output_type": "stream",
          "name": "stdout",
          "text": [
            "Drive already mounted at /content/drive; to attempt to forcibly remount, call drive.mount(\"/content/drive\", force_remount=True).\n"
          ]
        }
      ]
    },
    {
      "cell_type": "code",
      "source": [
        "cd .."
      ],
      "metadata": {
        "id": "Z_BbzSdKfkTv",
        "outputId": "177d8887-bafb-4d5d-96ff-62854a181401",
        "colab": {
          "base_uri": "https://localhost:8080/"
        }
      },
      "execution_count": null,
      "outputs": [
        {
          "output_type": "stream",
          "name": "stdout",
          "text": [
            "/content\n"
          ]
        }
      ]
    },
    {
      "cell_type": "code",
      "source": [
        "ls"
      ],
      "metadata": {
        "id": "bho7wNCCfwZb",
        "outputId": "774534cb-0ba9-4620-f9c4-7b894782f0bc",
        "colab": {
          "base_uri": "https://localhost:8080/"
        }
      },
      "execution_count": 18,
      "outputs": [
        {
          "output_type": "stream",
          "name": "stdout",
          "text": [
            "mta_2019.zip\n"
          ]
        }
      ]
    },
    {
      "cell_type": "code",
      "source": [
        "cd drive/MyDrive"
      ],
      "metadata": {
        "id": "9kiUiLTkfzRS",
        "outputId": "43b447e7-55b3-479e-dda2-07cbe2035efe",
        "colab": {
          "base_uri": "https://localhost:8080/"
        }
      },
      "execution_count": null,
      "outputs": [
        {
          "output_type": "stream",
          "name": "stdout",
          "text": [
            "/content/drive/MyDrive\n"
          ]
        }
      ]
    },
    {
      "cell_type": "code",
      "source": [
        "mkdir assignment_temp"
      ],
      "metadata": {
        "id": "9_-PaQ_1fTCU"
      },
      "execution_count": null,
      "outputs": []
    },
    {
      "cell_type": "code",
      "source": [
        "cd assignment_temp"
      ],
      "metadata": {
        "id": "di7RdmoPf-yE",
        "outputId": "a94bc6d4-9dcc-4faa-cffa-2c73ca1339ee",
        "colab": {
          "base_uri": "https://localhost:8080/"
        }
      },
      "execution_count": null,
      "outputs": [
        {
          "output_type": "stream",
          "name": "stdout",
          "text": [
            "/content/drive/MyDrive/assignment_temp\n"
          ]
        }
      ]
    },
    {
      "cell_type": "code",
      "source": [
        "pwd"
      ],
      "metadata": {
        "id": "r5zzbarGgF61",
        "outputId": "d99f85ae-83f3-4146-b09c-bf349dad9886",
        "colab": {
          "base_uri": "https://localhost:8080/",
          "height": 35
        }
      },
      "execution_count": null,
      "outputs": [
        {
          "output_type": "execute_result",
          "data": {
            "text/plain": [
              "'/content/drive/MyDrive/assignment_temp'"
            ],
            "application/vnd.google.colaboratory.intrinsic+json": {
              "type": "string"
            }
          },
          "metadata": {},
          "execution_count": 70
        }
      ]
    },
    {
      "cell_type": "code",
      "metadata": {
        "id": "IsO5QKFhVQJA",
        "outputId": "87eab9c6-ae7f-4cd6-8632-0c60c74f355a",
        "colab": {
          "base_uri": "https://localhost:8080/"
        }
      },
      "source": [
        "!wget https://tinyurl.com/ur3t33rt"
      ],
      "execution_count": 19,
      "outputs": [
        {
          "output_type": "stream",
          "name": "stdout",
          "text": [
            "--2023-10-26 20:20:45--  https://tinyurl.com/ur3t33rt\n",
            "Resolving tinyurl.com (tinyurl.com)... 104.20.138.65, 172.67.1.225, 104.20.139.65, ...\n",
            "Connecting to tinyurl.com (tinyurl.com)|104.20.138.65|:443... connected.\n",
            "HTTP request sent, awaiting response... 301 Moved Permanently\n",
            "Location: https://drive.google.com/uc?export=download&id=15Jntk7xz_uELOjMd-EEMMdkFBRZnN4ha [following]\n",
            "--2023-10-26 20:20:45--  https://drive.google.com/uc?export=download&id=15Jntk7xz_uELOjMd-EEMMdkFBRZnN4ha\n",
            "Resolving drive.google.com (drive.google.com)... 64.233.181.100, 64.233.181.138, 64.233.181.113, ...\n",
            "Connecting to drive.google.com (drive.google.com)|64.233.181.100|:443... connected.\n",
            "HTTP request sent, awaiting response... 303 See Other\n",
            "Location: https://doc-00-ac-docs.googleusercontent.com/docs/securesc/ha0ro937gcuc7l7deffksulhg5h7mbp1/b2ij7jurchk1c3lj0qvug7idh05bf31a/1698351600000/06776162455182541625/*/15Jntk7xz_uELOjMd-EEMMdkFBRZnN4ha?e=download&uuid=3399def1-c7e5-4d7f-9a05-367dcc41ffe4 [following]\n",
            "Warning: wildcards not supported in HTTP.\n",
            "--2023-10-26 20:20:48--  https://doc-00-ac-docs.googleusercontent.com/docs/securesc/ha0ro937gcuc7l7deffksulhg5h7mbp1/b2ij7jurchk1c3lj0qvug7idh05bf31a/1698351600000/06776162455182541625/*/15Jntk7xz_uELOjMd-EEMMdkFBRZnN4ha?e=download&uuid=3399def1-c7e5-4d7f-9a05-367dcc41ffe4\n",
            "Resolving doc-00-ac-docs.googleusercontent.com (doc-00-ac-docs.googleusercontent.com)... 142.251.171.132, 2607:f8b0:4001:c5f::84\n",
            "Connecting to doc-00-ac-docs.googleusercontent.com (doc-00-ac-docs.googleusercontent.com)|142.251.171.132|:443... connected.\n",
            "HTTP request sent, awaiting response... 200 OK\n",
            "Length: 1349503 (1.3M) [application/zip]\n",
            "Saving to: ‘ur3t33rt’\n",
            "\n",
            "ur3t33rt            100%[===================>]   1.29M  --.-KB/s    in 0.007s  \n",
            "\n",
            "2023-10-26 20:20:48 (179 MB/s) - ‘ur3t33rt’ saved [1349503/1349503]\n",
            "\n"
          ]
        }
      ]
    },
    {
      "cell_type": "code",
      "source": [
        "ls"
      ],
      "metadata": {
        "id": "rcjZkQVCgODx",
        "outputId": "726d9903-54d5-430c-93aa-8fd1cd222397",
        "colab": {
          "base_uri": "https://localhost:8080/"
        }
      },
      "execution_count": 20,
      "outputs": [
        {
          "output_type": "stream",
          "name": "stdout",
          "text": [
            "mta_2019.zip  ur3t33rt\n"
          ]
        }
      ]
    },
    {
      "cell_type": "code",
      "source": [
        "mv ur3t33rt mta_2019.zip"
      ],
      "metadata": {
        "id": "r0pvQOcIZlXn"
      },
      "execution_count": 21,
      "outputs": []
    },
    {
      "cell_type": "code",
      "source": [
        "mkdir mta_turnstiles_2019"
      ],
      "metadata": {
        "id": "HnPRV41LZxL2"
      },
      "execution_count": 22,
      "outputs": []
    },
    {
      "cell_type": "code",
      "source": [
        "mv mta_2019.zip mta_turnstiles_2019/mta_2019.zip"
      ],
      "metadata": {
        "id": "uX-ofdE_aBLn"
      },
      "execution_count": 23,
      "outputs": []
    },
    {
      "cell_type": "code",
      "source": [
        "cd mta_turnstiles_2019"
      ],
      "metadata": {
        "id": "q15T-9Bhj6t1",
        "outputId": "41780266-ac2b-42a9-f5de-bea2cee3ef4a",
        "colab": {
          "base_uri": "https://localhost:8080/"
        }
      },
      "execution_count": 24,
      "outputs": [
        {
          "output_type": "stream",
          "name": "stdout",
          "text": [
            "/content/mta_turnstiles_2019/mta_turnstiles_2019/mta_turnstiles_2019\n"
          ]
        }
      ]
    },
    {
      "cell_type": "code",
      "source": [
        "!unzip mta_2019.zip"
      ],
      "metadata": {
        "id": "2jYqNGJRaPTl",
        "outputId": "ff9b4bd5-d95c-474d-d689-258599a4a875",
        "colab": {
          "base_uri": "https://localhost:8080/"
        }
      },
      "execution_count": 25,
      "outputs": [
        {
          "output_type": "stream",
          "name": "stdout",
          "text": [
            "Archive:  mta_2019.zip\n",
            "  inflating: commit.json             \n",
            "  inflating: meta.json               \n",
            "  inflating: structure.json          \n",
            "  inflating: readme.json             \n",
            "  inflating: body.csv                \n",
            "  inflating: qri-ref.txt             \n"
          ]
        }
      ]
    },
    {
      "cell_type": "code",
      "source": [
        "cd .."
      ],
      "metadata": {
        "id": "rfylAfM8lI2R",
        "outputId": "e9e228b9-e771-4bb5-fa67-c63e5fe3b0a0",
        "colab": {
          "base_uri": "https://localhost:8080/"
        }
      },
      "execution_count": 26,
      "outputs": [
        {
          "output_type": "stream",
          "name": "stdout",
          "text": [
            "/content/mta_turnstiles_2019/mta_turnstiles_2019\n"
          ]
        }
      ]
    },
    {
      "cell_type": "code",
      "source": [
        "!wget https://tinyurl.com/46d4354b"
      ],
      "metadata": {
        "id": "zGS6rz-PlK3Q",
        "outputId": "e54a7656-fcc2-4bc9-fe94-238e73b02ae1",
        "colab": {
          "base_uri": "https://localhost:8080/"
        }
      },
      "execution_count": 27,
      "outputs": [
        {
          "output_type": "stream",
          "name": "stdout",
          "text": [
            "--2023-10-26 20:21:05--  https://tinyurl.com/46d4354b\n",
            "Resolving tinyurl.com (tinyurl.com)... 104.20.138.65, 172.67.1.225, 104.20.139.65, ...\n",
            "Connecting to tinyurl.com (tinyurl.com)|104.20.138.65|:443... connected.\n",
            "HTTP request sent, awaiting response... 301 Moved Permanently\n",
            "Location: https://drive.google.com/uc?export=download&id=1Kud0tiMYDwdWj5Jbn2ObwFyHwDosSQ4o [following]\n",
            "--2023-10-26 20:21:06--  https://drive.google.com/uc?export=download&id=1Kud0tiMYDwdWj5Jbn2ObwFyHwDosSQ4o\n",
            "Resolving drive.google.com (drive.google.com)... 64.233.181.100, 64.233.181.138, 64.233.181.113, ...\n",
            "Connecting to drive.google.com (drive.google.com)|64.233.181.100|:443... connected.\n",
            "HTTP request sent, awaiting response... 303 See Other\n",
            "Location: https://doc-00-ac-docs.googleusercontent.com/docs/securesc/ha0ro937gcuc7l7deffksulhg5h7mbp1/nmui59du7ph1vuk0p1olkcdr2b692r3j/1698351600000/06776162455182541625/*/1Kud0tiMYDwdWj5Jbn2ObwFyHwDosSQ4o?e=download&uuid=b7b92812-4ac5-49bb-9487-deb6497eea99 [following]\n",
            "Warning: wildcards not supported in HTTP.\n",
            "--2023-10-26 20:21:08--  https://doc-00-ac-docs.googleusercontent.com/docs/securesc/ha0ro937gcuc7l7deffksulhg5h7mbp1/nmui59du7ph1vuk0p1olkcdr2b692r3j/1698351600000/06776162455182541625/*/1Kud0tiMYDwdWj5Jbn2ObwFyHwDosSQ4o?e=download&uuid=b7b92812-4ac5-49bb-9487-deb6497eea99\n",
            "Resolving doc-00-ac-docs.googleusercontent.com (doc-00-ac-docs.googleusercontent.com)... 142.251.171.132, 2607:f8b0:4001:c5f::84\n",
            "Connecting to doc-00-ac-docs.googleusercontent.com (doc-00-ac-docs.googleusercontent.com)|142.251.171.132|:443... connected.\n",
            "HTTP request sent, awaiting response... 200 OK\n",
            "Length: 1285453 (1.2M) [application/zip]\n",
            "Saving to: ‘46d4354b’\n",
            "\n",
            "46d4354b            100%[===================>]   1.23M  --.-KB/s    in 0.008s  \n",
            "\n",
            "2023-10-26 20:21:08 (147 MB/s) - ‘46d4354b’ saved [1285453/1285453]\n",
            "\n"
          ]
        }
      ]
    },
    {
      "cell_type": "code",
      "source": [
        "cd .."
      ],
      "metadata": {
        "id": "tLM63j5zpkbl",
        "outputId": "1aa644fc-744a-4601-cc85-9766103e1035",
        "colab": {
          "base_uri": "https://localhost:8080/"
        }
      },
      "execution_count": 32,
      "outputs": [
        {
          "output_type": "stream",
          "name": "stdout",
          "text": [
            "/content/mta_turnstiles_2019/mta_turnstiles_2019\n"
          ]
        }
      ]
    },
    {
      "cell_type": "code",
      "source": [
        "mkdir mta_turnstiles_2020"
      ],
      "metadata": {
        "id": "mW0RjFuHlUdc",
        "outputId": "ee82df30-1e52-4130-d3ae-936406048f93",
        "colab": {
          "base_uri": "https://localhost:8080/"
        }
      },
      "execution_count": 33,
      "outputs": [
        {
          "output_type": "stream",
          "name": "stdout",
          "text": [
            "mkdir: cannot create directory ‘mta_turnstiles_2020’: File exists\n"
          ]
        }
      ]
    },
    {
      "cell_type": "code",
      "source": [
        "mv 46d4354b mta_turnstiles_2020/mta_2020.zip"
      ],
      "metadata": {
        "id": "rQVARgDDlaut",
        "outputId": "edf211fb-9ff8-49c8-c60a-8457b2607d27",
        "colab": {
          "base_uri": "https://localhost:8080/"
        }
      },
      "execution_count": 34,
      "outputs": [
        {
          "output_type": "stream",
          "name": "stdout",
          "text": [
            "mv: cannot stat '46d4354b': No such file or directory\n"
          ]
        }
      ]
    },
    {
      "cell_type": "code",
      "source": [
        "cd mta_turnstiles_2020/"
      ],
      "metadata": {
        "id": "1JU3XO-yloDt",
        "outputId": "2a7ab645-7da0-46f7-e557-e0d00ffe93a9",
        "colab": {
          "base_uri": "https://localhost:8080/"
        }
      },
      "execution_count": 35,
      "outputs": [
        {
          "output_type": "stream",
          "name": "stdout",
          "text": [
            "/content/mta_turnstiles_2019/mta_turnstiles_2019/mta_turnstiles_2020\n"
          ]
        }
      ]
    },
    {
      "cell_type": "code",
      "source": [
        "!unzip mta_2020.zip"
      ],
      "metadata": {
        "id": "pxmOFJ85ltre",
        "outputId": "3ab089af-86f0-4bff-ae80-83d4204a7dfd",
        "colab": {
          "base_uri": "https://localhost:8080/"
        }
      },
      "execution_count": 31,
      "outputs": [
        {
          "output_type": "stream",
          "name": "stdout",
          "text": [
            "Archive:  mta_2020.zip\n",
            "  inflating: commit.json             \n",
            "  inflating: meta.json               \n",
            "  inflating: structure.json          \n",
            "  inflating: readme.json             \n",
            "  inflating: body.csv                \n",
            "  inflating: qri-ref.txt             \n"
          ]
        }
      ]
    },
    {
      "cell_type": "markdown",
      "metadata": {
        "id": "E1g4YUSQWXz6"
      },
      "source": [
        "### **PART 2 - Loading and Visualizing the Data**"
      ]
    },
    {
      "cell_type": "markdown",
      "metadata": {
        "id": "AVgsrp9PWc8E"
      },
      "source": [
        "**Load the 2019 and 2020 data into DataFrames called `mta19` and `mta20`.**"
      ]
    },
    {
      "cell_type": "code",
      "metadata": {
        "id": "bhjrovdJaOb5"
      },
      "source": [],
      "execution_count": null,
      "outputs": []
    },
    {
      "cell_type": "markdown",
      "metadata": {
        "id": "Jy9iHRMraO1d"
      },
      "source": [
        "**Remove rows for which the `\"borough\"` is NaN.**"
      ]
    },
    {
      "cell_type": "code",
      "metadata": {
        "id": "6LqW7_1naSo-"
      },
      "source": [],
      "execution_count": null,
      "outputs": []
    },
    {
      "cell_type": "markdown",
      "metadata": {
        "id": "-_f0wSAiaTAs"
      },
      "source": [
        "**Plot daily time series (entries and exists separately) for 2019 and 2020, summing across all stations.**"
      ]
    },
    {
      "cell_type": "code",
      "metadata": {
        "id": "LSLgTn4Nahlo"
      },
      "source": [],
      "execution_count": null,
      "outputs": []
    },
    {
      "cell_type": "markdown",
      "metadata": {
        "id": "ytYFGJG4apsR"
      },
      "source": [
        "**Plot the daily time series (entries and exists) for Manhattan only and also summed across all non-Manhattan boroughs (aka, the \"outer boroughs\").**"
      ]
    },
    {
      "cell_type": "code",
      "metadata": {
        "id": "MtA6ap6Pbvg2"
      },
      "source": [],
      "execution_count": null,
      "outputs": []
    },
    {
      "cell_type": "markdown",
      "metadata": {
        "id": "BZ5zIa4edD78"
      },
      "source": [
        "### **PART 3 - Time Series Analysis**"
      ]
    },
    {
      "cell_type": "markdown",
      "metadata": {
        "id": "o8ZXPpm0lABN"
      },
      "source": [
        "**Which day of the week has the least ridership (entries) in the whole city in 2019?**"
      ]
    },
    {
      "cell_type": "code",
      "metadata": {
        "id": "NcYN1f6Tk_xM"
      },
      "source": [],
      "execution_count": null,
      "outputs": []
    },
    {
      "cell_type": "markdown",
      "metadata": {
        "id": "26r3X4RxlEWS"
      },
      "source": [
        "**Which month of the year has the least ridership (entries) in the whole city in 2019?**"
      ]
    },
    {
      "cell_type": "code",
      "metadata": {
        "id": "fLmuRUNDlENw"
      },
      "source": [],
      "execution_count": null,
      "outputs": []
    },
    {
      "cell_type": "markdown",
      "metadata": {
        "id": "11DAnKFUlSi3"
      },
      "source": [
        "**Which station has the lowest total 2020 ridership (entries) in each borough?**"
      ]
    },
    {
      "cell_type": "code",
      "metadata": {
        "id": "61uKqSmdlSXW"
      },
      "source": [],
      "execution_count": null,
      "outputs": []
    },
    {
      "cell_type": "markdown",
      "metadata": {
        "id": "mSE-enWNdHBB"
      },
      "source": [
        "**Decompose the total (summed across the whole city) daily entries time series into a trend, a periodicity (seasonality), and residual for each year.**"
      ]
    },
    {
      "cell_type": "code",
      "metadata": {
        "id": "CBW35_9JdPnB"
      },
      "source": [],
      "execution_count": null,
      "outputs": []
    },
    {
      "cell_type": "markdown",
      "metadata": {
        "id": "MwzE29wufbiw"
      },
      "source": [
        "**To what do the anomalies in the residual time series correspond?**"
      ]
    },
    {
      "cell_type": "markdown",
      "metadata": {
        "id": "MvzdDq65fbT-"
      },
      "source": [
        "TEXT FOR YOUR ANSWER HERE."
      ]
    },
    {
      "cell_type": "markdown",
      "metadata": {
        "id": "-grq4uF7dWpk"
      },
      "source": [
        "**Demonstrate that the time series has weekly periodicity (when removing the trend, use a 30 day rolling average).**"
      ]
    },
    {
      "cell_type": "code",
      "metadata": {
        "id": "y7M5MuWEdc8O"
      },
      "source": [],
      "execution_count": null,
      "outputs": []
    },
    {
      "cell_type": "markdown",
      "metadata": {
        "id": "pE7P9cZvddnb"
      },
      "source": [
        "**Find the station with weakest weekly periodicity in 2019 and plot its time series.**\n"
      ]
    },
    {
      "cell_type": "code",
      "metadata": {
        "id": "IoG6nT07k0Ai"
      },
      "source": [],
      "execution_count": null,
      "outputs": []
    },
    {
      "cell_type": "markdown",
      "metadata": {
        "id": "TsYsDfUHyKRG"
      },
      "source": [
        "**Why does this station have the weakest periodicity?**"
      ]
    },
    {
      "cell_type": "markdown",
      "metadata": {
        "id": "b33G0PKIyKE0"
      },
      "source": [
        "TEXT FOR YOUR ANSWER HERE."
      ]
    },
    {
      "cell_type": "markdown",
      "metadata": {
        "id": "UlNGL9Mjo-3q"
      },
      "source": [
        "**For each station, calculate the fractional change between 2019 and 2020 for the number of entries between April 1st and December 1st in each year.**"
      ]
    },
    {
      "cell_type": "code",
      "metadata": {
        "id": "biiEEZDSxczv"
      },
      "source": [],
      "execution_count": null,
      "outputs": []
    },
    {
      "cell_type": "markdown",
      "metadata": {
        "id": "5pQxNxtrxdID"
      },
      "source": [
        "**Make a scatter plot of the station lon/lat where the size of the marker scales with the fractional change above (see `dstep23/week4/09.19.2023/dstep23_delaware_natural_areas.ipynb`).**"
      ]
    },
    {
      "cell_type": "code",
      "metadata": {
        "id": "ty4iabG5xlmu"
      },
      "source": [],
      "execution_count": null,
      "outputs": []
    },
    {
      "cell_type": "markdown",
      "metadata": {
        "id": "Ueo1ntFdxmDT"
      },
      "source": [
        "**Comment on the implications for the scatter plot above.**"
      ]
    },
    {
      "cell_type": "markdown",
      "metadata": {
        "id": "yUzppxqHxqI7"
      },
      "source": [
        "TEXT FOR YOUR ANSWER HERE."
      ]
    },
    {
      "cell_type": "markdown",
      "source": [
        "**<u>In your own words</u>, summarize the impact of the COVID-19 pandemic on subway ridership in NYC and put those in context of the resources you identified in Part 1.**"
      ],
      "metadata": {
        "id": "4eQLkIJlbf44"
      }
    },
    {
      "cell_type": "markdown",
      "source": [
        "TEXT FOR YOUR ANSWER HERE."
      ],
      "metadata": {
        "id": "CEqtzZfXbhlA"
      }
    }
  ]
}