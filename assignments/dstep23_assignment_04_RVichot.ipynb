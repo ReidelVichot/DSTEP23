{
  "nbformat": 4,
  "nbformat_minor": 0,
  "metadata": {
    "colab": {
      "provenance": [],
      "include_colab_link": true
    },
    "kernelspec": {
      "name": "python3",
      "display_name": "Python 3"
    },
    "language_info": {
      "name": "python"
    }
  },
  "cells": [
    {
      "cell_type": "markdown",
      "metadata": {
        "id": "view-in-github",
        "colab_type": "text"
      },
      "source": [
        "<a href=\"https://colab.research.google.com/github/ReidelVichot/DSTEP23/blob/main/assignments/dstep23_assignment_04_RVichot.ipynb\" target=\"_parent\"><img src=\"https://colab.research.google.com/assets/colab-badge.svg\" alt=\"Open In Colab\"/></a>"
      ]
    },
    {
      "cell_type": "markdown",
      "metadata": {
        "id": "rpeNRjZ70beL"
      },
      "source": [
        "# **DSTEP23 // Assignment #4**\n",
        "\n",
        "assigned : **Oct 20, 2023**\n",
        "\n",
        "DUE : **Oct 27, 2023 11:59pm**\n",
        "\n",
        "## **Assessing Patterns and Variability in NYC Subway Ridership**\n",
        "\n",
        "<img src=\"https://nypost.com/wp-content/uploads/sites/2/2021/06/new-york-subway-004.jpg?quality=80&strip=all\" width=500>\n",
        "\n",
        "\n",
        "---"
      ]
    },
    {
      "cell_type": "markdown",
      "metadata": {
        "id": "fZ7fybIY1MJd"
      },
      "source": [
        "<b>\n",
        "\n",
        "How to complete and submit assignments:\n",
        "\n",
        "1. Please make a copy of this notebook in your Google Drive and add your name to the filename.\n",
        "\n",
        "2. Once you have completed the notebook, please share it with me before the due date and time by clicking the \"Share\" button in the upper right corner of the notebook.\n",
        "\n",
        "\n",
        "Rules for assignments:\n",
        "\n",
        "1. You may work with other students in the class, but if you do, each student with whom you worked <u>must</u> be listed below.  Direct copying from someone else's notebook is not permitted.\n",
        "\n",
        "2. You may use generative AI models (e.g., ChatGPT) to help complete the assignment but if you do you must answer YES to the question below and bear in mind that such models <u>often</u> yield incorrect and biased solutions.\n",
        "\n",
        "3. All solutions and outputs must be derived with python and the notebook should be \"runable\" by me (top to bottom) without errors.\n",
        "\n",
        "4. Late assignments will assess a 15% late penalty up to 3 days after the due date and a 50% late penalty until the end of the term.\n",
        "\n",
        "</b>\n",
        "\n",
        "<u>**Instructions for tasks that will be graded are in bold below.**</u>\n",
        "\n",
        "---"
      ]
    },
    {
      "cell_type": "markdown",
      "source": [
        "**Please list the names of the other students with whom you worked for this assignment (if none, put \"None\").**"
      ],
      "metadata": {
        "id": "QShXfOc4bLUE"
      }
    },
    {
      "cell_type": "markdown",
      "source": [
        "None"
      ],
      "metadata": {
        "id": "s2yfTTULbPze"
      }
    },
    {
      "cell_type": "markdown",
      "source": [
        "**Did you use a generative AI model (e.g., ChatGPT) to create text or code for this assignment?**"
      ],
      "metadata": {
        "id": "0pCeKEpMbPi5"
      }
    },
    {
      "cell_type": "markdown",
      "source": [
        "No"
      ],
      "metadata": {
        "id": "2tcocQJ2bPGT"
      }
    },
    {
      "cell_type": "markdown",
      "metadata": {
        "id": "UrJ4nXUP1KHL"
      },
      "source": [
        "---"
      ]
    },
    {
      "cell_type": "markdown",
      "metadata": {
        "id": "KZQuK2T5z45Y"
      },
      "source": [
        "#### **PART 0 - WEEKLY VISUALIZATION**\n",
        "\n",
        "***<u>NOTE: Part 0 should be done by yourself and not in collaboration with others.</u>***\n",
        "\n",
        "Beginning this week, part of the weekly assignments will include the finding and visualization of data.  This is – and will continue to be – a *very* open-ended task with two objectives:\n",
        "\n",
        "1. ***Find a data set on the web that relates to a policy problem***\n",
        "\n",
        "2. ***Make a plot of some characteristics/features of that data***\n",
        "\n",
        "These \"weekly visualizations\" should be done in a <u>separate notebook</u> and should **include a link** to where I can find the data.  **A caption is also necessary** but it is *not* a requirement that the visualization show an obvious relationship (e.g., correlation or scaling) between the features of the data set.  \n",
        "\n",
        "Lastly, these visualizations should be made **using Python/Jupyter running on your own machine** and not Colaboratory.  If you do not have access to your own computer on which you have permissions to install software for yourself, or if your machine does not have sufficient computational resources to load and analyze data, please let me know!\n",
        "\n",
        "**To submit the visualization, the `.ipynb` Jupyter notebook that you create and write on your machine should be uploaded to your UD GoogleDrive and shared with me.**"
      ]
    },
    {
      "cell_type": "markdown",
      "metadata": {
        "id": "vCEhJm4c0If8"
      },
      "source": [
        "---"
      ]
    },
    {
      "cell_type": "markdown",
      "metadata": {
        "id": "DfLPYi-GKyKW"
      },
      "source": [
        "### **PART 1 - Finding Resources and Accessing the Data**\n",
        "\n"
      ]
    },
    {
      "cell_type": "markdown",
      "source": [
        "This assignment is about exploring trends, patterns, and variability in the subway ridership in NYC and assessing the impact that the COVID-19 pandemic had on that ridership. **To that end, find and list three resources on the web that describe the NYC subway system, trends in its ridership, and it's importance to mobility in NYC, and in each case, include an example of information contained in these resources that speaks to one or more of those.**\n",
        "\n"
      ],
      "metadata": {
        "id": "fhvCMQ8Tq9Px"
      }
    },
    {
      "cell_type": "markdown",
      "source": [
        "TEXT FOR YOUR ANSWER HERE."
      ],
      "metadata": {
        "id": "WQGt4IU-q06O"
      }
    },
    {
      "cell_type": "markdown",
      "source": [
        "<b>\n",
        "\n",
        "Get access to the 2019 and 2020 subway turnstile data with the following steps <u>using unix commands in Colaboratory</u>:\n",
        "\n",
        "1. Download the data using the `wget` command (see [Example 1 here](https://www.geeksforgeeks.org/wget-command-in-linux-unix/) you'll need an `!` before it).  Here are the URLs for the [2019](https://tinyurl.com/ur3t33rt) and [2020](https://tinyurl.com/46d4354b) data.\n",
        "\n",
        "2. The downloaded files will have odd names.  Rename them (using the `mv` command) to `mta_2019.zip` and `mta_2020.zip`.\n",
        "\n",
        "3. Make two folders `mta_turnstiles_2019` and `mta_turnstiles_2020` using the `mkdir` command.\n",
        "\n",
        "4. Move each downloaded file into the appropriate folder that you just created.\n",
        "\n",
        "5. For each folder, `cd` into the folder and then use the `unzip` command (you'll need an `!` before it) to unzip the files in the folders.\n",
        "\n",
        "6. Finally, change your directory to be the virutal machine's home directory `/content`.\n",
        "\n",
        "You should now have access to the files in `mta_turnstiles_2019/body.csv` and `mta_turnstiles_2020/body.csv`.\n",
        "\n",
        "</b>"
      ],
      "metadata": {
        "id": "LZW8jXNXq0cz"
      }
    },
    {
      "cell_type": "code",
      "metadata": {
        "id": "IsO5QKFhVQJA",
        "outputId": "d340f692-723f-4e5c-972b-f1eef8d884ea",
        "colab": {
          "base_uri": "https://localhost:8080/"
        }
      },
      "source": [
        "!wget https://tinyurl.com/ur3t33rt"
      ],
      "execution_count": 12,
      "outputs": [
        {
          "output_type": "stream",
          "name": "stdout",
          "text": [
            "--2023-10-26 19:22:11--  https://tinyurl.com/ur3t33rt\n",
            "Resolving tinyurl.com (tinyurl.com)... 104.20.139.65, 104.20.138.65, 172.67.1.225, ...\n",
            "Connecting to tinyurl.com (tinyurl.com)|104.20.139.65|:443... connected.\n",
            "HTTP request sent, awaiting response... 301 Moved Permanently\n",
            "Location: https://drive.google.com/uc?export=download&id=15Jntk7xz_uELOjMd-EEMMdkFBRZnN4ha [following]\n",
            "--2023-10-26 19:22:11--  https://drive.google.com/uc?export=download&id=15Jntk7xz_uELOjMd-EEMMdkFBRZnN4ha\n",
            "Resolving drive.google.com (drive.google.com)... 172.217.212.101, 172.217.212.113, 172.217.212.139, ...\n",
            "Connecting to drive.google.com (drive.google.com)|172.217.212.101|:443... connected.\n",
            "HTTP request sent, awaiting response... 303 See Other\n",
            "Location: https://doc-00-ac-docs.googleusercontent.com/docs/securesc/ha0ro937gcuc7l7deffksulhg5h7mbp1/k4t1i8ekufkfsgsfia03aofh97adeiq2/1698348075000/06776162455182541625/*/15Jntk7xz_uELOjMd-EEMMdkFBRZnN4ha?e=download&uuid=73a1e030-6b47-4758-946c-f703d4d1cee5 [following]\n",
            "Warning: wildcards not supported in HTTP.\n",
            "--2023-10-26 19:22:14--  https://doc-00-ac-docs.googleusercontent.com/docs/securesc/ha0ro937gcuc7l7deffksulhg5h7mbp1/k4t1i8ekufkfsgsfia03aofh97adeiq2/1698348075000/06776162455182541625/*/15Jntk7xz_uELOjMd-EEMMdkFBRZnN4ha?e=download&uuid=73a1e030-6b47-4758-946c-f703d4d1cee5\n",
            "Resolving doc-00-ac-docs.googleusercontent.com (doc-00-ac-docs.googleusercontent.com)... 173.194.192.132, 2607:f8b0:4001:c0e::84\n",
            "Connecting to doc-00-ac-docs.googleusercontent.com (doc-00-ac-docs.googleusercontent.com)|173.194.192.132|:443... connected.\n",
            "HTTP request sent, awaiting response... 200 OK\n",
            "Length: 1349503 (1.3M) [application/zip]\n",
            "Saving to: ‘ur3t33rt’\n",
            "\n",
            "ur3t33rt            100%[===================>]   1.29M  --.-KB/s    in 0.01s   \n",
            "\n",
            "2023-10-26 19:22:14 (96.4 MB/s) - ‘ur3t33rt’ saved [1349503/1349503]\n",
            "\n"
          ]
        }
      ]
    },
    {
      "cell_type": "code",
      "source": [
        "mv /content/mta_turnstiles_2019/ur3t33rt mta_2019.zip"
      ],
      "metadata": {
        "id": "r0pvQOcIZlXn"
      },
      "execution_count": 13,
      "outputs": []
    },
    {
      "cell_type": "code",
      "source": [
        "mkdir mta_turnstiles_2019"
      ],
      "metadata": {
        "id": "HnPRV41LZxL2"
      },
      "execution_count": 14,
      "outputs": []
    },
    {
      "cell_type": "code",
      "source": [
        "mv mta_2019.zip mta_turnstiles_2019/mta_2019.zip"
      ],
      "metadata": {
        "id": "uX-ofdE_aBLn"
      },
      "execution_count": 15,
      "outputs": []
    },
    {
      "cell_type": "code",
      "source": [
        "cd mta_turnstiles_2019"
      ],
      "metadata": {
        "id": "qqOdVAkQaLCw",
        "outputId": "c044b242-d848-4f58-c165-301541c4b335",
        "colab": {
          "base_uri": "https://localhost:8080/"
        }
      },
      "execution_count": 16,
      "outputs": [
        {
          "output_type": "stream",
          "name": "stdout",
          "text": [
            "/content/mta_turnstiles_2019/mta_turnstiles_2019\n"
          ]
        }
      ]
    },
    {
      "cell_type": "code",
      "source": [
        "!unzip mta_2019.zip"
      ],
      "metadata": {
        "id": "2jYqNGJRaPTl",
        "outputId": "d60aee40-65ec-4dba-c4f4-df7ad88728a2",
        "colab": {
          "base_uri": "https://localhost:8080/"
        }
      },
      "execution_count": 17,
      "outputs": [
        {
          "output_type": "stream",
          "name": "stdout",
          "text": [
            "Archive:  mta_2019.zip\n",
            "  End-of-central-directory signature not found.  Either this file is not\n",
            "  a zipfile, or it constitutes one disk of a multi-part archive.  In the\n",
            "  latter case the central directory and zipfile comment will be found on\n",
            "  the last disk(s) of this archive.\n",
            "unzip:  cannot find zipfile directory in one of mta_2019.zip or\n",
            "        mta_2019.zip.zip, and cannot find mta_2019.zip.ZIP, period.\n"
          ]
        }
      ]
    },
    {
      "cell_type": "markdown",
      "metadata": {
        "id": "E1g4YUSQWXz6"
      },
      "source": [
        "### **PART 2 - Loading and Visualizing the Data**"
      ]
    },
    {
      "cell_type": "markdown",
      "metadata": {
        "id": "AVgsrp9PWc8E"
      },
      "source": [
        "**Load the 2019 and 2020 data into DataFrames called `mta19` and `mta20`.**"
      ]
    },
    {
      "cell_type": "code",
      "metadata": {
        "id": "bhjrovdJaOb5"
      },
      "source": [],
      "execution_count": null,
      "outputs": []
    },
    {
      "cell_type": "markdown",
      "metadata": {
        "id": "Jy9iHRMraO1d"
      },
      "source": [
        "**Remove rows for which the `\"borough\"` is NaN.**"
      ]
    },
    {
      "cell_type": "code",
      "metadata": {
        "id": "6LqW7_1naSo-"
      },
      "source": [],
      "execution_count": null,
      "outputs": []
    },
    {
      "cell_type": "markdown",
      "metadata": {
        "id": "-_f0wSAiaTAs"
      },
      "source": [
        "**Plot daily time series (entries and exists separately) for 2019 and 2020, summing across all stations.**"
      ]
    },
    {
      "cell_type": "code",
      "metadata": {
        "id": "LSLgTn4Nahlo"
      },
      "source": [],
      "execution_count": null,
      "outputs": []
    },
    {
      "cell_type": "markdown",
      "metadata": {
        "id": "ytYFGJG4apsR"
      },
      "source": [
        "**Plot the daily time series (entries and exists) for Manhattan only and also summed across all non-Manhattan boroughs (aka, the \"outer boroughs\").**"
      ]
    },
    {
      "cell_type": "code",
      "metadata": {
        "id": "MtA6ap6Pbvg2"
      },
      "source": [],
      "execution_count": null,
      "outputs": []
    },
    {
      "cell_type": "markdown",
      "metadata": {
        "id": "BZ5zIa4edD78"
      },
      "source": [
        "### **PART 3 - Time Series Analysis**"
      ]
    },
    {
      "cell_type": "markdown",
      "metadata": {
        "id": "o8ZXPpm0lABN"
      },
      "source": [
        "**Which day of the week has the least ridership (entries) in the whole city in 2019?**"
      ]
    },
    {
      "cell_type": "code",
      "metadata": {
        "id": "NcYN1f6Tk_xM"
      },
      "source": [],
      "execution_count": null,
      "outputs": []
    },
    {
      "cell_type": "markdown",
      "metadata": {
        "id": "26r3X4RxlEWS"
      },
      "source": [
        "**Which month of the year has the least ridership (entries) in the whole city in 2019?**"
      ]
    },
    {
      "cell_type": "code",
      "metadata": {
        "id": "fLmuRUNDlENw"
      },
      "source": [],
      "execution_count": null,
      "outputs": []
    },
    {
      "cell_type": "markdown",
      "metadata": {
        "id": "11DAnKFUlSi3"
      },
      "source": [
        "**Which station has the lowest total 2020 ridership (entries) in each borough?**"
      ]
    },
    {
      "cell_type": "code",
      "metadata": {
        "id": "61uKqSmdlSXW"
      },
      "source": [],
      "execution_count": null,
      "outputs": []
    },
    {
      "cell_type": "markdown",
      "metadata": {
        "id": "mSE-enWNdHBB"
      },
      "source": [
        "**Decompose the total (summed across the whole city) daily entries time series into a trend, a periodicity (seasonality), and residual for each year.**"
      ]
    },
    {
      "cell_type": "code",
      "metadata": {
        "id": "CBW35_9JdPnB"
      },
      "source": [],
      "execution_count": null,
      "outputs": []
    },
    {
      "cell_type": "markdown",
      "metadata": {
        "id": "MwzE29wufbiw"
      },
      "source": [
        "**To what do the anomalies in the residual time series correspond?**"
      ]
    },
    {
      "cell_type": "markdown",
      "metadata": {
        "id": "MvzdDq65fbT-"
      },
      "source": [
        "TEXT FOR YOUR ANSWER HERE."
      ]
    },
    {
      "cell_type": "markdown",
      "metadata": {
        "id": "-grq4uF7dWpk"
      },
      "source": [
        "**Demonstrate that the time series has weekly periodicity (when removing the trend, use a 30 day rolling average).**"
      ]
    },
    {
      "cell_type": "code",
      "metadata": {
        "id": "y7M5MuWEdc8O"
      },
      "source": [],
      "execution_count": null,
      "outputs": []
    },
    {
      "cell_type": "markdown",
      "metadata": {
        "id": "pE7P9cZvddnb"
      },
      "source": [
        "**Find the station with weakest weekly periodicity in 2019 and plot its time series.**\n"
      ]
    },
    {
      "cell_type": "code",
      "metadata": {
        "id": "IoG6nT07k0Ai"
      },
      "source": [],
      "execution_count": null,
      "outputs": []
    },
    {
      "cell_type": "markdown",
      "metadata": {
        "id": "TsYsDfUHyKRG"
      },
      "source": [
        "**Why does this station have the weakest periodicity?**"
      ]
    },
    {
      "cell_type": "markdown",
      "metadata": {
        "id": "b33G0PKIyKE0"
      },
      "source": [
        "TEXT FOR YOUR ANSWER HERE."
      ]
    },
    {
      "cell_type": "markdown",
      "metadata": {
        "id": "UlNGL9Mjo-3q"
      },
      "source": [
        "**For each station, calculate the fractional change between 2019 and 2020 for the number of entries between April 1st and December 1st in each year.**"
      ]
    },
    {
      "cell_type": "code",
      "metadata": {
        "id": "biiEEZDSxczv"
      },
      "source": [],
      "execution_count": null,
      "outputs": []
    },
    {
      "cell_type": "markdown",
      "metadata": {
        "id": "5pQxNxtrxdID"
      },
      "source": [
        "**Make a scatter plot of the station lon/lat where the size of the marker scales with the fractional change above (see `dstep23/week4/09.19.2023/dstep23_delaware_natural_areas.ipynb`).**"
      ]
    },
    {
      "cell_type": "code",
      "metadata": {
        "id": "ty4iabG5xlmu"
      },
      "source": [],
      "execution_count": null,
      "outputs": []
    },
    {
      "cell_type": "markdown",
      "metadata": {
        "id": "Ueo1ntFdxmDT"
      },
      "source": [
        "**Comment on the implications for the scatter plot above.**"
      ]
    },
    {
      "cell_type": "markdown",
      "metadata": {
        "id": "yUzppxqHxqI7"
      },
      "source": [
        "TEXT FOR YOUR ANSWER HERE."
      ]
    },
    {
      "cell_type": "markdown",
      "source": [
        "**<u>In your own words</u>, summarize the impact of the COVID-19 pandemic on subway ridership in NYC and put those in context of the resources you identified in Part 1.**"
      ],
      "metadata": {
        "id": "4eQLkIJlbf44"
      }
    },
    {
      "cell_type": "markdown",
      "source": [
        "TEXT FOR YOUR ANSWER HERE."
      ],
      "metadata": {
        "id": "CEqtzZfXbhlA"
      }
    }
  ]
}