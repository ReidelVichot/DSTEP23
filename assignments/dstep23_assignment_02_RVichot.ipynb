{
  "nbformat": 4,
  "nbformat_minor": 0,
  "metadata": {
    "colab": {
      "provenance": [],
      "include_colab_link": true
    },
    "kernelspec": {
      "name": "python3",
      "display_name": "Python 3"
    }
  },
  "cells": [
    {
      "cell_type": "markdown",
      "metadata": {
        "id": "view-in-github",
        "colab_type": "text"
      },
      "source": [
        "<a href=\"https://colab.research.google.com/github/ReidelVichot/DSTEP23/blob/main/assignments/dstep23_assignment_02_RVichot.ipynb\" target=\"_parent\"><img src=\"https://colab.research.google.com/assets/colab-badge.svg\" alt=\"Open In Colab\"/></a>"
      ]
    },
    {
      "cell_type": "markdown",
      "metadata": {
        "id": "8xrosBnbxFmc"
      },
      "source": [
        "# **DSTEP23 // Assignment #2**\n",
        "\n",
        "assigned : **Sep 14, 2023**\n",
        "\n",
        "DUE : **Sep 21, 2023 11:59pm**\n",
        "\n",
        "\n",
        "## Global Sea Level Rise: When will New Castle Battery Park be underwater?\n",
        "\n",
        "![alt text](https://lh5.googleusercontent.com/p/AF1QipNu7_-CRmvQTqI7m_V693kOu_IzeeDVYw2Do2UT=w408-h306-k-no)\n",
        "\n",
        "---"
      ]
    },
    {
      "cell_type": "markdown",
      "metadata": {
        "id": "KO6i9ujXENFT"
      },
      "source": [
        "<b>\n",
        "\n",
        "How to complete and submit assignments:\n",
        "\n",
        "1. Please make a copy of this notebook in your Google Drive and add your name to the filename.\n",
        "\n",
        "2. Once you have completed the notebook, please share it with me before the due date and time by clicking the \"Share\" button in the upper right corner of the notebook.\n",
        "\n",
        "\n",
        "Rules for assignments:\n",
        "\n",
        "1. You may work with other students in the class, but if you do, each student with whom you worked <u>must</u> be listed below.  Direct copying from someone else's notebook is not permitted.\n",
        "\n",
        "2. You may use generative AI models (e.g., ChatGPT) to help complete the assignment but if you do you must answer YES to the question below and bear in mind that such models <u>often</u> yield incorrect and biased solutions.\n",
        "\n",
        "3. All solutions and outputs must be derived with python and the notebook should be \"runable\" by me (top to bottom) without errors.\n",
        "\n",
        "4. Late assignments will assess a 15% late penalty up to 3 days after the due date and a 50% late penalty until the end of the term.\n",
        "\n",
        "</b>\n",
        "\n",
        "<u>**Instructions for tasks that will be graded are in bold below.**</u>\n",
        "\n",
        "---"
      ]
    },
    {
      "cell_type": "markdown",
      "source": [
        "**Please list the names of the other students with whom you worked for this assignment (if none, put \"None\").**"
      ],
      "metadata": {
        "id": "Q260CKfd4Vth"
      }
    },
    {
      "cell_type": "markdown",
      "source": [
        "None"
      ],
      "metadata": {
        "id": "0kROot5o4cjv"
      }
    },
    {
      "cell_type": "markdown",
      "source": [
        "**Did you use a generative AI model (e.g., ChatGPT) to create text or code for this assignment?**"
      ],
      "metadata": {
        "id": "lMqLj9F24e3X"
      }
    },
    {
      "cell_type": "markdown",
      "source": [
        "No"
      ],
      "metadata": {
        "id": "tV_6fEpq4h7f"
      }
    },
    {
      "cell_type": "markdown",
      "source": [
        "---"
      ],
      "metadata": {
        "id": "lkiKDDoH4nHV"
      }
    },
    {
      "cell_type": "markdown",
      "metadata": {
        "id": "DAfRAXP8NGgF"
      },
      "source": [
        "#### **PART 0 - WEEKLY VISUALIZATION**\n",
        "\n",
        "***<u>NOTE: Part 0 should be done by yourself and not in collaboration with others.</u>***\n",
        "\n",
        "Beginning this week, part of the weekly assignments will include the finding and visualization of data.  This is – and will continue to be – a *very* open-ended task with two objectives:\n",
        "\n",
        "1. ***Find a data set on the web that relates to a policy problem***\n",
        "\n",
        "2. ***Make a plot of some characteristics/features of that data***\n",
        "\n",
        "These \"weekly visualizations\" should be done in a <u>separate notebook</u> and should **include a link** to where I can find the data.  **A caption is also necessary** but it is *not* a requirement that the visualization show an obvious relationship (e.g., correlation or scaling) between the features of the data set.  \n",
        "\n",
        "Lastly, these visualizations should be made **using Python/Jupyter running on your own machine** and not Colaboratory.  And so, as part of this week's assignment:\n",
        "\n",
        "**Install [Anaconda](https://www.anaconda.com/download) on your machine <small> (scroll to the bottom in the link)</small>**\n",
        "\n",
        "Anaconda is currently the most widely used Python distribution and includes within it Jupyter as well as other Python-related tools.  If you do not have access to your own computer on which you have permissions to install software for yourself, or if your machine does not have sufficient computational resources to load and analyze data, please let me know!\n",
        "\n",
        "**To submit the visualization, the `.ipynb` Jupyter notebook that you create and write on your machine should be uploaded to your UD GoogleDrive and shared with me.**"
      ]
    },
    {
      "cell_type": "markdown",
      "metadata": {
        "id": "sO7JPuK4FC1k"
      },
      "source": [
        "---"
      ]
    },
    {
      "cell_type": "markdown",
      "metadata": {
        "id": "WcBMOGd5xzTq"
      },
      "source": [
        "### OVERVIEW\n",
        "\n",
        "Sea level has been on the rise for at least 100 years, and as the climate changes and the Earth warms, the rate of that rise has been an active area of study given the potential consequences if sea level is strongly affected.\n",
        "\n",
        "Measurements of sea level mostly come in two flavors, satellites and tide gauges.  As we discussed in class, the satellite measurements are primarily accomplished by firing radio waves towards the ocean surface and waiting for the time it takes for those radio waves to bounce back and return to the satellite.  Since we know how fast light (radio waves are a form of light) travels, the distance from the satellite to the surface is just the bounce back time divided by the speed of light.  [TOPEX/Poseidon](https://en.wikipedia.org/wiki/TOPEX/Poseidon) has been one of the most successful satellite missions for these altimetry measurements of the ocean surface.  [Tide gauges](https://en.wikipedia.org/wiki/Tide_gauge), on the other hand, are ground-based measurements that directly measure the height of water relative to a stationary device.  They are less accurate, provide significantly reduced spatial and temporal coverage, but prior to satellite altimetry, were the only real method for measuring sea level.\n",
        "\n",
        "There are three main goals of this assignment:\n",
        "\n",
        "1. accessing and working with a century of sea level data\n",
        "2. fitting linear models to that data for estimates of the rate of sea level rise\n",
        "3. comparing multiple models for prediction of future sea level\n",
        "\n",
        "<u>**Instructions for tasks that will be graded are in bold below.**</u>"
      ]
    },
    {
      "cell_type": "markdown",
      "metadata": {
        "id": "G177z_yI72CE"
      },
      "source": [
        "---\n",
        "\n",
        "### **PART 1 - Background**\n",
        "\n",
        "Good data science (and data analysis more generally) depends on a clear understanding of the underlying problem/situation, the methods by which the data you are about to analyze are collected, and the situational context in which that data sits.  To that end:\n",
        "\n",
        "<b>Read through the two links above on satellite and tide gauge measurements on historical measurements of sea level as well as discussions of sea level rise in the IPCC 2021 Sixth Assessment Report\n",
        "[\"Summary for Policy Makers\"](https://www.ipcc.ch/report/ar6/wg1/) paying special attention to its historical significance, context within a changing climate, and projections for the future (if you click through the links you'll find a discussion of sea level in Sections B.5.3 and B.5.4 with links to the relevant chapters).</b>"
      ]
    },
    {
      "cell_type": "markdown",
      "metadata": {
        "id": "YVQ7PNSp2gnK"
      },
      "source": [
        "---\n",
        "\n",
        "### **PART 2 - Loading and plotting the data**\n",
        "\n",
        "The NOAA data that we used in our first sea level rise notebook covers roughly 30 years of sea level changes, but there are data that go back further that are available from CSIRO (Commonwealth Scientific and Industrial Research Organization).  Descriptions of aggregated historical data from CSIRO can be found [here](https://research.csiro.au/slrwavescoast/sea-level/measurements-and-data/) and in the associated links.  The data we'll be using is available as a [CSV](https://datahub.io/core/sea-level-rise/r/epa-sea-level.csv) -- but please see the documentation and caveats associated with it in the README at the bottom of [this](https://datahub.io/core/sea-level-rise) page."
      ]
    },
    {
      "cell_type": "markdown",
      "metadata": {
        "id": "ox5j2OOa8r4S"
      },
      "source": [
        "<b>Read in the CSIRO data from the link above labeled CSV into a variable called `csiro`.</b>"
      ]
    },
    {
      "cell_type": "code",
      "metadata": {
        "id": "ySGi35bN8v6E",
        "colab": {
          "base_uri": "https://localhost:8080/",
          "height": 423
        },
        "outputId": "2841de3f-2dc8-4e45-c880-142a5a8ae6c6"
      },
      "source": [
        "import pandas as pd\n",
        "import numpy as np\n",
        "import matplotlib.pyplot as plt\n",
        "\n",
        "\n",
        "fname = \"https://datahub.io/core/sea-level-rise/r/epa-sea-level.csv\"\n",
        "csiro = pd.read_csv(fname)\n",
        "\n",
        "csiro"
      ],
      "execution_count": 119,
      "outputs": [
        {
          "output_type": "execute_result",
          "data": {
            "text/plain": [
              "           Year  CSIRO Adjusted Sea Level  Lower Error Bound  \\\n",
              "0    1880-03-15                  0.000000          -0.952756   \n",
              "1    1881-03-15                  0.220472          -0.732283   \n",
              "2    1882-03-15                 -0.440945          -1.346457   \n",
              "3    1883-03-15                 -0.232283          -1.129921   \n",
              "4    1884-03-15                  0.590551          -0.283465   \n",
              "..          ...                       ...                ...   \n",
              "130  2010-03-15                  8.901575           8.618110   \n",
              "131  2011-03-15                  8.964567           8.661417   \n",
              "132  2012-03-15                  9.326772           8.992126   \n",
              "133  2013-03-15                  8.980315           8.622047   \n",
              "134  2014-03-15                       NaN                NaN   \n",
              "\n",
              "     Upper Error Bound  NOAA Adjusted Sea Level  \n",
              "0             0.952756                      NaN  \n",
              "1             1.173228                      NaN  \n",
              "2             0.464567                      NaN  \n",
              "3             0.665354                      NaN  \n",
              "4             1.464567                      NaN  \n",
              "..                 ...                      ...  \n",
              "130           9.185039                 8.122973  \n",
              "131           9.267717                 8.053065  \n",
              "132           9.661417                 8.457058  \n",
              "133           9.338583                 8.546648  \n",
              "134                NaN                 8.663700  \n",
              "\n",
              "[135 rows x 5 columns]"
            ],
            "text/html": [
              "\n",
              "  <div id=\"df-8e3a8d2c-d2ad-4446-b512-d26dd7abe70a\" class=\"colab-df-container\">\n",
              "    <div>\n",
              "<style scoped>\n",
              "    .dataframe tbody tr th:only-of-type {\n",
              "        vertical-align: middle;\n",
              "    }\n",
              "\n",
              "    .dataframe tbody tr th {\n",
              "        vertical-align: top;\n",
              "    }\n",
              "\n",
              "    .dataframe thead th {\n",
              "        text-align: right;\n",
              "    }\n",
              "</style>\n",
              "<table border=\"1\" class=\"dataframe\">\n",
              "  <thead>\n",
              "    <tr style=\"text-align: right;\">\n",
              "      <th></th>\n",
              "      <th>Year</th>\n",
              "      <th>CSIRO Adjusted Sea Level</th>\n",
              "      <th>Lower Error Bound</th>\n",
              "      <th>Upper Error Bound</th>\n",
              "      <th>NOAA Adjusted Sea Level</th>\n",
              "    </tr>\n",
              "  </thead>\n",
              "  <tbody>\n",
              "    <tr>\n",
              "      <th>0</th>\n",
              "      <td>1880-03-15</td>\n",
              "      <td>0.000000</td>\n",
              "      <td>-0.952756</td>\n",
              "      <td>0.952756</td>\n",
              "      <td>NaN</td>\n",
              "    </tr>\n",
              "    <tr>\n",
              "      <th>1</th>\n",
              "      <td>1881-03-15</td>\n",
              "      <td>0.220472</td>\n",
              "      <td>-0.732283</td>\n",
              "      <td>1.173228</td>\n",
              "      <td>NaN</td>\n",
              "    </tr>\n",
              "    <tr>\n",
              "      <th>2</th>\n",
              "      <td>1882-03-15</td>\n",
              "      <td>-0.440945</td>\n",
              "      <td>-1.346457</td>\n",
              "      <td>0.464567</td>\n",
              "      <td>NaN</td>\n",
              "    </tr>\n",
              "    <tr>\n",
              "      <th>3</th>\n",
              "      <td>1883-03-15</td>\n",
              "      <td>-0.232283</td>\n",
              "      <td>-1.129921</td>\n",
              "      <td>0.665354</td>\n",
              "      <td>NaN</td>\n",
              "    </tr>\n",
              "    <tr>\n",
              "      <th>4</th>\n",
              "      <td>1884-03-15</td>\n",
              "      <td>0.590551</td>\n",
              "      <td>-0.283465</td>\n",
              "      <td>1.464567</td>\n",
              "      <td>NaN</td>\n",
              "    </tr>\n",
              "    <tr>\n",
              "      <th>...</th>\n",
              "      <td>...</td>\n",
              "      <td>...</td>\n",
              "      <td>...</td>\n",
              "      <td>...</td>\n",
              "      <td>...</td>\n",
              "    </tr>\n",
              "    <tr>\n",
              "      <th>130</th>\n",
              "      <td>2010-03-15</td>\n",
              "      <td>8.901575</td>\n",
              "      <td>8.618110</td>\n",
              "      <td>9.185039</td>\n",
              "      <td>8.122973</td>\n",
              "    </tr>\n",
              "    <tr>\n",
              "      <th>131</th>\n",
              "      <td>2011-03-15</td>\n",
              "      <td>8.964567</td>\n",
              "      <td>8.661417</td>\n",
              "      <td>9.267717</td>\n",
              "      <td>8.053065</td>\n",
              "    </tr>\n",
              "    <tr>\n",
              "      <th>132</th>\n",
              "      <td>2012-03-15</td>\n",
              "      <td>9.326772</td>\n",
              "      <td>8.992126</td>\n",
              "      <td>9.661417</td>\n",
              "      <td>8.457058</td>\n",
              "    </tr>\n",
              "    <tr>\n",
              "      <th>133</th>\n",
              "      <td>2013-03-15</td>\n",
              "      <td>8.980315</td>\n",
              "      <td>8.622047</td>\n",
              "      <td>9.338583</td>\n",
              "      <td>8.546648</td>\n",
              "    </tr>\n",
              "    <tr>\n",
              "      <th>134</th>\n",
              "      <td>2014-03-15</td>\n",
              "      <td>NaN</td>\n",
              "      <td>NaN</td>\n",
              "      <td>NaN</td>\n",
              "      <td>8.663700</td>\n",
              "    </tr>\n",
              "  </tbody>\n",
              "</table>\n",
              "<p>135 rows × 5 columns</p>\n",
              "</div>\n",
              "    <div class=\"colab-df-buttons\">\n",
              "\n",
              "  <div class=\"colab-df-container\">\n",
              "    <button class=\"colab-df-convert\" onclick=\"convertToInteractive('df-8e3a8d2c-d2ad-4446-b512-d26dd7abe70a')\"\n",
              "            title=\"Convert this dataframe to an interactive table.\"\n",
              "            style=\"display:none;\">\n",
              "\n",
              "  <svg xmlns=\"http://www.w3.org/2000/svg\" height=\"24px\" viewBox=\"0 -960 960 960\">\n",
              "    <path d=\"M120-120v-720h720v720H120Zm60-500h600v-160H180v160Zm220 220h160v-160H400v160Zm0 220h160v-160H400v160ZM180-400h160v-160H180v160Zm440 0h160v-160H620v160ZM180-180h160v-160H180v160Zm440 0h160v-160H620v160Z\"/>\n",
              "  </svg>\n",
              "    </button>\n",
              "\n",
              "  <style>\n",
              "    .colab-df-container {\n",
              "      display:flex;\n",
              "      gap: 12px;\n",
              "    }\n",
              "\n",
              "    .colab-df-convert {\n",
              "      background-color: #E8F0FE;\n",
              "      border: none;\n",
              "      border-radius: 50%;\n",
              "      cursor: pointer;\n",
              "      display: none;\n",
              "      fill: #1967D2;\n",
              "      height: 32px;\n",
              "      padding: 0 0 0 0;\n",
              "      width: 32px;\n",
              "    }\n",
              "\n",
              "    .colab-df-convert:hover {\n",
              "      background-color: #E2EBFA;\n",
              "      box-shadow: 0px 1px 2px rgba(60, 64, 67, 0.3), 0px 1px 3px 1px rgba(60, 64, 67, 0.15);\n",
              "      fill: #174EA6;\n",
              "    }\n",
              "\n",
              "    .colab-df-buttons div {\n",
              "      margin-bottom: 4px;\n",
              "    }\n",
              "\n",
              "    [theme=dark] .colab-df-convert {\n",
              "      background-color: #3B4455;\n",
              "      fill: #D2E3FC;\n",
              "    }\n",
              "\n",
              "    [theme=dark] .colab-df-convert:hover {\n",
              "      background-color: #434B5C;\n",
              "      box-shadow: 0px 1px 3px 1px rgba(0, 0, 0, 0.15);\n",
              "      filter: drop-shadow(0px 1px 2px rgba(0, 0, 0, 0.3));\n",
              "      fill: #FFFFFF;\n",
              "    }\n",
              "  </style>\n",
              "\n",
              "    <script>\n",
              "      const buttonEl =\n",
              "        document.querySelector('#df-8e3a8d2c-d2ad-4446-b512-d26dd7abe70a button.colab-df-convert');\n",
              "      buttonEl.style.display =\n",
              "        google.colab.kernel.accessAllowed ? 'block' : 'none';\n",
              "\n",
              "      async function convertToInteractive(key) {\n",
              "        const element = document.querySelector('#df-8e3a8d2c-d2ad-4446-b512-d26dd7abe70a');\n",
              "        const dataTable =\n",
              "          await google.colab.kernel.invokeFunction('convertToInteractive',\n",
              "                                                    [key], {});\n",
              "        if (!dataTable) return;\n",
              "\n",
              "        const docLinkHtml = 'Like what you see? Visit the ' +\n",
              "          '<a target=\"_blank\" href=https://colab.research.google.com/notebooks/data_table.ipynb>data table notebook</a>'\n",
              "          + ' to learn more about interactive tables.';\n",
              "        element.innerHTML = '';\n",
              "        dataTable['output_type'] = 'display_data';\n",
              "        await google.colab.output.renderOutput(dataTable, element);\n",
              "        const docLink = document.createElement('div');\n",
              "        docLink.innerHTML = docLinkHtml;\n",
              "        element.appendChild(docLink);\n",
              "      }\n",
              "    </script>\n",
              "  </div>\n",
              "\n",
              "\n",
              "<div id=\"df-50251692-bf3a-49a5-8852-211c7b41a1e0\">\n",
              "  <button class=\"colab-df-quickchart\" onclick=\"quickchart('df-50251692-bf3a-49a5-8852-211c7b41a1e0')\"\n",
              "            title=\"Suggest charts.\"\n",
              "            style=\"display:none;\">\n",
              "\n",
              "<svg xmlns=\"http://www.w3.org/2000/svg\" height=\"24px\"viewBox=\"0 0 24 24\"\n",
              "     width=\"24px\">\n",
              "    <g>\n",
              "        <path d=\"M19 3H5c-1.1 0-2 .9-2 2v14c0 1.1.9 2 2 2h14c1.1 0 2-.9 2-2V5c0-1.1-.9-2-2-2zM9 17H7v-7h2v7zm4 0h-2V7h2v10zm4 0h-2v-4h2v4z\"/>\n",
              "    </g>\n",
              "</svg>\n",
              "  </button>\n",
              "\n",
              "<style>\n",
              "  .colab-df-quickchart {\n",
              "      --bg-color: #E8F0FE;\n",
              "      --fill-color: #1967D2;\n",
              "      --hover-bg-color: #E2EBFA;\n",
              "      --hover-fill-color: #174EA6;\n",
              "      --disabled-fill-color: #AAA;\n",
              "      --disabled-bg-color: #DDD;\n",
              "  }\n",
              "\n",
              "  [theme=dark] .colab-df-quickchart {\n",
              "      --bg-color: #3B4455;\n",
              "      --fill-color: #D2E3FC;\n",
              "      --hover-bg-color: #434B5C;\n",
              "      --hover-fill-color: #FFFFFF;\n",
              "      --disabled-bg-color: #3B4455;\n",
              "      --disabled-fill-color: #666;\n",
              "  }\n",
              "\n",
              "  .colab-df-quickchart {\n",
              "    background-color: var(--bg-color);\n",
              "    border: none;\n",
              "    border-radius: 50%;\n",
              "    cursor: pointer;\n",
              "    display: none;\n",
              "    fill: var(--fill-color);\n",
              "    height: 32px;\n",
              "    padding: 0;\n",
              "    width: 32px;\n",
              "  }\n",
              "\n",
              "  .colab-df-quickchart:hover {\n",
              "    background-color: var(--hover-bg-color);\n",
              "    box-shadow: 0 1px 2px rgba(60, 64, 67, 0.3), 0 1px 3px 1px rgba(60, 64, 67, 0.15);\n",
              "    fill: var(--button-hover-fill-color);\n",
              "  }\n",
              "\n",
              "  .colab-df-quickchart-complete:disabled,\n",
              "  .colab-df-quickchart-complete:disabled:hover {\n",
              "    background-color: var(--disabled-bg-color);\n",
              "    fill: var(--disabled-fill-color);\n",
              "    box-shadow: none;\n",
              "  }\n",
              "\n",
              "  .colab-df-spinner {\n",
              "    border: 2px solid var(--fill-color);\n",
              "    border-color: transparent;\n",
              "    border-bottom-color: var(--fill-color);\n",
              "    animation:\n",
              "      spin 1s steps(1) infinite;\n",
              "  }\n",
              "\n",
              "  @keyframes spin {\n",
              "    0% {\n",
              "      border-color: transparent;\n",
              "      border-bottom-color: var(--fill-color);\n",
              "      border-left-color: var(--fill-color);\n",
              "    }\n",
              "    20% {\n",
              "      border-color: transparent;\n",
              "      border-left-color: var(--fill-color);\n",
              "      border-top-color: var(--fill-color);\n",
              "    }\n",
              "    30% {\n",
              "      border-color: transparent;\n",
              "      border-left-color: var(--fill-color);\n",
              "      border-top-color: var(--fill-color);\n",
              "      border-right-color: var(--fill-color);\n",
              "    }\n",
              "    40% {\n",
              "      border-color: transparent;\n",
              "      border-right-color: var(--fill-color);\n",
              "      border-top-color: var(--fill-color);\n",
              "    }\n",
              "    60% {\n",
              "      border-color: transparent;\n",
              "      border-right-color: var(--fill-color);\n",
              "    }\n",
              "    80% {\n",
              "      border-color: transparent;\n",
              "      border-right-color: var(--fill-color);\n",
              "      border-bottom-color: var(--fill-color);\n",
              "    }\n",
              "    90% {\n",
              "      border-color: transparent;\n",
              "      border-bottom-color: var(--fill-color);\n",
              "    }\n",
              "  }\n",
              "</style>\n",
              "\n",
              "  <script>\n",
              "    async function quickchart(key) {\n",
              "      const quickchartButtonEl =\n",
              "        document.querySelector('#' + key + ' button');\n",
              "      quickchartButtonEl.disabled = true;  // To prevent multiple clicks.\n",
              "      quickchartButtonEl.classList.add('colab-df-spinner');\n",
              "      try {\n",
              "        const charts = await google.colab.kernel.invokeFunction(\n",
              "            'suggestCharts', [key], {});\n",
              "      } catch (error) {\n",
              "        console.error('Error during call to suggestCharts:', error);\n",
              "      }\n",
              "      quickchartButtonEl.classList.remove('colab-df-spinner');\n",
              "      quickchartButtonEl.classList.add('colab-df-quickchart-complete');\n",
              "    }\n",
              "    (() => {\n",
              "      let quickchartButtonEl =\n",
              "        document.querySelector('#df-50251692-bf3a-49a5-8852-211c7b41a1e0 button');\n",
              "      quickchartButtonEl.style.display =\n",
              "        google.colab.kernel.accessAllowed ? 'block' : 'none';\n",
              "    })();\n",
              "  </script>\n",
              "</div>\n",
              "    </div>\n",
              "  </div>\n"
            ]
          },
          "metadata": {},
          "execution_count": 119
        }
      ]
    },
    {
      "cell_type": "markdown",
      "metadata": {
        "id": "lKODyDjt8wTV"
      },
      "source": [
        "<b>Take the <u>minimum</u> of the `\"CSIRO Adjusted Sea Level\"` and `\"NOAA Adjusted Sea Level\"` colmuns for each row and add it to the DataFrame as a column called `\"min_level\"`.</b>"
      ]
    },
    {
      "cell_type": "code",
      "source": [
        "cols = [\"CSIRO Adjusted Sea Level\",\"NOAA Adjusted Sea Level\"]\n",
        "csiro[\"min_level\"] = csiro[cols].min(axis=1)\n"
      ],
      "metadata": {
        "id": "TgUmOLQoZo-n"
      },
      "execution_count": 120,
      "outputs": []
    },
    {
      "cell_type": "markdown",
      "metadata": {
        "id": "RoJWOWy19jt0"
      },
      "source": [
        "<b>The CSIRO sea level data is in inches.  Convert the `\"min_level\"` column to millimeters.</B>"
      ]
    },
    {
      "cell_type": "code",
      "metadata": {
        "id": "Nb5oADD29wwC"
      },
      "source": [
        "csiro['min_level'] = csiro[\"min_level\"]*25.4"
      ],
      "execution_count": 121,
      "outputs": []
    },
    {
      "cell_type": "markdown",
      "metadata": {
        "id": "MYID1JmVyAsp"
      },
      "source": [
        "Notice that the CSIRO time data is actually a string and includes months and dates.  **Run the cell below to create a column called `\"year_int\"` that is the CSIRO year as an integer so that we don't have to worry about the months and dates from now on.**"
      ]
    },
    {
      "cell_type": "code",
      "metadata": {
        "id": "KV73teewyBGt"
      },
      "source": [
        "csiro[\"year_int\"] = [int(i[:4]) for i in csiro[\"Year\"]]"
      ],
      "execution_count": 122,
      "outputs": []
    },
    {
      "cell_type": "markdown",
      "metadata": {
        "id": "Q-CvfMC3gIbf"
      },
      "source": [
        "**Make a plot of the sea-level as a function of time <u>making sure to include a caption</u>.**"
      ]
    },
    {
      "cell_type": "code",
      "metadata": {
        "id": "U0emfQ3JgIyV",
        "colab": {
          "base_uri": "https://localhost:8080/",
          "height": 487
        },
        "outputId": "47efac76-1487-40c7-cab9-cc2409c9a114"
      },
      "source": [
        "fig, ax = plt.subplots(figsize=(10,5))\n",
        "\n",
        "\n",
        "plt.title(\"Sea Level Data\")\n",
        "ax.plot(csiro['year_int'], csiro[\"min_level\"])\n",
        "\n",
        "ax.set_xlabel(\"Year\")\n",
        "ax.set_ylabel(\"Sea level increase in [mm]\")\n",
        "\n",
        "fig.show()"
      ],
      "execution_count": 123,
      "outputs": [
        {
          "output_type": "display_data",
          "data": {
            "text/plain": [
              "<Figure size 1000x500 with 1 Axes>"
            ],
            "image/png": "[encoded data removed]"
          },
          "metadata": {}
        }
      ]
    },
    {
      "cell_type": "markdown",
      "metadata": {
        "id": "wLRdT4iN0Djq"
      },
      "source": [
        "Figure 1: This figure shows the increase of sea level in milimeters from 1884 to 2014."
      ]
    },
    {
      "cell_type": "markdown",
      "metadata": {
        "id": "1vpsVvOm-9Oc"
      },
      "source": [
        "---\n",
        "\n",
        "### **PART 3 - Fitting a linear model**\n",
        "\n",
        "As we did in class with the \"recent\" NOAA data, your goal here is to estimate the rate of sea level rise.  However, we now have a much longer <i>temporal baseline</i>."
      ]
    },
    {
      "cell_type": "markdown",
      "metadata": {
        "id": "tjELdMck_kuR"
      },
      "source": [
        "**Using `statsmodels` fit a linear model to the data:**\n",
        "\n",
        "${\\rm sea~level} = a_1 \\times {\\rm time} + a_0$\n",
        "\n",
        "**making sure to include a discussion of the measured value of sea level rise, whether or not the model is a \"good\" fit to the data (and why or why not), and appropriate visualizations with captions.**"
      ]
    },
    {
      "cell_type": "code",
      "metadata": {
        "id": "T6RRpnMQEM2v",
        "colab": {
          "base_uri": "https://localhost:8080/"
        },
        "outputId": "4926d323-ac4e-4a49-8daf-695214eae57d"
      },
      "source": [
        "# -- import statmodels using the formula api\n",
        "import statsmodels.formula.api as sm\n",
        "\n",
        "\n",
        "# -- first build the model\n",
        "model = sm.ols(\"min_level ~ year_int\", data=csiro)\n",
        "\n",
        "# -- now fit the model to the data\n",
        "result = model.fit()\n",
        "\n",
        "print(result.summary())"
      ],
      "execution_count": 124,
      "outputs": [
        {
          "output_type": "stream",
          "name": "stdout",
          "text": [
            "                            OLS Regression Results                            \n",
            "==============================================================================\n",
            "Dep. Variable:              min_level   R-squared:                       0.978\n",
            "Model:                            OLS   Adj. R-squared:                  0.978\n",
            "Method:                 Least Squares   F-statistic:                     6040.\n",
            "Date:                Thu, 21 Sep 2023   Prob (F-statistic):          1.03e-112\n",
            "Time:                        03:49:31   Log-Likelihood:                -488.45\n",
            "No. Observations:                 135   AIC:                             980.9\n",
            "Df Residuals:                     133   BIC:                             986.7\n",
            "Df Model:                           1                                         \n",
            "Covariance Type:            nonrobust                                         \n",
            "==============================================================================\n",
            "                 coef    std err          t      P>|t|      [0.025      0.975]\n",
            "------------------------------------------------------------------------------\n",
            "Intercept  -2943.6655     39.074    -75.335      0.000   -3020.953   -2866.378\n",
            "year_int       1.5594      0.020     77.716      0.000       1.520       1.599\n",
            "==============================================================================\n",
            "Omnibus:                        3.154   Durbin-Watson:                   0.363\n",
            "Prob(Omnibus):                  0.207   Jarque-Bera (JB):                3.163\n",
            "Skew:                           0.338   Prob(JB):                        0.206\n",
            "Kurtosis:                       2.674   Cond. No.                     9.73e+04\n",
            "==============================================================================\n",
            "\n",
            "Notes:\n",
            "[1] Standard Errors assume that the covariance matrix of the errors is correctly specified.\n",
            "[2] The condition number is large, 9.73e+04. This might indicate that there are\n",
            "strong multicollinearity or other numerical problems.\n"
          ]
        }
      ]
    },
    {
      "cell_type": "markdown",
      "metadata": {
        "id": "2R-zcpW5EP54"
      },
      "source": [
        "In class we discussed the concepts of *variance* as a measure of the dispersion in data and $R^2$ as a measure of the goodness of fit of a model to data.  The two concepts are related since one definition of $R^2$ is the \"fraction of explained variance\".  \n",
        "\n",
        "But what does \"explained variance\" actually mean?  **To visualize this concept, make three plots:**\n",
        "\n",
        "<b>\n",
        "\n",
        "1. a histogram of the sea level values (choose reasonable values for the number of bins and range)\n",
        "\n",
        "2. a plot of the *model residuals* (i.e., the sea level data minus the linear model for the sea level given by the fit above) as a function of time\n",
        "\n",
        "2. a histogram of the *model residuals*\n",
        "\n",
        "</b>\n",
        "\n",
        "**Make sure to include captions for these plots that also state the standard deviation of the data and residuals and describe how they demonstrate that the linear model has \"explained some of the variance\".**"
      ]
    },
    {
      "cell_type": "code",
      "source": [
        "csiro[\"model\"] = result.predict(csiro)\n",
        "csiro[\"residual\"] = csiro[\"min_level\"] - csiro[\"model\"]\n"
      ],
      "metadata": {
        "id": "_5v_6Uj8hgPl"
      },
      "execution_count": 125,
      "outputs": []
    },
    {
      "cell_type": "code",
      "metadata": {
        "id": "2uBncbyQEcp4",
        "colab": {
          "base_uri": "https://localhost:8080/",
          "height": 465
        },
        "outputId": "f0bc31bf-c726-454b-a20a-65fcf388f125"
      },
      "source": [
        "fig, ax = plt.subplots(figsize=(5,5))\n",
        "#histogram of the sea level values\n",
        "csiro.min_level.hist(bins=30,ax=ax)\n",
        "ax.set_xlabel(\"Sea Level Increase [mm]\")\n",
        "ax.set_xlabel(\"count\")\n",
        "fig.show()"
      ],
      "execution_count": 126,
      "outputs": [
        {
          "output_type": "display_data",
          "data": {
            "text/plain": [
              "<Figure size 500x500 with 1 Axes>"
            ],
            "image/png": "[encoded data removed]"
          },
          "metadata": {}
        }
      ]
    },
    {
      "cell_type": "markdown",
      "source": [
        "Figure 2 shows the distribution of the change of sea level values with a total of 30 bins."
      ],
      "metadata": {
        "id": "rCN0f4I4j6bS"
      }
    },
    {
      "cell_type": "code",
      "source": [
        "fig, ax = plt.subplots(figsize=(5,5))\n",
        "ax.plot(csiro[\"year_int\"], csiro[\"residual\"])\n",
        "ax.set_xlabel(\"year\")\n",
        "ax.set_ylabel(\"residuals\")\n",
        "fig.show()"
      ],
      "metadata": {
        "colab": {
          "base_uri": "https://localhost:8080/",
          "height": 469
        },
        "id": "zc-Xd3aehTQS",
        "outputId": "4240f5c5-a703-4f8e-c33a-aa31cc378df1"
      },
      "execution_count": 127,
      "outputs": [
        {
          "output_type": "display_data",
          "data": {
            "text/plain": [
              "<Figure size 500x500 with 1 Axes>"
            ],
            "image/png": "[encoded data removed]"
          },
          "metadata": {}
        }
      ]
    },
    {
      "cell_type": "markdown",
      "source": [
        "Figure 3 shows the variation of residuals (difference between actual values and predicted values). Notice that the values seem to be centered around 0."
      ],
      "metadata": {
        "id": "sxLztZhYkXIM"
      }
    },
    {
      "cell_type": "code",
      "source": [
        "fig, ax = plt.subplots(figsize=(5,5))\n",
        "csiro.residual.hist(bins=30, ax=ax)\n",
        "ax.set_xlabel(\"residuals\")\n",
        "ax.set_ylabel(\"count\")\n",
        "fig.show()"
      ],
      "metadata": {
        "colab": {
          "base_uri": "https://localhost:8080/",
          "height": 465
        },
        "id": "0-Lri17RjbJI",
        "outputId": "c5cf69e5-ab8e-45e8-aea7-b13c34dae5ff"
      },
      "execution_count": 128,
      "outputs": [
        {
          "output_type": "display_data",
          "data": {
            "text/plain": [
              "<Figure size 500x500 with 1 Axes>"
            ],
            "image/png": "[encoded data removed]"
          },
          "metadata": {}
        }
      ]
    },
    {
      "cell_type": "markdown",
      "source": [
        "Figure 4. The distribution of the residuals resembles a normal distribution. Mosty of the information is around the center value (0), still it is far from being a perfect normal distribuition as the tails lack symmetry."
      ],
      "metadata": {
        "id": "RWKxqjHkksvx"
      }
    },
    {
      "cell_type": "markdown",
      "metadata": {
        "id": "Wt-6EKYgO6-n"
      },
      "source": [
        "---\n",
        "\n",
        "### **PART 4 - Comparing Multiple Model Predictions**"
      ]
    },
    {
      "cell_type": "markdown",
      "metadata": {
        "id": "3YUhbIekl2oH"
      },
      "source": [
        "Let's expand the model that we're using to fit the data by adding a quadratic term.  In this part, you will compare the two model fits and use each to predict when New Castle Battery Park will be under water due to rising sea level."
      ]
    },
    {
      "cell_type": "markdown",
      "metadata": {
        "id": "cjcr5oi1O7Hf"
      },
      "source": [
        "**Using the `statsmodels` api, fit a model to the CSIRO data that includes both a linear and quadratic dependence on time.**"
      ]
    },
    {
      "cell_type": "code",
      "metadata": {
        "id": "t3s3O2kjnwWq",
        "colab": {
          "base_uri": "https://localhost:8080/"
        },
        "outputId": "2e5b75b5-79b8-45b5-9bae-d4b4f6f738d2"
      },
      "source": [
        "model2 = sm.ols(\"min_level ~ year_int + np.power(year_int, 2)\", data = csiro)\n",
        "\n",
        "result2 = model2.fit()\n",
        "\n",
        "print(result2.summary())"
      ],
      "execution_count": 129,
      "outputs": [
        {
          "output_type": "stream",
          "name": "stdout",
          "text": [
            "                            OLS Regression Results                            \n",
            "==============================================================================\n",
            "Dep. Variable:              min_level   R-squared:                       0.991\n",
            "Model:                            OLS   Adj. R-squared:                  0.991\n",
            "Method:                 Least Squares   F-statistic:                     7074.\n",
            "Date:                Thu, 21 Sep 2023   Prob (F-statistic):          5.54e-135\n",
            "Time:                        03:49:32   Log-Likelihood:                -431.32\n",
            "No. Observations:                 135   AIC:                             868.6\n",
            "Df Residuals:                     132   BIC:                             877.4\n",
            "Df Model:                           2                                         \n",
            "Covariance Type:            nonrobust                                         \n",
            "=========================================================================================\n",
            "                            coef    std err          t      P>|t|      [0.025      0.975]\n",
            "-----------------------------------------------------------------------------------------\n",
            "Intercept              1.607e+04   1434.461     11.201      0.000    1.32e+04    1.89e+04\n",
            "year_int                -17.9769      1.474    -12.197      0.000     -20.892     -15.061\n",
            "np.power(year_int, 2)     0.0050      0.000     13.255      0.000       0.004       0.006\n",
            "==============================================================================\n",
            "Omnibus:                        1.360   Durbin-Watson:                   0.840\n",
            "Prob(Omnibus):                  0.507   Jarque-Bera (JB):                1.314\n",
            "Skew:                           0.129   Prob(JB):                        0.518\n",
            "Kurtosis:                       2.592   Cond. No.                     1.06e+10\n",
            "==============================================================================\n",
            "\n",
            "Notes:\n",
            "[1] Standard Errors assume that the covariance matrix of the errors is correctly specified.\n",
            "[2] The condition number is large, 1.06e+10. This might indicate that there are\n",
            "strong multicollinearity or other numerical problems.\n"
          ]
        }
      ]
    },
    {
      "cell_type": "markdown",
      "metadata": {
        "id": "7ZCJKxPSnwge"
      },
      "source": [
        "**Plot the CSIRO data with both the linear model and quadratic model overlaid and describe what information is conveyed by this plot.**"
      ]
    },
    {
      "cell_type": "code",
      "metadata": {
        "id": "UFFPEX3inwoF",
        "colab": {
          "base_uri": "https://localhost:8080/",
          "height": 388
        },
        "outputId": "0a58b8de-4926-4587-a3e8-bacc361c8311"
      },
      "source": [
        "pred2 = result2.predict(csiro)\n",
        "\n",
        "fig, ax = plt.subplots(figsize=(7, 4))\n",
        "csiro.plot.scatter(\"year_int\",\"min_level\", color=\"red\", ax=ax, label=\"data\")\n",
        "ax.plot(csiro[\"year_int\"], csiro[\"model\"], color=\"steelblue\", lw=2, label=\"linear model\")\n",
        "ax.plot(csiro[\"year_int\"], pred2, color=\"black\", lw=2, label=\"quadratic model\")\n",
        "ax.set_xlabel(\"year\")\n",
        "ax.set_ylabel(\"Sea Level Change [mm]\")\n",
        "ax.legend()\n",
        "fig.show()"
      ],
      "execution_count": 130,
      "outputs": [
        {
          "output_type": "display_data",
          "data": {
            "text/plain": [
              "<Figure size 700x400 with 1 Axes>"
            ],
            "image/png": "[encoded data removed]"
          },
          "metadata": {}
        }
      ]
    },
    {
      "cell_type": "markdown",
      "source": [
        "The figure shows the the linear and the quadratic models ploted over the initial data. Both models seem to be accurate, but the quadratic one has a higher rate of change at the end of the model."
      ],
      "metadata": {
        "id": "VsEkIiDyXHb6"
      }
    },
    {
      "cell_type": "markdown",
      "metadata": {
        "id": "eeIPld79oVJN"
      },
      "source": [
        "**Assuming that the elevation of New Castle Battery Park is 500 mm, in what year will it be under water due to rising sea level in each model?**"
      ]
    },
    {
      "cell_type": "code",
      "metadata": {
        "id": "Yhi0fyCynwxK",
        "colab": {
          "base_uri": "https://localhost:8080/"
        },
        "outputId": "1b2cbd41-6997-4425-ea14-2072e84d0e48"
      },
      "source": [
        "# -- create a DataFrame for extrapolation\n",
        "df = pd.DataFrame()\n",
        "df[\"year_int\"] = [2209]\n",
        "# -- predicting a value outisde the fit range\n",
        "extm = result.predict(df)\n",
        "df2 = pd.DataFrame()\n",
        "df2[\"year_int\"] = [2119]\n",
        "extm2 = result2.predict(df2)\n",
        "\n",
        "print(\"According to the linear model the park will be under water around 2209 with a sea level of:\")\n",
        "print(f\"{extm[0]} mm\")\n",
        "\n",
        "print(\"\")\n",
        "\n",
        "print(\"According to the quadratic model the park will be under water around 2119 with a sea level of:\")\n",
        "print(f\"{extm2[0]} mm\")\n",
        ""
      ],
      "execution_count": 161,
      "outputs": [
        {
          "output_type": "stream",
          "name": "stdout",
          "text": [
            "According to the linear model the park will be under water around 2209 with a sea level of:\n",
            "500.99347608442076 mm\n",
            "\n",
            "According to the quadratic model the park will be under water around 2119 with a sea level of:\n",
            "501.4539457346109 mm\n"
          ]
        }
      ]
    },
    {
      "cell_type": "markdown",
      "metadata": {
        "id": "aG_kElp_oE7A"
      },
      "source": [
        "**Determine the probability that the quadratic model is a better fit to the data using a likelihood ratio test.**"
      ]
    },
    {
      "cell_type": "code",
      "metadata": {
        "id": "GfO9SLcroVdv",
        "colab": {
          "base_uri": "https://localhost:8080/"
        },
        "outputId": "25f5a0cf-40d0-400c-9507-d9c9ff80ae97"
      },
      "source": [
        "# -- likelihood ratio test\n",
        "lr, pval, ddof = result2.compare_lr_test(result)\n",
        "print(\"p-value: {0}\".format(round(pval, 5)))"
      ],
      "execution_count": 177,
      "outputs": [
        {
          "output_type": "stream",
          "name": "stdout",
          "text": [
            "p-value: 0.0\n"
          ]
        }
      ]
    },
    {
      "cell_type": "markdown",
      "source": [
        "We can reject the null hypothesis that the linear model is better than the quadratic model."
      ],
      "metadata": {
        "id": "BOXgAIzQ6xXF"
      }
    },
    {
      "cell_type": "markdown",
      "source": [
        "**<u>Briefly</u> discuss your results in the context of the IPCC 2021 Sixth Assessment Report (200 words max).**"
      ],
      "metadata": {
        "id": "0Na-he_VXYFy"
      }
    },
    {
      "cell_type": "markdown",
      "source": [
        "The quadratic model seems to be a better fit than the linear model. This has impotant implications because it means that the sea level rise is increasing as a quadratic function of time. Therefore, the scenario seems less optimistic because quadratic fuctions grow faster than linear fuctions."
      ],
      "metadata": {
        "id": "MU70o37l5eh_"
      }
    }
  ]
}