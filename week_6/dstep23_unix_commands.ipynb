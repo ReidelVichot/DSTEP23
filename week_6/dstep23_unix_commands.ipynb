{
  "nbformat": 4,
  "nbformat_minor": 0,
  "metadata": {
    "colab": {
      "provenance": [],
      "include_colab_link": true
    },
    "kernelspec": {
      "name": "python3",
      "display_name": "Python 3"
    }
  },
  "cells": [
    {
      "cell_type": "markdown",
      "metadata": {
        "id": "view-in-github",
        "colab_type": "text"
      },
      "source": [
        "<a href=\"https://colab.research.google.com/github/ReidelVichot/DSTEP23/blob/main/week_6/dstep23_unix_commands.ipynb\" target=\"_parent\"><img src=\"https://colab.research.google.com/assets/colab-badge.svg\" alt=\"Open In Colab\"/></a>"
      ]
    },
    {
      "cell_type": "markdown",
      "metadata": {
        "id": "VRCZ-jNA3cYF"
      },
      "source": [
        "## **DSTEP23 // Introduction to UNIX commands**\n",
        "\n",
        "*October 5, 2023*\n",
        "\n",
        "This notebook will go through the basics of unix commands and their integration with python.\n",
        "\n",
        "\n",
        "---"
      ]
    },
    {
      "cell_type": "code",
      "metadata": {
        "id": "WqvarRJg5A_e",
        "colab": {
          "base_uri": "https://localhost:8080/"
        },
        "outputId": "3f97848f-6dc2-49f6-b63e-8769de21f743"
      },
      "source": [
        "from google.colab import drive\n",
        "drive.mount(\"/content/drive\")"
      ],
      "execution_count": 1,
      "outputs": [
        {
          "output_type": "stream",
          "name": "stdout",
          "text": [
            "Mounted at /content/drive\n"
          ]
        }
      ]
    },
    {
      "cell_type": "markdown",
      "metadata": {
        "id": "XZaT_kxBCUV2"
      },
      "source": [
        "## **The unix terminal**"
      ]
    },
    {
      "cell_type": "markdown",
      "metadata": {
        "id": "hhRkmgkx3lw1"
      },
      "source": [
        "Unix is one of the oldest and most barebones Operating Systems (OS), but it serves as the platform for more advanced OSs like Mac OS and some modes of Windows.\n",
        "\n",
        "Unix and unix-based OSs like Mac OS, have a powerful utility called the \"Terminal\", that allows for a \"command line interface\" for interacting with your computer <small> (Windows has something similar, but the syntax is different... that said there are terminal emulators for Windows like the Powershell that comes with the Anaconda installation)</small>.\n",
        "\n",
        "Jupyter allows us to run some of these commands **as if we were in a terminal**.  Let's start by exploring the `ls` command:"
      ]
    },
    {
      "cell_type": "code",
      "metadata": {
        "id": "r0e54RhwfPsF",
        "colab": {
          "base_uri": "https://localhost:8080/"
        },
        "outputId": "82e92a6c-5097-48f9-ef65-bf845b0a6416"
      },
      "source": [
        "ls"
      ],
      "execution_count": 2,
      "outputs": [
        {
          "output_type": "stream",
          "name": "stdout",
          "text": [
            "\u001b[0m\u001b[01;34mdrive\u001b[0m/  \u001b[01;34msample_data\u001b[0m/\n"
          ]
        }
      ]
    },
    {
      "cell_type": "code",
      "source": [
        "pwd"
      ],
      "metadata": {
        "colab": {
          "base_uri": "https://localhost:8080/",
          "height": 36
        },
        "id": "8irv1wciyLZ-",
        "outputId": "2a020232-44b8-4bea-fd4e-6313173f55a3"
      },
      "execution_count": 8,
      "outputs": [
        {
          "output_type": "execute_result",
          "data": {
            "text/plain": [
              "'/content'"
            ],
            "application/vnd.google.colaboratory.intrinsic+json": {
              "type": "string"
            }
          },
          "metadata": {},
          "execution_count": 8
        }
      ]
    },
    {
      "cell_type": "code",
      "source": [
        "cd drive/MyDrive/"
      ],
      "metadata": {
        "colab": {
          "base_uri": "https://localhost:8080/"
        },
        "id": "YtBrDmDfyg2I",
        "outputId": "aaff19b4-0dd4-48f1-edb1-d63e07f5bb32"
      },
      "execution_count": 9,
      "outputs": [
        {
          "output_type": "stream",
          "name": "stdout",
          "text": [
            "/content/drive/MyDrive\n"
          ]
        }
      ]
    },
    {
      "cell_type": "code",
      "source": [
        "ls"
      ],
      "metadata": {
        "colab": {
          "base_uri": "https://localhost:8080/"
        },
        "id": "vHPmz4K0yoSY",
        "outputId": "f82d4358-dd30-4aa9-f071-76a25f3caf97"
      },
      "execution_count": 10,
      "outputs": [
        {
          "output_type": "stream",
          "name": "stdout",
          "text": [
            "'2018.01.19 UAPP467-667 student info tbl1.pdf'\n",
            "'2018 UAPP467-667 syllabus.pdf'\n",
            "'2020 Edelman Trust Barometer Global Report.pdf'\n",
            "'2021 Edelman Trust Barometer.pdf'\n",
            "'2022 09 21  Freight Meeting Agenda.pdf'\n",
            "'2022 12 21 Freight Meeting Agenda.pdf'\n",
            " \u001b[0m\u001b[01;36m22S-UAPP822\u001b[0m@\n",
            " 396131599277-4550498269-registration.pdf\n",
            " AA00076824_00006.pdf\n",
            "'Amazon Gift Card Drawing Elvis Costello.gform'\n",
            "'Amazon Gift Card Drawing Elvis Costello (Responses).gsheet'\n",
            "'A Trip to Cuba (1).pptx'\n",
            "'A Trip to Cuba.pptx'\n",
            "'Biden School-3-01-22 .pptx'\n",
            "\u001b[01;34m'Biden School Identity Committee'\u001b[0m/\n",
            " \u001b[01;34mBroadbandOrg\u001b[0m/\n",
            " BroadbandProposalDraft.gdoc\n",
            "'C2 Reidel Vichot.docx'\n",
            " CAI_updated.gsheet\n",
            "'CLASE, CARA Dissertation Proposal.pdf'\n",
            "\u001b[01;34m'Class 6'\u001b[0m/\n",
            "\u001b[01;34m'Colab Notebooks'\u001b[0m/\n",
            "'Connect2050_Chapter6_ Freight_Adopted_12172019.docx'\n",
            "'Copy of dstep23_first_jupyter.ipynb'\n",
            "'Copy of JC-201604-citibike-tripdata.csv'\n",
            "'Copy of mlpp22_assignment_01_rvichot.ipynb'\n",
            "\u001b[01;34m'Cosas de la escuela'\u001b[0m/\n",
            " darkimagedellxps.jpg\n",
            "\u001b[01;36m'Democracy in Cuba'\u001b[0m@\n",
            "'Democracy in Cuba.gdoc'\n",
            " dist.rar\n",
            " \u001b[01;34mFAFAnalysis\u001b[0m/\n",
            "'First Set of Journals (1) (1).docx'\n",
            "'First Set of Journals (1).docx'\n",
            "\u001b[01;34m'Fotos Tio DE 2022'\u001b[0m/\n",
            " fped_dr1iff_1718.sas7bdat\n",
            " fped_dr1tot_1718.sas7bdat\n",
            " fped_dr2iff_1718.sas7bdat\n",
            " fped_dr2tot_1718.sas7bdat\n",
            " \u001b[01;34mFreemanArtsPavilion\u001b[0m/\n",
            " \u001b[01;34mFreightProfiles\u001b[0m/\n",
            " \u001b[01;34mGAP1.0\u001b[0m/\n",
            "'GAP 1.0 (1).rar'\n",
            "'GAP 1.0.rar'\n",
            "'GAP 2.0.rar'\n",
            "'GAP 3.1.rar'\n",
            " \u001b[01;34mGAP4.0\u001b[0m/\n",
            "'Getting started.pdf'\n",
            "'Gooden Ch3&4 (1).pdf'\n",
            "'Gooden Ch3&4.pdf'\n",
            "\u001b[01;34m'Gorditos en DC Marzo 2022'\u001b[0m/\n",
            " Heikkila+and+Jones+2022.pdf\n",
            "\u001b[01;34m'HLGSA Evaluation'\u001b[0m/\n",
            "'Identity Committee_final.docx'\n",
            "'Institutions - Wednesday at 10:17 AM.gdoc'\n",
            "'Internship Field Placement Registration.docx'\n",
            "\u001b[01;34m'IPA SEO research'\u001b[0m/\n",
            " JC-201604-citibike-tripdata.csv\n",
            " kaggle.json\n",
            "'Korea 2021 10-18-21.pptx'\n",
            "'Maryland Constitution .pptx'\n",
            "'Meeting with Dr. Lewis.gsheet'\n",
            " \u001b[01;34mMLPP_2022TEAM\u001b[0m/\n",
            " \u001b[01;36mmlpp22\u001b[0m@\n",
            "'Monday at 3-12 PM Focus Group.m4a'\n",
            "'Negin UAPP487 Final Policy Paper .docx'\n",
            "'Notes - EDUC850010.gdoc'\n",
            "'Notes - Freight Working Group.gdoc'\n",
            " OrganizationalReport.docx\n",
            "'Outline Freight in DE.gdoc'\n",
            "\u001b[01;34m'PA in Latin America Handbook '\u001b[0m/\n",
            "'Papers for Democracy in Cuba.gdoc'\n",
            "'Photos-001 (7).zip'\n",
            "'Pictures 5-12-21.rar'\n",
            "'Policy Progress Report.docx'\n",
            "'Program director approval.pdf'\n",
            "'Program Evaluation Homework.gdoc'\n",
            "'PUS Emmanuel Reidel.gdoc'\n",
            "'Qualtrics Survey Software_06_20_2023.gdoc'\n",
            "'Qualtrics Survey Software_06_20_2023.pdf'\n",
            "'REDACTED Registration-Packet_12-Jun-2023 (1)_Redacted.gdoc'\n",
            "'REDACTED Registration-Packet_12-Jun-2023 (1)_Redacted.pdf'\n",
            "'Reflexivity statement Reidel.gdoc'\n",
            " ReportGeneratorCat6.exe\n",
            "'SPSS download V26.pdf'\n",
            "\u001b[01;34m'SSPS LAB'\u001b[0m/\n",
            "\u001b[01;36m'Statistics Fall 2019'\u001b[0m@\n",
            "'Stats Project 1st Part Daniel.docx'\n",
            "'Stats Proj.gdoc'\n",
            "'TBD Group Schedule.gdoc'\n",
            "'The Nature Conservancy.pptx'\n",
            "'Thinking in Action Chapter 6.gdoc'\n",
            " \u001b[01;34mTitanicKaggleData\u001b[0m/\n",
            " TMCLandingDraft.docx\n",
            " TMCLandingDraft.gdoc\n",
            "\u001b[01;34m'Trustee Presentation'\u001b[0m/\n",
            "\u001b[01;34m'UAPP 694 Financial Management'\u001b[0m/\n",
            "'Understanding words in Familias Cubanas Reidel.docx'\n",
            "'Untitled form.gform'\n",
            "'U of DE Economic Impact Study Information Request for FAP Vendor Spend 2022.xlsx'\n",
            " usa_00002.dta\n",
            "'What is the Philadelphia Heat Vulnerability Index.gdoc'\n",
            " \u001b[01;34mWicomicoMaps\u001b[0m/\n",
            " Worksheet.gform\n"
          ]
        }
      ]
    },
    {
      "cell_type": "code",
      "source": [
        "mkdir temp_dstep23"
      ],
      "metadata": {
        "id": "w5U73tYsy0mu"
      },
      "execution_count": 11,
      "outputs": []
    },
    {
      "cell_type": "code",
      "source": [
        "cd temp_dstep23/"
      ],
      "metadata": {
        "colab": {
          "base_uri": "https://localhost:8080/"
        },
        "id": "rZeaEsxQy7XS",
        "outputId": "a7cf438b-2d00-4a8f-db4c-920a755a13f8"
      },
      "execution_count": 12,
      "outputs": [
        {
          "output_type": "stream",
          "name": "stdout",
          "text": [
            "/content/drive/MyDrive/temp_dstep23\n"
          ]
        }
      ]
    },
    {
      "cell_type": "markdown",
      "metadata": {
        "id": "ey6fu0lp5SXs"
      },
      "source": [
        "Some of the most common and useful are:\n",
        "* `ls` - list the files in the current directory\n",
        "* `cp` - copy one file to another\n",
        "* `cd` - change the directory\n",
        "* `mv` - rename (move) a file\n",
        "* `mkdir` - make a directory\n",
        "* `rm` - delete a file\n",
        "* `rmdir` - delete an empty directory\n",
        "\n",
        "Bear in mind **these are <u>not</u> python commands**, but jupyter understands them.  Here are some examples creating directories, copying files, and changing directories:\n"
      ]
    },
    {
      "cell_type": "code",
      "metadata": {
        "id": "ZXzI5fDYEeBE"
      },
      "source": [],
      "execution_count": null,
      "outputs": []
    },
    {
      "cell_type": "markdown",
      "metadata": {
        "id": "RxJuLwUeCoV6"
      },
      "source": [
        "These unix commands can also be combined with some python syntax using the `os` module:"
      ]
    },
    {
      "cell_type": "code",
      "metadata": {
        "id": "CjCVYbUCDBrT"
      },
      "source": [
        "# -- import the os module for operating system interaction\n",
        "import os"
      ],
      "execution_count": null,
      "outputs": []
    },
    {
      "cell_type": "code",
      "metadata": {
        "id": "tAyvwzw_C4IE"
      },
      "source": [
        "# -- create a string that contains the command you want (make a directory)\n",
        "cmd =\n",
        "\n",
        "# -- execute the command with os.system\n",
        "os.system(cmd)"
      ],
      "execution_count": null,
      "outputs": []
    },
    {
      "cell_type": "markdown",
      "metadata": {
        "id": "TdcuOgtt-I-l"
      },
      "source": [
        "We'll later see how this can be put to good use, but for now note that a cell can be treated either as a command line **OR** a Juptyer cell, but not both:"
      ]
    },
    {
      "cell_type": "code",
      "metadata": {
        "id": "TlCPLl0i-Tn7"
      },
      "source": [
        "\n"
      ],
      "execution_count": null,
      "outputs": []
    }
  ]
}