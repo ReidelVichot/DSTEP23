{
  "nbformat": 4,
  "nbformat_minor": 0,
  "metadata": {
    "colab": {
      "provenance": [],
      "include_colab_link": true
    },
    "kernelspec": {
      "name": "python3",
      "display_name": "Python 3"
    }
  },
  "cells": [
    {
      "cell_type": "markdown",
      "metadata": {
        "id": "view-in-github",
        "colab_type": "text"
      },
      "source": [
        "<a href=\"https://colab.research.google.com/github/ReidelVichot/DSTEP23/blob/main/week_6/dstep23_dsny_trash_part3.ipynb\" target=\"_parent\"><img src=\"https://colab.research.google.com/assets/colab-badge.svg\" alt=\"Open In Colab\"/></a>"
      ]
    },
    {
      "cell_type": "markdown",
      "metadata": {
        "id": "GDsfwJkmOYIA"
      },
      "source": [
        "### **DSTEP23 // Dept of Sanitation in NYC, Part 3: uniform and non-uniform sampling**\n",
        "\n",
        "*October 3, 2023*\n",
        "\n",
        "This notebook will explore two questions related to waste removal by New York City's Department of Sanitation:\n",
        "\n",
        "- ***What is the relationship between refuse and recycling?***\n",
        "\n",
        "- ***Is there periodicity in the tonnage data?***\n",
        "\n",
        "The data can be found [here](https://data.cityofnewyork.us/City-Government/DSNY-Monthly-Tonnage-Data/ebb7-mvp5).\n",
        "\n",
        "---"
      ]
    },
    {
      "cell_type": "markdown",
      "metadata": {
        "id": "_LbOUHRN3A0h"
      },
      "source": [
        "### **From Part 1**"
      ]
    },
    {
      "cell_type": "code",
      "metadata": {
        "id": "jJ1em9zN7GpP"
      },
      "source": [
        "import numpy as np\n",
        "import pandas as pd\n",
        "import matplotlib.pyplot as plt"
      ],
      "execution_count": null,
      "outputs": []
    },
    {
      "cell_type": "code",
      "metadata": {
        "id": "VeIEwcqj7VUP"
      },
      "source": [
        "# -- set the filename and read the data while parsing the MONTH column\n",
        "fname = \"https://data.cityofnewyork.us/api/views/ebb7-mvp5/rows.csv?accessType=DOWNLOAD\"\n",
        "dsny  = pd.read_csv(fname, parse_dates=[\"MONTH\"])\n",
        "\n",
        "# -- sub-select only the first six columns\n",
        "cols = dsny.columns[:6]\n",
        "dsny = dsny[cols]\n",
        "\n",
        "# -- rename the columns for ease of use\n",
        "dsny.columns = [\"month\", \"borough\", \"district\", \"refuse\", \"paper\", \"mgp\"]\n",
        "\n",
        "# -- create a column that is all recycling\n",
        "dsny[\"recy\"] = dsny[\"paper\"] + dsny[\"mgp\"]\n",
        "\n",
        "# -- sort by month values\n",
        "dsny = dsny.sort_values(\"month\", ignore_index=True)\n",
        "\n",
        "# -- let's concentrate on 1995 to 2019 (16 years)\n",
        "ind_tlo = dsny[\"month\"] >= \"1995-01-01\"\n",
        "ind_thi = dsny[\"month\"] < \"2019-01-01\"\n",
        "ind_tot = ind_tlo & ind_thi\n",
        "dsny = dsny[ind_tot]\n",
        "\n",
        "# -- convert NaNs to 0s\n",
        "dsny = dsny.fillna(0.0)\n",
        "\n",
        "# -- group by month and sum to aggregate across the whole city\n",
        "nyc_ts = dsny.groupby(\"month\").sum(numeric_only=True)\n",
        "\n",
        "# -- visualize\n",
        "fig, ax = plt.subplots(figsize=(8, 4))\n",
        "nyc_ts.plot(y=\"refuse\", ylabel=\"total NYC refuse [tons]\", xlabel=\"\", legend=False, color=\"k\", ax=ax)\n",
        "ax.grid(axis=\"x\", which=\"major\", lw=2)\n",
        "ax.grid(axis=\"x\", which=\"minor\", lw=0.5)\n",
        "fig.show()"
      ],
      "execution_count": null,
      "outputs": []
    },
    {
      "cell_type": "markdown",
      "metadata": {
        "id": "Cl75gfAoPZJ2"
      },
      "source": [
        "### **From Part 2**"
      ]
    },
    {
      "cell_type": "code",
      "metadata": {
        "id": "ZqhYB7It3Ng9"
      },
      "source": [
        "# -- sub-select Brooklyn\n",
        "bk = dsny[dsny[\"borough\"] == \"Brooklyn\"]\n",
        "bk_ts = bk.groupby(\"month\").sum(numeric_only=True)\n",
        "\n",
        "# -- divide by days in the month\n",
        "bk_ts = bk_ts.divide(bk_ts.index.days_in_month, axis=0)\n",
        "\n",
        "# -- take the rolling mean of the Brooklyn refuse with a quarterly window\n",
        "bk_ts_03 = bk_ts.rolling(3, center=True).mean()\n",
        "bk_ts_12 = bk_ts.rolling(12, center=True).mean()\n",
        "\n",
        "# -- plot the two\n",
        "fig, ax = plt.subplots(2, 1, facecolor=\"whitesmoke\", figsize=(7, 7))\n",
        "bk_ts.plot(y=\"refuse\", color=\"k\", label=\"raw data\", ax=ax[0])\n",
        "bk_ts_03.plot(y=\"refuse\", color=\"red\", label=\"3 month rolling mean\", ax=ax[0])\n",
        "bk_ts_12.plot(y=\"refuse\", color=\"blue\", label=\"12 month rolling mean\", ax=ax[0])\n",
        "ax[0].grid(axis=\"x\", which=\"major\", lw=2)\n",
        "ax[0].grid(axis=\"x\", which=\"minor\", lw=0.5)\n",
        "ax[0].set_xlabel(\"\")\n",
        "ax[0].set_ylabel(\"total Brooklyn refuse [tons/day]\")\n",
        "\n",
        "# -- plot refuse and recycling\n",
        "bk_ts_12.plot(y=[\"refuse\", \"recy\"], ax=ax[1])\n",
        "ax[1].grid(axis=\"x\", which=\"major\", lw=2)\n",
        "ax[1].grid(axis=\"x\", which=\"minor\", lw=0.5)\n",
        "ax[1].set_xlabel(\"\")\n",
        "ax[1].set_ylabel(\"total Brooklyn tons/day\")\n",
        "\n",
        "fig.show()\n",
        "\n",
        "# -- calculate Pearson correlation coefficient\n",
        "print(\"\\n\", \"12 month rolling average correlation\\n\", bk_ts_12.corr(), \"\\n\")"
      ],
      "execution_count": null,
      "outputs": []
    },
    {
      "cell_type": "markdown",
      "source": [
        "**<u>ANSWER TO FIRST QUESTION</u>: Refuse and Recycling are <i>anti</i>-correlated <small>(in Brooklyn)</small>.**"
      ],
      "metadata": {
        "id": "YGfI_lcuU5u8"
      }
    },
    {
      "cell_type": "markdown",
      "source": [
        "### **Auto-Correlation: Determining Periodicity**"
      ],
      "metadata": {
        "id": "iZljIOJuVBwt"
      }
    },
    {
      "cell_type": "markdown",
      "source": [
        "We can remove the smoothed time series from the raw data to isolate the short time scale (aka \"high frequency\") behavior:"
      ],
      "metadata": {
        "id": "YxOMfShkVE0f"
      }
    },
    {
      "cell_type": "code",
      "source": [
        "# -- isolate short time scale behavior\n",
        "bk_short ="
      ],
      "metadata": {
        "id": "CiIb03jnVJN0"
      },
      "execution_count": null,
      "outputs": []
    },
    {
      "cell_type": "code",
      "source": [
        "# -- plot the the short time scale (high frequency) behavior\n",
        "fig, ax = plt.subplots(figsize=(7, 4))\n",
        "bk_short.plot(y=\"refuse\", legend=False, color=\"darkgreen\", ax=ax)\n",
        "ax.grid(axis=\"x\", which=\"major\", lw=2)\n",
        "ax.grid(axis=\"x\", which=\"minor\", lw=0.5)\n",
        "ax.set_xlabel(\"\")\n",
        "ax.set_ylabel(\"residual Brookyln refuse [tons/day]\")\n",
        "fig.show()"
      ],
      "metadata": {
        "id": "rzxU69OpU4zZ"
      },
      "execution_count": null,
      "outputs": []
    },
    {
      "cell_type": "markdown",
      "source": [
        "There does *seem* to be some periodicity in this time series.  We can extract that periodicity by extending the concept of correlation to <u>auto-correlation</u> which is the correlation of a time series with itself **shifted by some time lag**."
      ],
      "metadata": {
        "id": "g_nNZY7EXkPD"
      }
    },
    {
      "cell_type": "code",
      "source": [
        "# -- plot autocorrelation function\n",
        "fig, ax = plt.subplots(figsize=(7, 4))\n",
        "\n",
        "\n",
        "\n",
        "fig.show()"
      ],
      "metadata": {
        "id": "0NwkSLPnXJwI"
      },
      "execution_count": null,
      "outputs": []
    },
    {
      "cell_type": "markdown",
      "metadata": {
        "id": "lu8TNrKUIQ19"
      },
      "source": [
        "**<u>ANSWER TO SECOND QUESTION</u>: Refuse has periodicity on annual time scales <small>(in Brooklyn)</small>.**"
      ]
    },
    {
      "cell_type": "markdown",
      "metadata": {
        "id": "2x6PlmN7ErAw"
      },
      "source": [
        "We can use some of the `statsmodels` functionality to extract the trends and seasonality (note, this is a *very* simple and basic model),"
      ]
    },
    {
      "cell_type": "code",
      "metadata": {
        "id": "__fpMlNOKCvD"
      },
      "source": [],
      "execution_count": null,
      "outputs": []
    },
    {
      "cell_type": "code",
      "metadata": {
        "id": "SRDwEBOYEzLR"
      },
      "source": [
        "# -- use statsmodels to decompose the time series\n",
        "res_mul ="
      ],
      "execution_count": null,
      "outputs": []
    },
    {
      "cell_type": "code",
      "metadata": {
        "id": "pUYZbi97FQA8"
      },
      "source": [
        "# -- plot the decomposition\n",
        "fig =\n",
        "fig.set_size_inches(7, 4)"
      ],
      "execution_count": null,
      "outputs": []
    },
    {
      "cell_type": "markdown",
      "metadata": {
        "id": "xsqGdo2YRa_1"
      },
      "source": [
        "---"
      ]
    },
    {
      "cell_type": "markdown",
      "metadata": {
        "id": "S60LcFA1Rb9h"
      },
      "source": [
        "### **NON-UNIFORMLY SAMPLED DATA**\n",
        "\n",
        "So far, we've mostly looked at \"**uniformly sampled**\" time series data (e.g., percentage of alternative and nuclear energy sources for various countries over time, CSIRO sea level, and DSNY waste pickups).  We've also seen one example of **non-uniformly sampled** time series data: the NOAA sea levels.\n",
        "\n",
        "The above analyses rely on uniform sampling:"
      ]
    },
    {
      "cell_type": "code",
      "metadata": {
        "id": "LV8WAfYFM8Lz"
      },
      "source": [
        "# -- get a random sample from our BK time series\n",
        "#    (note, this \"sample\" is a different, but related, concept)\n",
        "sub ="
      ],
      "execution_count": null,
      "outputs": []
    },
    {
      "cell_type": "code",
      "metadata": {
        "id": "VnNk3BquRm9t"
      },
      "source": [
        "# -- perform the seasonal decomposition\n",
        "res_sub = seasonal_decompose(sub[\"refuse\"], model=\"mul\")"
      ],
      "execution_count": null,
      "outputs": []
    },
    {
      "cell_type": "code",
      "metadata": {
        "id": "qByUGt6mRwTH"
      },
      "source": [
        "# -- check auto-correlation\n",
        "fig, ax = plt.subplots(2, 1, sharex=True, figsize=(8, 4))\n",
        "\n",
        "\n",
        "ax[0].set_xlabel(\"\")\n",
        "ax[0].set_title(\"uniformly sampled\")\n",
        "ax[1].set_title(\"non-uniformly sampled\")\n",
        "fig.show()"
      ],
      "execution_count": null,
      "outputs": []
    },
    {
      "cell_type": "markdown",
      "metadata": {
        "id": "F1MalLVZSaHO"
      },
      "source": [
        "`pandas` has the capability to \"**re-sample**\" your data via interpolation/extrapolation,"
      ]
    },
    {
      "cell_type": "code",
      "metadata": {
        "id": "6VPgVsn0OTUu"
      },
      "source": [
        "# -- zoom in on non-uniformly sampled data\n",
        "ax = sub.plot(y=\"refuse\", xlabel=\"\", ylabel=\"BK refuse [tons/day]\", legend=False, use_index=True, style=\".\")\n",
        "xlim = ax.set_xlim(\"1996-01-01\", \"2000-01-01\")"
      ],
      "execution_count": null,
      "outputs": []
    },
    {
      "cell_type": "code",
      "metadata": {
        "id": "uSu4TPoMOsP9"
      },
      "source": [
        "# -- resample the non-uniformly sampled data to uniform sampling\n",
        "sub_re ="
      ],
      "execution_count": null,
      "outputs": []
    },
    {
      "cell_type": "markdown",
      "metadata": {
        "id": "wMZIGq3_SxfR"
      },
      "source": [
        "(note, the temporal intervals for resampling can be found [here](https://pandas.pydata.org/pandas-docs/stable/user_guide/timeseries.html#dateoffset-objects))"
      ]
    },
    {
      "cell_type": "code",
      "metadata": {
        "id": "S7qKqfmJQcAP"
      },
      "source": [
        "# -- plot the non-uniformly sampled, the uniformly sampled, and re-sampled data\n",
        "fig, ax = plt.subplots(figsize=(10, 5))\n",
        "sub.plot(y=\"refuse\", use_index=True, style=\".\", ms=20, label=\"non-uniform sampling\", ax=ax)\n",
        "bk_ts.plot(y=\"refuse\", use_index=True, style=\".\", color=\"r\", ms=10, label=\"uniform sampling\", ax=ax)\n",
        "sub_re.plot(y=\"refuse\", use_index=True, style=\".\", ms=1, label=\"interpolated\", ax=ax)\n",
        "ax.set_xlim(\"1996-01-01\", \"2000-01-01\")\n",
        "ax.set(xlabel=\"\", ylabel=\"BK refuse collected [tons/day]\")\n",
        "fig.show()"
      ],
      "execution_count": null,
      "outputs": []
    }
  ]
}