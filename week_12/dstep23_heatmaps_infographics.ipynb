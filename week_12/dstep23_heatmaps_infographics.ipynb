{
  "nbformat": 4,
  "nbformat_minor": 0,
  "metadata": {
    "colab": {
      "provenance": [],
      "include_colab_link": true
    },
    "kernelspec": {
      "name": "python3",
      "display_name": "Python 3"
    }
  },
  "cells": [
    {
      "cell_type": "markdown",
      "metadata": {
        "id": "view-in-github",
        "colab_type": "text"
      },
      "source": [
        "<a href=\"https://colab.research.google.com/github/ReidelVichot/DSTEP23/blob/main/week_12/dstep23_heatmaps_infographics.ipynb\" target=\"_parent\"><img src=\"https://colab.research.google.com/assets/colab-badge.svg\" alt=\"Open In Colab\"/></a>"
      ]
    },
    {
      "cell_type": "markdown",
      "metadata": {
        "id": "RleJ6GPqoor0"
      },
      "source": [
        "## **DSTEP23 // Heatmaps and Infographics: Visualizing and Communicating DSNY Collection Data**\n",
        "\n",
        "*November 14, 2023*\n",
        "\n",
        "This notebook will create a heatmap calendar visualization of the collected refuse tonnage from DSNY as well as create a static infographic combining both temporal and spatial information in a visualization of the collected refuse tonnage from DSNY.\n",
        "\n",
        "---"
      ]
    },
    {
      "cell_type": "code",
      "metadata": {
        "id": "h3ombJ9Qo5qq"
      },
      "source": [
        "# -- import pandas, numpy, and matplotlib\n",
        "import numpy as np\n",
        "import pandas as pd\n",
        "import matplotlib.pyplot as plt\n",
        "import calendar"
      ],
      "execution_count": null,
      "outputs": []
    },
    {
      "cell_type": "markdown",
      "source": [
        "### Creating a Calendar-view Heatmap"
      ],
      "metadata": {
        "id": "oO-pCf3WSLP6"
      }
    },
    {
      "cell_type": "code",
      "metadata": {
        "id": "D1H0m9CHoyuA"
      },
      "source": [
        "# -- set the filename and read the data while parsing the MONTH column\n",
        "fname = \"https://data.cityofnewyork.us/api/views/ebb7-mvp5/rows.csv?accessType=DOWNLOAD\"\n",
        "dsny  = pd.read_csv(fname, parse_dates=[\"MONTH\"])\n",
        "\n",
        "# -- sub-select only the first six columns\n",
        "cols = dsny.columns[:6]\n",
        "dsny = dsny[cols]\n",
        "\n",
        "# -- rename the columns for ease of use\n",
        "dsny.columns = [\"month\", \"borough\", \"district\", \"refuse\", \"paper\", \"mgp\"]\n",
        "\n",
        "# -- sub-select Brooklyn\n",
        "bk = dsny[dsny[\"borough\"] == \"Brooklyn\"].copy()\n",
        "\n",
        "# -- sum across districts\n",
        "bk_ts = bk.groupby(\"month\").sum(numeric_only=True).reset_index()\n",
        "\n",
        "# -- convert to tons per day\n",
        "cols = [\"refuse\", \"paper\", \"mgp\"]\n",
        "bk_ts[cols] = bk_ts[cols].divide(bk_ts[\"month\"].dt.daysinmonth, axis=0)"
      ],
      "execution_count": null,
      "outputs": []
    },
    {
      "cell_type": "code",
      "metadata": {
        "id": "mkbcS71dl7cP"
      },
      "source": [
        "# -- add month and year columns\n",
        "bk[\"jan2dec\"] =\n",
        "bk[\"year\"] ="
      ],
      "execution_count": null,
      "outputs": []
    },
    {
      "cell_type": "code",
      "metadata": {
        "id": "Ehkp0kEEGV0M"
      },
      "source": [
        "# -- group by year and month\n",
        "bk_gr = bk.groupby([\"jan2dec\", \"year\"]).sum(numeric_only=True)\n",
        "\n",
        "# -- unstack and select refuse to create a \"grid\"\n",
        "bk_ustack = bk_gr.unstack(\"jan2dec\")\n",
        "bk_tgrid = bk_ustack[\"refuse\"]"
      ],
      "execution_count": null,
      "outputs": []
    },
    {
      "cell_type": "code",
      "metadata": {
        "id": "7QIfz730G4HY"
      },
      "source": [
        "# -- creat a heatmap of the year and month\n",
        "fig, ax = plt.subplots(figsize=(10, 5))\n",
        "\n",
        "\n",
        "fig.show()"
      ],
      "execution_count": null,
      "outputs": []
    },
    {
      "cell_type": "markdown",
      "source": [
        "### Generating a Static Infographic from Spatiotemporal Data"
      ],
      "metadata": {
        "id": "R7zkqf14PoI5"
      }
    },
    {
      "cell_type": "code",
      "source": [
        "# -- read in the DSNY district shapes\n",
        "sname = \"https://data.cityofnewyork.us/api/geospatial/i6mn-amj2?method=export&format=GeoJSON\"\n",
        "dstshp = gp.read_file(sname)"
      ],
      "metadata": {
        "id": "KRhU0ZqaTdR5"
      },
      "execution_count": null,
      "outputs": []
    },
    {
      "cell_type": "code",
      "source": [
        "# -- read the DSNY tonnage data\n",
        "fname = \"https://data.cityofnewyork.us/api/views/ebb7-mvp5/rows.csv?accessType=DOWNLOAD\"\n",
        "dsny  = pd.read_csv(fname, parse_dates=[\"MONTH\"])\n",
        "\n",
        "# -- sub-select only the first six columns\n",
        "cols = dsny.columns[[0, 1, 2, 3, 4, 5, 10]]\n",
        "dsny = dsny[cols]\n",
        "\n",
        "# -- rename the columns for ease of use\n",
        "dsny.columns = [\"month\", \"borough\", \"district\", \"refuse\", \"paper\", \"mgp\", \"borough_id\"]\n",
        "\n",
        "# -- drop rows where borough_id is NaN\n",
        "dsny = dsny.dropna(subset=[\"borough_id\"])"
      ],
      "metadata": {
        "id": "kRaeXsszTlXg"
      },
      "execution_count": null,
      "outputs": []
    },
    {
      "cell_type": "code",
      "source": [
        "# -- create a district code for merging\n",
        "dsny[\"dcode\"] ="
      ],
      "metadata": {
        "id": "GM6yOtspT4Si"
      },
      "execution_count": null,
      "outputs": []
    },
    {
      "cell_type": "code",
      "source": [
        "# -- get totals for each district\n",
        "nyc_dtot ="
      ],
      "metadata": {
        "id": "DeAYigQ4UFtN"
      },
      "execution_count": null,
      "outputs": []
    },
    {
      "cell_type": "code",
      "source": [
        "# -- merge with district shapes\n",
        "dst_tot ="
      ],
      "metadata": {
        "id": "nuOg1NQ0UKu5"
      },
      "execution_count": null,
      "outputs": []
    },
    {
      "cell_type": "code",
      "source": [
        "# -- change units of collection data\n",
        "dst_tot[\"refuse1000\"] =\n",
        "\n",
        "# -- create a time series of total collection\n",
        "dsny_ts =\n",
        "\n",
        "# -- sub-select the time range\n",
        "dsny_ts = dsny_ts[(dsny_ts.index > \"1993-01-01\") & (dsny_ts.index < \"2020-01-01\")]"
      ],
      "metadata": {
        "id": "3F1RmU0vU69X"
      },
      "execution_count": null,
      "outputs": []
    },
    {
      "cell_type": "code",
      "source": [
        "# -- now visualize\n"
      ],
      "metadata": {
        "id": "5-dI67o5UUyj"
      },
      "execution_count": null,
      "outputs": []
    }
  ]
}