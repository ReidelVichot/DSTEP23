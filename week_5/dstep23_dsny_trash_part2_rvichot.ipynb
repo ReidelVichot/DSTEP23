{
  "nbformat": 4,
  "nbformat_minor": 0,
  "metadata": {
    "colab": {
      "provenance": [],
      "include_colab_link": true
    },
    "kernelspec": {
      "name": "python3",
      "display_name": "Python 3"
    }
  },
  "cells": [
    {
      "cell_type": "markdown",
      "metadata": {
        "id": "view-in-github",
        "colab_type": "text"
      },
      "source": [
        "<a href=\"https://colab.research.google.com/github/ReidelVichot/DSTEP23/blob/main/week_5/dstep23_dsny_trash_part2_rvichot.ipynb\" target=\"_parent\"><img src=\"https://colab.research.google.com/assets/colab-badge.svg\" alt=\"Open In Colab\"/></a>"
      ]
    },
    {
      "cell_type": "markdown",
      "metadata": {
        "id": "GDsfwJkmOYIA"
      },
      "source": [
        "### **DSTEP23 // Dept of Sanitation in NYC, Part 2: trends and periodicity**\n",
        "\n",
        "*September 28, 2023*\n",
        "\n",
        "This notebook will explore two questions related to waste removal by New York City's Department of Sanitation:\n",
        "\n",
        "- ***What is the relationship between refuse and recycling?***\n",
        "\n",
        "- ***Is there periodicity in the tonnage data?***\n",
        "\n",
        "The data can be found [here](https://data.cityofnewyork.us/City-Government/DSNY-Monthly-Tonnage-Data/ebb7-mvp5).\n",
        "\n",
        "---"
      ]
    },
    {
      "cell_type": "markdown",
      "metadata": {
        "id": "_LbOUHRN3A0h"
      },
      "source": [
        "### **From Part 1**"
      ]
    },
    {
      "cell_type": "code",
      "metadata": {
        "id": "jJ1em9zN7GpP"
      },
      "source": [
        "import numpy as np\n",
        "import pandas as pd\n",
        "import matplotlib.pyplot as plt"
      ],
      "execution_count": null,
      "outputs": []
    },
    {
      "cell_type": "code",
      "metadata": {
        "id": "VeIEwcqj7VUP"
      },
      "source": [
        "# -- set the filename and read the data while parsing the MONTH column\n",
        "fname = \"https://data.cityofnewyork.us/api/views/ebb7-mvp5/rows.csv?accessType=DOWNLOAD\"\n",
        "dsny  = pd.read_csv(fname, parse_dates=[\"MONTH\"])\n",
        "\n",
        "# -- sub-select only the first six columns\n",
        "cols = dsny.columns[:6]\n",
        "dsny = dsny[cols]\n",
        "\n",
        "# -- rename the columns for ease of use\n",
        "dsny.columns = [\"month\", \"borough\", \"district\", \"refuse\", \"paper\", \"mgp\"]\n",
        "\n",
        "# -- create a column that is all recycling\n",
        "dsny[\"recy\"] = dsny[\"paper\"] + dsny[\"mgp\"]\n",
        "\n",
        "# -- sort by month values\n",
        "dsny = dsny.sort_values(\"month\", ignore_index=True)\n",
        "\n",
        "# -- let's concentrate on 1995 to 2019 (16 years)\n",
        "ind_tlo = dsny[\"month\"] >= \"1995-01-01\"\n",
        "ind_thi = dsny[\"month\"] < \"2019-01-01\"\n",
        "ind_tot = ind_tlo & ind_thi\n",
        "dsny = dsny[ind_tot]\n",
        "\n",
        "# -- convert NaNs to 0s (this is a CHOICE!)\n",
        "dsny = dsny.fillna(0.0)\n",
        "\n",
        "# -- group by month and sum to aggregate across the whole city\n",
        "nyc_ts = dsny.groupby(\"month\").sum(numeric_only=True)\n",
        "\n",
        "# -- display the origina and result\n",
        "display(dsny)\n",
        "display(nyc_ts)\n",
        "\n",
        "# -- plot the result\n",
        "fig, ax = plt.subplots( figsize=(10, 5))\n",
        "nyc_ts.plot(y=\"refuse\", ylabel=\"total NYC refuse [tons]\", xlabel=\"\", legend=False, color=\"k\", ax=ax)\n",
        "fig.show()"
      ],
      "execution_count": null,
      "outputs": []
    },
    {
      "cell_type": "markdown",
      "metadata": {
        "id": "Cl75gfAoPZJ2"
      },
      "source": [
        "### **Structure in Time Series Data and Filtering**"
      ]
    },
    {
      "cell_type": "markdown",
      "metadata": {
        "id": "CVZKB9y33Qzc"
      },
      "source": [
        "We see that there is a lot of variability in the time series data **\"on multiple time scales\"**.  We can isolate the short time scale behavior by removing trends.  Let's concentrate on Brooklyn for now:"
      ]
    },
    {
      "cell_type": "code",
      "metadata": {
        "id": "ZqhYB7It3Ng9"
      },
      "source": [
        "# -- sub-select Brooklyn\n",
        "bk =\n",
        "bk_ts ="
      ],
      "execution_count": null,
      "outputs": []
    },
    {
      "cell_type": "markdown",
      "metadata": {
        "id": "Qhul2zdX3cMd"
      },
      "source": [
        "Let's plot Brooklyn again, but add some additional gridlines,"
      ]
    },
    {
      "cell_type": "code",
      "metadata": {
        "id": "PPpY_Zq63qB5"
      },
      "source": [
        "# -- plot total refuse for Brooklyn with minor grid lines\n",
        "fig, ax = plt.subplots(figsize=(10, 3))\n",
        "\n",
        "ax.set_xlabel(\"\")\n",
        "ax.set_ylabel(\"total Brooklyn refuse [tons]\")\n",
        "fig.show()"
      ],
      "execution_count": null,
      "outputs": []
    },
    {
      "cell_type": "markdown",
      "metadata": {
        "id": "jKO48K5P30mF"
      },
      "source": [
        "Zooming in a bit,"
      ]
    },
    {
      "cell_type": "code",
      "metadata": {
        "id": "mCji1qQB3ySL"
      },
      "source": [
        "# -- restrict x-axis range\n"
      ],
      "execution_count": null,
      "outputs": []
    },
    {
      "cell_type": "markdown",
      "metadata": {
        "id": "N_ZXaDLx36pj"
      },
      "source": [
        "Convert units,"
      ]
    },
    {
      "cell_type": "code",
      "metadata": {
        "id": "92nRxynC4Fy-"
      },
      "source": [
        "# -- display index\n",
        "bk_ts.index"
      ],
      "execution_count": null,
      "outputs": []
    },
    {
      "cell_type": "code",
      "metadata": {
        "id": "vmOuhZe23USR"
      },
      "source": [
        "# -- divide by days in the month\n"
      ],
      "execution_count": null,
      "outputs": []
    },
    {
      "cell_type": "code",
      "metadata": {
        "id": "yua6nn0B4MSH"
      },
      "source": [
        "# -- restrict x-axis range\n"
      ],
      "execution_count": null,
      "outputs": []
    },
    {
      "cell_type": "code",
      "metadata": {
        "id": "q5iNtih14Ov6"
      },
      "source": [
        "# -- plot total refuse for Brooklyn with minor grid lines\n"
      ],
      "execution_count": null,
      "outputs": []
    },
    {
      "cell_type": "markdown",
      "metadata": {
        "id": "xs9o1VLY4TtJ"
      },
      "source": [
        "Sharp dips in Febrary have gone away, but it still seems that there are ***seasonal*** effects.  Let's look at all of the districts in BK,"
      ]
    },
    {
      "cell_type": "code",
      "metadata": {
        "id": "1BIlUmRX4aM8"
      },
      "source": [
        "# -- plot total refuse and refuse of individual districts\n",
        "fig, ax = plt.subplots(2, 1, figsize=(10, 6))\n",
        "\n",
        "bk_ts.plot(y=\"refuse\", legend=False, color=\"k\", ax=ax[0])\n",
        "ax[0].grid(axis=\"x\", which=\"major\", lw=2)\n",
        "ax[0].grid(axis=\"x\", which=\"minor\", lw=0.5)\n",
        "ax[0].set_xlabel(\"\")\n",
        "ax[0].set_ylabel(\"total Brooklyn refuse [tons/day]\")\n",
        "\n",
        "bkdist =\n",
        "\n",
        "ax[1].grid(axis=\"x\", which=\"major\", lw=2)\n",
        "ax[1].set_xlabel(\"\")\n",
        "ax[1].set_ylabel(\"total refuse [tons/day]\")\n",
        "ax[1].legend(loc=\"upper left\")\n",
        "\n",
        "fig.show()"
      ],
      "execution_count": null,
      "outputs": []
    },
    {
      "cell_type": "markdown",
      "metadata": {
        "id": "WU3tGEM94dpj"
      },
      "source": [
        "Long time scale trends can be found by \"filtering\" time series data.  One of the most common is the rolling mean:"
      ]
    },
    {
      "cell_type": "code",
      "metadata": {
        "id": "tj_osTYp7l1D"
      },
      "source": [
        "# -- take the rolling mean of the Brooklyn refuse with a quarterly window\n",
        "bk_ts_03 =\n",
        "bk_ts_12 ="
      ],
      "execution_count": null,
      "outputs": []
    },
    {
      "cell_type": "code",
      "metadata": {
        "id": "bjzPAiGgrwRq"
      },
      "source": [
        "# -- plot the two\n",
        "fig, ax = plt.subplots(figsize=(10, 5))\n",
        "bk_ts.plot(y=\"refuse\", color=\"k\", label=\"raw data\", ax=ax)\n",
        "\n",
        "ax.grid(axis=\"x\", which=\"major\", lw=2)\n",
        "ax.grid(axis=\"x\", which=\"minor\", lw=0.5)\n",
        "ax.set_xlabel(\"\")\n",
        "ax.set_ylabel(\"total Brooklyn refuse [tons/day]\")"
      ],
      "execution_count": null,
      "outputs": []
    },
    {
      "cell_type": "markdown",
      "metadata": {
        "id": "uMZo_pkbq3rB"
      },
      "source": [
        "So the 12 month rolling mean is showing is giving us the long time scale behavior.  What if we compare the smoothed refuse to recycling?:"
      ]
    },
    {
      "cell_type": "code",
      "metadata": {
        "id": "AngwmX2--NNO"
      },
      "source": [
        "# -- plot refuse and recycling\n"
      ],
      "execution_count": null,
      "outputs": []
    },
    {
      "cell_type": "markdown",
      "metadata": {
        "id": "Uv2PTBjY-M_E"
      },
      "source": [
        "[This WNYC story](https://www.wnyc.org/story/bloomberg-and-garbage-pile-unfinished-business/) provides some context that might help explain some of the characteristics of this plot."
      ]
    },
    {
      "cell_type": "markdown",
      "metadata": {
        "id": "z6Z_6vEL-qIu"
      },
      "source": [
        "### **Covariance and correlation**"
      ]
    },
    {
      "cell_type": "markdown",
      "metadata": {
        "id": "GVxM1DzD-02q"
      },
      "source": [
        "The above plot is interesting for a few reasons...  Let's try to calcuate the correlation coefficient between the two:"
      ]
    },
    {
      "cell_type": "markdown",
      "metadata": {
        "id": "7HMfU24c-_U8"
      },
      "source": [
        "&nbsp;&nbsp;&nbsp; <big> **$C = \\frac{cov(v_1, \\ v_2)}{\\sigma_{v_1} \\sigma_{v_2}}$** </big>"
      ]
    },
    {
      "cell_type": "markdown",
      "metadata": {
        "id": "SCozXLUS_mjN"
      },
      "source": [
        "&nbsp;&nbsp;&nbsp; **$cov(v_1, \\ v_2) = \\sum_i \\frac{(v_{1, i} \\ - \\  \\bar{v}_1) \\ (v_{2, i} \\ - \\  \\bar{v}_2)}{\\sqrt{N- 1}} $**"
      ]
    },
    {
      "cell_type": "markdown",
      "metadata": {
        "id": "h2ioHCJ_-oOY"
      },
      "source": [
        "Perhaps put more simply,\n",
        "\n",
        "&nbsp;&nbsp;&nbsp; **$C = \\langle v_1^{\\prime} \\cdot v_2^{\\prime} \\rangle$**\n",
        "\n",
        "where\n",
        "\n",
        "&nbsp;&nbsp;&nbsp; $v_1^{\\prime} = \\frac{v_1 \\ - \\ \\langle v_1 \\rangle}{\\sigma_{v_1}}$ <small> &nbsp;&nbsp;&nbsp; this is called <u>**standardization**</u></small>"
      ]
    },
    {
      "cell_type": "code",
      "metadata": {
        "id": "QiW-qbb1AYCL"
      },
      "source": [
        "# -- to visualize, make a scatter plot of the tonnage values\n"
      ],
      "execution_count": null,
      "outputs": []
    },
    {
      "cell_type": "markdown",
      "metadata": {
        "id": "OIHceNolBOXB"
      },
      "source": [
        "The correlation coefficient defined as above *ranges from 1 (perfectly correlated) to -1 (perfectly anti-correlated)*."
      ]
    },
    {
      "cell_type": "code",
      "metadata": {
        "id": "gnwny6yy-pvd"
      },
      "source": [
        "# -- calculate Pearson correlation coefficient\n"
      ],
      "execution_count": null,
      "outputs": []
    },
    {
      "cell_type": "markdown",
      "metadata": {
        "id": "UBJK_iUp-pme"
      },
      "source": [
        "**<u>ANSWER TO FIRST QUESTION</u>: Refuse and Recycling are <i>anti</i>-correlated <small>(in Brooklyn)</small>.**"
      ]
    },
    {
      "cell_type": "markdown",
      "metadata": {
        "id": "o3ZrEnjB-NFU"
      },
      "source": [
        "### **Auto-Correlation: Determining Periodicity**"
      ]
    },
    {
      "cell_type": "markdown",
      "metadata": {
        "id": "bCACVUHe-Gxa"
      },
      "source": [
        "We can remove the smoothed time series from the raw data to isolate the short time scale (aka \"high frequency\") behavior:"
      ]
    },
    {
      "cell_type": "code",
      "metadata": {
        "id": "ylqFVHN5q3hp"
      },
      "source": [
        "# -- isolate short time scale behavior\n",
        "bk_short ="
      ],
      "execution_count": null,
      "outputs": []
    },
    {
      "cell_type": "code",
      "metadata": {
        "id": "bWu1qJhD80bm"
      },
      "source": [
        "# -- plot the the short time scale (high frequency) behavior\n"
      ],
      "execution_count": null,
      "outputs": []
    },
    {
      "cell_type": "markdown",
      "metadata": {
        "id": "BJM10CNVAf5g"
      },
      "source": [
        "There does *seem* to be some periodicity in this time series.  We can extract that periodicity by extending the concept of correlation to <u>auto-correlation</u> which is the correlation of a time series with itself **shifted by some time lag**."
      ]
    },
    {
      "cell_type": "code",
      "metadata": {
        "id": "mi1Xdl5VBZed"
      },
      "source": [
        "# -- plot autocorrelation function\n"
      ],
      "execution_count": null,
      "outputs": []
    },
    {
      "cell_type": "markdown",
      "metadata": {
        "id": "lu8TNrKUIQ19"
      },
      "source": [
        "**<u>ANSWER TO SECOND QUESTION</u>: Refuse has periodicity on annual time scales <small>(in Brooklyn)</small>.**"
      ]
    }
  ]
}