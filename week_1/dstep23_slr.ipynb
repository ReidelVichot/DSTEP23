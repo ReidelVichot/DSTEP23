{
  "nbformat": 4,
  "nbformat_minor": 0,
  "metadata": {
    "colab": {
      "provenance": [],
      "include_colab_link": true
    },
    "kernelspec": {
      "name": "python3",
      "display_name": "Python 3"
    }
  },
  "cells": [
    {
      "cell_type": "markdown",
      "metadata": {
        "id": "view-in-github",
        "colab_type": "text"
      },
      "source": [
        "<a href=\"https://colab.research.google.com/github/ReidelVichot/DSTEP23/blob/main/week_1/dstep23_slr.ipynb\" target=\"_parent\"><img src=\"https://colab.research.google.com/assets/colab-badge.svg\" alt=\"Open In Colab\"/></a>"
      ]
    },
    {
      "cell_type": "markdown",
      "metadata": {
        "id": "jcCsGJlLt-h0"
      },
      "source": [
        "### **DSTEP23 // Sea Level Rise: Rudimentary Data Science Notebook**\n",
        "\n",
        "*Aug 31, 2023*\n",
        "\n",
        "This notebook will go through a bare-bones example of the Data Science process using global sea-level rise as a case study.\n",
        "\n",
        "---"
      ]
    },
    {
      "cell_type": "markdown",
      "metadata": {
        "id": "0VHlc5JduS-p"
      },
      "source": [
        "**PROBLEM DEFINITION**\n",
        "\n",
        "- Question: what is the rate of average global sea level rise in mm/yr?\n",
        "- Data required: sea level in mm"
      ]
    },
    {
      "cell_type": "markdown",
      "metadata": {
        "id": "x3JMPv3SuprR"
      },
      "source": [
        "**DATA COLLECTION**"
      ]
    },
    {
      "cell_type": "code",
      "metadata": {
        "id": "orz3FLPiupSR"
      },
      "source": [
        "fname = \"\""
      ],
      "execution_count": null,
      "outputs": []
    },
    {
      "cell_type": "code",
      "source": [
        "import pandas as pd"
      ],
      "metadata": {
        "id": "x8CQyIU4pYvT"
      },
      "execution_count": null,
      "outputs": []
    },
    {
      "cell_type": "code",
      "source": [
        "data[\"year\"]"
      ],
      "metadata": {
        "id": "j9KMmKrfpyC0"
      },
      "execution_count": null,
      "outputs": []
    },
    {
      "cell_type": "code",
      "source": [],
      "metadata": {
        "id": "b6W4xIz4p2Iu"
      },
      "execution_count": null,
      "outputs": []
    },
    {
      "cell_type": "markdown",
      "metadata": {
        "id": "Td43BULYwSWr"
      },
      "source": [
        "**DATA PREPARATION**"
      ]
    },
    {
      "cell_type": "code",
      "metadata": {
        "id": "ZTWFDwj-yd0s"
      },
      "source": [],
      "execution_count": null,
      "outputs": []
    },
    {
      "cell_type": "markdown",
      "metadata": {
        "id": "_eg3cepT0UdZ"
      },
      "source": [
        "**MACHINE LEARNING**"
      ]
    },
    {
      "cell_type": "code",
      "metadata": {
        "id": "Xqcqht3n0Jbc"
      },
      "source": [],
      "execution_count": null,
      "outputs": []
    },
    {
      "cell_type": "markdown",
      "metadata": {
        "id": "_FpfwUOJ1Ki1"
      },
      "source": [
        "**PROBLEM SOLUTION**"
      ]
    },
    {
      "cell_type": "code",
      "metadata": {
        "id": "qoz_ktMe07z9"
      },
      "source": [],
      "execution_count": null,
      "outputs": []
    }
  ]
}