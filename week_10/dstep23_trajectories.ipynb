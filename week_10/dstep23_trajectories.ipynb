{
  "nbformat": 4,
  "nbformat_minor": 0,
  "metadata": {
    "colab": {
      "provenance": [],
      "include_colab_link": true
    },
    "kernelspec": {
      "name": "python3",
      "display_name": "Python 3"
    },
    "language_info": {
      "name": "python"
    }
  },
  "cells": [
    {
      "cell_type": "markdown",
      "metadata": {
        "id": "view-in-github",
        "colab_type": "text"
      },
      "source": [
        "<a href=\"https://colab.research.google.com/github/ReidelVichot/DSTEP23/blob/main/week_10/dstep23_trajectories.ipynb\" target=\"_parent\"><img src=\"https://colab.research.google.com/assets/colab-badge.svg\" alt=\"Open In Colab\"/></a>"
      ]
    },
    {
      "cell_type": "markdown",
      "source": [
        "### **DSTEP23 // Distances in Geosptial Data: Three Levels of Specificity**\n",
        "\n",
        "*October 26, 2023*\n",
        "\n",
        "This notebook will introduce [OSMnx](https://geoffboeing.com/2016/11/osmnx-python-street-networks/) as a tool for calculating paths on road networks.\n",
        "\n",
        "---"
      ],
      "metadata": {
        "id": "WkuzjcptmSKo"
      }
    },
    {
      "cell_type": "code",
      "metadata": {
        "id": "hozf6cpK99TK"
      },
      "source": [
        "# -- install osmnx\n"
      ],
      "execution_count": null,
      "outputs": []
    },
    {
      "cell_type": "code",
      "metadata": {
        "id": "Ou-Tkxfb-OVH"
      },
      "source": [
        "import time\n",
        "import numpy as np\n",
        "import pandas as pd\n",
        "import geopandas as gp\n",
        "import matplotlib.pyplot as plt\n",
        "import osmnx as ox\n",
        "import networkx as nx"
      ],
      "execution_count": null,
      "outputs": []
    },
    {
      "cell_type": "markdown",
      "source": [
        "First let's load in some useful data,"
      ],
      "metadata": {
        "id": "VNjxegvn-N9z"
      }
    },
    {
      "cell_type": "code",
      "source": [
        "from google.colab import drive\n",
        "drive.mount('/content/drive')"
      ],
      "metadata": {
        "id": "qI-4TH3xlhep"
      },
      "execution_count": null,
      "outputs": []
    },
    {
      "cell_type": "code",
      "source": [
        "# -- set data path\n",
        "dpath = \"/content/drive/Shareddrives/dstep23/data/\n",
        "\n",
        "# -- load parks shapes and subselect only Manhattan\n",
        "pname = dpath + \"nycdpr/geo_export_ae29c34b-5e04-4a3a-a111-19ed6bcf3f88.shp\"\n",
        "parks = gp.read_file(pname)\n",
        "parks = parks[parks[\"borough\"] == \"M\"]"
      ],
      "metadata": {
        "id": "Yx9aACsX-SeG"
      },
      "execution_count": null,
      "outputs": []
    },
    {
      "cell_type": "markdown",
      "source": [
        "### **Street Networks and Paths with `OSMnx`**"
      ],
      "metadata": {
        "id": "V_QBk82wwB3O"
      }
    },
    {
      "cell_type": "code",
      "source": [
        "# -- get the street networks for Wilmington, DE\n",
        "graph_wilm ="
      ],
      "metadata": {
        "id": "dzQg-npO2e4X"
      },
      "execution_count": null,
      "outputs": []
    },
    {
      "cell_type": "code",
      "source": [
        "# -- plot the network\n"
      ],
      "metadata": {
        "id": "ENFiETpBwOBL"
      },
      "execution_count": null,
      "outputs": []
    },
    {
      "cell_type": "code",
      "source": [
        "# -- get the street network for Manhattan\n",
        "graph_mn ="
      ],
      "metadata": {
        "id": "FU2n8eV12ppj"
      },
      "execution_count": null,
      "outputs": []
    },
    {
      "cell_type": "code",
      "source": [
        "# -- plot the network\n"
      ],
      "metadata": {
        "id": "sFmmWF-O2z83"
      },
      "execution_count": null,
      "outputs": []
    },
    {
      "cell_type": "code",
      "source": [
        "# -- print list of nodes\n",
        "nnodes =\n",
        "nodes10 =\n",
        "print(\"total number of nodes : {0}\".format(nnodes))\n",
        "print(\"first ten node \\\"numbers\\\" : {0}\".format(nodes10))"
      ],
      "metadata": {
        "id": "T9_gmocL4PFw"
      },
      "execution_count": null,
      "outputs": []
    },
    {
      "cell_type": "code",
      "source": [
        "# -- get information about the first node\n"
      ],
      "metadata": {
        "id": "D-ECJX4D4ftS"
      },
      "execution_count": null,
      "outputs": []
    },
    {
      "cell_type": "markdown",
      "source": [
        "Now let's calculate the shortest distance between two points on this graph."
      ],
      "metadata": {
        "id": "Iv7UF64i76qB"
      }
    },
    {
      "cell_type": "code",
      "source": [
        "# -- get the latitude and longitude of the Flat Iron Building\n",
        "lat_fli = 40.740947\n",
        "lon_fli = -73.989645\n",
        "\n",
        "# -- set latitude and longitude of Ahearn park\n",
        "lat_ahearn = 40.714913\n",
        "lon_ahearn = -73.983442"
      ],
      "metadata": {
        "id": "6vRCtoQQ3kyG"
      },
      "execution_count": null,
      "outputs": []
    },
    {
      "cell_type": "code",
      "source": [
        "# -- find nearest node of for origin and desination\n",
        "orig =\n",
        "dest ="
      ],
      "metadata": {
        "id": "KtBIQS8B4PcY"
      },
      "execution_count": null,
      "outputs": []
    },
    {
      "cell_type": "code",
      "source": [
        "# -- calculate route\n",
        "t0 =\n",
        "route =\n",
        "t1 =\n",
        "print(\"route calculated in {0}s\".format(t1 - t0))"
      ],
      "metadata": {
        "id": "2MXSUMmCDAXt"
      },
      "execution_count": null,
      "outputs": []
    },
    {
      "cell_type": "code",
      "source": [
        "# -- get total distance in meters\n",
        "route_gdf =\n",
        "dist =\n",
        "\n",
        "print(\"distance = {0:.2f} meters\".format(dist))"
      ],
      "metadata": {
        "id": "y0__0JsADE1-"
      },
      "execution_count": null,
      "outputs": []
    },
    {
      "cell_type": "code",
      "source": [
        "# -- plot the route\n",
        "fig, ax = plt.subplots(figsize=(7, 7))\n",
        "ox.plot_graph(graph_mn, node_size=0, edge_linewidth=0.1, edge_color=\"lightblue\", ax=ax, show=False)\n",
        "parks.plot(facecolor=\"lightgreen\", ax=ax)\n",
        "route_gdf.plot(color=\"orange\", linewidth=2, ax=ax)\n",
        "ax.set_facecolor(\"black\")\n",
        "fig.show()"
      ],
      "metadata": {
        "id": "qm6JREkkz6Mw"
      },
      "execution_count": null,
      "outputs": []
    }
  ]
}