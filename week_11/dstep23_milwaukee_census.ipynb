{
  "nbformat": 4,
  "nbformat_minor": 0,
  "metadata": {
    "colab": {
      "provenance": [],
      "include_colab_link": true
    },
    "kernelspec": {
      "name": "python3",
      "display_name": "Python 3"
    },
    "language_info": {
      "name": "python"
    }
  },
  "cells": [
    {
      "cell_type": "markdown",
      "metadata": {
        "id": "view-in-github",
        "colab_type": "text"
      },
      "source": [
        "<a href=\"https://colab.research.google.com/github/ReidelVichot/DSTEP23/blob/main/week_11/dstep23_milwaukee_census.ipynb\" target=\"_parent\"><img src=\"https://colab.research.google.com/assets/colab-badge.svg\" alt=\"Open In Colab\"/></a>"
      ]
    },
    {
      "cell_type": "markdown",
      "metadata": {
        "id": "IpBOU4v4usQU"
      },
      "source": [
        "### **DSTEP23 // Mapping Neighborhood Segregation in Milwaukee**\n",
        "\n",
        "*November 9, 2023*\n",
        "\n",
        "This notebook will provide an example of color-based visualizations of the spatial distribution of race in Milwaukee, Wisconsin.  The census data is available [here](https://data.census.gov/cedsci/table?t=Race%20and%20Ethnicity&g=0500000US55079%241400000&y=2018&tid=ACSDT5Y2018.B02001&hidePreview=true) <small>(see [this](https://www.census.gov/library/stories/2021/08/improved-race-ethnicity-measures-reveal-united-states-population-much-more-multiracial.html) description for more on definitions and details of this data)</small> and the census tract shapes are available [here](https://www.census.gov/cgi-bin/geo/shapefiles/index.php).\n",
        "\n",
        "---"
      ]
    },
    {
      "cell_type": "code",
      "metadata": {
        "id": "NSLmqqhY7qpj"
      },
      "source": [],
      "execution_count": null,
      "outputs": []
    }
  ]
}